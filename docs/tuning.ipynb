{
 "cells": [
  {
   "cell_type": "markdown",
   "id": "428628cb-fb9b-4a6d-a2e3-20eff910e2b7",
   "metadata": {},
   "source": [
    "#### Preface\n",
    "\n",
    "In this short tutorial, the tuning process for further evaluation is demonstrated. For this purpose, datasets from the [chunking_evaluation](https://github.com/brandonstarxel/chunking_evaluation) framework will be used."
   ]
  },
  {
   "cell_type": "markdown",
   "id": "4f8727bd-fedf-4cf8-81ca-841c89804e42",
   "metadata": {},
   "source": [
    "#### Packages installation "
   ]
  },
  {
   "cell_type": "code",
   "execution_count": 1,
   "id": "0591879b-2779-4b6b-8154-8a7bc89c0906",
   "metadata": {
    "collapsed": true,
    "jupyter": {
     "outputs_hidden": true
    },
    "scrolled": true
   },
   "outputs": [
    {
     "name": "stdout",
     "output_type": "stream",
     "text": [
      "Collecting git+https://github.com/panalexeu/horchunk.git\n",
      "  Cloning https://github.com/panalexeu/horchunk.git to /tmp/pip-req-build-cygrr0x5\n",
      "  Running command git clone --filter=blob:none --quiet https://github.com/panalexeu/horchunk.git /tmp/pip-req-build-cygrr0x5\n",
      "  Resolved https://github.com/panalexeu/horchunk.git to commit 4fd7e6936057689b3677d92f7a1be398cbf388fd\n",
      "  Installing build dependencies ... \u001b[?25ldone\n",
      "\u001b[?25h  Getting requirements to build wheel ... \u001b[?25ldone\n",
      "\u001b[?25h  Preparing metadata (pyproject.toml) ... \u001b[?25ldone\n",
      "\u001b[?25hRequirement already satisfied: langchain==0.3.14 in /home/oleksii/python/semantic_chunking/semchunk/.venv/lib/python3.12/site-packages (from horchunk==0.0.1) (0.3.14)\n",
      "Requirement already satisfied: langchain-openai==0.3.0 in /home/oleksii/python/semantic_chunking/semchunk/.venv/lib/python3.12/site-packages (from horchunk==0.0.1) (0.3.0)\n",
      "Requirement already satisfied: sentence-transformers==3.3.1 in /home/oleksii/python/semantic_chunking/semchunk/.venv/lib/python3.12/site-packages (from horchunk==0.0.1) (3.3.1)\n",
      "Requirement already satisfied: tiktoken==0.8.0 in /home/oleksii/python/semantic_chunking/semchunk/.venv/lib/python3.12/site-packages (from horchunk==0.0.1) (0.8.0)\n",
      "Requirement already satisfied: chromadb==0.6.2 in /home/oleksii/python/semantic_chunking/semchunk/.venv/lib/python3.12/site-packages (from horchunk==0.0.1) (0.6.2)\n",
      "Requirement already satisfied: rich==13.9.4 in /home/oleksii/python/semantic_chunking/semchunk/.venv/lib/python3.12/site-packages (from horchunk==0.0.1) (13.9.4)\n",
      "Requirement already satisfied: pydantic==2.10.4 in /home/oleksii/python/semantic_chunking/semchunk/.venv/lib/python3.12/site-packages (from horchunk==0.0.1) (2.10.4)\n",
      "Requirement already satisfied: numpy==2.2.1 in /home/oleksii/python/semantic_chunking/semchunk/.venv/lib/python3.12/site-packages (from horchunk==0.0.1) (2.2.1)\n",
      "Requirement already satisfied: tqdm==4.67.1 in /home/oleksii/python/semantic_chunking/semchunk/.venv/lib/python3.12/site-packages (from horchunk==0.0.1) (4.67.1)\n",
      "Requirement already satisfied: build>=1.0.3 in /home/oleksii/python/semantic_chunking/semchunk/.venv/lib/python3.12/site-packages (from chromadb==0.6.2->horchunk==0.0.1) (1.2.2.post1)\n",
      "Requirement already satisfied: chroma-hnswlib==0.7.6 in /home/oleksii/python/semantic_chunking/semchunk/.venv/lib/python3.12/site-packages (from chromadb==0.6.2->horchunk==0.0.1) (0.7.6)\n",
      "Requirement already satisfied: fastapi>=0.95.2 in /home/oleksii/python/semantic_chunking/semchunk/.venv/lib/python3.12/site-packages (from chromadb==0.6.2->horchunk==0.0.1) (0.115.6)\n",
      "Requirement already satisfied: uvicorn>=0.18.3 in /home/oleksii/python/semantic_chunking/semchunk/.venv/lib/python3.12/site-packages (from uvicorn[standard]>=0.18.3->chromadb==0.6.2->horchunk==0.0.1) (0.34.0)\n",
      "Requirement already satisfied: posthog>=2.4.0 in /home/oleksii/python/semantic_chunking/semchunk/.venv/lib/python3.12/site-packages (from chromadb==0.6.2->horchunk==0.0.1) (3.7.5)\n",
      "Requirement already satisfied: typing_extensions>=4.5.0 in /home/oleksii/python/semantic_chunking/semchunk/.venv/lib/python3.12/site-packages (from chromadb==0.6.2->horchunk==0.0.1) (4.12.2)\n",
      "Requirement already satisfied: onnxruntime>=1.14.1 in /home/oleksii/python/semantic_chunking/semchunk/.venv/lib/python3.12/site-packages (from chromadb==0.6.2->horchunk==0.0.1) (1.20.1)\n",
      "Requirement already satisfied: opentelemetry-api>=1.2.0 in /home/oleksii/python/semantic_chunking/semchunk/.venv/lib/python3.12/site-packages (from chromadb==0.6.2->horchunk==0.0.1) (1.29.0)\n",
      "Requirement already satisfied: opentelemetry-exporter-otlp-proto-grpc>=1.2.0 in /home/oleksii/python/semantic_chunking/semchunk/.venv/lib/python3.12/site-packages (from chromadb==0.6.2->horchunk==0.0.1) (1.29.0)\n",
      "Requirement already satisfied: opentelemetry-instrumentation-fastapi>=0.41b0 in /home/oleksii/python/semantic_chunking/semchunk/.venv/lib/python3.12/site-packages (from chromadb==0.6.2->horchunk==0.0.1) (0.50b0)\n",
      "Requirement already satisfied: opentelemetry-sdk>=1.2.0 in /home/oleksii/python/semantic_chunking/semchunk/.venv/lib/python3.12/site-packages (from chromadb==0.6.2->horchunk==0.0.1) (1.29.0)\n",
      "Requirement already satisfied: tokenizers>=0.13.2 in /home/oleksii/python/semantic_chunking/semchunk/.venv/lib/python3.12/site-packages (from chromadb==0.6.2->horchunk==0.0.1) (0.21.0)\n",
      "Requirement already satisfied: pypika>=0.48.9 in /home/oleksii/python/semantic_chunking/semchunk/.venv/lib/python3.12/site-packages (from chromadb==0.6.2->horchunk==0.0.1) (0.48.9)\n",
      "Requirement already satisfied: overrides>=7.3.1 in /home/oleksii/python/semantic_chunking/semchunk/.venv/lib/python3.12/site-packages (from chromadb==0.6.2->horchunk==0.0.1) (7.7.0)\n",
      "Requirement already satisfied: importlib-resources in /home/oleksii/python/semantic_chunking/semchunk/.venv/lib/python3.12/site-packages (from chromadb==0.6.2->horchunk==0.0.1) (6.5.2)\n",
      "Requirement already satisfied: grpcio>=1.58.0 in /home/oleksii/python/semantic_chunking/semchunk/.venv/lib/python3.12/site-packages (from chromadb==0.6.2->horchunk==0.0.1) (1.69.0)\n",
      "Requirement already satisfied: bcrypt>=4.0.1 in /home/oleksii/python/semantic_chunking/semchunk/.venv/lib/python3.12/site-packages (from chromadb==0.6.2->horchunk==0.0.1) (4.2.1)\n",
      "Requirement already satisfied: typer>=0.9.0 in /home/oleksii/python/semantic_chunking/semchunk/.venv/lib/python3.12/site-packages (from chromadb==0.6.2->horchunk==0.0.1) (0.15.1)\n",
      "Requirement already satisfied: kubernetes>=28.1.0 in /home/oleksii/python/semantic_chunking/semchunk/.venv/lib/python3.12/site-packages (from chromadb==0.6.2->horchunk==0.0.1) (31.0.0)\n",
      "Requirement already satisfied: tenacity>=8.2.3 in /home/oleksii/python/semantic_chunking/semchunk/.venv/lib/python3.12/site-packages (from chromadb==0.6.2->horchunk==0.0.1) (9.0.0)\n",
      "Requirement already satisfied: PyYAML>=6.0.0 in /home/oleksii/python/semantic_chunking/semchunk/.venv/lib/python3.12/site-packages (from chromadb==0.6.2->horchunk==0.0.1) (6.0.2)\n",
      "Requirement already satisfied: mmh3>=4.0.1 in /home/oleksii/python/semantic_chunking/semchunk/.venv/lib/python3.12/site-packages (from chromadb==0.6.2->horchunk==0.0.1) (5.0.1)\n",
      "Requirement already satisfied: orjson>=3.9.12 in /home/oleksii/python/semantic_chunking/semchunk/.venv/lib/python3.12/site-packages (from chromadb==0.6.2->horchunk==0.0.1) (3.10.13)\n",
      "Requirement already satisfied: httpx>=0.27.0 in /home/oleksii/python/semantic_chunking/semchunk/.venv/lib/python3.12/site-packages (from chromadb==0.6.2->horchunk==0.0.1) (0.28.1)\n",
      "Requirement already satisfied: SQLAlchemy<3,>=1.4 in /home/oleksii/python/semantic_chunking/semchunk/.venv/lib/python3.12/site-packages (from langchain==0.3.14->horchunk==0.0.1) (2.0.37)\n",
      "Requirement already satisfied: aiohttp<4.0.0,>=3.8.3 in /home/oleksii/python/semantic_chunking/semchunk/.venv/lib/python3.12/site-packages (from langchain==0.3.14->horchunk==0.0.1) (3.11.11)\n",
      "Requirement already satisfied: langchain-core<0.4.0,>=0.3.29 in /home/oleksii/python/semantic_chunking/semchunk/.venv/lib/python3.12/site-packages (from langchain==0.3.14->horchunk==0.0.1) (0.3.29)\n",
      "Requirement already satisfied: langchain-text-splitters<0.4.0,>=0.3.3 in /home/oleksii/python/semantic_chunking/semchunk/.venv/lib/python3.12/site-packages (from langchain==0.3.14->horchunk==0.0.1) (0.3.5)\n",
      "Requirement already satisfied: langsmith<0.3,>=0.1.17 in /home/oleksii/python/semantic_chunking/semchunk/.venv/lib/python3.12/site-packages (from langchain==0.3.14->horchunk==0.0.1) (0.2.10)\n",
      "Requirement already satisfied: requests<3,>=2 in /home/oleksii/python/semantic_chunking/semchunk/.venv/lib/python3.12/site-packages (from langchain==0.3.14->horchunk==0.0.1) (2.32.3)\n",
      "Requirement already satisfied: openai<2.0.0,>=1.58.1 in /home/oleksii/python/semantic_chunking/semchunk/.venv/lib/python3.12/site-packages (from langchain-openai==0.3.0->horchunk==0.0.1) (1.59.4)\n",
      "Requirement already satisfied: annotated-types>=0.6.0 in /home/oleksii/python/semantic_chunking/semchunk/.venv/lib/python3.12/site-packages (from pydantic==2.10.4->horchunk==0.0.1) (0.7.0)\n",
      "Requirement already satisfied: pydantic-core==2.27.2 in /home/oleksii/python/semantic_chunking/semchunk/.venv/lib/python3.12/site-packages (from pydantic==2.10.4->horchunk==0.0.1) (2.27.2)\n",
      "Requirement already satisfied: markdown-it-py>=2.2.0 in /home/oleksii/python/semantic_chunking/semchunk/.venv/lib/python3.12/site-packages (from rich==13.9.4->horchunk==0.0.1) (3.0.0)\n",
      "Requirement already satisfied: pygments<3.0.0,>=2.13.0 in /home/oleksii/python/semantic_chunking/semchunk/.venv/lib/python3.12/site-packages (from rich==13.9.4->horchunk==0.0.1) (2.19.1)\n",
      "Requirement already satisfied: transformers<5.0.0,>=4.41.0 in /home/oleksii/python/semantic_chunking/semchunk/.venv/lib/python3.12/site-packages (from sentence-transformers==3.3.1->horchunk==0.0.1) (4.47.1)\n",
      "Requirement already satisfied: torch>=1.11.0 in /home/oleksii/python/semantic_chunking/semchunk/.venv/lib/python3.12/site-packages (from sentence-transformers==3.3.1->horchunk==0.0.1) (2.5.1)\n",
      "Requirement already satisfied: scikit-learn in /home/oleksii/python/semantic_chunking/semchunk/.venv/lib/python3.12/site-packages (from sentence-transformers==3.3.1->horchunk==0.0.1) (1.6.0)\n",
      "Requirement already satisfied: scipy in /home/oleksii/python/semantic_chunking/semchunk/.venv/lib/python3.12/site-packages (from sentence-transformers==3.3.1->horchunk==0.0.1) (1.15.0)\n",
      "Requirement already satisfied: huggingface-hub>=0.20.0 in /home/oleksii/python/semantic_chunking/semchunk/.venv/lib/python3.12/site-packages (from sentence-transformers==3.3.1->horchunk==0.0.1) (0.27.1)\n",
      "Requirement already satisfied: Pillow in /home/oleksii/python/semantic_chunking/semchunk/.venv/lib/python3.12/site-packages (from sentence-transformers==3.3.1->horchunk==0.0.1) (11.1.0)\n",
      "Requirement already satisfied: regex>=2022.1.18 in /home/oleksii/python/semantic_chunking/semchunk/.venv/lib/python3.12/site-packages (from tiktoken==0.8.0->horchunk==0.0.1) (2023.12.25)\n",
      "Requirement already satisfied: aiohappyeyeballs>=2.3.0 in /home/oleksii/python/semantic_chunking/semchunk/.venv/lib/python3.12/site-packages (from aiohttp<4.0.0,>=3.8.3->langchain==0.3.14->horchunk==0.0.1) (2.4.4)\n",
      "Requirement already satisfied: aiosignal>=1.1.2 in /home/oleksii/python/semantic_chunking/semchunk/.venv/lib/python3.12/site-packages (from aiohttp<4.0.0,>=3.8.3->langchain==0.3.14->horchunk==0.0.1) (1.3.2)\n",
      "Requirement already satisfied: attrs>=17.3.0 in /home/oleksii/python/semantic_chunking/semchunk/.venv/lib/python3.12/site-packages (from aiohttp<4.0.0,>=3.8.3->langchain==0.3.14->horchunk==0.0.1) (24.3.0)\n",
      "Requirement already satisfied: frozenlist>=1.1.1 in /home/oleksii/python/semantic_chunking/semchunk/.venv/lib/python3.12/site-packages (from aiohttp<4.0.0,>=3.8.3->langchain==0.3.14->horchunk==0.0.1) (1.5.0)\n",
      "Requirement already satisfied: multidict<7.0,>=4.5 in /home/oleksii/python/semantic_chunking/semchunk/.venv/lib/python3.12/site-packages (from aiohttp<4.0.0,>=3.8.3->langchain==0.3.14->horchunk==0.0.1) (6.1.0)\n",
      "Requirement already satisfied: propcache>=0.2.0 in /home/oleksii/python/semantic_chunking/semchunk/.venv/lib/python3.12/site-packages (from aiohttp<4.0.0,>=3.8.3->langchain==0.3.14->horchunk==0.0.1) (0.2.1)\n",
      "Requirement already satisfied: yarl<2.0,>=1.17.0 in /home/oleksii/python/semantic_chunking/semchunk/.venv/lib/python3.12/site-packages (from aiohttp<4.0.0,>=3.8.3->langchain==0.3.14->horchunk==0.0.1) (1.18.3)\n",
      "Requirement already satisfied: packaging>=19.1 in /home/oleksii/python/semantic_chunking/semchunk/.venv/lib/python3.12/site-packages (from build>=1.0.3->chromadb==0.6.2->horchunk==0.0.1) (24.2)\n",
      "Requirement already satisfied: pyproject_hooks in /home/oleksii/python/semantic_chunking/semchunk/.venv/lib/python3.12/site-packages (from build>=1.0.3->chromadb==0.6.2->horchunk==0.0.1) (1.2.0)\n",
      "Requirement already satisfied: starlette<0.42.0,>=0.40.0 in /home/oleksii/python/semantic_chunking/semchunk/.venv/lib/python3.12/site-packages (from fastapi>=0.95.2->chromadb==0.6.2->horchunk==0.0.1) (0.41.3)\n",
      "Requirement already satisfied: anyio in /home/oleksii/python/semantic_chunking/semchunk/.venv/lib/python3.12/site-packages (from httpx>=0.27.0->chromadb==0.6.2->horchunk==0.0.1) (4.8.0)\n",
      "Requirement already satisfied: certifi in /home/oleksii/python/semantic_chunking/semchunk/.venv/lib/python3.12/site-packages (from httpx>=0.27.0->chromadb==0.6.2->horchunk==0.0.1) (2024.12.14)\n",
      "Requirement already satisfied: httpcore==1.* in /home/oleksii/python/semantic_chunking/semchunk/.venv/lib/python3.12/site-packages (from httpx>=0.27.0->chromadb==0.6.2->horchunk==0.0.1) (1.0.7)\n",
      "Requirement already satisfied: idna in /home/oleksii/python/semantic_chunking/semchunk/.venv/lib/python3.12/site-packages (from httpx>=0.27.0->chromadb==0.6.2->horchunk==0.0.1) (3.10)\n",
      "Requirement already satisfied: h11<0.15,>=0.13 in /home/oleksii/python/semantic_chunking/semchunk/.venv/lib/python3.12/site-packages (from httpcore==1.*->httpx>=0.27.0->chromadb==0.6.2->horchunk==0.0.1) (0.14.0)\n",
      "Requirement already satisfied: filelock in /home/oleksii/python/semantic_chunking/semchunk/.venv/lib/python3.12/site-packages (from huggingface-hub>=0.20.0->sentence-transformers==3.3.1->horchunk==0.0.1) (3.16.1)\n",
      "Requirement already satisfied: fsspec>=2023.5.0 in /home/oleksii/python/semantic_chunking/semchunk/.venv/lib/python3.12/site-packages (from huggingface-hub>=0.20.0->sentence-transformers==3.3.1->horchunk==0.0.1) (2024.12.0)\n",
      "Requirement already satisfied: six>=1.9.0 in /home/oleksii/python/semantic_chunking/semchunk/.venv/lib/python3.12/site-packages (from kubernetes>=28.1.0->chromadb==0.6.2->horchunk==0.0.1) (1.17.0)\n",
      "Requirement already satisfied: python-dateutil>=2.5.3 in /home/oleksii/python/semantic_chunking/semchunk/.venv/lib/python3.12/site-packages (from kubernetes>=28.1.0->chromadb==0.6.2->horchunk==0.0.1) (2.9.0.post0)\n",
      "Requirement already satisfied: google-auth>=1.0.1 in /home/oleksii/python/semantic_chunking/semchunk/.venv/lib/python3.12/site-packages (from kubernetes>=28.1.0->chromadb==0.6.2->horchunk==0.0.1) (2.37.0)\n",
      "Requirement already satisfied: websocket-client!=0.40.0,!=0.41.*,!=0.42.*,>=0.32.0 in /home/oleksii/python/semantic_chunking/semchunk/.venv/lib/python3.12/site-packages (from kubernetes>=28.1.0->chromadb==0.6.2->horchunk==0.0.1) (1.8.0)\n",
      "Requirement already satisfied: requests-oauthlib in /home/oleksii/python/semantic_chunking/semchunk/.venv/lib/python3.12/site-packages (from kubernetes>=28.1.0->chromadb==0.6.2->horchunk==0.0.1) (2.0.0)\n",
      "Requirement already satisfied: oauthlib>=3.2.2 in /home/oleksii/python/semantic_chunking/semchunk/.venv/lib/python3.12/site-packages (from kubernetes>=28.1.0->chromadb==0.6.2->horchunk==0.0.1) (3.2.2)\n",
      "Requirement already satisfied: urllib3>=1.24.2 in /home/oleksii/python/semantic_chunking/semchunk/.venv/lib/python3.12/site-packages (from kubernetes>=28.1.0->chromadb==0.6.2->horchunk==0.0.1) (2.3.0)\n",
      "Requirement already satisfied: durationpy>=0.7 in /home/oleksii/python/semantic_chunking/semchunk/.venv/lib/python3.12/site-packages (from kubernetes>=28.1.0->chromadb==0.6.2->horchunk==0.0.1) (0.9)\n",
      "Requirement already satisfied: jsonpatch<2.0,>=1.33 in /home/oleksii/python/semantic_chunking/semchunk/.venv/lib/python3.12/site-packages (from langchain-core<0.4.0,>=0.3.29->langchain==0.3.14->horchunk==0.0.1) (1.33)\n",
      "Requirement already satisfied: requests-toolbelt<2.0.0,>=1.0.0 in /home/oleksii/python/semantic_chunking/semchunk/.venv/lib/python3.12/site-packages (from langsmith<0.3,>=0.1.17->langchain==0.3.14->horchunk==0.0.1) (1.0.0)\n",
      "Requirement already satisfied: mdurl~=0.1 in /home/oleksii/python/semantic_chunking/semchunk/.venv/lib/python3.12/site-packages (from markdown-it-py>=2.2.0->rich==13.9.4->horchunk==0.0.1) (0.1.2)\n",
      "Requirement already satisfied: coloredlogs in /home/oleksii/python/semantic_chunking/semchunk/.venv/lib/python3.12/site-packages (from onnxruntime>=1.14.1->chromadb==0.6.2->horchunk==0.0.1) (15.0.1)\n",
      "Requirement already satisfied: flatbuffers in /home/oleksii/python/semantic_chunking/semchunk/.venv/lib/python3.12/site-packages (from onnxruntime>=1.14.1->chromadb==0.6.2->horchunk==0.0.1) (24.12.23)\n",
      "Requirement already satisfied: protobuf in /home/oleksii/python/semantic_chunking/semchunk/.venv/lib/python3.12/site-packages (from onnxruntime>=1.14.1->chromadb==0.6.2->horchunk==0.0.1) (5.29.2)\n",
      "Requirement already satisfied: sympy in /home/oleksii/python/semantic_chunking/semchunk/.venv/lib/python3.12/site-packages (from onnxruntime>=1.14.1->chromadb==0.6.2->horchunk==0.0.1) (1.13.1)\n",
      "Requirement already satisfied: distro<2,>=1.7.0 in /home/oleksii/python/semantic_chunking/semchunk/.venv/lib/python3.12/site-packages (from openai<2.0.0,>=1.58.1->langchain-openai==0.3.0->horchunk==0.0.1) (1.9.0)\n",
      "Requirement already satisfied: jiter<1,>=0.4.0 in /home/oleksii/python/semantic_chunking/semchunk/.venv/lib/python3.12/site-packages (from openai<2.0.0,>=1.58.1->langchain-openai==0.3.0->horchunk==0.0.1) (0.8.2)\n",
      "Requirement already satisfied: sniffio in /home/oleksii/python/semantic_chunking/semchunk/.venv/lib/python3.12/site-packages (from openai<2.0.0,>=1.58.1->langchain-openai==0.3.0->horchunk==0.0.1) (1.3.1)\n",
      "Requirement already satisfied: deprecated>=1.2.6 in /home/oleksii/python/semantic_chunking/semchunk/.venv/lib/python3.12/site-packages (from opentelemetry-api>=1.2.0->chromadb==0.6.2->horchunk==0.0.1) (1.2.15)\n",
      "Requirement already satisfied: importlib-metadata<=8.5.0,>=6.0 in /home/oleksii/python/semantic_chunking/semchunk/.venv/lib/python3.12/site-packages (from opentelemetry-api>=1.2.0->chromadb==0.6.2->horchunk==0.0.1) (8.5.0)\n",
      "Requirement already satisfied: googleapis-common-protos~=1.52 in /home/oleksii/python/semantic_chunking/semchunk/.venv/lib/python3.12/site-packages (from opentelemetry-exporter-otlp-proto-grpc>=1.2.0->chromadb==0.6.2->horchunk==0.0.1) (1.66.0)\n",
      "Requirement already satisfied: opentelemetry-exporter-otlp-proto-common==1.29.0 in /home/oleksii/python/semantic_chunking/semchunk/.venv/lib/python3.12/site-packages (from opentelemetry-exporter-otlp-proto-grpc>=1.2.0->chromadb==0.6.2->horchunk==0.0.1) (1.29.0)\n",
      "Requirement already satisfied: opentelemetry-proto==1.29.0 in /home/oleksii/python/semantic_chunking/semchunk/.venv/lib/python3.12/site-packages (from opentelemetry-exporter-otlp-proto-grpc>=1.2.0->chromadb==0.6.2->horchunk==0.0.1) (1.29.0)\n",
      "Requirement already satisfied: opentelemetry-instrumentation-asgi==0.50b0 in /home/oleksii/python/semantic_chunking/semchunk/.venv/lib/python3.12/site-packages (from opentelemetry-instrumentation-fastapi>=0.41b0->chromadb==0.6.2->horchunk==0.0.1) (0.50b0)\n",
      "Requirement already satisfied: opentelemetry-instrumentation==0.50b0 in /home/oleksii/python/semantic_chunking/semchunk/.venv/lib/python3.12/site-packages (from opentelemetry-instrumentation-fastapi>=0.41b0->chromadb==0.6.2->horchunk==0.0.1) (0.50b0)\n",
      "Requirement already satisfied: opentelemetry-semantic-conventions==0.50b0 in /home/oleksii/python/semantic_chunking/semchunk/.venv/lib/python3.12/site-packages (from opentelemetry-instrumentation-fastapi>=0.41b0->chromadb==0.6.2->horchunk==0.0.1) (0.50b0)\n",
      "Requirement already satisfied: opentelemetry-util-http==0.50b0 in /home/oleksii/python/semantic_chunking/semchunk/.venv/lib/python3.12/site-packages (from opentelemetry-instrumentation-fastapi>=0.41b0->chromadb==0.6.2->horchunk==0.0.1) (0.50b0)\n",
      "Requirement already satisfied: wrapt<2.0.0,>=1.0.0 in /home/oleksii/python/semantic_chunking/semchunk/.venv/lib/python3.12/site-packages (from opentelemetry-instrumentation==0.50b0->opentelemetry-instrumentation-fastapi>=0.41b0->chromadb==0.6.2->horchunk==0.0.1) (1.17.0)\n",
      "Requirement already satisfied: asgiref~=3.0 in /home/oleksii/python/semantic_chunking/semchunk/.venv/lib/python3.12/site-packages (from opentelemetry-instrumentation-asgi==0.50b0->opentelemetry-instrumentation-fastapi>=0.41b0->chromadb==0.6.2->horchunk==0.0.1) (3.8.1)\n",
      "Requirement already satisfied: monotonic>=1.5 in /home/oleksii/python/semantic_chunking/semchunk/.venv/lib/python3.12/site-packages (from posthog>=2.4.0->chromadb==0.6.2->horchunk==0.0.1) (1.6)\n",
      "Requirement already satisfied: backoff>=1.10.0 in /home/oleksii/python/semantic_chunking/semchunk/.venv/lib/python3.12/site-packages (from posthog>=2.4.0->chromadb==0.6.2->horchunk==0.0.1) (2.2.1)\n",
      "Requirement already satisfied: charset-normalizer<4,>=2 in /home/oleksii/python/semantic_chunking/semchunk/.venv/lib/python3.12/site-packages (from requests<3,>=2->langchain==0.3.14->horchunk==0.0.1) (3.4.1)\n",
      "Requirement already satisfied: greenlet!=0.4.17 in /home/oleksii/python/semantic_chunking/semchunk/.venv/lib/python3.12/site-packages (from SQLAlchemy<3,>=1.4->langchain==0.3.14->horchunk==0.0.1) (3.1.1)\n",
      "Requirement already satisfied: networkx in /home/oleksii/python/semantic_chunking/semchunk/.venv/lib/python3.12/site-packages (from torch>=1.11.0->sentence-transformers==3.3.1->horchunk==0.0.1) (3.4.2)\n",
      "Requirement already satisfied: jinja2 in /home/oleksii/python/semantic_chunking/semchunk/.venv/lib/python3.12/site-packages (from torch>=1.11.0->sentence-transformers==3.3.1->horchunk==0.0.1) (3.1.5)\n",
      "Requirement already satisfied: nvidia-cuda-nvrtc-cu12==12.4.127 in /home/oleksii/python/semantic_chunking/semchunk/.venv/lib/python3.12/site-packages (from torch>=1.11.0->sentence-transformers==3.3.1->horchunk==0.0.1) (12.4.127)\n",
      "Requirement already satisfied: nvidia-cuda-runtime-cu12==12.4.127 in /home/oleksii/python/semantic_chunking/semchunk/.venv/lib/python3.12/site-packages (from torch>=1.11.0->sentence-transformers==3.3.1->horchunk==0.0.1) (12.4.127)\n",
      "Requirement already satisfied: nvidia-cuda-cupti-cu12==12.4.127 in /home/oleksii/python/semantic_chunking/semchunk/.venv/lib/python3.12/site-packages (from torch>=1.11.0->sentence-transformers==3.3.1->horchunk==0.0.1) (12.4.127)\n",
      "Requirement already satisfied: nvidia-cudnn-cu12==9.1.0.70 in /home/oleksii/python/semantic_chunking/semchunk/.venv/lib/python3.12/site-packages (from torch>=1.11.0->sentence-transformers==3.3.1->horchunk==0.0.1) (9.1.0.70)\n",
      "Requirement already satisfied: nvidia-cublas-cu12==12.4.5.8 in /home/oleksii/python/semantic_chunking/semchunk/.venv/lib/python3.12/site-packages (from torch>=1.11.0->sentence-transformers==3.3.1->horchunk==0.0.1) (12.4.5.8)\n",
      "Requirement already satisfied: nvidia-cufft-cu12==11.2.1.3 in /home/oleksii/python/semantic_chunking/semchunk/.venv/lib/python3.12/site-packages (from torch>=1.11.0->sentence-transformers==3.3.1->horchunk==0.0.1) (11.2.1.3)\n",
      "Requirement already satisfied: nvidia-curand-cu12==10.3.5.147 in /home/oleksii/python/semantic_chunking/semchunk/.venv/lib/python3.12/site-packages (from torch>=1.11.0->sentence-transformers==3.3.1->horchunk==0.0.1) (10.3.5.147)\n",
      "Requirement already satisfied: nvidia-cusolver-cu12==11.6.1.9 in /home/oleksii/python/semantic_chunking/semchunk/.venv/lib/python3.12/site-packages (from torch>=1.11.0->sentence-transformers==3.3.1->horchunk==0.0.1) (11.6.1.9)\n",
      "Requirement already satisfied: nvidia-cusparse-cu12==12.3.1.170 in /home/oleksii/python/semantic_chunking/semchunk/.venv/lib/python3.12/site-packages (from torch>=1.11.0->sentence-transformers==3.3.1->horchunk==0.0.1) (12.3.1.170)\n",
      "Requirement already satisfied: nvidia-nccl-cu12==2.21.5 in /home/oleksii/python/semantic_chunking/semchunk/.venv/lib/python3.12/site-packages (from torch>=1.11.0->sentence-transformers==3.3.1->horchunk==0.0.1) (2.21.5)\n",
      "Requirement already satisfied: nvidia-nvtx-cu12==12.4.127 in /home/oleksii/python/semantic_chunking/semchunk/.venv/lib/python3.12/site-packages (from torch>=1.11.0->sentence-transformers==3.3.1->horchunk==0.0.1) (12.4.127)\n",
      "Requirement already satisfied: nvidia-nvjitlink-cu12==12.4.127 in /home/oleksii/python/semantic_chunking/semchunk/.venv/lib/python3.12/site-packages (from torch>=1.11.0->sentence-transformers==3.3.1->horchunk==0.0.1) (12.4.127)\n",
      "Requirement already satisfied: triton==3.1.0 in /home/oleksii/python/semantic_chunking/semchunk/.venv/lib/python3.12/site-packages (from torch>=1.11.0->sentence-transformers==3.3.1->horchunk==0.0.1) (3.1.0)\n",
      "Requirement already satisfied: setuptools in /home/oleksii/python/semantic_chunking/semchunk/.venv/lib/python3.12/site-packages (from torch>=1.11.0->sentence-transformers==3.3.1->horchunk==0.0.1) (75.8.0)\n",
      "Requirement already satisfied: mpmath<1.4,>=1.1.0 in /home/oleksii/python/semantic_chunking/semchunk/.venv/lib/python3.12/site-packages (from sympy->onnxruntime>=1.14.1->chromadb==0.6.2->horchunk==0.0.1) (1.3.0)\n",
      "Requirement already satisfied: safetensors>=0.4.1 in /home/oleksii/python/semantic_chunking/semchunk/.venv/lib/python3.12/site-packages (from transformers<5.0.0,>=4.41.0->sentence-transformers==3.3.1->horchunk==0.0.1) (0.5.1)\n",
      "Requirement already satisfied: click>=8.0.0 in /home/oleksii/python/semantic_chunking/semchunk/.venv/lib/python3.12/site-packages (from typer>=0.9.0->chromadb==0.6.2->horchunk==0.0.1) (8.1.8)\n",
      "Requirement already satisfied: shellingham>=1.3.0 in /home/oleksii/python/semantic_chunking/semchunk/.venv/lib/python3.12/site-packages (from typer>=0.9.0->chromadb==0.6.2->horchunk==0.0.1) (1.5.4)\n",
      "Requirement already satisfied: httptools>=0.6.3 in /home/oleksii/python/semantic_chunking/semchunk/.venv/lib/python3.12/site-packages (from uvicorn[standard]>=0.18.3->chromadb==0.6.2->horchunk==0.0.1) (0.6.4)\n",
      "Requirement already satisfied: python-dotenv>=0.13 in /home/oleksii/python/semantic_chunking/semchunk/.venv/lib/python3.12/site-packages (from uvicorn[standard]>=0.18.3->chromadb==0.6.2->horchunk==0.0.1) (1.0.1)\n",
      "Requirement already satisfied: uvloop!=0.15.0,!=0.15.1,>=0.14.0 in /home/oleksii/python/semantic_chunking/semchunk/.venv/lib/python3.12/site-packages (from uvicorn[standard]>=0.18.3->chromadb==0.6.2->horchunk==0.0.1) (0.21.0)\n",
      "Requirement already satisfied: watchfiles>=0.13 in /home/oleksii/python/semantic_chunking/semchunk/.venv/lib/python3.12/site-packages (from uvicorn[standard]>=0.18.3->chromadb==0.6.2->horchunk==0.0.1) (1.0.3)\n",
      "Requirement already satisfied: websockets>=10.4 in /home/oleksii/python/semantic_chunking/semchunk/.venv/lib/python3.12/site-packages (from uvicorn[standard]>=0.18.3->chromadb==0.6.2->horchunk==0.0.1) (14.1)\n",
      "Requirement already satisfied: joblib>=1.2.0 in /home/oleksii/python/semantic_chunking/semchunk/.venv/lib/python3.12/site-packages (from scikit-learn->sentence-transformers==3.3.1->horchunk==0.0.1) (1.4.2)\n",
      "Requirement already satisfied: threadpoolctl>=3.1.0 in /home/oleksii/python/semantic_chunking/semchunk/.venv/lib/python3.12/site-packages (from scikit-learn->sentence-transformers==3.3.1->horchunk==0.0.1) (3.5.0)\n",
      "Requirement already satisfied: cachetools<6.0,>=2.0.0 in /home/oleksii/python/semantic_chunking/semchunk/.venv/lib/python3.12/site-packages (from google-auth>=1.0.1->kubernetes>=28.1.0->chromadb==0.6.2->horchunk==0.0.1) (5.5.0)\n",
      "Requirement already satisfied: pyasn1-modules>=0.2.1 in /home/oleksii/python/semantic_chunking/semchunk/.venv/lib/python3.12/site-packages (from google-auth>=1.0.1->kubernetes>=28.1.0->chromadb==0.6.2->horchunk==0.0.1) (0.4.1)\n",
      "Requirement already satisfied: rsa<5,>=3.1.4 in /home/oleksii/python/semantic_chunking/semchunk/.venv/lib/python3.12/site-packages (from google-auth>=1.0.1->kubernetes>=28.1.0->chromadb==0.6.2->horchunk==0.0.1) (4.9)\n",
      "Requirement already satisfied: zipp>=3.20 in /home/oleksii/python/semantic_chunking/semchunk/.venv/lib/python3.12/site-packages (from importlib-metadata<=8.5.0,>=6.0->opentelemetry-api>=1.2.0->chromadb==0.6.2->horchunk==0.0.1) (3.21.0)\n",
      "Requirement already satisfied: jsonpointer>=1.9 in /home/oleksii/python/semantic_chunking/semchunk/.venv/lib/python3.12/site-packages (from jsonpatch<2.0,>=1.33->langchain-core<0.4.0,>=0.3.29->langchain==0.3.14->horchunk==0.0.1) (3.0.0)\n",
      "Requirement already satisfied: humanfriendly>=9.1 in /home/oleksii/python/semantic_chunking/semchunk/.venv/lib/python3.12/site-packages (from coloredlogs->onnxruntime>=1.14.1->chromadb==0.6.2->horchunk==0.0.1) (10.0)\n",
      "Requirement already satisfied: MarkupSafe>=2.0 in /home/oleksii/python/semantic_chunking/semchunk/.venv/lib/python3.12/site-packages (from jinja2->torch>=1.11.0->sentence-transformers==3.3.1->horchunk==0.0.1) (3.0.2)\n",
      "Requirement already satisfied: pyasn1<0.7.0,>=0.4.6 in /home/oleksii/python/semantic_chunking/semchunk/.venv/lib/python3.12/site-packages (from pyasn1-modules>=0.2.1->google-auth>=1.0.1->kubernetes>=28.1.0->chromadb==0.6.2->horchunk==0.0.1) (0.6.1)\n",
      "\n",
      "\u001b[1m[\u001b[0m\u001b[34;49mnotice\u001b[0m\u001b[1;39;49m]\u001b[0m\u001b[39;49m A new release of pip is available: \u001b[0m\u001b[31;49m24.3.1\u001b[0m\u001b[39;49m -> \u001b[0m\u001b[32;49m25.0\u001b[0m\n",
      "\u001b[1m[\u001b[0m\u001b[34;49mnotice\u001b[0m\u001b[1;39;49m]\u001b[0m\u001b[39;49m To update, run: \u001b[0m\u001b[32;49mpip install --upgrade pip\u001b[0m\n",
      "Requirement already satisfied: requests in /home/oleksii/python/semantic_chunking/semchunk/.venv/lib/python3.12/site-packages (2.32.3)\n",
      "Requirement already satisfied: charset-normalizer<4,>=2 in /home/oleksii/python/semantic_chunking/semchunk/.venv/lib/python3.12/site-packages (from requests) (3.4.1)\n",
      "Requirement already satisfied: idna<4,>=2.5 in /home/oleksii/python/semantic_chunking/semchunk/.venv/lib/python3.12/site-packages (from requests) (3.10)\n",
      "Requirement already satisfied: urllib3<3,>=1.21.1 in /home/oleksii/python/semantic_chunking/semchunk/.venv/lib/python3.12/site-packages (from requests) (2.3.0)\n",
      "Requirement already satisfied: certifi>=2017.4.17 in /home/oleksii/python/semantic_chunking/semchunk/.venv/lib/python3.12/site-packages (from requests) (2024.12.14)\n",
      "\n",
      "\u001b[1m[\u001b[0m\u001b[34;49mnotice\u001b[0m\u001b[1;39;49m]\u001b[0m\u001b[39;49m A new release of pip is available: \u001b[0m\u001b[31;49m24.3.1\u001b[0m\u001b[39;49m -> \u001b[0m\u001b[32;49m25.0\u001b[0m\n",
      "\u001b[1m[\u001b[0m\u001b[34;49mnotice\u001b[0m\u001b[1;39;49m]\u001b[0m\u001b[39;49m To update, run: \u001b[0m\u001b[32;49mpip install --upgrade pip\u001b[0m\n",
      "Requirement already satisfied: chroma in /home/oleksii/python/semantic_chunking/semchunk/.venv/lib/python3.12/site-packages (0.2.0)\n",
      "\n",
      "\u001b[1m[\u001b[0m\u001b[34;49mnotice\u001b[0m\u001b[1;39;49m]\u001b[0m\u001b[39;49m A new release of pip is available: \u001b[0m\u001b[31;49m24.3.1\u001b[0m\u001b[39;49m -> \u001b[0m\u001b[32;49m25.0\u001b[0m\n",
      "\u001b[1m[\u001b[0m\u001b[34;49mnotice\u001b[0m\u001b[1;39;49m]\u001b[0m\u001b[39;49m To update, run: \u001b[0m\u001b[32;49mpip install --upgrade pip\u001b[0m\n",
      "Requirement already satisfied: numpy in /home/oleksii/python/semantic_chunking/semchunk/.venv/lib/python3.12/site-packages (2.2.1)\n",
      "\n",
      "\u001b[1m[\u001b[0m\u001b[34;49mnotice\u001b[0m\u001b[1;39;49m]\u001b[0m\u001b[39;49m A new release of pip is available: \u001b[0m\u001b[31;49m24.3.1\u001b[0m\u001b[39;49m -> \u001b[0m\u001b[32;49m25.0\u001b[0m\n",
      "\u001b[1m[\u001b[0m\u001b[34;49mnotice\u001b[0m\u001b[1;39;49m]\u001b[0m\u001b[39;49m To update, run: \u001b[0m\u001b[32;49mpip install --upgrade pip\u001b[0m\n"
     ]
    }
   ],
   "source": [
    "!pip install \"git+https://github.com/panalexeu/horchunk.git\"\n",
    "!pip install requests\n",
    "!pip install chroma\n",
    "!pip install numpy"
   ]
  },
  {
   "cell_type": "markdown",
   "id": "77afcc66-cc60-4437-8993-77877ac3b6c2",
   "metadata": {},
   "source": [
    "#### Loading datasets from git"
   ]
  },
  {
   "cell_type": "code",
   "execution_count": 2,
   "id": "f9cb5c19-dede-4e12-ad11-485c64ec4489",
   "metadata": {},
   "outputs": [
    {
     "name": "stdout",
     "output_type": "stream",
     "text": [
      "wikitexts: 22406 words\n",
      "chatlogs: 5968 words\n",
      "finance: 116860 words\n",
      "pubmed: 75846 words\n",
      "state_of_the_union: 8468 words\n"
     ]
    }
   ],
   "source": [
    "import requests \n",
    "\n",
    "links_dict = dict(\n",
    "    wikitexts='https://raw.githubusercontent.com/brandonstarxel/chunking_evaluation/refs/heads/main/chunking_evaluation/evaluation_framework/general_evaluation_data/corpora/wikitexts.md',\n",
    "    chatlogs='https://raw.githubusercontent.com/brandonstarxel/chunking_evaluation/refs/heads/main/chunking_evaluation/evaluation_framework/general_evaluation_data/corpora/chatlogs.md',\n",
    "    finance='https://raw.githubusercontent.com/brandonstarxel/chunking_evaluation/refs/heads/main/chunking_evaluation/evaluation_framework/general_evaluation_data/corpora/finance.md',\n",
    "    pubmed='https://raw.githubusercontent.com/brandonstarxel/chunking_evaluation/refs/heads/main/chunking_evaluation/evaluation_framework/general_evaluation_data/corpora/pubmed.md',\n",
    "    state_of_the_union='https://raw.githubusercontent.com/brandonstarxel/chunking_evaluation/refs/heads/main/chunking_evaluation/evaluation_framework/general_evaluation_data/corpora/state_of_the_union.md'\n",
    ") \n",
    "\n",
    "\n",
    "def load_datasets(links_dict: dict) -> dict:\n",
    "    data = dict()\n",
    "    for name, link in links_dict.items():\n",
    "        response = requests.get(link)\n",
    "        data[name] = response.text \n",
    "        \n",
    "    return data \n",
    "\n",
    "datasets = load_datasets(links_dict)\n",
    "for key in datasets.keys():\n",
    "    print(f'{key}: {len(datasets[key].split())} words')"
   ]
  },
  {
   "cell_type": "markdown",
   "id": "7ad1ab97-3a27-42d9-8288-c148470059ef",
   "metadata": {},
   "source": [
    "#### Tuning"
   ]
  },
  {
   "cell_type": "markdown",
   "id": "86ca9638-93d3-412b-ba89-59b7eccf6e0a",
   "metadata": {},
   "source": [
    "Let's start by instantiating WindowTuner."
   ]
  },
  {
   "cell_type": "code",
   "execution_count": 3,
   "id": "ecea916e-ddef-4af9-81b2-36342a8cba4c",
   "metadata": {},
   "outputs": [
    {
     "name": "stderr",
     "output_type": "stream",
     "text": [
      "/home/oleksii/python/semantic_chunking/semchunk/.venv/lib/python3.12/site-packages/tqdm/auto.py:21: TqdmWarning: IProgress not found. Please update jupyter and ipywidgets. See https://ipywidgets.readthedocs.io/en/stable/user_install.html\n",
      "  from .autonotebook import tqdm as notebook_tqdm\n"
     ]
    }
   ],
   "source": [
    "from horchunk.chunkers import WindowTuner\n",
    "from chromadb.utils import embedding_functions\n",
    "\n",
    "ef = embedding_functions.DefaultEmbeddingFunction() # all-MiniLM-L6-v2\n",
    "tuner = WindowTuner(ef) "
   ]
  },
  {
   "cell_type": "markdown",
   "id": "c684e184-96f0-4474-96c7-3d8a14e7ec27",
   "metadata": {},
   "source": [
    "In this tutorial, we will tune the minimum threshold for document of 3 sentences in size. We will repeat this process for every dataset. The identified thresholds will then be averaged to determine a single, generalized threshold value."
   ]
  },
  {
   "cell_type": "code",
   "execution_count": 4,
   "id": "739c2b32-818b-448e-9a5c-e951c7996c23",
   "metadata": {},
   "outputs": [],
   "source": [
    "thresholds = []\n",
    "DEPTH = 3"
   ]
  },
  {
   "cell_type": "markdown",
   "id": "af9a769e-454e-4d2e-98fb-11367786c2d8",
   "metadata": {},
   "source": [
    "**wikitexts**"
   ]
  },
  {
   "cell_type": "code",
   "execution_count": 5,
   "id": "ac34551b-28ad-4d3d-b4c5-b365150dd08d",
   "metadata": {
    "scrolled": true
   },
   "outputs": [
    {
     "name": "stderr",
     "output_type": "stream",
     "text": [
      "100%|██████████████████████████████████████████████████████████████████████████████████████████████████████████████████████████████| 1090/1090 [01:06<00:00, 16.31it/s]\n"
     ]
    },
    {
     "data": {
      "text/html": [
       "<pre style=\"white-space:pre;overflow-x:auto;line-height:normal;font-family:Menlo,'DejaVu Sans Mono',consolas,'Courier New',monospace\"><span style=\"color: #008080; text-decoration-color: #008080; font-weight: bold\">1090</span> chunks formed\n",
       "</pre>\n"
      ],
      "text/plain": [
       "\u001b[1;36m1090\u001b[0m chunks formed\n"
      ]
     },
     "metadata": {},
     "output_type": "display_data"
    },
    {
     "data": {
      "text/html": [
       "<pre style=\"white-space:pre;overflow-x:auto;line-height:normal;font-family:Menlo,'DejaVu Sans Mono',consolas,'Courier New',monospace\">Values range: <span style=\"font-weight: bold\">[</span><span style=\"color: #008080; text-decoration-color: #008080; font-weight: bold\">-0.022758223116397858</span> <span style=\"color: #808000; text-decoration-color: #808000\">...</span> <span style=\"color: #008080; text-decoration-color: #008080; font-weight: bold\">1.0</span><span style=\"font-weight: bold\">]</span>\n",
       "</pre>\n"
      ],
      "text/plain": [
       "Values range: \u001b[1m[\u001b[0m\u001b[1;36m-0.022758223116397858\u001b[0m \u001b[33m...\u001b[0m \u001b[1;36m1.0\u001b[0m\u001b[1m]\u001b[0m\n"
      ]
     },
     "metadata": {},
     "output_type": "display_data"
    },
    {
     "data": {
      "text/html": [
       "<pre style=\"white-space:pre;overflow-x:auto;line-height:normal;font-family:Menlo,'DejaVu Sans Mono',consolas,'Courier New',monospace\">Steps to tune: <span style=\"color: #008080; text-decoration-color: #008080; font-weight: bold\">10</span>\n",
       "</pre>\n"
      ],
      "text/plain": [
       "Steps to tune: \u001b[1;36m10\u001b[0m\n"
      ]
     },
     "metadata": {},
     "output_type": "display_data"
    },
    {
     "data": {
      "text/html": [
       "<pre style=\"white-space:pre;overflow-x:auto;line-height:normal;font-family:Menlo,'DejaVu Sans Mono',consolas,'Courier New',monospace\">--------------------------------\n",
       "</pre>\n"
      ],
      "text/plain": [
       "--------------------------------\n"
      ]
     },
     "metadata": {},
     "output_type": "display_data"
    },
    {
     "data": {
      "text/html": [
       "<pre style=\"white-space:pre;overflow-x:auto;line-height:normal;font-family:Menlo,'DejaVu Sans Mono',consolas,'Courier New',monospace\">dist: <span style=\"color: #008080; text-decoration-color: #008080; font-weight: bold\">0.747102677822113</span>\n",
       "</pre>\n"
      ],
      "text/plain": [
       "dist: \u001b[1;36m0.747102677822113\u001b[0m\n"
      ]
     },
     "metadata": {},
     "output_type": "display_data"
    },
    {
     "data": {
      "text/html": [
       "<pre style=\"white-space:pre;overflow-x:auto;line-height:normal;font-family:Menlo,'DejaVu Sans Mono',consolas,'Courier New',monospace\">chunk: <span style=\"color: #c0c0c0; text-decoration-color: #c0c0c0; background-color: #008000\"> In the late 1920s , Barker began to doubt she was doing enough for the church and considered focusing </span>\n",
       "<span style=\"color: #c0c0c0; text-decoration-color: #c0c0c0; background-color: #008000\">solely on sacred works .</span><span style=\"color: #c0c0c0; text-decoration-color: #c0c0c0; background-color: #008080\">Family and friends recommended she continue secular and sacred works , which she did .  </span>\n",
       "<span style=\"color: #c0c0c0; text-decoration-color: #c0c0c0; background-color: #008080\">Barker continued to attend evening classes at the Croydon Art School between the 1920s and the 1940s , eventually </span>\n",
       "<span style=\"color: #c0c0c0; text-decoration-color: #c0c0c0; background-color: #008080\">receiving a teaching position .</span>\n",
       "</pre>\n"
      ],
      "text/plain": [
       "chunk: \u001b[37;42m In the late 1920s , Barker began to doubt she was doing enough for the church and considered focusing \u001b[0m\n",
       "\u001b[37;42msolely on sacred works .\u001b[0m\u001b[37;46mFamily and friends recommended she continue secular and sacred works , which she did .  \u001b[0m\n",
       "\u001b[37;46mBarker continued to attend evening classes at the Croydon Art School between the 1920s and the 1940s , eventually \u001b[0m\n",
       "\u001b[37;46mreceiving a teaching position .\u001b[0m\n"
      ]
     },
     "metadata": {},
     "output_type": "display_data"
    },
    {
     "name": "stdin",
     "output_type": "stream",
     "text": [
      "Type 'k' to raise thresh, or 'j' - to lower it, then press 'Enter':  k\n"
     ]
    },
    {
     "data": {
      "text/html": [
       "<pre style=\"white-space:pre;overflow-x:auto;line-height:normal;font-family:Menlo,'DejaVu Sans Mono',consolas,'Courier New',monospace\">dist: <span style=\"color: #008080; text-decoration-color: #008080; font-weight: bold\">0.8406479358673096</span>\n",
       "</pre>\n"
      ],
      "text/plain": [
       "dist: \u001b[1;36m0.8406479358673096\u001b[0m\n"
      ]
     },
     "metadata": {},
     "output_type": "display_data"
    },
    {
     "data": {
      "text/html": [
       "<pre style=\"white-space:pre;overflow-x:auto;line-height:normal;font-family:Menlo,'DejaVu Sans Mono',consolas,'Courier New',monospace\">chunk: <span style=\"color: #c0c0c0; text-decoration-color: #c0c0c0; background-color: #008000\"> Old Rhymes for All Times ; Blackie , </span><span style=\"color: #c0c0c0; text-decoration-color: #c0c0c0; background-color: #008000; font-weight: bold\">1928</span><span style=\"color: #c0c0c0; text-decoration-color: #c0c0c0; background-color: #008000\"> </span><span style=\"color: #c0c0c0; text-decoration-color: #c0c0c0; background-color: #008080\"> The Children ’ s Book of Hymns ; Blackie , </span><span style=\"color: #c0c0c0; text-decoration-color: #c0c0c0; background-color: #008080; font-weight: bold\">1929</span><span style=\"color: #c0c0c0; text-decoration-color: #c0c0c0; background-color: #008080\"> ; rep . </span><span style=\"color: #c0c0c0; text-decoration-color: #c0c0c0; background-color: #008080; font-weight: bold\">1933</span><span style=\"color: #c0c0c0; text-decoration-color: #c0c0c0; background-color: #008080\"> </span>\n",
       "</pre>\n"
      ],
      "text/plain": [
       "chunk: \u001b[37;42m Old Rhymes for All Times ; Blackie , \u001b[0m\u001b[1;37;42m1928\u001b[0m\u001b[37;42m \u001b[0m\u001b[37;46m The Children ’ s Book of Hymns ; Blackie , \u001b[0m\u001b[1;37;46m1929\u001b[0m\u001b[37;46m ; rep . \u001b[0m\u001b[1;37;46m1933\u001b[0m\u001b[37;46m \u001b[0m\n"
      ]
     },
     "metadata": {},
     "output_type": "display_data"
    },
    {
     "name": "stdin",
     "output_type": "stream",
     "text": [
      "Type 'k' to raise thresh, or 'j' - to lower it, then press 'Enter':  j\n"
     ]
    },
    {
     "data": {
      "text/html": [
       "<pre style=\"white-space:pre;overflow-x:auto;line-height:normal;font-family:Menlo,'DejaVu Sans Mono',consolas,'Courier New',monospace\">dist: <span style=\"color: #008080; text-decoration-color: #008080; font-weight: bold\">0.7931419610977173</span>\n",
       "</pre>\n"
      ],
      "text/plain": [
       "dist: \u001b[1;36m0.7931419610977173\u001b[0m\n"
      ]
     },
     "metadata": {},
     "output_type": "display_data"
    },
    {
     "data": {
      "text/html": [
       "<pre style=\"white-space:pre;overflow-x:auto;line-height:normal;font-family:Menlo,'DejaVu Sans Mono',consolas,'Courier New',monospace\">chunk: <span style=\"color: #c0c0c0; text-decoration-color: #c0c0c0; background-color: #008000\">Kate Greenaway and the Pre @-@ Raphaelites were the principal influences on her work .</span><span style=\"color: #c0c0c0; text-decoration-color: #c0c0c0; background-color: #008080\">She claimed to paint </span>\n",
       "<span style=\"color: #c0c0c0; text-decoration-color: #c0c0c0; background-color: #008080\">instinctively and rejected artistic theories . Barker died in </span><span style=\"color: #c0c0c0; text-decoration-color: #c0c0c0; background-color: #008080; font-weight: bold\">1973</span><span style=\"color: #c0c0c0; text-decoration-color: #c0c0c0; background-color: #008080\"> .</span>\n",
       "</pre>\n"
      ],
      "text/plain": [
       "chunk: \u001b[37;42mKate Greenaway and the Pre @-@ Raphaelites were the principal influences on her work .\u001b[0m\u001b[37;46mShe claimed to paint \u001b[0m\n",
       "\u001b[37;46minstinctively and rejected artistic theories . Barker died in \u001b[0m\u001b[1;37;46m1973\u001b[0m\u001b[37;46m .\u001b[0m\n"
      ]
     },
     "metadata": {},
     "output_type": "display_data"
    },
    {
     "name": "stdin",
     "output_type": "stream",
     "text": [
      "Type 'k' to raise thresh, or 'j' - to lower it, then press 'Enter':  k\n"
     ]
    },
    {
     "data": {
      "text/html": [
       "<pre style=\"white-space:pre;overflow-x:auto;line-height:normal;font-family:Menlo,'DejaVu Sans Mono',consolas,'Courier New',monospace\">dist: <span style=\"color: #008080; text-decoration-color: #008080; font-weight: bold\">0.8172352313995361</span>\n",
       "</pre>\n"
      ],
      "text/plain": [
       "dist: \u001b[1;36m0.8172352313995361\u001b[0m\n"
      ]
     },
     "metadata": {},
     "output_type": "display_data"
    },
    {
     "data": {
      "text/html": [
       "<pre style=\"white-space:pre;overflow-x:auto;line-height:normal;font-family:Menlo,'DejaVu Sans Mono',consolas,'Courier New',monospace\">chunk: <span style=\"color: #c0c0c0; text-decoration-color: #c0c0c0; background-color: #008000\"> The rectangular casemate was pierced with eight narrow gun ports , one each at the bow and stern and three </span>\n",
       "<span style=\"color: #c0c0c0; text-decoration-color: #c0c0c0; background-color: #008000\">along each side .</span><span style=\"color: #c0c0c0; text-decoration-color: #c0c0c0; background-color: #008080\">Each gun port was protected by an armored shutter made of two layers of iron riveted together and </span>\n",
       "<span style=\"color: #c0c0c0; text-decoration-color: #c0c0c0; background-color: #008080\">allowed the guns to elevate only to a maximum of + </span><span style=\"color: #c0c0c0; text-decoration-color: #c0c0c0; background-color: #008080; font-weight: bold\">5</span><span style=\"color: #c0c0c0; text-decoration-color: #c0c0c0; background-color: #008080\"> to + </span><span style=\"color: #c0c0c0; text-decoration-color: #c0c0c0; background-color: #008080; font-weight: bold\">7</span><span style=\"color: #c0c0c0; text-decoration-color: #c0c0c0; background-color: #008080\"> ° . Atlanta was armed with single @-@ banded , </span><span style=\"color: #c0c0c0; text-decoration-color: #c0c0c0; background-color: #008080; font-weight: bold\">7</span><span style=\"color: #c0c0c0; text-decoration-color: #c0c0c0; background-color: #008080\"> @-@ </span>\n",
       "<span style=\"color: #c0c0c0; text-decoration-color: #c0c0c0; background-color: #008080\">inch </span><span style=\"color: #c0c0c0; text-decoration-color: #c0c0c0; background-color: #008080; font-weight: bold\">(</span><span style=\"color: #c0c0c0; text-decoration-color: #c0c0c0; background-color: #008080\"> </span><span style=\"color: #c0c0c0; text-decoration-color: #c0c0c0; background-color: #008080; font-weight: bold\">178</span><span style=\"color: #c0c0c0; text-decoration-color: #c0c0c0; background-color: #008080\"> mm </span><span style=\"color: #c0c0c0; text-decoration-color: #c0c0c0; background-color: #008080; font-weight: bold\">)</span><span style=\"color: #c0c0c0; text-decoration-color: #c0c0c0; background-color: #008080\"> Brooke rifles on pivot mounts at the bow and stern .</span>\n",
       "</pre>\n"
      ],
      "text/plain": [
       "chunk: \u001b[37;42m The rectangular casemate was pierced with eight narrow gun ports , one each at the bow and stern and three \u001b[0m\n",
       "\u001b[37;42malong each side .\u001b[0m\u001b[37;46mEach gun port was protected by an armored shutter made of two layers of iron riveted together and \u001b[0m\n",
       "\u001b[37;46mallowed the guns to elevate only to a maximum of + \u001b[0m\u001b[1;37;46m5\u001b[0m\u001b[37;46m to + \u001b[0m\u001b[1;37;46m7\u001b[0m\u001b[37;46m ° . Atlanta was armed with single @-@ banded , \u001b[0m\u001b[1;37;46m7\u001b[0m\u001b[37;46m @-@ \u001b[0m\n",
       "\u001b[37;46minch \u001b[0m\u001b[1;37;46m(\u001b[0m\u001b[37;46m \u001b[0m\u001b[1;37;46m178\u001b[0m\u001b[37;46m mm \u001b[0m\u001b[1;37;46m)\u001b[0m\u001b[37;46m Brooke rifles on pivot mounts at the bow and stern .\u001b[0m\n"
      ]
     },
     "metadata": {},
     "output_type": "display_data"
    },
    {
     "name": "stdin",
     "output_type": "stream",
     "text": [
      "Type 'k' to raise thresh, or 'j' - to lower it, then press 'Enter':  k\n"
     ]
    },
    {
     "data": {
      "text/html": [
       "<pre style=\"white-space:pre;overflow-x:auto;line-height:normal;font-family:Menlo,'DejaVu Sans Mono',consolas,'Courier New',monospace\">dist: <span style=\"color: #008080; text-decoration-color: #008080; font-weight: bold\">0.8307453393936157</span>\n",
       "</pre>\n"
      ],
      "text/plain": [
       "dist: \u001b[1;36m0.8307453393936157\u001b[0m\n"
      ]
     },
     "metadata": {},
     "output_type": "display_data"
    },
    {
     "data": {
      "text/html": [
       "<pre style=\"white-space:pre;overflow-x:auto;line-height:normal;font-family:Menlo,'DejaVu Sans Mono',consolas,'Courier New',monospace\">chunk: <span style=\"color: #c0c0c0; text-decoration-color: #c0c0c0; background-color: #008000\"> Silver background indicates overtime / shootout loss </span><span style=\"color: #c0c0c0; text-decoration-color: #c0c0c0; background-color: #008000; font-weight: bold\">(</span><span style=\"color: #c0c0c0; text-decoration-color: #c0c0c0; background-color: #008000\"> </span><span style=\"color: #c0c0c0; text-decoration-color: #c0c0c0; background-color: #008000; font-weight: bold\">1</span><span style=\"color: #c0c0c0; text-decoration-color: #c0c0c0; background-color: #008000\"> point </span><span style=\"color: #c0c0c0; text-decoration-color: #c0c0c0; background-color: #008000; font-weight: bold\">)</span><span style=\"color: #c0c0c0; text-decoration-color: #c0c0c0; background-color: #008000\"> .</span><span style=\"color: #c0c0c0; text-decoration-color: #c0c0c0; background-color: #008080\"> = = Player statistics = =   In ice </span>\n",
       "<span style=\"color: #c0c0c0; text-decoration-color: #c0c0c0; background-color: #008080\">hockey , a combination of a player 's goals and assists are collectively called points .</span>\n",
       "</pre>\n"
      ],
      "text/plain": [
       "chunk: \u001b[37;42m Silver background indicates overtime \u001b[0m\u001b[37;42m/\u001b[0m\u001b[37;42m shootout loss \u001b[0m\u001b[1;37;42m(\u001b[0m\u001b[37;42m \u001b[0m\u001b[1;37;42m1\u001b[0m\u001b[37;42m point \u001b[0m\u001b[1;37;42m)\u001b[0m\u001b[37;42m .\u001b[0m\u001b[37;46m = = Player statistics = =   In ice \u001b[0m\n",
       "\u001b[37;46mhockey , a combination of a player 's goals and assists are collectively called points .\u001b[0m\n"
      ]
     },
     "metadata": {},
     "output_type": "display_data"
    },
    {
     "name": "stdin",
     "output_type": "stream",
     "text": [
      "Type 'k' to raise thresh, or 'j' - to lower it, then press 'Enter':  j\n"
     ]
    },
    {
     "data": {
      "text/html": [
       "<pre style=\"white-space:pre;overflow-x:auto;line-height:normal;font-family:Menlo,'DejaVu Sans Mono',consolas,'Courier New',monospace\">dist: <span style=\"color: #008080; text-decoration-color: #008080; font-weight: bold\">0.822981595993042</span>\n",
       "</pre>\n"
      ],
      "text/plain": [
       "dist: \u001b[1;36m0.822981595993042\u001b[0m\n"
      ]
     },
     "metadata": {},
     "output_type": "display_data"
    },
    {
     "data": {
      "text/html": [
       "<pre style=\"white-space:pre;overflow-x:auto;line-height:normal;font-family:Menlo,'DejaVu Sans Mono',consolas,'Courier New',monospace\">chunk: <span style=\"color: #c0c0c0; text-decoration-color: #c0c0c0; background-color: #008000\">Co @-@ produced by Wake and Narada Michael Walden , it appears as the second of ten songs on the track </span>\n",
       "<span style=\"color: #c0c0c0; text-decoration-color: #c0c0c0; background-color: #008000\">listing .</span><span style=\"color: #c0c0c0; text-decoration-color: #c0c0c0; background-color: #008080\">The track was recorded and engineered by Bob </span><span style=\"color: #c0c0c0; text-decoration-color: #c0c0c0; background-color: #008080; font-weight: bold\">&lt;unk&gt;</span><span style=\"color: #c0c0c0; text-decoration-color: #c0c0c0; background-color: #008080\"> at Cove City Sound Studios and The Power Station , both</span>\n",
       "<span style=\"color: #c0c0c0; text-decoration-color: #c0c0c0; background-color: #008080\">located in New York City . He was assisted by Dana Jon Chappelle .</span>\n",
       "</pre>\n"
      ],
      "text/plain": [
       "chunk: \u001b[37;42mCo @-@ produced by Wake and Narada Michael Walden , it appears as the second of ten songs on the track \u001b[0m\n",
       "\u001b[37;42mlisting .\u001b[0m\u001b[37;46mThe track was recorded and engineered by Bob \u001b[0m\u001b[1;37;46m<\u001b[0m\u001b[1;37;46munk\u001b[0m\u001b[1;37;46m>\u001b[0m\u001b[37;46m at Cove City Sound Studios and The Power Station , both\u001b[0m\n",
       "\u001b[37;46mlocated in New York City . He was assisted by Dana Jon Chappelle .\u001b[0m\n"
      ]
     },
     "metadata": {},
     "output_type": "display_data"
    },
    {
     "name": "stdin",
     "output_type": "stream",
     "text": [
      "Type 'k' to raise thresh, or 'j' - to lower it, then press 'Enter':  j\n"
     ]
    },
    {
     "data": {
      "text/html": [
       "<pre style=\"white-space:pre;overflow-x:auto;line-height:normal;font-family:Menlo,'DejaVu Sans Mono',consolas,'Courier New',monospace\">dist: <span style=\"color: #008080; text-decoration-color: #008080; font-weight: bold\">0.8198116421699524</span>\n",
       "</pre>\n"
      ],
      "text/plain": [
       "dist: \u001b[1;36m0.8198116421699524\u001b[0m\n"
      ]
     },
     "metadata": {},
     "output_type": "display_data"
    },
    {
     "data": {
      "text/html": [
       "<pre style=\"white-space:pre;overflow-x:auto;line-height:normal;font-family:Menlo,'DejaVu Sans Mono',consolas,'Courier New',monospace\">chunk: <span style=\"color: #c0c0c0; text-decoration-color: #c0c0c0; background-color: #008000\"> Troops are divided into five classes : Scouts , </span><span style=\"color: #c0c0c0; text-decoration-color: #c0c0c0; background-color: #008000; font-weight: bold\">&lt;unk&gt;</span><span style=\"color: #c0c0c0; text-decoration-color: #c0c0c0; background-color: #008000\"> , Engineers , Lancers and Armored Soldier .</span><span style=\"color: #c0c0c0; text-decoration-color: #c0c0c0; background-color: #008080\">Troopers </span>\n",
       "<span style=\"color: #c0c0c0; text-decoration-color: #c0c0c0; background-color: #008080\">can switch classes by changing their assigned weapon . Changing class does not greatly affect the stats gained </span>\n",
       "<span style=\"color: #c0c0c0; text-decoration-color: #c0c0c0; background-color: #008080\">while in a previous class .</span>\n",
       "</pre>\n"
      ],
      "text/plain": [
       "chunk: \u001b[37;42m Troops are divided into five classes : Scouts , \u001b[0m\u001b[1;37;42m<\u001b[0m\u001b[1;37;42munk\u001b[0m\u001b[1;37;42m>\u001b[0m\u001b[37;42m , Engineers , Lancers and Armored Soldier .\u001b[0m\u001b[37;46mTroopers \u001b[0m\n",
       "\u001b[37;46mcan switch classes by changing their assigned weapon . Changing class does not greatly affect the stats gained \u001b[0m\n",
       "\u001b[37;46mwhile in a previous class .\u001b[0m\n"
      ]
     },
     "metadata": {},
     "output_type": "display_data"
    },
    {
     "name": "stdin",
     "output_type": "stream",
     "text": [
      "Type 'k' to raise thresh, or 'j' - to lower it, then press 'Enter':  j\n"
     ]
    },
    {
     "data": {
      "text/html": [
       "<pre style=\"white-space:pre;overflow-x:auto;line-height:normal;font-family:Menlo,'DejaVu Sans Mono',consolas,'Courier New',monospace\">dist: <span style=\"color: #008080; text-decoration-color: #008080; font-weight: bold\">0.8186871409416199</span>\n",
       "</pre>\n"
      ],
      "text/plain": [
       "dist: \u001b[1;36m0.8186871409416199\u001b[0m\n"
      ]
     },
     "metadata": {},
     "output_type": "display_data"
    },
    {
     "data": {
      "text/html": [
       "<pre style=\"white-space:pre;overflow-x:auto;line-height:normal;font-family:Menlo,'DejaVu Sans Mono',consolas,'Courier New',monospace\">chunk: <span style=\"color: #c0c0c0; text-decoration-color: #c0c0c0; background-color: #008000\">Small bony fishes are also eaten , along with the occasional penaeid prawn or amphipod .</span><span style=\"color: #c0c0c0; text-decoration-color: #c0c0c0; background-color: #008080\">Larger rays consume </span>\n",
       "<span style=\"color: #c0c0c0; text-decoration-color: #c0c0c0; background-color: #008080\">a greater variety of prey and relatively more polychaete worms when compared to smaller rays . This species is </span>\n",
       "<span style=\"color: #c0c0c0; text-decoration-color: #c0c0c0; background-color: #008080\">parasitized by the tapeworm Acanthobothrium </span><span style=\"color: #c0c0c0; text-decoration-color: #c0c0c0; background-color: #008080; font-weight: bold\">&lt;unk&gt;</span><span style=\"color: #c0c0c0; text-decoration-color: #c0c0c0; background-color: #008080\"> .</span>\n",
       "</pre>\n"
      ],
      "text/plain": [
       "chunk: \u001b[37;42mSmall bony fishes are also eaten , along with the occasional penaeid prawn or amphipod .\u001b[0m\u001b[37;46mLarger rays consume \u001b[0m\n",
       "\u001b[37;46ma greater variety of prey and relatively more polychaete worms when compared to smaller rays . This species is \u001b[0m\n",
       "\u001b[37;46mparasitized by the tapeworm Acanthobothrium \u001b[0m\u001b[1;37;46m<\u001b[0m\u001b[1;37;46munk\u001b[0m\u001b[1;37;46m>\u001b[0m\u001b[37;46m .\u001b[0m\n"
      ]
     },
     "metadata": {},
     "output_type": "display_data"
    },
    {
     "name": "stdin",
     "output_type": "stream",
     "text": [
      "Type 'k' to raise thresh, or 'j' - to lower it, then press 'Enter':  k\n"
     ]
    },
    {
     "data": {
      "text/html": [
       "<pre style=\"white-space:pre;overflow-x:auto;line-height:normal;font-family:Menlo,'DejaVu Sans Mono',consolas,'Courier New',monospace\">dist: <span style=\"color: #008080; text-decoration-color: #008080; font-weight: bold\">0.8192038536071777</span>\n",
       "</pre>\n"
      ],
      "text/plain": [
       "dist: \u001b[1;36m0.8192038536071777\u001b[0m\n"
      ]
     },
     "metadata": {},
     "output_type": "display_data"
    },
    {
     "data": {
      "text/html": [
       "<pre style=\"white-space:pre;overflow-x:auto;line-height:normal;font-family:Menlo,'DejaVu Sans Mono',consolas,'Courier New',monospace\">chunk: <span style=\"color: #c0c0c0; text-decoration-color: #c0c0c0; background-color: #008000\"> This ammunition , and that which I brought with me , was rapidly prepared for use at the Laboratory </span>\n",
       "<span style=\"color: #c0c0c0; text-decoration-color: #c0c0c0; background-color: #008000\">established at the Little Rock Arsenal for that purpose .</span><span style=\"color: #c0c0c0; text-decoration-color: #c0c0c0; background-color: #008080\">As illustrating as the pitiful scarcity of material in the</span>\n",
       "<span style=\"color: #c0c0c0; text-decoration-color: #c0c0c0; background-color: #008080\">country , the fact may be stated that it was found necessary to use public documents of the State Library for </span>\n",
       "<span style=\"color: #c0c0c0; text-decoration-color: #c0c0c0; background-color: #008080\">cartridge paper . </span><span style=\"color: #c0c0c0; text-decoration-color: #c0c0c0; background-color: #008080; font-weight: bold\">&lt;unk&gt;</span><span style=\"color: #c0c0c0; text-decoration-color: #c0c0c0; background-color: #008080\"> were employed or conscripted , tools purchased or impressed , and the repair of the damaged</span>\n",
       "<span style=\"color: #c0c0c0; text-decoration-color: #c0c0c0; background-color: #008080\">guns I brought with me and about an equal number found at Little Rock commenced at once .</span>\n",
       "</pre>\n"
      ],
      "text/plain": [
       "chunk: \u001b[37;42m This ammunition , and that which I brought with me , was rapidly prepared for use at the Laboratory \u001b[0m\n",
       "\u001b[37;42mestablished at the Little Rock Arsenal for that purpose .\u001b[0m\u001b[37;46mAs illustrating as the pitiful scarcity of material in the\u001b[0m\n",
       "\u001b[37;46mcountry , the fact may be stated that it was found necessary to use public documents of the State Library for \u001b[0m\n",
       "\u001b[37;46mcartridge paper . \u001b[0m\u001b[1;37;46m<\u001b[0m\u001b[1;37;46munk\u001b[0m\u001b[1;37;46m>\u001b[0m\u001b[37;46m were employed or conscripted , tools purchased or impressed , and the repair of the damaged\u001b[0m\n",
       "\u001b[37;46mguns I brought with me and about an equal number found at Little Rock commenced at once .\u001b[0m\n"
      ]
     },
     "metadata": {},
     "output_type": "display_data"
    },
    {
     "name": "stdin",
     "output_type": "stream",
     "text": [
      "Type 'k' to raise thresh, or 'j' - to lower it, then press 'Enter':  k\n"
     ]
    },
    {
     "data": {
      "text/html": [
       "<pre style=\"white-space:pre;overflow-x:auto;line-height:normal;font-family:Menlo,'DejaVu Sans Mono',consolas,'Courier New',monospace\">dist: <span style=\"color: #008080; text-decoration-color: #008080; font-weight: bold\">0.8196150064468384</span>\n",
       "</pre>\n"
      ],
      "text/plain": [
       "dist: \u001b[1;36m0.8196150064468384\u001b[0m\n"
      ]
     },
     "metadata": {},
     "output_type": "display_data"
    },
    {
     "data": {
      "text/html": [
       "<pre style=\"white-space:pre;overflow-x:auto;line-height:normal;font-family:Menlo,'DejaVu Sans Mono',consolas,'Courier New',monospace\">chunk: <span style=\"color: #c0c0c0; text-decoration-color: #c0c0c0; background-color: #008000\">Stories are told through comic book @-@ like panels with animated character portraits , with characters </span>\n",
       "<span style=\"color: #c0c0c0; text-decoration-color: #c0c0c0; background-color: #008000\">speaking partially through voiced speech bubbles and partially through unvoiced text .</span><span style=\"color: #c0c0c0; text-decoration-color: #c0c0c0; background-color: #008080\">The player progresses through</span>\n",
       "<span style=\"color: #c0c0c0; text-decoration-color: #c0c0c0; background-color: #008080\">a series of linear missions , gradually unlocked as maps that can be freely scanned through and replayed as they </span>\n",
       "<span style=\"color: #c0c0c0; text-decoration-color: #c0c0c0; background-color: #008080\">are unlocked . The route to each story location on the map varies depending on an individual player 's approach : </span>\n",
       "<span style=\"color: #c0c0c0; text-decoration-color: #c0c0c0; background-color: #008080\">when one option is selected , the other is sealed off to the player .</span>\n",
       "</pre>\n"
      ],
      "text/plain": [
       "chunk: \u001b[37;42mStories are told through comic book @-@ like panels with animated character portraits , with characters \u001b[0m\n",
       "\u001b[37;42mspeaking partially through voiced speech bubbles and partially through unvoiced text .\u001b[0m\u001b[37;46mThe player progresses through\u001b[0m\n",
       "\u001b[37;46ma series of linear missions , gradually unlocked as maps that can be freely scanned through and replayed as they \u001b[0m\n",
       "\u001b[37;46mare unlocked . The route to each story location on the map varies depending on an individual player 's approach : \u001b[0m\n",
       "\u001b[37;46mwhen one option is selected , the other is sealed off to the player .\u001b[0m\n"
      ]
     },
     "metadata": {},
     "output_type": "display_data"
    },
    {
     "data": {
      "text/html": [
       "<pre style=\"white-space:pre;overflow-x:auto;line-height:normal;font-family:Menlo,'DejaVu Sans Mono',consolas,'Courier New',monospace\">Tuning ended, thresh value: <span style=\"color: #008080; text-decoration-color: #008080; font-weight: bold\">0.8196150064468384</span> = <span style=\"color: #008080; text-decoration-color: #008080; font-weight: bold\">0.82</span>\n",
       "</pre>\n"
      ],
      "text/plain": [
       "Tuning ended, thresh value: \u001b[1;36m0.8196150064468384\u001b[0m = \u001b[1;36m0.82\u001b[0m\n"
      ]
     },
     "metadata": {},
     "output_type": "display_data"
    }
   ],
   "source": [
    "from horchunk.splitters import SentenceSplitter \n",
    "\n",
    "splitter = SentenceSplitter(text=datasets['wikitexts'])\n",
    "splits = splitter()\n",
    "res = tuner(splits, depth=DEPTH)\n",
    "thresholds.append(res)"
   ]
  },
  {
   "cell_type": "markdown",
   "id": "cc108735-b958-4a4f-9118-8993853b0d50",
   "metadata": {},
   "source": [
    "**chatlogs**"
   ]
  },
  {
   "cell_type": "code",
   "execution_count": 6,
   "id": "49e2d85a-4660-43e1-bbbf-8d96f9b44ec3",
   "metadata": {
    "scrolled": true
   },
   "outputs": [
    {
     "name": "stderr",
     "output_type": "stream",
     "text": [
      "100%|████████████████████████████████████████████████████████████████████████████████████████████████████████████████████████████████| 257/257 [00:13<00:00, 18.87it/s]\n"
     ]
    },
    {
     "data": {
      "text/html": [
       "<pre style=\"white-space:pre;overflow-x:auto;line-height:normal;font-family:Menlo,'DejaVu Sans Mono',consolas,'Courier New',monospace\"><span style=\"color: #008080; text-decoration-color: #008080; font-weight: bold\">257</span> chunks formed\n",
       "</pre>\n"
      ],
      "text/plain": [
       "\u001b[1;36m257\u001b[0m chunks formed\n"
      ]
     },
     "metadata": {},
     "output_type": "display_data"
    },
    {
     "data": {
      "text/html": [
       "<pre style=\"white-space:pre;overflow-x:auto;line-height:normal;font-family:Menlo,'DejaVu Sans Mono',consolas,'Courier New',monospace\">Values range: <span style=\"font-weight: bold\">[</span><span style=\"color: #008080; text-decoration-color: #008080; font-weight: bold\">-0.026845984160900116</span> <span style=\"color: #808000; text-decoration-color: #808000\">...</span> <span style=\"color: #008080; text-decoration-color: #008080; font-weight: bold\">1.000000238418579</span><span style=\"font-weight: bold\">]</span>\n",
       "</pre>\n"
      ],
      "text/plain": [
       "Values range: \u001b[1m[\u001b[0m\u001b[1;36m-0.026845984160900116\u001b[0m \u001b[33m...\u001b[0m \u001b[1;36m1.000000238418579\u001b[0m\u001b[1m]\u001b[0m\n"
      ]
     },
     "metadata": {},
     "output_type": "display_data"
    },
    {
     "data": {
      "text/html": [
       "<pre style=\"white-space:pre;overflow-x:auto;line-height:normal;font-family:Menlo,'DejaVu Sans Mono',consolas,'Courier New',monospace\">Steps to tune: <span style=\"color: #008080; text-decoration-color: #008080; font-weight: bold\">8</span>\n",
       "</pre>\n"
      ],
      "text/plain": [
       "Steps to tune: \u001b[1;36m8\u001b[0m\n"
      ]
     },
     "metadata": {},
     "output_type": "display_data"
    },
    {
     "data": {
      "text/html": [
       "<pre style=\"white-space:pre;overflow-x:auto;line-height:normal;font-family:Menlo,'DejaVu Sans Mono',consolas,'Courier New',monospace\">--------------------------------\n",
       "</pre>\n"
      ],
      "text/plain": [
       "--------------------------------\n"
      ]
     },
     "metadata": {},
     "output_type": "display_data"
    },
    {
     "data": {
      "text/html": [
       "<pre style=\"white-space:pre;overflow-x:auto;line-height:normal;font-family:Menlo,'DejaVu Sans Mono',consolas,'Courier New',monospace\">dist: <span style=\"color: #008080; text-decoration-color: #008080; font-weight: bold\">0.7997819781303406</span>\n",
       "</pre>\n"
      ],
      "text/plain": [
       "dist: \u001b[1;36m0.7997819781303406\u001b[0m\n"
      ]
     },
     "metadata": {},
     "output_type": "display_data"
    },
    {
     "data": {
      "text/html": [
       "<pre style=\"white-space:pre;overflow-x:auto;line-height:normal;font-family:Menlo,'DejaVu Sans Mono',consolas,'Courier New',monospace\">chunk: <span style=\"color: #c0c0c0; text-decoration-color: #c0c0c0; background-color: #008000\">Moreover, the content shared on social media can sometimes lead to misunderstandings and conflicts in family</span>\n",
       "<span style=\"color: #c0c0c0; text-decoration-color: #c0c0c0; background-color: #008000\">relationships.</span><span style=\"color: #c0c0c0; text-decoration-color: #c0c0c0; background-color: #008080\">Parents may share pictures or posts related to their child without their consent, which can result in</span>\n",
       "<span style=\"color: #c0c0c0; text-decoration-color: #c0c0c0; background-color: #008080\">embarrassment or frustration. Similarly, siblings may share information about their siblings without their </span>\n",
       "<span style=\"color: #c0c0c0; text-decoration-color: #c0c0c0; background-color: #008080\">permission, which can strain relationships between siblings.</span>\n",
       "</pre>\n"
      ],
      "text/plain": [
       "chunk: \u001b[37;42mMoreover, the content shared on social media can sometimes lead to misunderstandings and conflicts in family\u001b[0m\n",
       "\u001b[37;42mrelationships.\u001b[0m\u001b[37;46mParents may share pictures or posts related to their child without their consent, which can result in\u001b[0m\n",
       "\u001b[37;46membarrassment or frustration. Similarly, siblings may share information about their siblings without their \u001b[0m\n",
       "\u001b[37;46mpermission, which can strain relationships between siblings.\u001b[0m\n"
      ]
     },
     "metadata": {},
     "output_type": "display_data"
    },
    {
     "name": "stdin",
     "output_type": "stream",
     "text": [
      "Type 'k' to raise thresh, or 'j' - to lower it, then press 'Enter':  j\n"
     ]
    },
    {
     "data": {
      "text/html": [
       "<pre style=\"white-space:pre;overflow-x:auto;line-height:normal;font-family:Menlo,'DejaVu Sans Mono',consolas,'Courier New',monospace\">dist: <span style=\"color: #008080; text-decoration-color: #008080; font-weight: bold\">0.6827027797698975</span>\n",
       "</pre>\n"
      ],
      "text/plain": [
       "dist: \u001b[1;36m0.6827027797698975\u001b[0m\n"
      ]
     },
     "metadata": {},
     "output_type": "display_data"
    },
    {
     "data": {
      "text/html": [
       "<pre style=\"white-space:pre;overflow-x:auto;line-height:normal;font-family:Menlo,'DejaVu Sans Mono',consolas,'Courier New',monospace\">chunk: <span style=\"color: #c0c0c0; text-decoration-color: #c0c0c0; background-color: #008000\">I wonder if it\\'s real or just a replica.</span><span style=\"color: #c0c0c0; text-decoration-color: #c0c0c0; background-color: #008080\">Either way, it\\'s bound to be a fascinating item to behold. And </span>\n",
       "<span style=\"color: #c0c0c0; text-decoration-color: #c0c0c0; background-color: #008080\">I\\'ll make sure to order that </span><span style=\"color: #c0c0c0; text-decoration-color: #c0c0c0; background-color: #008080\">\"Mermaid Tail\"</span><span style=\"color: #c0c0c0; text-decoration-color: #c0c0c0; background-color: #008080\"> cocktail while I\\'m there!</span><span style=\"color: #c0c0c0; text-decoration-color: #c0c0c0; background-color: #008080\">', '</span><span style=\"color: #c0c0c0; text-decoration-color: #c0c0c0; background-color: #008080\">role': </span><span style=\"color: #c0c0c0; text-decoration-color: #c0c0c0; background-color: #008080\">'user'</span><span style=\"color: #c0c0c0; text-decoration-color: #c0c0c0; background-color: #008080; font-weight: bold\">}</span><span style=\"color: #c0c0c0; text-decoration-color: #c0c0c0; background-color: #008080\">, </span><span style=\"color: #c0c0c0; text-decoration-color: #c0c0c0; background-color: #008080; font-weight: bold\">{</span><span style=\"color: #c0c0c0; text-decoration-color: #c0c0c0; background-color: #008080\">'content'</span><span style=\"color: #c0c0c0; text-decoration-color: #c0c0c0; background-color: #008080\">: 'Yes, the </span>\n",
       "<span style=\"color: #c0c0c0; text-decoration-color: #c0c0c0; background-color: #008080\">mermaid at the Viktor Wynd Museum of Curiosities is definitely one of its most famous exhibits.</span>\n",
       "</pre>\n"
      ],
      "text/plain": [
       "chunk: \u001b[37;42mI wonder if it\\'s real or just a replica.\u001b[0m\u001b[37;46mEither way, it\\'s bound to be a fascinating item to behold. And \u001b[0m\n",
       "\u001b[37;46mI\\'ll make sure to order that \u001b[0m\u001b[37;46m\"Mermaid Tail\"\u001b[0m\u001b[37;46m cocktail while I\\'m there!\u001b[0m\u001b[37;46m', '\u001b[0m\u001b[37;46mrole': \u001b[0m\u001b[37;46m'user'\u001b[0m\u001b[1;37;46m}\u001b[0m\u001b[37;46m, \u001b[0m\u001b[1;37;46m{\u001b[0m\u001b[37;46m'content'\u001b[0m\u001b[37;46m: 'Yes, the \u001b[0m\n",
       "\u001b[37;46mmermaid at the Viktor Wynd Museum of Curiosities is definitely one of its most famous exhibits.\u001b[0m\n"
      ]
     },
     "metadata": {},
     "output_type": "display_data"
    },
    {
     "name": "stdin",
     "output_type": "stream",
     "text": [
      "Type 'k' to raise thresh, or 'j' - to lower it, then press 'Enter':  j\n"
     ]
    },
    {
     "data": {
      "text/html": [
       "<pre style=\"white-space:pre;overflow-x:auto;line-height:normal;font-family:Menlo,'DejaVu Sans Mono',consolas,'Courier New',monospace\">dist: <span style=\"color: #008080; text-decoration-color: #008080; font-weight: bold\">0.5701929330825806</span>\n",
       "</pre>\n"
      ],
      "text/plain": [
       "dist: \u001b[1;36m0.5701929330825806\u001b[0m\n"
      ]
     },
     "metadata": {},
     "output_type": "display_data"
    },
    {
     "data": {
      "text/html": [
       "<pre style=\"white-space:pre;overflow-x:auto;line-height:normal;font-family:Menlo,'DejaVu Sans Mono',consolas,'Courier New',monospace\">chunk: <span style=\"color: #c0c0c0; text-decoration-color: #c0c0c0; background-color: #008000\">And don\\'t forget to try that </span><span style=\"color: #c0c0c0; text-decoration-color: #c0c0c0; background-color: #008000\">\"Mermaid Tail\"</span><span style=\"color: #c0c0c0; text-decoration-color: #c0c0c0; background-color: #008000\"> cocktail - it\\'s the perfect accompaniment to the museum\\'s </span>\n",
       "<span style=\"color: #c0c0c0; text-decoration-color: #c0c0c0; background-color: #008000\">quirky vibe!</span><span style=\"color: #c0c0c0; text-decoration-color: #c0c0c0; background-color: #008000\">', '</span><span style=\"color: #c0c0c0; text-decoration-color: #c0c0c0; background-color: #008000\">role': </span><span style=\"color: #c0c0c0; text-decoration-color: #c0c0c0; background-color: #008000\">'assistant'</span><span style=\"color: #c0c0c0; text-decoration-color: #c0c0c0; background-color: #008000; font-weight: bold\">}]</span><span style=\"color: #c0c0c0; text-decoration-color: #c0c0c0; background-color: #008080; font-weight: bold\">[{</span><span style=\"color: #c0c0c0; text-decoration-color: #c0c0c0; background-color: #008080\">'content'</span><span style=\"color: #c0c0c0; text-decoration-color: #c0c0c0; background-color: #008080\">: \"Write a comprehensive blog post of at least </span><span style=\"color: #c0c0c0; text-decoration-color: #c0c0c0; background-color: #008080; font-weight: bold\">1000</span><span style=\"color: #c0c0c0; text-decoration-color: #c0c0c0; background-color: #008080\"> words about the </span>\n",
       "<span style=\"color: #c0c0c0; text-decoration-color: #c0c0c0; background-color: #008080\">top </span><span style=\"color: #c0c0c0; text-decoration-color: #c0c0c0; background-color: #008080; font-weight: bold\">10</span><span style=\"color: #c0c0c0; text-decoration-color: #c0c0c0; background-color: #008080\"> most eco-friendly cities in the world and their renewable energy initiatives. Use a formal and informative </span>\n",
       "<span style=\"color: #c0c0c0; text-decoration-color: #c0c0c0; background-color: #008080\">tone, and include statistics, case studies, and expert opinions to support your claims.</span>\n",
       "</pre>\n"
      ],
      "text/plain": [
       "chunk: \u001b[37;42mAnd don\\'t forget to try that \u001b[0m\u001b[37;42m\"Mermaid Tail\"\u001b[0m\u001b[37;42m cocktail - it\\'s the perfect accompaniment to the museum\\'s \u001b[0m\n",
       "\u001b[37;42mquirky vibe!\u001b[0m\u001b[37;42m', '\u001b[0m\u001b[37;42mrole': \u001b[0m\u001b[37;42m'assistant'\u001b[0m\u001b[1;37;42m}\u001b[0m\u001b[1;37;42m]\u001b[0m\u001b[1;37;46m[\u001b[0m\u001b[1;37;46m{\u001b[0m\u001b[37;46m'content'\u001b[0m\u001b[37;46m: \"Write a comprehensive blog post of at least \u001b[0m\u001b[1;37;46m1000\u001b[0m\u001b[37;46m words about the \u001b[0m\n",
       "\u001b[37;46mtop \u001b[0m\u001b[1;37;46m10\u001b[0m\u001b[37;46m most eco-friendly cities in the world and their renewable energy initiatives. Use a formal and informative \u001b[0m\n",
       "\u001b[37;46mtone, and include statistics, case studies, and expert opinions to support your claims.\u001b[0m\n"
      ]
     },
     "metadata": {},
     "output_type": "display_data"
    },
    {
     "name": "stdin",
     "output_type": "stream",
     "text": [
      "Type 'k' to raise thresh, or 'j' - to lower it, then press 'Enter':  k\n"
     ]
    },
    {
     "data": {
      "text/html": [
       "<pre style=\"white-space:pre;overflow-x:auto;line-height:normal;font-family:Menlo,'DejaVu Sans Mono',consolas,'Courier New',monospace\">dist: <span style=\"color: #008080; text-decoration-color: #008080; font-weight: bold\">0.6472351551055908</span>\n",
       "</pre>\n"
      ],
      "text/plain": [
       "dist: \u001b[1;36m0.6472351551055908\u001b[0m\n"
      ]
     },
     "metadata": {},
     "output_type": "display_data"
    },
    {
     "data": {
      "text/html": [
       "<pre style=\"white-space:pre;overflow-x:auto;line-height:normal;font-family:Menlo,'DejaVu Sans Mono',consolas,'Courier New',monospace\">chunk: <span style=\"color: #c0c0c0; text-decoration-color: #c0c0c0; background-color: #008000\">Click on Customize theme for the section-based theme you are using.\\n3.</span><span style=\"color: #c0c0c0; text-decoration-color: #c0c0c0; background-color: #008080\">Navigate to the Collection pages or </span>\n",
       "<span style=\"color: #c0c0c0; text-decoration-color: #c0c0c0; background-color: #008080\">Featured Collections section where you want to enable the secondary image hover feature.\\n4. With the section open,</span>\n",
       "<span style=\"color: #c0c0c0; text-decoration-color: #c0c0c0; background-color: #008080\">click on the section's setting </span><span style=\"color: #c0c0c0; text-decoration-color: #c0c0c0; background-color: #008080; font-weight: bold\">(</span><span style=\"color: #c0c0c0; text-decoration-color: #c0c0c0; background-color: #008080\">gear</span><span style=\"color: #c0c0c0; text-decoration-color: #c0c0c0; background-color: #008080; font-weight: bold\">)</span><span style=\"color: #c0c0c0; text-decoration-color: #c0c0c0; background-color: #008080\"> icon in the top-left corner.\\n5.</span>\n",
       "</pre>\n"
      ],
      "text/plain": [
       "chunk: \u001b[37;42mClick on Customize theme for the section-based theme you are using.\\n3.\u001b[0m\u001b[37;46mNavigate to the Collection pages or \u001b[0m\n",
       "\u001b[37;46mFeatured Collections section where you want to enable the secondary image hover feature.\\n4. With the section open,\u001b[0m\n",
       "\u001b[37;46mclick on the section's setting \u001b[0m\u001b[1;37;46m(\u001b[0m\u001b[37;46mgear\u001b[0m\u001b[1;37;46m)\u001b[0m\u001b[37;46m icon in the top-left corner.\\n5.\u001b[0m\n"
      ]
     },
     "metadata": {},
     "output_type": "display_data"
    },
    {
     "name": "stdin",
     "output_type": "stream",
     "text": [
      "Type 'k' to raise thresh, or 'j' - to lower it, then press 'Enter':  j\n"
     ]
    },
    {
     "data": {
      "text/html": [
       "<pre style=\"white-space:pre;overflow-x:auto;line-height:normal;font-family:Menlo,'DejaVu Sans Mono',consolas,'Courier New',monospace\">dist: <span style=\"color: #008080; text-decoration-color: #008080; font-weight: bold\">0.6342487335205078</span>\n",
       "</pre>\n"
      ],
      "text/plain": [
       "dist: \u001b[1;36m0.6342487335205078\u001b[0m\n"
      ]
     },
     "metadata": {},
     "output_type": "display_data"
    },
    {
     "data": {
      "text/html": [
       "<pre style=\"white-space:pre;overflow-x:auto;line-height:normal;font-family:Menlo,'DejaVu Sans Mono',consolas,'Courier New',monospace\">chunk: <span style=\"color: #c0c0c0; text-decoration-color: #c0c0c0; background-color: #008000\">Use a formal and informative tone, and include statistics, case studies, and expert opinions to support your</span>\n",
       "<span style=\"color: #c0c0c0; text-decoration-color: #c0c0c0; background-color: #008000\">claims.</span><span style=\"color: #c0c0c0; text-decoration-color: #c0c0c0; background-color: #008080\">Make sure to cover various aspects of sustainability, such as public transportation, waste management, green</span>\n",
       "<span style=\"color: #c0c0c0; text-decoration-color: #c0c0c0; background-color: #008080\">buildings, and carbon emissions reduction. Additionally, provide specific examples of innovative renewable energy </span>\n",
       "<span style=\"color: #c0c0c0; text-decoration-color: #c0c0c0; background-color: #008080\">projects implemented in each city and assess their impact on the environment and the local community.</span>\n",
       "</pre>\n"
      ],
      "text/plain": [
       "chunk: \u001b[37;42mUse a formal and informative tone, and include statistics, case studies, and expert opinions to support your\u001b[0m\n",
       "\u001b[37;42mclaims.\u001b[0m\u001b[37;46mMake sure to cover various aspects of sustainability, such as public transportation, waste management, green\u001b[0m\n",
       "\u001b[37;46mbuildings, and carbon emissions reduction. Additionally, provide specific examples of innovative renewable energy \u001b[0m\n",
       "\u001b[37;46mprojects implemented in each city and assess their impact on the environment and the local community.\u001b[0m\n"
      ]
     },
     "metadata": {},
     "output_type": "display_data"
    },
    {
     "name": "stdin",
     "output_type": "stream",
     "text": [
      "Type 'k' to raise thresh, or 'j' - to lower it, then press 'Enter':  j\n"
     ]
    },
    {
     "data": {
      "text/html": [
       "<pre style=\"white-space:pre;overflow-x:auto;line-height:normal;font-family:Menlo,'DejaVu Sans Mono',consolas,'Courier New',monospace\">dist: <span style=\"color: #008080; text-decoration-color: #008080; font-weight: bold\">0.6171621680259705</span>\n",
       "</pre>\n"
      ],
      "text/plain": [
       "dist: \u001b[1;36m0.6171621680259705\u001b[0m\n"
      ]
     },
     "metadata": {},
     "output_type": "display_data"
    },
    {
     "data": {
      "text/html": [
       "<pre style=\"white-space:pre;overflow-x:auto;line-height:normal;font-family:Menlo,'DejaVu Sans Mono',consolas,'Courier New',monospace\">chunk: <span style=\"color: #c0c0c0; text-decoration-color: #c0c0c0; background-color: #008000\">By directing funds towards these communities, the bill aims to create more equitable and sustainable </span>\n",
       "<span style=\"color: #c0c0c0; text-decoration-color: #c0c0c0; background-color: #008000\">outcomes for all Californians.\", </span><span style=\"color: #c0c0c0; text-decoration-color: #c0c0c0; background-color: #008000\">'role'</span><span style=\"color: #c0c0c0; text-decoration-color: #c0c0c0; background-color: #008000\">: </span><span style=\"color: #c0c0c0; text-decoration-color: #c0c0c0; background-color: #008000\">'assistant'</span><span style=\"color: #c0c0c0; text-decoration-color: #c0c0c0; background-color: #008000; font-weight: bold\">}]</span><span style=\"color: #c0c0c0; text-decoration-color: #c0c0c0; background-color: #008080; font-weight: bold\">[{</span><span style=\"color: #c0c0c0; text-decoration-color: #c0c0c0; background-color: #008080\">'content'</span><span style=\"color: #c0c0c0; text-decoration-color: #c0c0c0; background-color: #008080\">: 'Write an essay that evaluates the positive and </span>\n",
       "<span style=\"color: #c0c0c0; text-decoration-color: #c0c0c0; background-color: #008080\">negative influence of social media on personal relationships, citing specific examples and research to support your</span>\n",
       "<span style=\"color: #c0c0c0; text-decoration-color: #c0c0c0; background-color: #008080\">claims. Analyze the ways in which social media usage affects communication patterns, trust levels, and emotional </span>\n",
       "<span style=\"color: #c0c0c0; text-decoration-color: #c0c0c0; background-color: #008080\">connections in romantic partnerships, friendships, and family relationships.</span>\n",
       "</pre>\n"
      ],
      "text/plain": [
       "chunk: \u001b[37;42mBy directing funds towards these communities, the bill aims to create more equitable and sustainable \u001b[0m\n",
       "\u001b[37;42moutcomes for all Californians.\", \u001b[0m\u001b[37;42m'role'\u001b[0m\u001b[37;42m: \u001b[0m\u001b[37;42m'assistant'\u001b[0m\u001b[1;37;42m}\u001b[0m\u001b[1;37;42m]\u001b[0m\u001b[1;37;46m[\u001b[0m\u001b[1;37;46m{\u001b[0m\u001b[37;46m'content'\u001b[0m\u001b[37;46m: 'Write an essay that evaluates the positive and \u001b[0m\n",
       "\u001b[37;46mnegative influence of social media on personal relationships, citing specific examples and research to support your\u001b[0m\n",
       "\u001b[37;46mclaims. Analyze the ways in which social media usage affects communication patterns, trust levels, and emotional \u001b[0m\n",
       "\u001b[37;46mconnections in romantic partnerships, friendships, and family relationships.\u001b[0m\n"
      ]
     },
     "metadata": {},
     "output_type": "display_data"
    },
    {
     "name": "stdin",
     "output_type": "stream",
     "text": [
      "Type 'k' to raise thresh, or 'j' - to lower it, then press 'Enter':  k\n"
     ]
    },
    {
     "data": {
      "text/html": [
       "<pre style=\"white-space:pre;overflow-x:auto;line-height:normal;font-family:Menlo,'DejaVu Sans Mono',consolas,'Courier New',monospace\">dist: <span style=\"color: #008080; text-decoration-color: #008080; font-weight: bold\">0.6246968507766724</span>\n",
       "</pre>\n"
      ],
      "text/plain": [
       "dist: \u001b[1;36m0.6246968507766724\u001b[0m\n"
      ]
     },
     "metadata": {},
     "output_type": "display_data"
    },
    {
     "data": {
      "text/html": [
       "<pre style=\"white-space:pre;overflow-x:auto;line-height:normal;font-family:Menlo,'DejaVu Sans Mono',consolas,'Courier New',monospace\">chunk: <span style=\"color: #c0c0c0; text-decoration-color: #c0c0c0; background-color: #008000\">The city has a Zero Waste Strategy, which aims to have no waste sent to landfills by </span><span style=\"color: #c0c0c0; text-decoration-color: #c0c0c0; background-color: #008000; font-weight: bold\">2025.</span><span style=\"color: #c0c0c0; text-decoration-color: #c0c0c0; background-color: #008080\">Zurich has an </span>\n",
       "<span style=\"color: #c0c0c0; text-decoration-color: #c0c0c0; background-color: #008080\">extensive recycling program, and residents are encouraged to separate their waste into different categories, </span>\n",
       "<span style=\"color: #c0c0c0; text-decoration-color: #c0c0c0; background-color: #008080\">including paper, glass, metal, and plastic. Organic waste is also collected separately and composted, which is then</span>\n",
       "<span style=\"color: #c0c0c0; text-decoration-color: #c0c0c0; background-color: #008080\">used to fertilize public parks and gardens.\\n\\n9.</span>\n",
       "</pre>\n"
      ],
      "text/plain": [
       "chunk: \u001b[37;42mThe city has a Zero Waste Strategy, which aims to have no waste sent to landfills by \u001b[0m\u001b[1;37;42m2025.\u001b[0m\u001b[37;46mZurich has an \u001b[0m\n",
       "\u001b[37;46mextensive recycling program, and residents are encouraged to separate their waste into different categories, \u001b[0m\n",
       "\u001b[37;46mincluding paper, glass, metal, and plastic. Organic waste is also collected separately and composted, which is then\u001b[0m\n",
       "\u001b[37;46mused to fertilize public parks and gardens.\\n\\n9.\u001b[0m\n"
      ]
     },
     "metadata": {},
     "output_type": "display_data"
    },
    {
     "name": "stdin",
     "output_type": "stream",
     "text": [
      "Type 'k' to raise thresh, or 'j' - to lower it, then press 'Enter':  k\n"
     ]
    },
    {
     "data": {
      "text/html": [
       "<pre style=\"white-space:pre;overflow-x:auto;line-height:normal;font-family:Menlo,'DejaVu Sans Mono',consolas,'Courier New',monospace\">dist: <span style=\"color: #008080; text-decoration-color: #008080; font-weight: bold\">0.6262622475624084</span>\n",
       "</pre>\n"
      ],
      "text/plain": [
       "dist: \u001b[1;36m0.6262622475624084\u001b[0m\n"
      ]
     },
     "metadata": {},
     "output_type": "display_data"
    },
    {
     "data": {
      "text/html": [
       "<pre style=\"white-space:pre;overflow-x:auto;line-height:normal;font-family:Menlo,'DejaVu Sans Mono',consolas,'Courier New',monospace\">chunk: <span style=\"color: #c0c0c0; text-decoration-color: #c0c0c0; background-color: #008000\">Do you think they have anything with a shrunken head as a garnish?</span><span style=\"color: #c0c0c0; text-decoration-color: #c0c0c0; background-color: #008080\">That would be a trip.</span><span style=\"color: #c0c0c0; text-decoration-color: #c0c0c0; background-color: #008080\">\", 'role': 'user'}, </span>\n",
       "<span style=\"color: #c0c0c0; text-decoration-color: #c0c0c0; background-color: #008080\">{'content': \"</span><span style=\"color: #c0c0c0; text-decoration-color: #c0c0c0; background-color: #008080\">I am not sure if the Viktor Wynd Museum of Curiosities serves cocktails with an actual shrunken head </span>\n",
       "<span style=\"color: #c0c0c0; text-decoration-color: #c0c0c0; background-color: #008080\">as a garnish. However, they might have some creative cocktails that incorporate a shrunken head replica or </span>\n",
       "<span style=\"color: #c0c0c0; text-decoration-color: #c0c0c0; background-color: #008080\">something similar as an element in the drink.</span>\n",
       "</pre>\n"
      ],
      "text/plain": [
       "chunk: \u001b[37;42mDo you think they have anything with a shrunken head as a garnish?\u001b[0m\u001b[37;46mThat would be a trip.\u001b[0m\u001b[37;46m\", 'role': 'user'\u001b[0m\u001b[37;46m}\u001b[0m\u001b[37;46m, \u001b[0m\n",
       "\u001b[37;46m{\u001b[0m\u001b[37;46m'content': \"\u001b[0m\u001b[37;46mI am not sure if the Viktor Wynd Museum of Curiosities serves cocktails with an actual shrunken head \u001b[0m\n",
       "\u001b[37;46mas a garnish. However, they might have some creative cocktails that incorporate a shrunken head replica or \u001b[0m\n",
       "\u001b[37;46msomething similar as an element in the drink.\u001b[0m\n"
      ]
     },
     "metadata": {},
     "output_type": "display_data"
    },
    {
     "data": {
      "text/html": [
       "<pre style=\"white-space:pre;overflow-x:auto;line-height:normal;font-family:Menlo,'DejaVu Sans Mono',consolas,'Courier New',monospace\">Tuning ended, thresh value: <span style=\"color: #008080; text-decoration-color: #008080; font-weight: bold\">0.6262622475624084</span> = <span style=\"color: #008080; text-decoration-color: #008080; font-weight: bold\">0.62</span>\n",
       "</pre>\n"
      ],
      "text/plain": [
       "Tuning ended, thresh value: \u001b[1;36m0.6262622475624084\u001b[0m = \u001b[1;36m0.62\u001b[0m\n"
      ]
     },
     "metadata": {},
     "output_type": "display_data"
    }
   ],
   "source": [
    "splitter = SentenceSplitter(text=datasets['chatlogs'])\n",
    "splits = splitter()\n",
    "res = tuner(splits, depth=DEPTH)\n",
    "thresholds.append(res)"
   ]
  },
  {
   "cell_type": "markdown",
   "id": "8038acbc-b4dc-463b-949e-5a61c6753156",
   "metadata": {},
   "source": [
    "**finance**"
   ]
  },
  {
   "cell_type": "code",
   "execution_count": 7,
   "id": "7d7d788d-ae2c-4a33-b3b6-3213f40226f6",
   "metadata": {
    "scrolled": true
   },
   "outputs": [
    {
     "name": "stderr",
     "output_type": "stream",
     "text": [
      "100%|██████████████████████████████████████████████████████████████████████████████████████████████████████████████████████████████| 6320/6320 [06:03<00:00, 17.40it/s]\n"
     ]
    },
    {
     "data": {
      "text/html": [
       "<pre style=\"white-space:pre;overflow-x:auto;line-height:normal;font-family:Menlo,'DejaVu Sans Mono',consolas,'Courier New',monospace\"><span style=\"color: #008080; text-decoration-color: #008080; font-weight: bold\">3716</span> chunks formed\n",
       "</pre>\n"
      ],
      "text/plain": [
       "\u001b[1;36m3716\u001b[0m chunks formed\n"
      ]
     },
     "metadata": {},
     "output_type": "display_data"
    },
    {
     "data": {
      "text/html": [
       "<pre style=\"white-space:pre;overflow-x:auto;line-height:normal;font-family:Menlo,'DejaVu Sans Mono',consolas,'Courier New',monospace\">Values range: <span style=\"font-weight: bold\">[</span><span style=\"color: #008080; text-decoration-color: #008080; font-weight: bold\">-0.044754236936569214</span> <span style=\"color: #808000; text-decoration-color: #808000\">...</span> <span style=\"color: #008080; text-decoration-color: #008080; font-weight: bold\">1.0</span><span style=\"font-weight: bold\">]</span>\n",
       "</pre>\n"
      ],
      "text/plain": [
       "Values range: \u001b[1m[\u001b[0m\u001b[1;36m-0.044754236936569214\u001b[0m \u001b[33m...\u001b[0m \u001b[1;36m1.0\u001b[0m\u001b[1m]\u001b[0m\n"
      ]
     },
     "metadata": {},
     "output_type": "display_data"
    },
    {
     "data": {
      "text/html": [
       "<pre style=\"white-space:pre;overflow-x:auto;line-height:normal;font-family:Menlo,'DejaVu Sans Mono',consolas,'Courier New',monospace\">Steps to tune: <span style=\"color: #008080; text-decoration-color: #008080; font-weight: bold\">11</span>\n",
       "</pre>\n"
      ],
      "text/plain": [
       "Steps to tune: \u001b[1;36m11\u001b[0m\n"
      ]
     },
     "metadata": {},
     "output_type": "display_data"
    },
    {
     "data": {
      "text/html": [
       "<pre style=\"white-space:pre;overflow-x:auto;line-height:normal;font-family:Menlo,'DejaVu Sans Mono',consolas,'Courier New',monospace\">--------------------------------\n",
       "</pre>\n"
      ],
      "text/plain": [
       "--------------------------------\n"
      ]
     },
     "metadata": {},
     "output_type": "display_data"
    },
    {
     "data": {
      "text/html": [
       "<pre style=\"white-space:pre;overflow-x:auto;line-height:normal;font-family:Menlo,'DejaVu Sans Mono',consolas,'Courier New',monospace\">dist: <span style=\"color: #008080; text-decoration-color: #008080; font-weight: bold\">0.7650039196014404</span>\n",
       "</pre>\n"
      ],
      "text/plain": [
       "dist: \u001b[1;36m0.7650039196014404\u001b[0m\n"
      ]
     },
     "metadata": {},
     "output_type": "display_data"
    },
    {
     "data": {
      "text/html": [
       "<pre style=\"white-space:pre;overflow-x:auto;line-height:normal;font-family:Menlo,'DejaVu Sans Mono',consolas,'Courier New',monospace\">chunk: <span style=\"color: #c0c0c0; text-decoration-color: #c0c0c0; background-color: #008000\">all other leased facilities with space of less than </span><span style=\"color: #c0c0c0; text-decoration-color: #c0c0c0; background-color: #008000; font-weight: bold\">25000</span><span style=\"color: #c0c0c0; text-decoration-color: #c0c0c0; background-color: #008000\"> square feet are not listed by location.</span><span style=\"color: #c0c0c0; text-decoration-color: #c0c0c0; background-color: #008080\">in addition</span>\n",
       "<span style=\"color: #c0c0c0; text-decoration-color: #c0c0c0; background-color: #008080\">to the significant facilities above, we also lease all </span><span style=\"color: #c0c0c0; text-decoration-color: #c0c0c0; background-color: #008080; font-weight: bold\">30</span><span style=\"color: #c0c0c0; text-decoration-color: #c0c0c0; background-color: #008080\"> e*trade branches, ranging in space from approximately </span>\n",
       "<span style=\"color: #c0c0c0; text-decoration-color: #c0c0c0; background-color: #008080; font-weight: bold\">2500</span><span style=\"color: #c0c0c0; text-decoration-color: #c0c0c0; background-color: #008080\"> to </span><span style=\"color: #c0c0c0; text-decoration-color: #c0c0c0; background-color: #008080; font-weight: bold\">8000</span><span style=\"color: #c0c0c0; text-decoration-color: #c0c0c0; background-color: #008080\"> square feet. we believe our facilities space is adequate to meet our needs in </span><span style=\"color: #c0c0c0; text-decoration-color: #c0c0c0; background-color: #008080; font-weight: bold\">2014</span><span style=\"color: #c0c0c0; text-decoration-color: #c0c0c0; background-color: #008080\">.</span>\n",
       "</pre>\n"
      ],
      "text/plain": [
       "chunk: \u001b[37;42mall other leased facilities with space of less than \u001b[0m\u001b[1;37;42m25000\u001b[0m\u001b[37;42m square feet are not listed by location.\u001b[0m\u001b[37;46min addition\u001b[0m\n",
       "\u001b[37;46mto the significant facilities above, we also lease all \u001b[0m\u001b[1;37;46m30\u001b[0m\u001b[37;46m e*trade branches, ranging in space from approximately \u001b[0m\n",
       "\u001b[1;37;46m2500\u001b[0m\u001b[37;46m to \u001b[0m\u001b[1;37;46m8000\u001b[0m\u001b[37;46m square feet. we believe our facilities space is adequate to meet our needs in \u001b[0m\u001b[1;37;46m2014\u001b[0m\u001b[37;46m.\u001b[0m\n"
      ]
     },
     "metadata": {},
     "output_type": "display_data"
    },
    {
     "name": "stdin",
     "output_type": "stream",
     "text": [
      "Type 'k' to raise thresh, or 'j' - to lower it, then press 'Enter':  j\n"
     ]
    },
    {
     "data": {
      "text/html": [
       "<pre style=\"white-space:pre;overflow-x:auto;line-height:normal;font-family:Menlo,'DejaVu Sans Mono',consolas,'Courier New',monospace\">dist: <span style=\"color: #008080; text-decoration-color: #008080; font-weight: bold\">0.6152104139328003</span>\n",
       "</pre>\n"
      ],
      "text/plain": [
       "dist: \u001b[1;36m0.6152104139328003\u001b[0m\n"
      ]
     },
     "metadata": {},
     "output_type": "display_data"
    },
    {
     "data": {
      "text/html": [
       "<pre style=\"white-space:pre;overflow-x:auto;line-height:normal;font-family:Menlo,'DejaVu Sans Mono',consolas,'Courier New',monospace\">chunk: <span style=\"color: #c0c0c0; text-decoration-color: #c0c0c0; background-color: #008000\">as a result, the company deferred a substantial portion of its </span><span style=\"color: #c0c0c0; text-decoration-color: #c0c0c0; background-color: #008000; font-weight: bold\">2011</span><span style=\"color: #c0c0c0; text-decoration-color: #c0c0c0; background-color: #008000\">-</span><span style=\"color: #c0c0c0; text-decoration-color: #c0c0c0; background-color: #008000; font-weight: bold\">2013</span><span style=\"color: #c0c0c0; text-decoration-color: #c0c0c0; background-color: #008000\"> income tax expense, contributing to</span>\n",
       "<span style=\"color: #c0c0c0; text-decoration-color: #c0c0c0; background-color: #008000\">the positive operating cash flow in those years.</span><span style=\"color: #c0c0c0; text-decoration-color: #c0c0c0; background-color: #008080\">congress extended </span><span style=\"color: #c0c0c0; text-decoration-color: #c0c0c0; background-color: #008080; font-weight: bold\">50</span><span style=\"color: #c0c0c0; text-decoration-color: #c0c0c0; background-color: #008080\">% </span><span style=\"color: #c0c0c0; text-decoration-color: #c0c0c0; background-color: #008080; font-weight: bold\">(</span><span style=\"color: #c0c0c0; text-decoration-color: #c0c0c0; background-color: #008080; font-weight: bold\">50</span><span style=\"color: #c0c0c0; text-decoration-color: #c0c0c0; background-color: #008080\">%</span><span style=\"color: #c0c0c0; text-decoration-color: #c0c0c0; background-color: #008080; font-weight: bold\">)</span><span style=\"color: #c0c0c0; text-decoration-color: #c0c0c0; background-color: #008080\"> bonus depreciation for </span><span style=\"color: #c0c0c0; text-decoration-color: #c0c0c0; background-color: #008080; font-weight: bold\">2014</span><span style=\"color: #c0c0c0; text-decoration-color: #c0c0c0; background-color: #008080\">, but this </span>\n",
       "<span style=\"color: #c0c0c0; text-decoration-color: #c0c0c0; background-color: #008080\">extension occurred in december, and the related benefit was realized in </span><span style=\"color: #c0c0c0; text-decoration-color: #c0c0c0; background-color: #008080; font-weight: bold\">2015</span><span style=\"color: #c0c0c0; text-decoration-color: #c0c0c0; background-color: #008080\">, rather than </span><span style=\"color: #c0c0c0; text-decoration-color: #c0c0c0; background-color: #008080; font-weight: bold\">2014</span><span style=\"color: #c0c0c0; text-decoration-color: #c0c0c0; background-color: #008080\">. similarly, in </span>\n",
       "<span style=\"color: #c0c0c0; text-decoration-color: #c0c0c0; background-color: #008080\">december of </span><span style=\"color: #c0c0c0; text-decoration-color: #c0c0c0; background-color: #008080; font-weight: bold\">2015</span><span style=\"color: #c0c0c0; text-decoration-color: #c0c0c0; background-color: #008080\">, congress extended bonus depreciation through </span><span style=\"color: #c0c0c0; text-decoration-color: #c0c0c0; background-color: #008080; font-weight: bold\">2019</span><span style=\"color: #c0c0c0; text-decoration-color: #c0c0c0; background-color: #008080\">, which delayed the benefit of </span><span style=\"color: #c0c0c0; text-decoration-color: #c0c0c0; background-color: #008080; font-weight: bold\">2015</span><span style=\"color: #c0c0c0; text-decoration-color: #c0c0c0; background-color: #008080\"> bonus </span>\n",
       "<span style=\"color: #c0c0c0; text-decoration-color: #c0c0c0; background-color: #008080\">depreciation into </span><span style=\"color: #c0c0c0; text-decoration-color: #c0c0c0; background-color: #008080; font-weight: bold\">2016</span><span style=\"color: #c0c0c0; text-decoration-color: #c0c0c0; background-color: #008080\">.</span>\n",
       "</pre>\n"
      ],
      "text/plain": [
       "chunk: \u001b[37;42mas a result, the company deferred a substantial portion of its \u001b[0m\u001b[1;37;42m2011\u001b[0m\u001b[37;42m-\u001b[0m\u001b[1;37;42m2013\u001b[0m\u001b[37;42m income tax expense, contributing to\u001b[0m\n",
       "\u001b[37;42mthe positive operating cash flow in those years.\u001b[0m\u001b[37;46mcongress extended \u001b[0m\u001b[1;37;46m50\u001b[0m\u001b[37;46m% \u001b[0m\u001b[1;37;46m(\u001b[0m\u001b[1;37;46m50\u001b[0m\u001b[37;46m%\u001b[0m\u001b[1;37;46m)\u001b[0m\u001b[37;46m bonus depreciation for \u001b[0m\u001b[1;37;46m2014\u001b[0m\u001b[37;46m, but this \u001b[0m\n",
       "\u001b[37;46mextension occurred in december, and the related benefit was realized in \u001b[0m\u001b[1;37;46m2015\u001b[0m\u001b[37;46m, rather than \u001b[0m\u001b[1;37;46m2014\u001b[0m\u001b[37;46m. similarly, in \u001b[0m\n",
       "\u001b[37;46mdecember of \u001b[0m\u001b[1;37;46m2015\u001b[0m\u001b[37;46m, congress extended bonus depreciation through \u001b[0m\u001b[1;37;46m2019\u001b[0m\u001b[37;46m, which delayed the benefit of \u001b[0m\u001b[1;37;46m2015\u001b[0m\u001b[37;46m bonus \u001b[0m\n",
       "\u001b[37;46mdepreciation into \u001b[0m\u001b[1;37;46m2016\u001b[0m\u001b[37;46m.\u001b[0m\n"
      ]
     },
     "metadata": {},
     "output_type": "display_data"
    },
    {
     "name": "stdin",
     "output_type": "stream",
     "text": [
      "Type 'k' to raise thresh, or 'j' - to lower it, then press 'Enter':  k\n"
     ]
    },
    {
     "data": {
      "text/html": [
       "<pre style=\"white-space:pre;overflow-x:auto;line-height:normal;font-family:Menlo,'DejaVu Sans Mono',consolas,'Courier New',monospace\">dist: <span style=\"color: #008080; text-decoration-color: #008080; font-weight: bold\">0.7028473019599915</span>\n",
       "</pre>\n"
      ],
      "text/plain": [
       "dist: \u001b[1;36m0.7028473019599915\u001b[0m\n"
      ]
     },
     "metadata": {},
     "output_type": "display_data"
    },
    {
     "data": {
      "text/html": [
       "<pre style=\"white-space:pre;overflow-x:auto;line-height:normal;font-family:Menlo,'DejaVu Sans Mono',consolas,'Courier New',monospace\">chunk: <span style=\"color: #c0c0c0; text-decoration-color: #c0c0c0; background-color: #008000\">these investments, along with the life insurance policies, are held in a separate revocable trust for the </span>\n",
       "<span style=\"color: #c0c0c0; text-decoration-color: #c0c0c0; background-color: #008000\">purpose of paying the deferred compensation and the deferred benefit.</span><span style=\"color: #c0c0c0; text-decoration-color: #c0c0c0; background-color: #008080\">what is the ratio of discretionary company </span>\n",
       "<span style=\"color: #c0c0c0; text-decoration-color: #c0c0c0; background-color: #008080\">contributions to total expensed amounts for savings plans in </span><span style=\"color: #c0c0c0; text-decoration-color: #c0c0c0; background-color: #008080; font-weight: bold\">2009</span><span style=\"color: #c0c0c0; text-decoration-color: #c0c0c0; background-color: #008080\">? we have adequate access to capital markets to </span>\n",
       "<span style=\"color: #c0c0c0; text-decoration-color: #c0c0c0; background-color: #008080\">meet any foreseeable cash requirements, and we have sufficient financial capacity to satisfy our current </span>\n",
       "<span style=\"color: #c0c0c0; text-decoration-color: #c0c0c0; background-color: #008080\">liabilities.</span>\n",
       "</pre>\n"
      ],
      "text/plain": [
       "chunk: \u001b[37;42mthese investments, along with the life insurance policies, are held in a separate revocable trust for the \u001b[0m\n",
       "\u001b[37;42mpurpose of paying the deferred compensation and the deferred benefit.\u001b[0m\u001b[37;46mwhat is the ratio of discretionary company \u001b[0m\n",
       "\u001b[37;46mcontributions to total expensed amounts for savings plans in \u001b[0m\u001b[1;37;46m2009\u001b[0m\u001b[37;46m? we have adequate access to capital markets to \u001b[0m\n",
       "\u001b[37;46mmeet any foreseeable cash requirements, and we have sufficient financial capacity to satisfy our current \u001b[0m\n",
       "\u001b[37;46mliabilities.\u001b[0m\n"
      ]
     },
     "metadata": {},
     "output_type": "display_data"
    },
    {
     "name": "stdin",
     "output_type": "stream",
     "text": [
      "Type 'k' to raise thresh, or 'j' - to lower it, then press 'Enter':  k\n"
     ]
    },
    {
     "data": {
      "text/html": [
       "<pre style=\"white-space:pre;overflow-x:auto;line-height:normal;font-family:Menlo,'DejaVu Sans Mono',consolas,'Courier New',monospace\">dist: <span style=\"color: #008080; text-decoration-color: #008080; font-weight: bold\">0.7354694604873657</span>\n",
       "</pre>\n"
      ],
      "text/plain": [
       "dist: \u001b[1;36m0.7354694604873657\u001b[0m\n"
      ]
     },
     "metadata": {},
     "output_type": "display_data"
    },
    {
     "data": {
      "text/html": [
       "<pre style=\"white-space:pre;overflow-x:auto;line-height:normal;font-family:Menlo,'DejaVu Sans Mono',consolas,'Courier New',monospace\">chunk: <span style=\"color: #c0c0c0; text-decoration-color: #c0c0c0; background-color: #008000\">we believe our facilities space is adequate to meet our needs in </span><span style=\"color: #c0c0c0; text-decoration-color: #c0c0c0; background-color: #008000; font-weight: bold\">2014.</span><span style=\"color: #c0c0c0; text-decoration-color: #c0c0c0; background-color: #008080\">item </span><span style=\"color: #c0c0c0; text-decoration-color: #c0c0c0; background-color: #008080; font-weight: bold\">3</span><span style=\"color: #c0c0c0; text-decoration-color: #c0c0c0; background-color: #008080\">. legal proceedings on october </span>\n",
       "<span style=\"color: #c0c0c0; text-decoration-color: #c0c0c0; background-color: #008080; font-weight: bold\">27</span><span style=\"color: #c0c0c0; text-decoration-color: #c0c0c0; background-color: #008080\">, </span><span style=\"color: #c0c0c0; text-decoration-color: #c0c0c0; background-color: #008080; font-weight: bold\">2000</span><span style=\"color: #c0c0c0; text-decoration-color: #c0c0c0; background-color: #008080\">, ajaxo, inc.</span>\n",
       "</pre>\n"
      ],
      "text/plain": [
       "chunk: \u001b[37;42mwe believe our facilities space is adequate to meet our needs in \u001b[0m\u001b[1;37;42m2014.\u001b[0m\u001b[37;46mitem \u001b[0m\u001b[1;37;46m3\u001b[0m\u001b[37;46m. legal proceedings on october \u001b[0m\n",
       "\u001b[1;37;46m27\u001b[0m\u001b[37;46m, \u001b[0m\u001b[1;37;46m2000\u001b[0m\u001b[37;46m, ajaxo, inc.\u001b[0m\n"
      ]
     },
     "metadata": {},
     "output_type": "display_data"
    },
    {
     "name": "stdin",
     "output_type": "stream",
     "text": [
      "Type 'k' to raise thresh, or 'j' - to lower it, then press 'Enter':  j\n"
     ]
    },
    {
     "data": {
      "text/html": [
       "<pre style=\"white-space:pre;overflow-x:auto;line-height:normal;font-family:Menlo,'DejaVu Sans Mono',consolas,'Courier New',monospace\">dist: <span style=\"color: #008080; text-decoration-color: #008080; font-weight: bold\">0.7204713821411133</span>\n",
       "</pre>\n"
      ],
      "text/plain": [
       "dist: \u001b[1;36m0.7204713821411133\u001b[0m\n"
      ]
     },
     "metadata": {},
     "output_type": "display_data"
    },
    {
     "data": {
      "text/html": [
       "<pre style=\"white-space:pre;overflow-x:auto;line-height:normal;font-family:Menlo,'DejaVu Sans Mono',consolas,'Courier New',monospace\">chunk: <span style=\"color: #c0c0c0; text-decoration-color: #c0c0c0; background-color: #008000\">federal subsidies are estimated to range from $</span><span style=\"color: #c0c0c0; text-decoration-color: #c0c0c0; background-color: #008000; font-weight: bold\">0.5</span><span style=\"color: #c0c0c0; text-decoration-color: #c0c0c0; background-color: #008000\"> in </span><span style=\"color: #c0c0c0; text-decoration-color: #c0c0c0; background-color: #008000; font-weight: bold\">2010</span><span style=\"color: #c0c0c0; text-decoration-color: #c0c0c0; background-color: #008000\"> to $</span><span style=\"color: #c0c0c0; text-decoration-color: #c0c0c0; background-color: #008000; font-weight: bold\">0.6</span><span style=\"color: #c0c0c0; text-decoration-color: #c0c0c0; background-color: #008000\"> in </span><span style=\"color: #c0c0c0; text-decoration-color: #c0c0c0; background-color: #008000; font-weight: bold\">2014</span><span style=\"color: #c0c0c0; text-decoration-color: #c0c0c0; background-color: #008000\"> and are estimated to be $</span><span style=\"color: #c0c0c0; text-decoration-color: #c0c0c0; background-color: #008000; font-weight: bold\">2.4</span><span style=\"color: #c0c0c0; text-decoration-color: #c0c0c0; background-color: #008000\"> for </span>\n",
       "<span style=\"color: #c0c0c0; text-decoration-color: #c0c0c0; background-color: #008000\">the period </span><span style=\"color: #c0c0c0; text-decoration-color: #c0c0c0; background-color: #008000; font-weight: bold\">2015</span><span style=\"color: #c0c0c0; text-decoration-color: #c0c0c0; background-color: #008000\">-</span><span style=\"color: #c0c0c0; text-decoration-color: #c0c0c0; background-color: #008000; font-weight: bold\">2019.</span><span style=\"color: #c0c0c0; text-decoration-color: #c0c0c0; background-color: #008080\">savings plans we sponsor defined contribution plans </span><span style=\"color: #c0c0c0; text-decoration-color: #c0c0c0; background-color: #008080; font-weight: bold\">(</span><span style=\"color: #c0c0c0; text-decoration-color: #c0c0c0; background-color: #008080\">the 201csavings plans 201d</span><span style=\"color: #c0c0c0; text-decoration-color: #c0c0c0; background-color: #008080; font-weight: bold\">)</span><span style=\"color: #c0c0c0; text-decoration-color: #c0c0c0; background-color: #008080\"> that cover </span>\n",
       "<span style=\"color: #c0c0c0; text-decoration-color: #c0c0c0; background-color: #008080\">substantially all domestic employees. the savings plans permit participants to make contributions on a pre-tax </span>\n",
       "<span style=\"color: #c0c0c0; text-decoration-color: #c0c0c0; background-color: #008080\">and/or after-tax basis and allows participants to choose among various investment alternatives.</span>\n",
       "</pre>\n"
      ],
      "text/plain": [
       "chunk: \u001b[37;42mfederal subsidies are estimated to range from $\u001b[0m\u001b[1;37;42m0.5\u001b[0m\u001b[37;42m in \u001b[0m\u001b[1;37;42m2010\u001b[0m\u001b[37;42m to $\u001b[0m\u001b[1;37;42m0.6\u001b[0m\u001b[37;42m in \u001b[0m\u001b[1;37;42m2014\u001b[0m\u001b[37;42m and are estimated to be $\u001b[0m\u001b[1;37;42m2.4\u001b[0m\u001b[37;42m for \u001b[0m\n",
       "\u001b[37;42mthe period \u001b[0m\u001b[1;37;42m2015\u001b[0m\u001b[37;42m-\u001b[0m\u001b[1;37;42m2019.\u001b[0m\u001b[37;46msavings plans we sponsor defined contribution plans \u001b[0m\u001b[1;37;46m(\u001b[0m\u001b[37;46mthe 201csavings plans 201d\u001b[0m\u001b[1;37;46m)\u001b[0m\u001b[37;46m that cover \u001b[0m\n",
       "\u001b[37;46msubstantially all domestic employees. the savings plans permit participants to make contributions on a pre-tax \u001b[0m\n",
       "\u001b[37;46mand/or after-tax basis and allows participants to choose among various investment alternatives.\u001b[0m\n"
      ]
     },
     "metadata": {},
     "output_type": "display_data"
    },
    {
     "name": "stdin",
     "output_type": "stream",
     "text": [
      "Type 'k' to raise thresh, or 'j' - to lower it, then press 'Enter':  k\n"
     ]
    },
    {
     "data": {
      "text/html": [
       "<pre style=\"white-space:pre;overflow-x:auto;line-height:normal;font-family:Menlo,'DejaVu Sans Mono',consolas,'Courier New',monospace\">dist: <span style=\"color: #008080; text-decoration-color: #008080; font-weight: bold\">0.7275654673576355</span>\n",
       "</pre>\n"
      ],
      "text/plain": [
       "dist: \u001b[1;36m0.7275654673576355\u001b[0m\n"
      ]
     },
     "metadata": {},
     "output_type": "display_data"
    },
    {
     "data": {
      "text/html": [
       "<pre style=\"white-space:pre;overflow-x:auto;line-height:normal;font-family:Menlo,'DejaVu Sans Mono',consolas,'Courier New',monospace\">chunk: <span style=\"color: #c0c0c0; text-decoration-color: #c0c0c0; background-color: #008000\">in addition, as required by the merger agreement, certain nassda officers, directors and employees who were </span>\n",
       "<span style=\"color: #c0c0c0; text-decoration-color: #c0c0c0; background-color: #008000\">defendants in certain preexisting litigation.</span><span style=\"color: #c0c0c0; text-decoration-color: #c0c0c0; background-color: #008080\">what was the total of intangible assets, in millions? </span><span style=\"color: #c0c0c0; text-decoration-color: #c0c0c0; background-color: #008080; font-weight: bold\">8.5</span>\n",
       "</pre>\n"
      ],
      "text/plain": [
       "chunk: \u001b[37;42min addition, as required by the merger agreement, certain nassda officers, directors and employees who were \u001b[0m\n",
       "\u001b[37;42mdefendants in certain preexisting litigation.\u001b[0m\u001b[37;46mwhat was the total of intangible assets, in millions? \u001b[0m\u001b[1;37;46m8.5\u001b[0m\n"
      ]
     },
     "metadata": {},
     "output_type": "display_data"
    },
    {
     "name": "stdin",
     "output_type": "stream",
     "text": [
      "Type 'k' to raise thresh, or 'j' - to lower it, then press 'Enter':  k\n"
     ]
    },
    {
     "data": {
      "text/html": [
       "<pre style=\"white-space:pre;overflow-x:auto;line-height:normal;font-family:Menlo,'DejaVu Sans Mono',consolas,'Courier New',monospace\">dist: <span style=\"color: #008080; text-decoration-color: #008080; font-weight: bold\">0.7312131524085999</span>\n",
       "</pre>\n"
      ],
      "text/plain": [
       "dist: \u001b[1;36m0.7312131524085999\u001b[0m\n"
      ]
     },
     "metadata": {},
     "output_type": "display_data"
    },
    {
     "data": {
      "text/html": [
       "<pre style=\"white-space:pre;overflow-x:auto;line-height:normal;font-family:Menlo,'DejaVu Sans Mono',consolas,'Courier New',monospace\">chunk: <span style=\"color: #c0c0c0; text-decoration-color: #c0c0c0; background-color: #008000\">this segment 2019s competitors include masonite, jeld-wen, plastpro and pella.</span><span style=\"color: #c0c0c0; text-decoration-color: #c0c0c0; background-color: #008080\">security. our security segment</span>\n",
       "<span style=\"color: #c0c0c0; text-decoration-color: #c0c0c0; background-color: #008080\">2019s products consist of locks, safety and security devices, and electronic security products manufactured, </span>\n",
       "<span style=\"color: #c0c0c0; text-decoration-color: #c0c0c0; background-color: #008080\">sourced and distributed primarily under the master lock brand and fire resistant safes, security containers and </span>\n",
       "<span style=\"color: #c0c0c0; text-decoration-color: #c0c0c0; background-color: #008080\">commercial cabinets manufactured, sourced and distributed under the sentrysafe brand.</span>\n",
       "</pre>\n"
      ],
      "text/plain": [
       "chunk: \u001b[37;42mthis segment 2019s competitors include masonite, jeld-wen, plastpro and pella.\u001b[0m\u001b[37;46msecurity. our security segment\u001b[0m\n",
       "\u001b[37;46m2019s products consist of locks, safety and security devices, and electronic security products manufactured, \u001b[0m\n",
       "\u001b[37;46msourced and distributed primarily under the master lock brand and fire resistant safes, security containers and \u001b[0m\n",
       "\u001b[37;46mcommercial cabinets manufactured, sourced and distributed under the sentrysafe brand.\u001b[0m\n"
      ]
     },
     "metadata": {},
     "output_type": "display_data"
    },
    {
     "name": "stdin",
     "output_type": "stream",
     "text": [
      "Type 'k' to raise thresh, or 'j' - to lower it, then press 'Enter':  j\n"
     ]
    },
    {
     "data": {
      "text/html": [
       "<pre style=\"white-space:pre;overflow-x:auto;line-height:normal;font-family:Menlo,'DejaVu Sans Mono',consolas,'Courier New',monospace\">dist: <span style=\"color: #008080; text-decoration-color: #008080; font-weight: bold\">0.7289109230041504</span>\n",
       "</pre>\n"
      ],
      "text/plain": [
       "dist: \u001b[1;36m0.7289109230041504\u001b[0m\n"
      ]
     },
     "metadata": {},
     "output_type": "display_data"
    },
    {
     "data": {
      "text/html": [
       "<pre style=\"white-space:pre;overflow-x:auto;line-height:normal;font-family:Menlo,'DejaVu Sans Mono',consolas,'Courier New',monospace\">chunk: <span style=\"color: #c0c0c0; text-decoration-color: #c0c0c0; background-color: #008000\">and how much does that change represent in relation to this </span><span style=\"color: #c0c0c0; text-decoration-color: #c0c0c0; background-color: #008000; font-weight: bold\">2010</span><span style=\"color: #c0c0c0; text-decoration-color: #c0c0c0; background-color: #008000\"> fair value, in percentage?</span><span style=\"color: #c0c0c0; text-decoration-color: #c0c0c0; background-color: #008080\">the analysis of </span>\n",
       "<span style=\"color: #c0c0c0; text-decoration-color: #c0c0c0; background-color: #008080\">our depreciation studies. changes in the estimated service lives of our assets and their related depreciation rates</span>\n",
       "<span style=\"color: #c0c0c0; text-decoration-color: #c0c0c0; background-color: #008080\">are implemented prospectively.</span>\n",
       "</pre>\n"
      ],
      "text/plain": [
       "chunk: \u001b[37;42mand how much does that change represent in relation to this \u001b[0m\u001b[1;37;42m2010\u001b[0m\u001b[37;42m fair value, in percentage?\u001b[0m\u001b[37;46mthe analysis of \u001b[0m\n",
       "\u001b[37;46mour depreciation studies. changes in the estimated service lives of our assets and their related depreciation rates\u001b[0m\n",
       "\u001b[37;46mare implemented prospectively.\u001b[0m\n"
      ]
     },
     "metadata": {},
     "output_type": "display_data"
    },
    {
     "name": "stdin",
     "output_type": "stream",
     "text": [
      "Type 'k' to raise thresh, or 'j' - to lower it, then press 'Enter':  j\n"
     ]
    },
    {
     "data": {
      "text/html": [
       "<pre style=\"white-space:pre;overflow-x:auto;line-height:normal;font-family:Menlo,'DejaVu Sans Mono',consolas,'Courier New',monospace\">dist: <span style=\"color: #008080; text-decoration-color: #008080; font-weight: bold\">0.7284058332443237</span>\n",
       "</pre>\n"
      ],
      "text/plain": [
       "dist: \u001b[1;36m0.7284058332443237\u001b[0m\n"
      ]
     },
     "metadata": {},
     "output_type": "display_data"
    },
    {
     "data": {
      "text/html": [
       "<pre style=\"white-space:pre;overflow-x:auto;line-height:normal;font-family:Menlo,'DejaVu Sans Mono',consolas,'Courier New',monospace\">chunk: <span style=\"color: #c0c0c0; text-decoration-color: #c0c0c0; background-color: #008000\">we believe such estimates to be reasonable; however, there can be no assurance that the final determination </span>\n",
       "<span style=\"color: #c0c0c0; text-decoration-color: #c0c0c0; background-color: #008000\">of any of these examinations will not have an adverse effect on our operating results and financial position.</span><span style=\"color: #c0c0c0; text-decoration-color: #c0c0c0; background-color: #008080\">the </span>\n",
       "<span style=\"color: #c0c0c0; text-decoration-color: #c0c0c0; background-color: #008080\">timing of the resolution of income tax examinations is highly uncertain as are the amounts and timing of tax </span>\n",
       "<span style=\"color: #c0c0c0; text-decoration-color: #c0c0c0; background-color: #008080\">payments that are part of any audit settlement process. these events could cause large fluctuations in the balance </span>\n",
       "<span style=\"color: #c0c0c0; text-decoration-color: #c0c0c0; background-color: #008080\">of short-term and long- term assets, liabilities and income taxes payable.</span>\n",
       "</pre>\n"
      ],
      "text/plain": [
       "chunk: \u001b[37;42mwe believe such estimates to be reasonable; however, there can be no assurance that the final determination \u001b[0m\n",
       "\u001b[37;42mof any of these examinations will not have an adverse effect on our operating results and financial position.\u001b[0m\u001b[37;46mthe \u001b[0m\n",
       "\u001b[37;46mtiming of the resolution of income tax examinations is highly uncertain as are the amounts and timing of tax \u001b[0m\n",
       "\u001b[37;46mpayments that are part of any audit settlement process. these events could cause large fluctuations in the balance \u001b[0m\n",
       "\u001b[37;46mof short-term and long- term assets, liabilities and income taxes payable.\u001b[0m\n"
      ]
     },
     "metadata": {},
     "output_type": "display_data"
    },
    {
     "name": "stdin",
     "output_type": "stream",
     "text": [
      "Type 'k' to raise thresh, or 'j' - to lower it, then press 'Enter':  k\n"
     ]
    },
    {
     "data": {
      "text/html": [
       "<pre style=\"white-space:pre;overflow-x:auto;line-height:normal;font-family:Menlo,'DejaVu Sans Mono',consolas,'Courier New',monospace\">dist: <span style=\"color: #008080; text-decoration-color: #008080; font-weight: bold\">0.7287730574607849</span>\n",
       "</pre>\n"
      ],
      "text/plain": [
       "dist: \u001b[1;36m0.7287730574607849\u001b[0m\n"
      ]
     },
     "metadata": {},
     "output_type": "display_data"
    },
    {
     "data": {
      "text/html": [
       "<pre style=\"white-space:pre;overflow-x:auto;line-height:normal;font-family:Menlo,'DejaVu Sans Mono',consolas,'Courier New',monospace\">chunk: <span style=\"color: #c0c0c0; text-decoration-color: #c0c0c0; background-color: #008000\">cme group has no shares of preferred stock issued and outstanding.</span><span style=\"color: #c0c0c0; text-decoration-color: #c0c0c0; background-color: #008080\">associated trading rights. members of cme,</span>\n",
       "<span style=\"color: #c0c0c0; text-decoration-color: #c0c0c0; background-color: #008080\">cbot, nymex and comex own or lease trading rights which entitle them to access open outcry trading, discounts on </span>\n",
       "<span style=\"color: #c0c0c0; text-decoration-color: #c0c0c0; background-color: #008080\">trading fees and the right to vote on certain exchange matters as provided for by the rules of the particular </span>\n",
       "<span style=\"color: #c0c0c0; text-decoration-color: #c0c0c0; background-color: #008080\">exchange and cme group 2019s or the subsidiaries </span><span style=\"color: #c0c0c0; text-decoration-color: #c0c0c0; background-color: #008080; font-weight: bold\">2019</span><span style=\"color: #c0c0c0; text-decoration-color: #c0c0c0; background-color: #008080\"> organizational documents.</span>\n",
       "</pre>\n"
      ],
      "text/plain": [
       "chunk: \u001b[37;42mcme group has no shares of preferred stock issued and outstanding.\u001b[0m\u001b[37;46massociated trading rights. members of cme,\u001b[0m\n",
       "\u001b[37;46mcbot, nymex and comex own or lease trading rights which entitle them to access open outcry trading, discounts on \u001b[0m\n",
       "\u001b[37;46mtrading fees and the right to vote on certain exchange matters as provided for by the rules of the particular \u001b[0m\n",
       "\u001b[37;46mexchange and cme group 2019s or the subsidiaries \u001b[0m\u001b[1;37;46m2019\u001b[0m\u001b[37;46m organizational documents.\u001b[0m\n"
      ]
     },
     "metadata": {},
     "output_type": "display_data"
    },
    {
     "name": "stdin",
     "output_type": "stream",
     "text": [
      "Type 'k' to raise thresh, or 'j' - to lower it, then press 'Enter':  j\n"
     ]
    },
    {
     "data": {
      "text/html": [
       "<pre style=\"white-space:pre;overflow-x:auto;line-height:normal;font-family:Menlo,'DejaVu Sans Mono',consolas,'Courier New',monospace\">dist: <span style=\"color: #008080; text-decoration-color: #008080; font-weight: bold\">0.7286220788955688</span>\n",
       "</pre>\n"
      ],
      "text/plain": [
       "dist: \u001b[1;36m0.7286220788955688\u001b[0m\n"
      ]
     },
     "metadata": {},
     "output_type": "display_data"
    },
    {
     "data": {
      "text/html": [
       "<pre style=\"white-space:pre;overflow-x:auto;line-height:normal;font-family:Menlo,'DejaVu Sans Mono',consolas,'Courier New',monospace\">chunk: <span style=\"color: #c0c0c0; text-decoration-color: #c0c0c0; background-color: #008000\">payment of dividends in the future, when, as and if authorized by our board of directors, would depend upon </span>\n",
       "<span style=\"color: #c0c0c0; text-decoration-color: #c0c0c0; background-color: #008000\">many factors, including our earnings and financial condition, restrictions under applicable law and our current and</span>\n",
       "<span style=\"color: #c0c0c0; text-decoration-color: #c0c0c0; background-color: #008000\">future loan agreements, our debt service requirements, our capital expenditure requirements and other factors that </span>\n",
       "<span style=\"color: #c0c0c0; text-decoration-color: #c0c0c0; background-color: #008000\">our board of directors may deem relevant from time to time, including the potential determination to elect reit </span>\n",
       "<span style=\"color: #c0c0c0; text-decoration-color: #c0c0c0; background-color: #008000\">status.</span><span style=\"color: #c0c0c0; text-decoration-color: #c0c0c0; background-color: #008080\">in addition, the loan agreement for our revolving credit facility and term loan contain covenants that </span>\n",
       "<span style=\"color: #c0c0c0; text-decoration-color: #c0c0c0; background-color: #008080\">generally restrict our ability to pay dividends unless certain financial covenants are satisfied. for more </span>\n",
       "<span style=\"color: #c0c0c0; text-decoration-color: #c0c0c0; background-color: #008080\">information about the restrictions under the loan agreement for the revolving credit facility and term loan, our </span>\n",
       "<span style=\"color: #c0c0c0; text-decoration-color: #c0c0c0; background-color: #008080\">notes indentures and the loan agreement related to our securitization, see item </span><span style=\"color: #c0c0c0; text-decoration-color: #c0c0c0; background-color: #008080; font-weight: bold\">7</span><span style=\"color: #c0c0c0; text-decoration-color: #c0c0c0; background-color: #008080\"> of this annual report under the </span>\n",
       "<span style=\"color: #c0c0c0; text-decoration-color: #c0c0c0; background-color: #008080\">caption 201cmanagement 2019s discussion and analysis of financial condition and results of operations 2014liquidity</span>\n",
       "<span style=\"color: #c0c0c0; text-decoration-color: #c0c0c0; background-color: #008080\">and capital resources 2014factors affecting sources of liquidity 201d and note </span><span style=\"color: #c0c0c0; text-decoration-color: #c0c0c0; background-color: #008080; font-weight: bold\">6</span><span style=\"color: #c0c0c0; text-decoration-color: #c0c0c0; background-color: #008080\"> to our consolidated financial </span>\n",
       "<span style=\"color: #c0c0c0; text-decoration-color: #c0c0c0; background-color: #008080\">statements included in this annual report..</span>\n",
       "</pre>\n"
      ],
      "text/plain": [
       "chunk: \u001b[37;42mpayment of dividends in the future, when, as and if authorized by our board of directors, would depend upon \u001b[0m\n",
       "\u001b[37;42mmany factors, including our earnings and financial condition, restrictions under applicable law and our current and\u001b[0m\n",
       "\u001b[37;42mfuture loan agreements, our debt service requirements, our capital expenditure requirements and other factors that \u001b[0m\n",
       "\u001b[37;42mour board of directors may deem relevant from time to time, including the potential determination to elect reit \u001b[0m\n",
       "\u001b[37;42mstatus.\u001b[0m\u001b[37;46min addition, the loan agreement for our revolving credit facility and term loan contain covenants that \u001b[0m\n",
       "\u001b[37;46mgenerally restrict our ability to pay dividends unless certain financial covenants are satisfied. for more \u001b[0m\n",
       "\u001b[37;46minformation about the restrictions under the loan agreement for the revolving credit facility and term loan, our \u001b[0m\n",
       "\u001b[37;46mnotes indentures and the loan agreement related to our securitization, see item \u001b[0m\u001b[1;37;46m7\u001b[0m\u001b[37;46m of this annual report under the \u001b[0m\n",
       "\u001b[37;46mcaption 201cmanagement 2019s discussion and analysis of financial condition and results of operations 2014liquidity\u001b[0m\n",
       "\u001b[37;46mand capital resources 2014factors affecting sources of liquidity 201d and note \u001b[0m\u001b[1;37;46m6\u001b[0m\u001b[37;46m to our consolidated financial \u001b[0m\n",
       "\u001b[37;46mstatements included in this annual report..\u001b[0m\n"
      ]
     },
     "metadata": {},
     "output_type": "display_data"
    },
    {
     "data": {
      "text/html": [
       "<pre style=\"white-space:pre;overflow-x:auto;line-height:normal;font-family:Menlo,'DejaVu Sans Mono',consolas,'Courier New',monospace\">Tuning ended, thresh value: <span style=\"color: #008080; text-decoration-color: #008080; font-weight: bold\">0.7286220788955688</span> = <span style=\"color: #008080; text-decoration-color: #008080; font-weight: bold\">0.72</span>\n",
       "</pre>\n"
      ],
      "text/plain": [
       "Tuning ended, thresh value: \u001b[1;36m0.7286220788955688\u001b[0m = \u001b[1;36m0.72\u001b[0m\n"
      ]
     },
     "metadata": {},
     "output_type": "display_data"
    }
   ],
   "source": [
    "splitter = SentenceSplitter(text=datasets['finance'])\n",
    "splits = splitter()\n",
    "res = tuner(splits, depth=DEPTH)\n",
    "thresholds.append(res)"
   ]
  },
  {
   "cell_type": "markdown",
   "id": "c12bb8a7-b22d-43ab-9d60-4c25ab4efbfd",
   "metadata": {},
   "source": [
    "**pubmed**"
   ]
  },
  {
   "cell_type": "code",
   "execution_count": 8,
   "id": "a487f568-0ffb-438a-831d-db3f9bfab5f5",
   "metadata": {
    "scrolled": true
   },
   "outputs": [
    {
     "name": "stderr",
     "output_type": "stream",
     "text": [
      "100%|██████████████████████████████████████████████████████████████████████████████████████████████████████████████████████████████| 4458/4458 [04:05<00:00, 18.14it/s]\n"
     ]
    },
    {
     "data": {
      "text/html": [
       "<pre style=\"white-space:pre;overflow-x:auto;line-height:normal;font-family:Menlo,'DejaVu Sans Mono',consolas,'Courier New',monospace\"><span style=\"color: #008080; text-decoration-color: #008080; font-weight: bold\">4432</span> chunks formed\n",
       "</pre>\n"
      ],
      "text/plain": [
       "\u001b[1;36m4432\u001b[0m chunks formed\n"
      ]
     },
     "metadata": {},
     "output_type": "display_data"
    },
    {
     "data": {
      "text/html": [
       "<pre style=\"white-space:pre;overflow-x:auto;line-height:normal;font-family:Menlo,'DejaVu Sans Mono',consolas,'Courier New',monospace\">Values range: <span style=\"font-weight: bold\">[</span><span style=\"color: #008080; text-decoration-color: #008080; font-weight: bold\">-0.1381773203611374</span> <span style=\"color: #808000; text-decoration-color: #808000\">...</span> <span style=\"color: #008080; text-decoration-color: #008080; font-weight: bold\">1.000000238418579</span><span style=\"font-weight: bold\">]</span>\n",
       "</pre>\n"
      ],
      "text/plain": [
       "Values range: \u001b[1m[\u001b[0m\u001b[1;36m-0.1381773203611374\u001b[0m \u001b[33m...\u001b[0m \u001b[1;36m1.000000238418579\u001b[0m\u001b[1m]\u001b[0m\n"
      ]
     },
     "metadata": {},
     "output_type": "display_data"
    },
    {
     "data": {
      "text/html": [
       "<pre style=\"white-space:pre;overflow-x:auto;line-height:normal;font-family:Menlo,'DejaVu Sans Mono',consolas,'Courier New',monospace\">Steps to tune: <span style=\"color: #008080; text-decoration-color: #008080; font-weight: bold\">12</span>\n",
       "</pre>\n"
      ],
      "text/plain": [
       "Steps to tune: \u001b[1;36m12\u001b[0m\n"
      ]
     },
     "metadata": {},
     "output_type": "display_data"
    },
    {
     "data": {
      "text/html": [
       "<pre style=\"white-space:pre;overflow-x:auto;line-height:normal;font-family:Menlo,'DejaVu Sans Mono',consolas,'Courier New',monospace\">--------------------------------\n",
       "</pre>\n"
      ],
      "text/plain": [
       "--------------------------------\n"
      ]
     },
     "metadata": {},
     "output_type": "display_data"
    },
    {
     "data": {
      "text/html": [
       "<pre style=\"white-space:pre;overflow-x:auto;line-height:normal;font-family:Menlo,'DejaVu Sans Mono',consolas,'Courier New',monospace\">dist: <span style=\"color: #008080; text-decoration-color: #008080; font-weight: bold\">0.7687500715255737</span>\n",
       "</pre>\n"
      ],
      "text/plain": [
       "dist: \u001b[1;36m0.7687500715255737\u001b[0m\n"
      ]
     },
     "metadata": {},
     "output_type": "display_data"
    },
    {
     "data": {
      "text/html": [
       "<pre style=\"white-space:pre;overflow-x:auto;line-height:normal;font-family:Menlo,'DejaVu Sans Mono',consolas,'Courier New',monospace\">chunk: <span style=\"color: #c0c0c0; text-decoration-color: #c0c0c0; background-color: #008000\">Deitsch KW  Calderwood MS  Wellems TE   Malaria: Cooperative silencing elements in var  genes Nature </span><span style=\"color: #c0c0c0; text-decoration-color: #c0c0c0; background-color: #008000; font-weight: bold\">2001</span><span style=\"color: #c0c0c0; text-decoration-color: #c0c0c0; background-color: #008000\"> </span>\n",
       "<span style=\"color: #c0c0c0; text-decoration-color: #c0c0c0; background-color: #008000; font-weight: bold\">412</span><span style=\"color: #c0c0c0; text-decoration-color: #c0c0c0; background-color: #008000\"> </span><span style=\"color: #c0c0c0; text-decoration-color: #c0c0c0; background-color: #008000; font-weight: bold\">875</span><span style=\"color: #c0c0c0; text-decoration-color: #c0c0c0; background-color: #008000\"> </span><span style=\"color: #c0c0c0; text-decoration-color: #c0c0c0; background-color: #008000; font-weight: bold\">876</span><span style=\"color: #c0c0c0; text-decoration-color: #c0c0c0; background-color: #008000\"> </span><span style=\"color: #c0c0c0; text-decoration-color: #c0c0c0; background-color: #008080\">Dluzewski AR  Garcia CR   Inhibition of invasion and intraerythrocytic development of Plasmodium </span>\n",
       "<span style=\"color: #c0c0c0; text-decoration-color: #c0c0c0; background-color: #008080\">falciparum  by kinase inhibitors Experientia </span><span style=\"color: #c0c0c0; text-decoration-color: #c0c0c0; background-color: #008080; font-weight: bold\">1996</span><span style=\"color: #c0c0c0; text-decoration-color: #c0c0c0; background-color: #008080\"> </span><span style=\"color: #c0c0c0; text-decoration-color: #c0c0c0; background-color: #008080; font-weight: bold\">52</span><span style=\"color: #c0c0c0; text-decoration-color: #c0c0c0; background-color: #008080\"> </span><span style=\"color: #c0c0c0; text-decoration-color: #c0c0c0; background-color: #008080; font-weight: bold\">621</span><span style=\"color: #c0c0c0; text-decoration-color: #c0c0c0; background-color: #008080\"> </span><span style=\"color: #c0c0c0; text-decoration-color: #c0c0c0; background-color: #008080; font-weight: bold\">623</span><span style=\"color: #c0c0c0; text-decoration-color: #c0c0c0; background-color: #008080\"> </span><span style=\"color: #c0c0c0; text-decoration-color: #c0c0c0; background-color: #008080; font-weight: bold\">8698101</span><span style=\"color: #c0c0c0; text-decoration-color: #c0c0c0; background-color: #008080\">  Eisen MB  Brown PO   DNA arrays for analysis </span>\n",
       "<span style=\"color: #c0c0c0; text-decoration-color: #c0c0c0; background-color: #008080\">of gene expression Methods Enzymol </span><span style=\"color: #c0c0c0; text-decoration-color: #c0c0c0; background-color: #008080; font-weight: bold\">1999</span><span style=\"color: #c0c0c0; text-decoration-color: #c0c0c0; background-color: #008080\"> </span><span style=\"color: #c0c0c0; text-decoration-color: #c0c0c0; background-color: #008080; font-weight: bold\">303</span><span style=\"color: #c0c0c0; text-decoration-color: #c0c0c0; background-color: #008080\"> </span><span style=\"color: #c0c0c0; text-decoration-color: #c0c0c0; background-color: #008080; font-weight: bold\">179</span><span style=\"color: #c0c0c0; text-decoration-color: #c0c0c0; background-color: #008080\"> </span><span style=\"color: #c0c0c0; text-decoration-color: #c0c0c0; background-color: #008080; font-weight: bold\">205</span><span style=\"color: #c0c0c0; text-decoration-color: #c0c0c0; background-color: #008080\"> </span><span style=\"color: #c0c0c0; text-decoration-color: #c0c0c0; background-color: #008080; font-weight: bold\">10349646</span><span style=\"color: #c0c0c0; text-decoration-color: #c0c0c0; background-color: #008080\"> </span>\n",
       "</pre>\n"
      ],
      "text/plain": [
       "chunk: \u001b[37;42mDeitsch KW  Calderwood MS  Wellems TE   Malaria: Cooperative silencing elements in var  genes Nature \u001b[0m\u001b[1;37;42m2001\u001b[0m\u001b[37;42m \u001b[0m\n",
       "\u001b[1;37;42m412\u001b[0m\u001b[37;42m \u001b[0m\u001b[1;37;42m875\u001b[0m\u001b[37;42m \u001b[0m\u001b[1;37;42m876\u001b[0m\u001b[37;42m \u001b[0m\u001b[37;46mDluzewski AR  Garcia CR   Inhibition of invasion and intraerythrocytic development of Plasmodium \u001b[0m\n",
       "\u001b[37;46mfalciparum  by kinase inhibitors Experientia \u001b[0m\u001b[1;37;46m1996\u001b[0m\u001b[37;46m \u001b[0m\u001b[1;37;46m52\u001b[0m\u001b[37;46m \u001b[0m\u001b[1;37;46m621\u001b[0m\u001b[37;46m \u001b[0m\u001b[1;37;46m623\u001b[0m\u001b[37;46m \u001b[0m\u001b[1;37;46m8698101\u001b[0m\u001b[37;46m  Eisen MB  Brown PO   DNA arrays for analysis \u001b[0m\n",
       "\u001b[37;46mof gene expression Methods Enzymol \u001b[0m\u001b[1;37;46m1999\u001b[0m\u001b[37;46m \u001b[0m\u001b[1;37;46m303\u001b[0m\u001b[37;46m \u001b[0m\u001b[1;37;46m179\u001b[0m\u001b[37;46m \u001b[0m\u001b[1;37;46m205\u001b[0m\u001b[37;46m \u001b[0m\u001b[1;37;46m10349646\u001b[0m\u001b[37;46m \u001b[0m\n"
      ]
     },
     "metadata": {},
     "output_type": "display_data"
    },
    {
     "name": "stdin",
     "output_type": "stream",
     "text": [
      "Type 'k' to raise thresh, or 'j' - to lower it, then press 'Enter':  j\n"
     ]
    },
    {
     "data": {
      "text/html": [
       "<pre style=\"white-space:pre;overflow-x:auto;line-height:normal;font-family:Menlo,'DejaVu Sans Mono',consolas,'Courier New',monospace\">dist: <span style=\"color: #008080; text-decoration-color: #008080; font-weight: bold\">0.5565579533576965</span>\n",
       "</pre>\n"
      ],
      "text/plain": [
       "dist: \u001b[1;36m0.5565579533576965\u001b[0m\n"
      ]
     },
     "metadata": {},
     "output_type": "display_data"
    },
    {
     "data": {
      "text/html": [
       "<pre style=\"white-space:pre;overflow-x:auto;line-height:normal;font-family:Menlo,'DejaVu Sans Mono',consolas,'Courier New',monospace\">chunk: <span style=\"color: #c0c0c0; text-decoration-color: #c0c0c0; background-color: #008000\">After washing with ice-cold acetone and air drying, the radioactivity of the pellet was measured in a </span>\n",
       "<span style=\"color: #c0c0c0; text-decoration-color: #c0c0c0; background-color: #008000\">scintillation counter.</span><span style=\"color: #c0c0c0; text-decoration-color: #c0c0c0; background-color: #008080\">To isolate metabolically labeled β-catenin from Xenopus extracts, we used His-tagged APCm3 </span>\n",
       "<span style=\"color: #c0c0c0; text-decoration-color: #c0c0c0; background-color: #008080\">cross-linked to Ultralink beads </span><span style=\"color: #c0c0c0; text-decoration-color: #c0c0c0; background-color: #008080; font-weight: bold\">(</span><span style=\"color: #c0c0c0; text-decoration-color: #c0c0c0; background-color: #008080\">Pierce, Woburn, Massachusetts, United States</span><span style=\"color: #c0c0c0; text-decoration-color: #c0c0c0; background-color: #008080; font-weight: bold\">)</span><span style=\"color: #c0c0c0; text-decoration-color: #c0c0c0; background-color: #008080\">. Since phosphorylated APC has a much</span>\n",
       "<span style=\"color: #c0c0c0; text-decoration-color: #c0c0c0; background-color: #008080\">higher affinity for β-catenin, APCm3 beads were first phosphorylated with </span><span style=\"color: #c0c0c0; text-decoration-color: #c0c0c0; background-color: #008080; font-weight: bold\">300</span><span style=\"color: #c0c0c0; text-decoration-color: #c0c0c0; background-color: #008080\"> nM His-tagged GSK3β in </span><span style=\"color: #c0c0c0; text-decoration-color: #c0c0c0; background-color: #008080; font-weight: bold\">25</span><span style=\"color: #c0c0c0; text-decoration-color: #c0c0c0; background-color: #008080\"> mM HEPES </span>\n",
       "<span style=\"color: #c0c0c0; text-decoration-color: #c0c0c0; background-color: #008080; font-weight: bold\">(</span><span style=\"color: #c0c0c0; text-decoration-color: #c0c0c0; background-color: #008080\">pH </span><span style=\"color: #c0c0c0; text-decoration-color: #c0c0c0; background-color: #008080; font-weight: bold\">7.7</span><span style=\"color: #c0c0c0; text-decoration-color: #c0c0c0; background-color: #008080; font-weight: bold\">)</span><span style=\"color: #c0c0c0; text-decoration-color: #c0c0c0; background-color: #008080\">, </span><span style=\"color: #c0c0c0; text-decoration-color: #c0c0c0; background-color: #008080; font-weight: bold\">1</span><span style=\"color: #c0c0c0; text-decoration-color: #c0c0c0; background-color: #008080\"> mM EDTA, </span><span style=\"color: #c0c0c0; text-decoration-color: #c0c0c0; background-color: #008080; font-weight: bold\">300</span><span style=\"color: #c0c0c0; text-decoration-color: #c0c0c0; background-color: #008080\"> mM NaCl, </span><span style=\"color: #c0c0c0; text-decoration-color: #c0c0c0; background-color: #008080; font-weight: bold\">10</span><span style=\"color: #c0c0c0; text-decoration-color: #c0c0c0; background-color: #008080\"> mM MgCl2, </span><span style=\"color: #c0c0c0; text-decoration-color: #c0c0c0; background-color: #008080; font-weight: bold\">1</span><span style=\"color: #c0c0c0; text-decoration-color: #c0c0c0; background-color: #008080\"> mM DTT, and </span><span style=\"color: #c0c0c0; text-decoration-color: #c0c0c0; background-color: #008080; font-weight: bold\">1</span><span style=\"color: #c0c0c0; text-decoration-color: #c0c0c0; background-color: #008080\"> mM ATP for </span><span style=\"color: #c0c0c0; text-decoration-color: #c0c0c0; background-color: #008080; font-weight: bold\">1</span><span style=\"color: #c0c0c0; text-decoration-color: #c0c0c0; background-color: #008080\"> h at room temperature with shaking.</span>\n",
       "</pre>\n"
      ],
      "text/plain": [
       "chunk: \u001b[37;42mAfter washing with ice-cold acetone and air drying, the radioactivity of the pellet was measured in a \u001b[0m\n",
       "\u001b[37;42mscintillation counter.\u001b[0m\u001b[37;46mTo isolate metabolically labeled β-catenin from Xenopus extracts, we used His-tagged APCm3 \u001b[0m\n",
       "\u001b[37;46mcross-linked to Ultralink beads \u001b[0m\u001b[1;37;46m(\u001b[0m\u001b[37;46mPierce, Woburn, Massachusetts, United States\u001b[0m\u001b[1;37;46m)\u001b[0m\u001b[37;46m. Since phosphorylated APC has a much\u001b[0m\n",
       "\u001b[37;46mhigher affinity for β-catenin, APCm3 beads were first phosphorylated with \u001b[0m\u001b[1;37;46m300\u001b[0m\u001b[37;46m nM His-tagged GSK3β in \u001b[0m\u001b[1;37;46m25\u001b[0m\u001b[37;46m mM HEPES \u001b[0m\n",
       "\u001b[1;37;46m(\u001b[0m\u001b[37;46mpH \u001b[0m\u001b[1;37;46m7.7\u001b[0m\u001b[1;37;46m)\u001b[0m\u001b[37;46m, \u001b[0m\u001b[1;37;46m1\u001b[0m\u001b[37;46m mM EDTA, \u001b[0m\u001b[1;37;46m300\u001b[0m\u001b[37;46m mM NaCl, \u001b[0m\u001b[1;37;46m10\u001b[0m\u001b[37;46m mM MgCl2, \u001b[0m\u001b[1;37;46m1\u001b[0m\u001b[37;46m mM DTT, and \u001b[0m\u001b[1;37;46m1\u001b[0m\u001b[37;46m mM ATP for \u001b[0m\u001b[1;37;46m1\u001b[0m\u001b[37;46m h at room temperature with shaking.\u001b[0m\n"
      ]
     },
     "metadata": {},
     "output_type": "display_data"
    },
    {
     "name": "stdin",
     "output_type": "stream",
     "text": [
      "Type 'k' to raise thresh, or 'j' - to lower it, then press 'Enter':  k\n"
     ]
    },
    {
     "data": {
      "text/html": [
       "<pre style=\"white-space:pre;overflow-x:auto;line-height:normal;font-family:Menlo,'DejaVu Sans Mono',consolas,'Courier New',monospace\">dist: <span style=\"color: #008080; text-decoration-color: #008080; font-weight: bold\">0.6907193064689636</span>\n",
       "</pre>\n"
      ],
      "text/plain": [
       "dist: \u001b[1;36m0.6907193064689636\u001b[0m\n"
      ]
     },
     "metadata": {},
     "output_type": "display_data"
    },
    {
     "data": {
      "text/html": [
       "<pre style=\"white-space:pre;overflow-x:auto;line-height:normal;font-family:Menlo,'DejaVu Sans Mono',consolas,'Courier New',monospace\">chunk: <span style=\"color: #c0c0c0; text-decoration-color: #c0c0c0; background-color: #008000\">Although we assayed primarily for SJ formation, analyses of CJ formation yielded parallel results </span><span style=\"color: #c0c0c0; text-decoration-color: #c0c0c0; background-color: #008000; font-weight: bold\">(</span><span style=\"color: #c0c0c0; text-decoration-color: #c0c0c0; background-color: #008000\">data not </span>\n",
       "<span style=\"color: #c0c0c0; text-decoration-color: #c0c0c0; background-color: #008000\">shown</span><span style=\"color: #c0c0c0; text-decoration-color: #c0c0c0; background-color: #008000; font-weight: bold\">)</span><span style=\"color: #c0c0c0; text-decoration-color: #c0c0c0; background-color: #008000\">.</span><span style=\"color: #c0c0c0; text-decoration-color: #c0c0c0; background-color: #008080\">As a reference, we used a substrate containing the </span><span style=\"color: #c0c0c0; text-decoration-color: #c0c0c0; background-color: #008080; font-weight: bold\">12</span><span style=\"color: #c0c0c0; text-decoration-color: #c0c0c0; background-color: #008080\">-RSS from the TCR Jβ2.</span><span style=\"color: #c0c0c0; text-decoration-color: #c0c0c0; background-color: #008080; font-weight: bold\">2</span><span style=\"color: #c0c0c0; text-decoration-color: #c0c0c0; background-color: #008080\"> gene element </span><span style=\"color: #c0c0c0; text-decoration-color: #c0c0c0; background-color: #008080; font-weight: bold\">(</span><span style=\"color: #c0c0c0; text-decoration-color: #c0c0c0; background-color: #008080\">see Figure </span><span style=\"color: #c0c0c0; text-decoration-color: #c0c0c0; background-color: #008080; font-weight: bold\">1</span><span style=\"color: #c0c0c0; text-decoration-color: #c0c0c0; background-color: #008080; font-weight: bold\">)</span><span style=\"color: #c0c0c0; text-decoration-color: #c0c0c0; background-color: #008080\">, </span>\n",
       "<span style=\"color: #c0c0c0; text-decoration-color: #c0c0c0; background-color: #008080\">which recombines at low but detectable levels, as measured both in our system and during T-lymphocyte development </span>\n",
       "<span style=\"color: #c0c0c0; text-decoration-color: #c0c0c0; background-color: #008080; font-weight: bold\">(</span><span style=\"color: #c0c0c0; text-decoration-color: #c0c0c0; background-color: #008080\">Figure </span><span style=\"color: #c0c0c0; text-decoration-color: #c0c0c0; background-color: #008080; font-weight: bold\">2</span><span style=\"color: #c0c0c0; text-decoration-color: #c0c0c0; background-color: #008080\">, lanes </span><span style=\"color: #c0c0c0; text-decoration-color: #c0c0c0; background-color: #008080; font-weight: bold\">1</span><span style=\"color: #c0c0c0; text-decoration-color: #c0c0c0; background-color: #008080\">–</span><span style=\"color: #c0c0c0; text-decoration-color: #c0c0c0; background-color: #008080; font-weight: bold\">4</span><span style=\"color: #c0c0c0; text-decoration-color: #c0c0c0; background-color: #008080; font-weight: bold\">)</span><span style=\"color: #c0c0c0; text-decoration-color: #c0c0c0; background-color: #008080\"> </span><span style=\"color: #c0c0c0; text-decoration-color: #c0c0c0; background-color: #008080; font-weight: bold\">(</span><span style=\"color: #c0c0c0; text-decoration-color: #c0c0c0; background-color: #008080\">Livàk et al. </span><span style=\"color: #c0c0c0; text-decoration-color: #c0c0c0; background-color: #008080; font-weight: bold\">2000</span><span style=\"color: #c0c0c0; text-decoration-color: #c0c0c0; background-color: #008080; font-weight: bold\">)</span><span style=\"color: #c0c0c0; text-decoration-color: #c0c0c0; background-color: #008080\">.</span>\n",
       "</pre>\n"
      ],
      "text/plain": [
       "chunk: \u001b[37;42mAlthough we assayed primarily for SJ formation, analyses of CJ formation yielded parallel results \u001b[0m\u001b[1;37;42m(\u001b[0m\u001b[37;42mdata not \u001b[0m\n",
       "\u001b[37;42mshown\u001b[0m\u001b[1;37;42m)\u001b[0m\u001b[37;42m.\u001b[0m\u001b[37;46mAs a reference, we used a substrate containing the \u001b[0m\u001b[1;37;46m12\u001b[0m\u001b[37;46m-RSS from the TCR Jβ2.\u001b[0m\u001b[1;37;46m2\u001b[0m\u001b[37;46m gene element \u001b[0m\u001b[1;37;46m(\u001b[0m\u001b[37;46msee Figure \u001b[0m\u001b[1;37;46m1\u001b[0m\u001b[1;37;46m)\u001b[0m\u001b[37;46m, \u001b[0m\n",
       "\u001b[37;46mwhich recombines at low but detectable levels, as measured both in our system and during T-lymphocyte development \u001b[0m\n",
       "\u001b[1;37;46m(\u001b[0m\u001b[37;46mFigure \u001b[0m\u001b[1;37;46m2\u001b[0m\u001b[37;46m, lanes \u001b[0m\u001b[1;37;46m1\u001b[0m\u001b[37;46m–\u001b[0m\u001b[1;37;46m4\u001b[0m\u001b[1;37;46m)\u001b[0m\u001b[37;46m \u001b[0m\u001b[1;37;46m(\u001b[0m\u001b[37;46mLivàk et al. \u001b[0m\u001b[1;37;46m2000\u001b[0m\u001b[1;37;46m)\u001b[0m\u001b[37;46m.\u001b[0m\n"
      ]
     },
     "metadata": {},
     "output_type": "display_data"
    },
    {
     "name": "stdin",
     "output_type": "stream",
     "text": [
      "Type 'k' to raise thresh, or 'j' - to lower it, then press 'Enter':  k\n"
     ]
    },
    {
     "data": {
      "text/html": [
       "<pre style=\"white-space:pre;overflow-x:auto;line-height:normal;font-family:Menlo,'DejaVu Sans Mono',consolas,'Courier New',monospace\">dist: <span style=\"color: #008080; text-decoration-color: #008080; font-weight: bold\">0.7346383929252625</span>\n",
       "</pre>\n"
      ],
      "text/plain": [
       "dist: \u001b[1;36m0.7346383929252625\u001b[0m\n"
      ]
     },
     "metadata": {},
     "output_type": "display_data"
    },
    {
     "data": {
      "text/html": [
       "<pre style=\"white-space:pre;overflow-x:auto;line-height:normal;font-family:Menlo,'DejaVu Sans Mono',consolas,'Courier New',monospace\">chunk: <span style=\"color: #c0c0c0; text-decoration-color: #c0c0c0; background-color: #008000\">The exercise of something less than full copyright requires, oddly, some legal tinkering—which is where </span>\n",
       "<span style=\"color: #c0c0c0; text-decoration-color: #c0c0c0; background-color: #008000\">Creative Commons, the organization I help manage, comes in.</span><span style=\"color: #c0c0c0; text-decoration-color: #c0c0c0; background-color: #008080\">Creative Commons, a </span><span style=\"color: #c0c0c0; text-decoration-color: #c0c0c0; background-color: #008080; font-weight: bold\">501</span><span style=\"color: #c0c0c0; text-decoration-color: #c0c0c0; background-color: #008080\"> </span><span style=\"color: #c0c0c0; text-decoration-color: #c0c0c0; background-color: #008080; font-weight: bold\">(</span><span style=\"color: #c0c0c0; text-decoration-color: #c0c0c0; background-color: #008080\">c</span><span style=\"color: #c0c0c0; text-decoration-color: #c0c0c0; background-color: #008080; font-weight: bold\">)</span><span style=\"color: #c0c0c0; text-decoration-color: #c0c0c0; background-color: #008080\"> </span><span style=\"color: #c0c0c0; text-decoration-color: #c0c0c0; background-color: #008080; font-weight: bold\">(</span><span style=\"color: #c0c0c0; text-decoration-color: #c0c0c0; background-color: #008080; font-weight: bold\">3</span><span style=\"color: #c0c0c0; text-decoration-color: #c0c0c0; background-color: #008080; font-weight: bold\">)</span><span style=\"color: #c0c0c0; text-decoration-color: #c0c0c0; background-color: #008080\"> nonprofit corporation </span>\n",
       "<span style=\"color: #c0c0c0; text-decoration-color: #c0c0c0; background-color: #008080\">based at Stanford University in California, is led by a board of expert legal and technical thinkers. </span><span style=\"color: #c0c0c0; text-decoration-color: #c0c0c0; background-color: #008080; font-weight: bold\">(</span><span style=\"color: #c0c0c0; text-decoration-color: #c0c0c0; background-color: #008080\">Its </span>\n",
       "<span style=\"color: #c0c0c0; text-decoration-color: #c0c0c0; background-color: #008080\">chairman, Lawrence Lessig, a law professor at Stanford and a recipient of the Scientific American </span><span style=\"color: #c0c0c0; text-decoration-color: #c0c0c0; background-color: #008080; font-weight: bold\">50</span><span style=\"color: #c0c0c0; text-decoration-color: #c0c0c0; background-color: #008080\"> Award in </span><span style=\"color: #c0c0c0; text-decoration-color: #c0c0c0; background-color: #008080; font-weight: bold\">2003</span><span style=\"color: #c0c0c0; text-decoration-color: #c0c0c0; background-color: #008080\">,</span>\n",
       "<span style=\"color: #c0c0c0; text-decoration-color: #c0c0c0; background-color: #008080\">recently joined the PLoS board of directors.</span><span style=\"color: #c0c0c0; text-decoration-color: #c0c0c0; background-color: #008080; font-weight: bold\">)</span><span style=\"color: #c0c0c0; text-decoration-color: #c0c0c0; background-color: #008080\"> Creative Commons was founded on the idea that some people prefer to </span>\n",
       "<span style=\"color: #c0c0c0; text-decoration-color: #c0c0c0; background-color: #008080\">share their works on more generous terms than standard copyright provides.</span>\n",
       "</pre>\n"
      ],
      "text/plain": [
       "chunk: \u001b[37;42mThe exercise of something less than full copyright requires, oddly, some legal tinkering—which is where \u001b[0m\n",
       "\u001b[37;42mCreative Commons, the organization I help manage, comes in.\u001b[0m\u001b[37;46mCreative Commons, a \u001b[0m\u001b[1;37;46m501\u001b[0m\u001b[37;46m \u001b[0m\u001b[1;37;46m(\u001b[0m\u001b[37;46mc\u001b[0m\u001b[1;37;46m)\u001b[0m\u001b[37;46m \u001b[0m\u001b[1;37;46m(\u001b[0m\u001b[1;37;46m3\u001b[0m\u001b[1;37;46m)\u001b[0m\u001b[37;46m nonprofit corporation \u001b[0m\n",
       "\u001b[37;46mbased at Stanford University in California, is led by a board of expert legal and technical thinkers. \u001b[0m\u001b[1;37;46m(\u001b[0m\u001b[37;46mIts \u001b[0m\n",
       "\u001b[37;46mchairman, Lawrence Lessig, a law professor at Stanford and a recipient of the Scientific American \u001b[0m\u001b[1;37;46m50\u001b[0m\u001b[37;46m Award in \u001b[0m\u001b[1;37;46m2003\u001b[0m\u001b[37;46m,\u001b[0m\n",
       "\u001b[37;46mrecently joined the PLoS board of directors.\u001b[0m\u001b[1;37;46m)\u001b[0m\u001b[37;46m Creative Commons was founded on the idea that some people prefer to \u001b[0m\n",
       "\u001b[37;46mshare their works on more generous terms than standard copyright provides.\u001b[0m\n"
      ]
     },
     "metadata": {},
     "output_type": "display_data"
    },
    {
     "name": "stdin",
     "output_type": "stream",
     "text": [
      "Type 'k' to raise thresh, or 'j' - to lower it, then press 'Enter':  j\n"
     ]
    },
    {
     "data": {
      "text/html": [
       "<pre style=\"white-space:pre;overflow-x:auto;line-height:normal;font-family:Menlo,'DejaVu Sans Mono',consolas,'Courier New',monospace\">dist: <span style=\"color: #008080; text-decoration-color: #008080; font-weight: bold\">0.7105299830436707</span>\n",
       "</pre>\n"
      ],
      "text/plain": [
       "dist: \u001b[1;36m0.7105299830436707\u001b[0m\n"
      ]
     },
     "metadata": {},
     "output_type": "display_data"
    },
    {
     "data": {
      "text/html": [
       "<pre style=\"white-space:pre;overflow-x:auto;line-height:normal;font-family:Menlo,'DejaVu Sans Mono',consolas,'Courier New',monospace\">chunk: <span style=\"color: #c0c0c0; text-decoration-color: #c0c0c0; background-color: #008000\">The H–Sc/Sac library contained roughly </span><span style=\"color: #c0c0c0; text-decoration-color: #c0c0c0; background-color: #008000; font-weight: bold\">80</span><span style=\"color: #c0c0c0; text-decoration-color: #c0c0c0; background-color: #008000\">,</span><span style=\"color: #c0c0c0; text-decoration-color: #c0c0c0; background-color: #008000; font-weight: bold\">000</span><span style=\"color: #c0c0c0; text-decoration-color: #c0c0c0; background-color: #008000\"> clones, sufficient to represent each of the </span><span style=\"color: #c0c0c0; text-decoration-color: #c0c0c0; background-color: #008000; font-weight: bold\">4</span><span style=\"color: #c0c0c0; text-decoration-color: #c0c0c0; background-color: #008000\">,</span><span style=\"color: #c0c0c0; text-decoration-color: #c0c0c0; background-color: #008000; font-weight: bold\">096</span><span style=\"color: #c0c0c0; text-decoration-color: #c0c0c0; background-color: #008000\"> possible </span>\n",
       "<span style=\"color: #c0c0c0; text-decoration-color: #c0c0c0; background-color: #008000\">spacer sequences multiple times </span><span style=\"color: #c0c0c0; text-decoration-color: #c0c0c0; background-color: #008000; font-weight: bold\">(</span><span style=\"color: #c0c0c0; text-decoration-color: #c0c0c0; background-color: #008000\">data not shown</span><span style=\"color: #c0c0c0; text-decoration-color: #c0c0c0; background-color: #008000; font-weight: bold\">)</span><span style=\"color: #c0c0c0; text-decoration-color: #c0c0c0; background-color: #008000\">.</span><span style=\"color: #c0c0c0; text-decoration-color: #c0c0c0; background-color: #008080\">We transfected the H–Sc/Sac library into 293T cells together with </span>\n",
       "<span style=\"color: #c0c0c0; text-decoration-color: #c0c0c0; background-color: #008080\">vectors expressing full-length RAG1 and RAG2, and we cloned and sequenced PCR-amplified SJs. As a control, we </span>\n",
       "<span style=\"color: #c0c0c0; text-decoration-color: #c0c0c0; background-color: #008080\">analyzed PCR products corresponding to unrearranged substrates from library pools transfected in the absence of </span>\n",
       "<span style=\"color: #c0c0c0; text-decoration-color: #c0c0c0; background-color: #008080\">RAG1 and RAG2 </span><span style=\"color: #c0c0c0; text-decoration-color: #c0c0c0; background-color: #008080; font-weight: bold\">(</span><span style=\"color: #c0c0c0; text-decoration-color: #c0c0c0; background-color: #008080\">Figure </span><span style=\"color: #c0c0c0; text-decoration-color: #c0c0c0; background-color: #008080; font-weight: bold\">6</span><span style=\"color: #c0c0c0; text-decoration-color: #c0c0c0; background-color: #008080; font-weight: bold\">)</span><span style=\"color: #c0c0c0; text-decoration-color: #c0c0c0; background-color: #008080\">.</span>\n",
       "</pre>\n"
      ],
      "text/plain": [
       "chunk: \u001b[37;42mThe H–Sc/Sac library contained roughly \u001b[0m\u001b[1;37;42m80\u001b[0m\u001b[37;42m,\u001b[0m\u001b[1;37;42m000\u001b[0m\u001b[37;42m clones, sufficient to represent each of the \u001b[0m\u001b[1;37;42m4\u001b[0m\u001b[37;42m,\u001b[0m\u001b[1;37;42m096\u001b[0m\u001b[37;42m possible \u001b[0m\n",
       "\u001b[37;42mspacer sequences multiple times \u001b[0m\u001b[1;37;42m(\u001b[0m\u001b[37;42mdata not shown\u001b[0m\u001b[1;37;42m)\u001b[0m\u001b[37;42m.\u001b[0m\u001b[37;46mWe transfected the H–Sc/Sac library into 293T cells together with \u001b[0m\n",
       "\u001b[37;46mvectors expressing full-length RAG1 and RAG2, and we cloned and sequenced PCR-amplified SJs. As a control, we \u001b[0m\n",
       "\u001b[37;46manalyzed PCR products corresponding to unrearranged substrates from library pools transfected in the absence of \u001b[0m\n",
       "\u001b[37;46mRAG1 and RAG2 \u001b[0m\u001b[1;37;46m(\u001b[0m\u001b[37;46mFigure \u001b[0m\u001b[1;37;46m6\u001b[0m\u001b[1;37;46m)\u001b[0m\u001b[37;46m.\u001b[0m\n"
      ]
     },
     "metadata": {},
     "output_type": "display_data"
    },
    {
     "name": "stdin",
     "output_type": "stream",
     "text": [
      "Type 'k' to raise thresh, or 'j' - to lower it, then press 'Enter':  j\n"
     ]
    },
    {
     "data": {
      "text/html": [
       "<pre style=\"white-space:pre;overflow-x:auto;line-height:normal;font-family:Menlo,'DejaVu Sans Mono',consolas,'Courier New',monospace\">dist: <span style=\"color: #008080; text-decoration-color: #008080; font-weight: bold\">0.7016243934631348</span>\n",
       "</pre>\n"
      ],
      "text/plain": [
       "dist: \u001b[1;36m0.7016243934631348\u001b[0m\n"
      ]
     },
     "metadata": {},
     "output_type": "display_data"
    },
    {
     "data": {
      "text/html": [
       "<pre style=\"white-space:pre;overflow-x:auto;line-height:normal;font-family:Menlo,'DejaVu Sans Mono',consolas,'Courier New',monospace\">chunk: <span style=\"color: #c0c0c0; text-decoration-color: #c0c0c0; background-color: #008000\">The sequence of panels from left to right is CT2, </span><span style=\"color: #c0c0c0; text-decoration-color: #c0c0c0; background-color: #008000; font-weight: bold\">6</span><span style=\"color: #c0c0c0; text-decoration-color: #c0c0c0; background-color: #008000\">, </span><span style=\"color: #c0c0c0; text-decoration-color: #c0c0c0; background-color: #008000; font-weight: bold\">10</span><span style=\"color: #c0c0c0; text-decoration-color: #c0c0c0; background-color: #008000\">, </span><span style=\"color: #c0c0c0; text-decoration-color: #c0c0c0; background-color: #008000; font-weight: bold\">14</span><span style=\"color: #c0c0c0; text-decoration-color: #c0c0c0; background-color: #008000\">, </span><span style=\"color: #c0c0c0; text-decoration-color: #c0c0c0; background-color: #008000; font-weight: bold\">18</span><span style=\"color: #c0c0c0; text-decoration-color: #c0c0c0; background-color: #008000\">, and </span><span style=\"color: #c0c0c0; text-decoration-color: #c0c0c0; background-color: #008000; font-weight: bold\">20</span><span style=\"color: #c0c0c0; text-decoration-color: #c0c0c0; background-color: #008000\">, respectively.</span><span style=\"color: #c0c0c0; text-decoration-color: #c0c0c0; background-color: #008080\">Wild-type brains </span><span style=\"color: #c0c0c0; text-decoration-color: #c0c0c0; background-color: #008080; font-weight: bold\">(</span><span style=\"color: #c0c0c0; text-decoration-color: #c0c0c0; background-color: #008080\">top </span>\n",
       "<span style=\"color: #c0c0c0; text-decoration-color: #c0c0c0; background-color: #008080\">row</span><span style=\"color: #c0c0c0; text-decoration-color: #c0c0c0; background-color: #008080; font-weight: bold\">)</span><span style=\"color: #c0c0c0; text-decoration-color: #c0c0c0; background-color: #008080\"> were assayed in parallel with those from the Pdf01 mutant </span><span style=\"color: #c0c0c0; text-decoration-color: #c0c0c0; background-color: #008080; font-weight: bold\">(</span><span style=\"color: #c0c0c0; text-decoration-color: #c0c0c0; background-color: #008080\">bottom row</span><span style=\"color: #c0c0c0; text-decoration-color: #c0c0c0; background-color: #008080; font-weight: bold\">)</span><span style=\"color: #c0c0c0; text-decoration-color: #c0c0c0; background-color: #008080\">. See text for details.</span>\n",
       "</pre>\n"
      ],
      "text/plain": [
       "chunk: \u001b[37;42mThe sequence of panels from left to right is CT2, \u001b[0m\u001b[1;37;42m6\u001b[0m\u001b[37;42m, \u001b[0m\u001b[1;37;42m10\u001b[0m\u001b[37;42m, \u001b[0m\u001b[1;37;42m14\u001b[0m\u001b[37;42m, \u001b[0m\u001b[1;37;42m18\u001b[0m\u001b[37;42m, and \u001b[0m\u001b[1;37;42m20\u001b[0m\u001b[37;42m, respectively.\u001b[0m\u001b[37;46mWild-type brains \u001b[0m\u001b[1;37;46m(\u001b[0m\u001b[37;46mtop \u001b[0m\n",
       "\u001b[37;46mrow\u001b[0m\u001b[1;37;46m)\u001b[0m\u001b[37;46m were assayed in parallel with those from the Pdf01 mutant \u001b[0m\u001b[1;37;46m(\u001b[0m\u001b[37;46mbottom row\u001b[0m\u001b[1;37;46m)\u001b[0m\u001b[37;46m. See text for details.\u001b[0m\n"
      ]
     },
     "metadata": {},
     "output_type": "display_data"
    },
    {
     "name": "stdin",
     "output_type": "stream",
     "text": [
      "Type 'k' to raise thresh, or 'j' - to lower it, then press 'Enter':  k\n"
     ]
    },
    {
     "data": {
      "text/html": [
       "<pre style=\"white-space:pre;overflow-x:auto;line-height:normal;font-family:Menlo,'DejaVu Sans Mono',consolas,'Courier New',monospace\">dist: <span style=\"color: #008080; text-decoration-color: #008080; font-weight: bold\">0.7055614590644836</span>\n",
       "</pre>\n"
      ],
      "text/plain": [
       "dist: \u001b[1;36m0.7055614590644836\u001b[0m\n"
      ]
     },
     "metadata": {},
     "output_type": "display_data"
    },
    {
     "data": {
      "text/html": [
       "<pre style=\"white-space:pre;overflow-x:auto;line-height:normal;font-family:Menlo,'DejaVu Sans Mono',consolas,'Courier New',monospace\">chunk: <span style=\"color: #c0c0c0; text-decoration-color: #c0c0c0; background-color: #008000\">Yet PLoS’ goal of “immediate, unrestricted access to scientific ideas, methods, results, and conclusions” is</span>\n",
       "<span style=\"color: #c0c0c0; text-decoration-color: #c0c0c0; background-color: #008000\">not immediately compatible with the stringent rules of copyright, which apply fully and automatically to all </span>\n",
       "<span style=\"color: #c0c0c0; text-decoration-color: #c0c0c0; background-color: #008000\">published works, by default.</span><span style=\"color: #c0c0c0; text-decoration-color: #c0c0c0; background-color: #008080\">The exercise of something less than full copyright requires, oddly, some legal </span>\n",
       "<span style=\"color: #c0c0c0; text-decoration-color: #c0c0c0; background-color: #008080\">tinkering—which is where Creative Commons, the organization I help manage, comes in. Creative Commons, a </span><span style=\"color: #c0c0c0; text-decoration-color: #c0c0c0; background-color: #008080; font-weight: bold\">501</span><span style=\"color: #c0c0c0; text-decoration-color: #c0c0c0; background-color: #008080\"> </span><span style=\"color: #c0c0c0; text-decoration-color: #c0c0c0; background-color: #008080; font-weight: bold\">(</span><span style=\"color: #c0c0c0; text-decoration-color: #c0c0c0; background-color: #008080\">c</span><span style=\"color: #c0c0c0; text-decoration-color: #c0c0c0; background-color: #008080; font-weight: bold\">)</span><span style=\"color: #c0c0c0; text-decoration-color: #c0c0c0; background-color: #008080\"> </span>\n",
       "<span style=\"color: #c0c0c0; text-decoration-color: #c0c0c0; background-color: #008080; font-weight: bold\">(</span><span style=\"color: #c0c0c0; text-decoration-color: #c0c0c0; background-color: #008080; font-weight: bold\">3</span><span style=\"color: #c0c0c0; text-decoration-color: #c0c0c0; background-color: #008080; font-weight: bold\">)</span><span style=\"color: #c0c0c0; text-decoration-color: #c0c0c0; background-color: #008080\"> nonprofit corporation based at Stanford University in California, is led by a board of expert legal and </span>\n",
       "<span style=\"color: #c0c0c0; text-decoration-color: #c0c0c0; background-color: #008080\">technical thinkers.</span>\n",
       "</pre>\n"
      ],
      "text/plain": [
       "chunk: \u001b[37;42mYet PLoS’ goal of “immediate, unrestricted access to scientific ideas, methods, results, and conclusions” is\u001b[0m\n",
       "\u001b[37;42mnot immediately compatible with the stringent rules of copyright, which apply fully and automatically to all \u001b[0m\n",
       "\u001b[37;42mpublished works, by default.\u001b[0m\u001b[37;46mThe exercise of something less than full copyright requires, oddly, some legal \u001b[0m\n",
       "\u001b[37;46mtinkering—which is where Creative Commons, the organization I help manage, comes in. Creative Commons, a \u001b[0m\u001b[1;37;46m501\u001b[0m\u001b[37;46m \u001b[0m\u001b[1;37;46m(\u001b[0m\u001b[37;46mc\u001b[0m\u001b[1;37;46m)\u001b[0m\u001b[37;46m \u001b[0m\n",
       "\u001b[1;37;46m(\u001b[0m\u001b[1;37;46m3\u001b[0m\u001b[1;37;46m)\u001b[0m\u001b[37;46m nonprofit corporation based at Stanford University in California, is led by a board of expert legal and \u001b[0m\n",
       "\u001b[37;46mtechnical thinkers.\u001b[0m\n"
      ]
     },
     "metadata": {},
     "output_type": "display_data"
    },
    {
     "name": "stdin",
     "output_type": "stream",
     "text": [
      "Type 'k' to raise thresh, or 'j' - to lower it, then press 'Enter':  j\n"
     ]
    },
    {
     "data": {
      "text/html": [
       "<pre style=\"white-space:pre;overflow-x:auto;line-height:normal;font-family:Menlo,'DejaVu Sans Mono',consolas,'Courier New',monospace\">dist: <span style=\"color: #008080; text-decoration-color: #008080; font-weight: bold\">0.703201174736023</span>\n",
       "</pre>\n"
      ],
      "text/plain": [
       "dist: \u001b[1;36m0.703201174736023\u001b[0m\n"
      ]
     },
     "metadata": {},
     "output_type": "display_data"
    },
    {
     "data": {
      "text/html": [
       "<pre style=\"white-space:pre;overflow-x:auto;line-height:normal;font-family:Menlo,'DejaVu Sans Mono',consolas,'Courier New',monospace\">chunk: <span style=\"color: #c0c0c0; text-decoration-color: #c0c0c0; background-color: #008000\">This idea provides one obvious explanation for the observed differences in SJ formation and cleavage </span>\n",
       "<span style=\"color: #c0c0c0; text-decoration-color: #c0c0c0; background-color: #008000\">efficiency among the various analyzed </span><span style=\"color: #c0c0c0; text-decoration-color: #c0c0c0; background-color: #008000; font-weight: bold\">12</span><span style=\"color: #c0c0c0; text-decoration-color: #c0c0c0; background-color: #008000\">-RSSs.</span><span style=\"color: #c0c0c0; text-decoration-color: #c0c0c0; background-color: #008080\">To address this possibility, we analyzed binding of the RAG proteins </span>\n",
       "<span style=\"color: #c0c0c0; text-decoration-color: #c0c0c0; background-color: #008080\">to individual isolated </span><span style=\"color: #c0c0c0; text-decoration-color: #c0c0c0; background-color: #008080; font-weight: bold\">12</span><span style=\"color: #c0c0c0; text-decoration-color: #c0c0c0; background-color: #008080\">-RSSs, since the </span><span style=\"color: #c0c0c0; text-decoration-color: #c0c0c0; background-color: #008080; font-weight: bold\">23</span><span style=\"color: #c0c0c0; text-decoration-color: #c0c0c0; background-color: #008080\">-RSS remained identical in all experiments described above. Binding was</span>\n",
       "<span style=\"color: #c0c0c0; text-decoration-color: #c0c0c0; background-color: #008080\">assessed in standard gel-shift assays using oligonucleotide substrates containing the respective </span><span style=\"color: #c0c0c0; text-decoration-color: #c0c0c0; background-color: #008080; font-weight: bold\">12</span><span style=\"color: #c0c0c0; text-decoration-color: #c0c0c0; background-color: #008080\">-RSSs </span><span style=\"color: #c0c0c0; text-decoration-color: #c0c0c0; background-color: #008080; font-weight: bold\">(</span><span style=\"color: #c0c0c0; text-decoration-color: #c0c0c0; background-color: #008080\">Figure </span>\n",
       "<span style=\"color: #c0c0c0; text-decoration-color: #c0c0c0; background-color: #008080\">5A</span><span style=\"color: #c0c0c0; text-decoration-color: #c0c0c0; background-color: #008080; font-weight: bold\">)</span><span style=\"color: #c0c0c0; text-decoration-color: #c0c0c0; background-color: #008080\">.</span>\n",
       "</pre>\n"
      ],
      "text/plain": [
       "chunk: \u001b[37;42mThis idea provides one obvious explanation for the observed differences in SJ formation and cleavage \u001b[0m\n",
       "\u001b[37;42mefficiency among the various analyzed \u001b[0m\u001b[1;37;42m12\u001b[0m\u001b[37;42m-RSSs.\u001b[0m\u001b[37;46mTo address this possibility, we analyzed binding of the RAG proteins \u001b[0m\n",
       "\u001b[37;46mto individual isolated \u001b[0m\u001b[1;37;46m12\u001b[0m\u001b[37;46m-RSSs, since the \u001b[0m\u001b[1;37;46m23\u001b[0m\u001b[37;46m-RSS remained identical in all experiments described above. Binding was\u001b[0m\n",
       "\u001b[37;46massessed in standard gel-shift assays using oligonucleotide substrates containing the respective \u001b[0m\u001b[1;37;46m12\u001b[0m\u001b[37;46m-RSSs \u001b[0m\u001b[1;37;46m(\u001b[0m\u001b[37;46mFigure \u001b[0m\n",
       "\u001b[37;46m5A\u001b[0m\u001b[1;37;46m)\u001b[0m\u001b[37;46m.\u001b[0m\n"
      ]
     },
     "metadata": {},
     "output_type": "display_data"
    },
    {
     "name": "stdin",
     "output_type": "stream",
     "text": [
      "Type 'k' to raise thresh, or 'j' - to lower it, then press 'Enter':  j\n"
     ]
    },
    {
     "data": {
      "text/html": [
       "<pre style=\"white-space:pre;overflow-x:auto;line-height:normal;font-family:Menlo,'DejaVu Sans Mono',consolas,'Courier New',monospace\">dist: <span style=\"color: #008080; text-decoration-color: #008080; font-weight: bold\">0.7022435069084167</span>\n",
       "</pre>\n"
      ],
      "text/plain": [
       "dist: \u001b[1;36m0.7022435069084167\u001b[0m\n"
      ]
     },
     "metadata": {},
     "output_type": "display_data"
    },
    {
     "data": {
      "text/html": [
       "<pre style=\"white-space:pre;overflow-x:auto;line-height:normal;font-family:Menlo,'DejaVu Sans Mono',consolas,'Courier New',monospace\">chunk: <span style=\"color: #c0c0c0; text-decoration-color: #c0c0c0; background-color: #008000\">Support came from National Science Foundation Biocomplexity grant number </span><span style=\"color: #c0c0c0; text-decoration-color: #c0c0c0; background-color: #008000; font-weight: bold\">9978518.</span><span style=\"color: #c0c0c0; text-decoration-color: #c0c0c0; background-color: #008080\">Conflicts of Interest. The </span>\n",
       "<span style=\"color: #c0c0c0; text-decoration-color: #c0c0c0; background-color: #008080\">authors have declared that no conflicts of interest exist.</span>\n",
       "</pre>\n"
      ],
      "text/plain": [
       "chunk: \u001b[37;42mSupport came from National Science Foundation Biocomplexity grant number \u001b[0m\u001b[1;37;42m9978518.\u001b[0m\u001b[37;46mConflicts of Interest. The \u001b[0m\n",
       "\u001b[37;46mauthors have declared that no conflicts of interest exist.\u001b[0m\n"
      ]
     },
     "metadata": {},
     "output_type": "display_data"
    },
    {
     "name": "stdin",
     "output_type": "stream",
     "text": [
      "Type 'k' to raise thresh, or 'j' - to lower it, then press 'Enter':  j\n"
     ]
    },
    {
     "data": {
      "text/html": [
       "<pre style=\"white-space:pre;overflow-x:auto;line-height:normal;font-family:Menlo,'DejaVu Sans Mono',consolas,'Courier New',monospace\">dist: <span style=\"color: #008080; text-decoration-color: #008080; font-weight: bold\">0.7018628120422363</span>\n",
       "</pre>\n"
      ],
      "text/plain": [
       "dist: \u001b[1;36m0.7018628120422363\u001b[0m\n"
      ]
     },
     "metadata": {},
     "output_type": "display_data"
    },
    {
     "data": {
      "text/html": [
       "<pre style=\"white-space:pre;overflow-x:auto;line-height:normal;font-family:Menlo,'DejaVu Sans Mono',consolas,'Courier New',monospace\">chunk: <span style=\"color: #c0c0c0; text-decoration-color: #c0c0c0; background-color: #008000\">It differed only slightly from other tested topologies </span><span style=\"color: #c0c0c0; text-decoration-color: #c0c0c0; background-color: #008000; font-weight: bold\">(</span><span style=\"color: #c0c0c0; text-decoration-color: #c0c0c0; background-color: #008000\">see Figure </span><span style=\"color: #c0c0c0; text-decoration-color: #c0c0c0; background-color: #008000; font-weight: bold\">2</span><span style=\"color: #c0c0c0; text-decoration-color: #c0c0c0; background-color: #008000; font-weight: bold\">)</span><span style=\"color: #c0c0c0; text-decoration-color: #c0c0c0; background-color: #008000\"> that also are not rejected by many </span>\n",
       "<span style=\"color: #c0c0c0; text-decoration-color: #c0c0c0; background-color: #008000\">individual alignments </span><span style=\"color: #c0c0c0; text-decoration-color: #c0c0c0; background-color: #008000; font-weight: bold\">(</span><span style=\"color: #c0c0c0; text-decoration-color: #c0c0c0; background-color: #008000\">see Figure </span><span style=\"color: #c0c0c0; text-decoration-color: #c0c0c0; background-color: #008000; font-weight: bold\">3</span><span style=\"color: #c0c0c0; text-decoration-color: #c0c0c0; background-color: #008000; font-weight: bold\">)</span><span style=\"color: #c0c0c0; text-decoration-color: #c0c0c0; background-color: #008000\">.</span><span style=\"color: #c0c0c0; text-decoration-color: #c0c0c0; background-color: #008080\">Finally, an SH test performed using the complete concatenated alignment shows </span>\n",
       "<span style=\"color: #c0c0c0; text-decoration-color: #c0c0c0; background-color: #008080\">that this topology is significantly more likely than all alternative hypotheses. Figure </span><span style=\"color: #c0c0c0; text-decoration-color: #c0c0c0; background-color: #008080; font-weight: bold\">5</span><span style=\"color: #c0c0c0; text-decoration-color: #c0c0c0; background-color: #008080\"> Tree Based on the </span>\n",
       "<span style=\"color: #c0c0c0; text-decoration-color: #c0c0c0; background-color: #008080\">Concatenation of the </span><span style=\"color: #c0c0c0; text-decoration-color: #c0c0c0; background-color: #008080; font-weight: bold\">205</span><span style=\"color: #c0c0c0; text-decoration-color: #c0c0c0; background-color: #008080\"> Proteins </span><span style=\"color: #c0c0c0; text-decoration-color: #c0c0c0; background-color: #008080; font-weight: bold\">(</span><span style=\"color: #c0c0c0; text-decoration-color: #c0c0c0; background-color: #008080\">NJ</span><span style=\"color: #c0c0c0; text-decoration-color: #c0c0c0; background-color: #008080; font-weight: bold\">)</span>\n",
       "</pre>\n"
      ],
      "text/plain": [
       "chunk: \u001b[37;42mIt differed only slightly from other tested topologies \u001b[0m\u001b[1;37;42m(\u001b[0m\u001b[37;42msee Figure \u001b[0m\u001b[1;37;42m2\u001b[0m\u001b[1;37;42m)\u001b[0m\u001b[37;42m that also are not rejected by many \u001b[0m\n",
       "\u001b[37;42mindividual alignments \u001b[0m\u001b[1;37;42m(\u001b[0m\u001b[37;42msee Figure \u001b[0m\u001b[1;37;42m3\u001b[0m\u001b[1;37;42m)\u001b[0m\u001b[37;42m.\u001b[0m\u001b[37;46mFinally, an SH test performed using the complete concatenated alignment shows \u001b[0m\n",
       "\u001b[37;46mthat this topology is significantly more likely than all alternative hypotheses. Figure \u001b[0m\u001b[1;37;46m5\u001b[0m\u001b[37;46m Tree Based on the \u001b[0m\n",
       "\u001b[37;46mConcatenation of the \u001b[0m\u001b[1;37;46m205\u001b[0m\u001b[37;46m Proteins \u001b[0m\u001b[1;37;46m(\u001b[0m\u001b[37;46mNJ\u001b[0m\u001b[1;37;46m)\u001b[0m\n"
      ]
     },
     "metadata": {},
     "output_type": "display_data"
    },
    {
     "name": "stdin",
     "output_type": "stream",
     "text": [
      "Type 'k' to raise thresh, or 'j' - to lower it, then press 'Enter':  j\n"
     ]
    },
    {
     "data": {
      "text/html": [
       "<pre style=\"white-space:pre;overflow-x:auto;line-height:normal;font-family:Menlo,'DejaVu Sans Mono',consolas,'Courier New',monospace\">dist: <span style=\"color: #008080; text-decoration-color: #008080; font-weight: bold\">0.7017768621444702</span>\n",
       "</pre>\n"
      ],
      "text/plain": [
       "dist: \u001b[1;36m0.7017768621444702\u001b[0m\n"
      ]
     },
     "metadata": {},
     "output_type": "display_data"
    },
    {
     "data": {
      "text/html": [
       "<pre style=\"white-space:pre;overflow-x:auto;line-height:normal;font-family:Menlo,'DejaVu Sans Mono',consolas,'Courier New',monospace\">chunk: <span style=\"color: #c0c0c0; text-decoration-color: #c0c0c0; background-color: #008000\">First, the genetic map positions of all uncloned genetic mutants with visible phenotypes were checked using </span>\n",
       "<span style=\"color: #c0c0c0; text-decoration-color: #c0c0c0; background-color: #008000\">WormBase </span><span style=\"color: #c0c0c0; text-decoration-color: #c0c0c0; background-color: #008000; font-weight: bold\">(</span><span style=\"color: #c0c0c0; text-decoration-color: #c0c0c0; background-color: #008000; text-decoration: underline\">http://www.wormbase.org,</span><span style=\"color: #c0c0c0; text-decoration-color: #c0c0c0; background-color: #008000\"> the Internet site for the genetics, genomics, and biology of C.</span><span style=\"color: #c0c0c0; text-decoration-color: #c0c0c0; background-color: #008080\">elegans</span><span style=\"color: #c0c0c0; text-decoration-color: #c0c0c0; background-color: #008080; font-weight: bold\">)</span><span style=\"color: #c0c0c0; text-decoration-color: #c0c0c0; background-color: #008080\">. Second,</span>\n",
       "<span style=\"color: #c0c0c0; text-decoration-color: #c0c0c0; background-color: #008080\">we searched for clones near the defined map positions that, when fed to N2, rrf-</span><span style=\"color: #c0c0c0; text-decoration-color: #c0c0c0; background-color: #008080; font-weight: bold\">3</span><span style=\"color: #c0c0c0; text-decoration-color: #c0c0c0; background-color: #008080\">, or both, gave phenotypes </span>\n",
       "<span style=\"color: #c0c0c0; text-decoration-color: #c0c0c0; background-color: #008080\">corresponding to the phenotypes of the genetic mutants.</span>\n",
       "</pre>\n"
      ],
      "text/plain": [
       "chunk: \u001b[37;42mFirst, the genetic map positions of all uncloned genetic mutants with visible phenotypes were checked using \u001b[0m\n",
       "\u001b[37;42mWormBase \u001b[0m\u001b[1;37;42m(\u001b[0m\u001b[4;37;42mhttp://www.wormbase.org,\u001b[0m\u001b[37;42m the Internet site for the genetics, genomics, and biology of C.\u001b[0m\u001b[37;46melegans\u001b[0m\u001b[1;37;46m)\u001b[0m\u001b[37;46m. Second,\u001b[0m\n",
       "\u001b[37;46mwe searched for clones near the defined map positions that, when fed to N2, rrf-\u001b[0m\u001b[1;37;46m3\u001b[0m\u001b[37;46m, or both, gave phenotypes \u001b[0m\n",
       "\u001b[37;46mcorresponding to the phenotypes of the genetic mutants.\u001b[0m\n"
      ]
     },
     "metadata": {},
     "output_type": "display_data"
    },
    {
     "name": "stdin",
     "output_type": "stream",
     "text": [
      "Type 'k' to raise thresh, or 'j' - to lower it, then press 'Enter':  j\n"
     ]
    },
    {
     "data": {
      "text/html": [
       "<pre style=\"white-space:pre;overflow-x:auto;line-height:normal;font-family:Menlo,'DejaVu Sans Mono',consolas,'Courier New',monospace\">dist: <span style=\"color: #008080; text-decoration-color: #008080; font-weight: bold\">0.7016535997390747</span>\n",
       "</pre>\n"
      ],
      "text/plain": [
       "dist: \u001b[1;36m0.7016535997390747\u001b[0m\n"
      ]
     },
     "metadata": {},
     "output_type": "display_data"
    },
    {
     "data": {
      "text/html": [
       "<pre style=\"white-space:pre;overflow-x:auto;line-height:normal;font-family:Menlo,'DejaVu Sans Mono',consolas,'Courier New',monospace\">chunk: <span style=\"color: #c0c0c0; text-decoration-color: #c0c0c0; background-color: #008000\">falciparum IDC dataset, a similar computational approach was taken.</span><span style=\"color: #c0c0c0; text-decoration-color: #c0c0c0; background-color: #008080\">We performed simple Fourier analysis, </span>\n",
       "<span style=\"color: #c0c0c0; text-decoration-color: #c0c0c0; background-color: #008080\">which allowed us to calculate both the apparent phase and frequency of expression for each gene during the IDC </span><span style=\"color: #c0c0c0; text-decoration-color: #c0c0c0; background-color: #008080; font-weight: bold\">(</span><span style=\"color: #c0c0c0; text-decoration-color: #c0c0c0; background-color: #008080\">see</span>\n",
       "<span style=\"color: #c0c0c0; text-decoration-color: #c0c0c0; background-color: #008080\">Materials and Methods</span><span style=\"color: #c0c0c0; text-decoration-color: #c0c0c0; background-color: #008080; font-weight: bold\">)</span><span style=\"color: #c0c0c0; text-decoration-color: #c0c0c0; background-color: #008080\">. The fast Fourier transform </span><span style=\"color: #c0c0c0; text-decoration-color: #c0c0c0; background-color: #008080; font-weight: bold\">(</span><span style=\"color: #c0c0c0; text-decoration-color: #c0c0c0; background-color: #008080\">FFT</span><span style=\"color: #c0c0c0; text-decoration-color: #c0c0c0; background-color: #008080; font-weight: bold\">)</span><span style=\"color: #c0c0c0; text-decoration-color: #c0c0c0; background-color: #008080\"> maps a function in a time domain </span><span style=\"color: #c0c0c0; text-decoration-color: #c0c0c0; background-color: #008080; font-weight: bold\">(</span><span style=\"color: #c0c0c0; text-decoration-color: #c0c0c0; background-color: #008080\">the expression profile</span><span style=\"color: #c0c0c0; text-decoration-color: #c0c0c0; background-color: #008080; font-weight: bold\">)</span><span style=\"color: #c0c0c0; text-decoration-color: #c0c0c0; background-color: #008080\"> </span>\n",
       "<span style=\"color: #c0c0c0; text-decoration-color: #c0c0c0; background-color: #008080\">into a frequency domain such that when the mapped function is plotted </span><span style=\"color: #c0c0c0; text-decoration-color: #c0c0c0; background-color: #008080; font-weight: bold\">(</span><span style=\"color: #c0c0c0; text-decoration-color: #c0c0c0; background-color: #008080\">the power spectra</span><span style=\"color: #c0c0c0; text-decoration-color: #c0c0c0; background-color: #008080; font-weight: bold\">)</span><span style=\"color: #c0c0c0; text-decoration-color: #c0c0c0; background-color: #008080\">, sharp peaks appear at </span>\n",
       "<span style=\"color: #c0c0c0; text-decoration-color: #c0c0c0; background-color: #008080\">frequencies where there is intrinsic periodicity.</span>\n",
       "</pre>\n"
      ],
      "text/plain": [
       "chunk: \u001b[37;42mfalciparum IDC dataset, a similar computational approach was taken.\u001b[0m\u001b[37;46mWe performed simple Fourier analysis, \u001b[0m\n",
       "\u001b[37;46mwhich allowed us to calculate both the apparent phase and frequency of expression for each gene during the IDC \u001b[0m\u001b[1;37;46m(\u001b[0m\u001b[37;46msee\u001b[0m\n",
       "\u001b[37;46mMaterials and Methods\u001b[0m\u001b[1;37;46m)\u001b[0m\u001b[37;46m. The fast Fourier transform \u001b[0m\u001b[1;37;46m(\u001b[0m\u001b[37;46mFFT\u001b[0m\u001b[1;37;46m)\u001b[0m\u001b[37;46m maps a function in a time domain \u001b[0m\u001b[1;37;46m(\u001b[0m\u001b[37;46mthe expression profile\u001b[0m\u001b[1;37;46m)\u001b[0m\u001b[37;46m \u001b[0m\n",
       "\u001b[37;46minto a frequency domain such that when the mapped function is plotted \u001b[0m\u001b[1;37;46m(\u001b[0m\u001b[37;46mthe power spectra\u001b[0m\u001b[1;37;46m)\u001b[0m\u001b[37;46m, sharp peaks appear at \u001b[0m\n",
       "\u001b[37;46mfrequencies where there is intrinsic periodicity.\u001b[0m\n"
      ]
     },
     "metadata": {},
     "output_type": "display_data"
    },
    {
     "data": {
      "text/html": [
       "<pre style=\"white-space:pre;overflow-x:auto;line-height:normal;font-family:Menlo,'DejaVu Sans Mono',consolas,'Courier New',monospace\">Tuning ended, thresh value: <span style=\"color: #008080; text-decoration-color: #008080; font-weight: bold\">0.7016535997390747</span> = <span style=\"color: #008080; text-decoration-color: #008080; font-weight: bold\">0.70</span>\n",
       "</pre>\n"
      ],
      "text/plain": [
       "Tuning ended, thresh value: \u001b[1;36m0.7016535997390747\u001b[0m = \u001b[1;36m0.70\u001b[0m\n"
      ]
     },
     "metadata": {},
     "output_type": "display_data"
    }
   ],
   "source": [
    "splitter = SentenceSplitter(text=datasets['pubmed'])\n",
    "splits = splitter()\n",
    "res = tuner(splits, depth=DEPTH)\n",
    "thresholds.append(res)"
   ]
  },
  {
   "cell_type": "markdown",
   "id": "eb3ded89-77c5-4133-b655-5478f57517bc",
   "metadata": {},
   "source": [
    "**state_of_the_union**"
   ]
  },
  {
   "cell_type": "code",
   "execution_count": 9,
   "id": "3ae23541-5810-4eaf-8488-2250628fec20",
   "metadata": {
    "scrolled": true
   },
   "outputs": [
    {
     "name": "stderr",
     "output_type": "stream",
     "text": [
      "100%|████████████████████████████████████████████████████████████████████████████████████████████████████████████████████████████████| 658/658 [00:39<00:00, 16.84it/s]\n"
     ]
    },
    {
     "data": {
      "text/html": [
       "<pre style=\"white-space:pre;overflow-x:auto;line-height:normal;font-family:Menlo,'DejaVu Sans Mono',consolas,'Courier New',monospace\"><span style=\"color: #008080; text-decoration-color: #008080; font-weight: bold\">657</span> chunks formed\n",
       "</pre>\n"
      ],
      "text/plain": [
       "\u001b[1;36m657\u001b[0m chunks formed\n"
      ]
     },
     "metadata": {},
     "output_type": "display_data"
    },
    {
     "data": {
      "text/html": [
       "<pre style=\"white-space:pre;overflow-x:auto;line-height:normal;font-family:Menlo,'DejaVu Sans Mono',consolas,'Courier New',monospace\">Values range: <span style=\"font-weight: bold\">[</span><span style=\"color: #008080; text-decoration-color: #008080; font-weight: bold\">0.06096596270799637</span> <span style=\"color: #808000; text-decoration-color: #808000\">...</span> <span style=\"color: #008080; text-decoration-color: #008080; font-weight: bold\">0.9999999403953552</span><span style=\"font-weight: bold\">]</span>\n",
       "</pre>\n"
      ],
      "text/plain": [
       "Values range: \u001b[1m[\u001b[0m\u001b[1;36m0.06096596270799637\u001b[0m \u001b[33m...\u001b[0m \u001b[1;36m0.9999999403953552\u001b[0m\u001b[1m]\u001b[0m\n"
      ]
     },
     "metadata": {},
     "output_type": "display_data"
    },
    {
     "data": {
      "text/html": [
       "<pre style=\"white-space:pre;overflow-x:auto;line-height:normal;font-family:Menlo,'DejaVu Sans Mono',consolas,'Courier New',monospace\">Steps to tune: <span style=\"color: #008080; text-decoration-color: #008080; font-weight: bold\">9</span>\n",
       "</pre>\n"
      ],
      "text/plain": [
       "Steps to tune: \u001b[1;36m9\u001b[0m\n"
      ]
     },
     "metadata": {},
     "output_type": "display_data"
    },
    {
     "data": {
      "text/html": [
       "<pre style=\"white-space:pre;overflow-x:auto;line-height:normal;font-family:Menlo,'DejaVu Sans Mono',consolas,'Courier New',monospace\">--------------------------------\n",
       "</pre>\n"
      ],
      "text/plain": [
       "--------------------------------\n"
      ]
     },
     "metadata": {},
     "output_type": "display_data"
    },
    {
     "data": {
      "text/html": [
       "<pre style=\"white-space:pre;overflow-x:auto;line-height:normal;font-family:Menlo,'DejaVu Sans Mono',consolas,'Courier New',monospace\">dist: <span style=\"color: #008080; text-decoration-color: #008080; font-weight: bold\">0.7183866500854492</span>\n",
       "</pre>\n"
      ],
      "text/plain": [
       "dist: \u001b[1;36m0.7183866500854492\u001b[0m\n"
      ]
     },
     "metadata": {},
     "output_type": "display_data"
    },
    {
     "data": {
      "text/html": [
       "<pre style=\"white-space:pre;overflow-x:auto;line-height:normal;font-family:Menlo,'DejaVu Sans Mono',consolas,'Courier New',monospace\">chunk: <span style=\"color: #c0c0c0; text-decoration-color: #c0c0c0; background-color: #008000\">Eight hundred thousand new manufacturing jobs in America and counting.</span><span style=\"color: #c0c0c0; text-decoration-color: #c0c0c0; background-color: #008080\">Where is it written we can’t be the </span>\n",
       "<span style=\"color: #c0c0c0; text-decoration-color: #c0c0c0; background-color: #008080\">manufacturing capital of the world? We are and we will.</span>\n",
       "</pre>\n"
      ],
      "text/plain": [
       "chunk: \u001b[37;42mEight hundred thousand new manufacturing jobs in America and counting.\u001b[0m\u001b[37;46mWhere is it written we can’t be the \u001b[0m\n",
       "\u001b[37;46mmanufacturing capital of the world? We are and we will.\u001b[0m\n"
      ]
     },
     "metadata": {},
     "output_type": "display_data"
    },
    {
     "name": "stdin",
     "output_type": "stream",
     "text": [
      "Type 'k' to raise thresh, or 'j' - to lower it, then press 'Enter':  j\n"
     ]
    },
    {
     "data": {
      "text/html": [
       "<pre style=\"white-space:pre;overflow-x:auto;line-height:normal;font-family:Menlo,'DejaVu Sans Mono',consolas,'Courier New',monospace\">dist: <span style=\"color: #008080; text-decoration-color: #008080; font-weight: bold\">0.570779025554657</span>\n",
       "</pre>\n"
      ],
      "text/plain": [
       "dist: \u001b[1;36m0.570779025554657\u001b[0m\n"
      ]
     },
     "metadata": {},
     "output_type": "display_data"
    },
    {
     "data": {
      "text/html": [
       "<pre style=\"white-space:pre;overflow-x:auto;line-height:normal;font-family:Menlo,'DejaVu Sans Mono',consolas,'Courier New',monospace\">chunk: <span style=\"color: #c0c0c0; text-decoration-color: #c0c0c0; background-color: #008000\">And there’s more to do to make sure you’re feeling the benefits of all we’re doing.</span><span style=\"color: #c0c0c0; text-decoration-color: #c0c0c0; background-color: #008080\">Americans pay more for </span>\n",
       "<span style=\"color: #c0c0c0; text-decoration-color: #c0c0c0; background-color: #008080\">prescription drugs than anywhere in the world. It’s wrong, and I’m ending it.</span>\n",
       "</pre>\n"
      ],
      "text/plain": [
       "chunk: \u001b[37;42mAnd there’s more to do to make sure you’re feeling the benefits of all we’re doing.\u001b[0m\u001b[37;46mAmericans pay more for \u001b[0m\n",
       "\u001b[37;46mprescription drugs than anywhere in the world. It’s wrong, and I’m ending it.\u001b[0m\n"
      ]
     },
     "metadata": {},
     "output_type": "display_data"
    },
    {
     "name": "stdin",
     "output_type": "stream",
     "text": [
      "Type 'k' to raise thresh, or 'j' - to lower it, then press 'Enter':  k\n"
     ]
    },
    {
     "data": {
      "text/html": [
       "<pre style=\"white-space:pre;overflow-x:auto;line-height:normal;font-family:Menlo,'DejaVu Sans Mono',consolas,'Courier New',monospace\">dist: <span style=\"color: #008080; text-decoration-color: #008080; font-weight: bold\">0.6527495384216309</span>\n",
       "</pre>\n"
      ],
      "text/plain": [
       "dist: \u001b[1;36m0.6527495384216309\u001b[0m\n"
      ]
     },
     "metadata": {},
     "output_type": "display_data"
    },
    {
     "data": {
      "text/html": [
       "<pre style=\"white-space:pre;overflow-x:auto;line-height:normal;font-family:Menlo,'DejaVu Sans Mono',consolas,'Courier New',monospace\">chunk: <span style=\"color: #c0c0c0; text-decoration-color: #c0c0c0; background-color: #008000\">We’re standing up for peace and stability across the Taiwan Straits.</span><span style=\"color: #c0c0c0; text-decoration-color: #c0c0c0; background-color: #008080\">I’ve revitalized our partnership and </span>\n",
       "<span style=\"color: #c0c0c0; text-decoration-color: #c0c0c0; background-color: #008080\">alliance in the Pacific: India, Australia, Japan, South Korea, the Pacific Islands. I’ve made sure that the most </span>\n",
       "<span style=\"color: #c0c0c0; text-decoration-color: #c0c0c0; background-color: #008080\">advanced American technologies can’t be used in China — not allowing to trade them there.</span>\n",
       "</pre>\n"
      ],
      "text/plain": [
       "chunk: \u001b[37;42mWe’re standing up for peace and stability across the Taiwan Straits.\u001b[0m\u001b[37;46mI’ve revitalized our partnership and \u001b[0m\n",
       "\u001b[37;46malliance in the Pacific: India, Australia, Japan, South Korea, the Pacific Islands. I’ve made sure that the most \u001b[0m\n",
       "\u001b[37;46madvanced American technologies can’t be used in China — not allowing to trade them there.\u001b[0m\n"
      ]
     },
     "metadata": {},
     "output_type": "display_data"
    },
    {
     "name": "stdin",
     "output_type": "stream",
     "text": [
      "Type 'k' to raise thresh, or 'j' - to lower it, then press 'Enter':  k\n"
     ]
    },
    {
     "data": {
      "text/html": [
       "<pre style=\"white-space:pre;overflow-x:auto;line-height:normal;font-family:Menlo,'DejaVu Sans Mono',consolas,'Courier New',monospace\">dist: <span style=\"color: #008080; text-decoration-color: #008080; font-weight: bold\">0.682243287563324</span>\n",
       "</pre>\n"
      ],
      "text/plain": [
       "dist: \u001b[1;36m0.682243287563324\u001b[0m\n"
      ]
     },
     "metadata": {},
     "output_type": "display_data"
    },
    {
     "data": {
      "text/html": [
       "<pre style=\"white-space:pre;overflow-x:auto;line-height:normal;font-family:Menlo,'DejaVu Sans Mono',consolas,'Courier New',monospace\">chunk: <span style=\"color: #c0c0c0; text-decoration-color: #c0c0c0; background-color: #008000\">I’m optimistic.</span><span style=\"color: #c0c0c0; text-decoration-color: #c0c0c0; background-color: #008080\">I really am. I’m optimistic, Nancy.</span>\n",
       "</pre>\n"
      ],
      "text/plain": [
       "chunk: \u001b[37;42mI’m optimistic.\u001b[0m\u001b[37;46mI really am. I’m optimistic, Nancy.\u001b[0m\n"
      ]
     },
     "metadata": {},
     "output_type": "display_data"
    },
    {
     "name": "stdin",
     "output_type": "stream",
     "text": [
      "Type 'k' to raise thresh, or 'j' - to lower it, then press 'Enter':  j\n"
     ]
    },
    {
     "data": {
      "text/html": [
       "<pre style=\"white-space:pre;overflow-x:auto;line-height:normal;font-family:Menlo,'DejaVu Sans Mono',consolas,'Courier New',monospace\">dist: <span style=\"color: #008080; text-decoration-color: #008080; font-weight: bold\">0.6652200818061829</span>\n",
       "</pre>\n"
      ],
      "text/plain": [
       "dist: \u001b[1;36m0.6652200818061829\u001b[0m\n"
      ]
     },
     "metadata": {},
     "output_type": "display_data"
    },
    {
     "data": {
      "text/html": [
       "<pre style=\"white-space:pre;overflow-x:auto;line-height:normal;font-family:Menlo,'DejaVu Sans Mono',consolas,'Courier New',monospace\">chunk: <span style=\"color: #c0c0c0; text-decoration-color: #c0c0c0; background-color: #008000\">I’m taking the most significant action ever on climate in the history of the world.</span><span style=\"color: #c0c0c0; text-decoration-color: #c0c0c0; background-color: #008080\">I’m cutting our carbon </span>\n",
       "<span style=\"color: #c0c0c0; text-decoration-color: #c0c0c0; background-color: #008080\">emissions in half by </span><span style=\"color: #c0c0c0; text-decoration-color: #c0c0c0; background-color: #008080; font-weight: bold\">2030</span><span style=\"color: #c0c0c0; text-decoration-color: #c0c0c0; background-color: #008080\">; creating tens of thousands of clean energy jobs, like the IBEW workers building and </span>\n",
       "<span style=\"color: #c0c0c0; text-decoration-color: #c0c0c0; background-color: #008080\">installing </span><span style=\"color: #c0c0c0; text-decoration-color: #c0c0c0; background-color: #008080; font-weight: bold\">500</span><span style=\"color: #c0c0c0; text-decoration-color: #c0c0c0; background-color: #008080\">,</span><span style=\"color: #c0c0c0; text-decoration-color: #c0c0c0; background-color: #008080; font-weight: bold\">000</span><span style=\"color: #c0c0c0; text-decoration-color: #c0c0c0; background-color: #008080\"> electric vehicle charging stations; conserving </span><span style=\"color: #c0c0c0; text-decoration-color: #c0c0c0; background-color: #008080; font-weight: bold\">30</span><span style=\"color: #c0c0c0; text-decoration-color: #c0c0c0; background-color: #008080\"> percent of America’s lands and waters by </span><span style=\"color: #c0c0c0; text-decoration-color: #c0c0c0; background-color: #008080; font-weight: bold\">2030</span><span style=\"color: #c0c0c0; text-decoration-color: #c0c0c0; background-color: #008080\">;</span>\n",
       "<span style=\"color: #c0c0c0; text-decoration-color: #c0c0c0; background-color: #008080\">and taking action on environmental justice — fence-line communities smothered by the legacy of pollution. And </span>\n",
       "<span style=\"color: #c0c0c0; text-decoration-color: #c0c0c0; background-color: #008080\">patterned after the Peace Corps and AmericaCorps </span><span style=\"color: #c0c0c0; text-decoration-color: #c0c0c0; background-color: #008080; font-weight: bold\">(</span><span style=\"color: #c0c0c0; text-decoration-color: #c0c0c0; background-color: #008080\">AmeriCorps</span><span style=\"color: #c0c0c0; text-decoration-color: #c0c0c0; background-color: #008080; font-weight: bold\">)</span><span style=\"color: #c0c0c0; text-decoration-color: #c0c0c0; background-color: #008080\">, I launched the Climate Corps to put </span><span style=\"color: #c0c0c0; text-decoration-color: #c0c0c0; background-color: #008080; font-weight: bold\">20</span><span style=\"color: #c0c0c0; text-decoration-color: #c0c0c0; background-color: #008080\">,</span><span style=\"color: #c0c0c0; text-decoration-color: #c0c0c0; background-color: #008080; font-weight: bold\">000</span><span style=\"color: #c0c0c0; text-decoration-color: #c0c0c0; background-color: #008080\"> young </span>\n",
       "<span style=\"color: #c0c0c0; text-decoration-color: #c0c0c0; background-color: #008080\">people to work in the forefront of our clean energy future.</span>\n",
       "</pre>\n"
      ],
      "text/plain": [
       "chunk: \u001b[37;42mI’m taking the most significant action ever on climate in the history of the world.\u001b[0m\u001b[37;46mI’m cutting our carbon \u001b[0m\n",
       "\u001b[37;46memissions in half by \u001b[0m\u001b[1;37;46m2030\u001b[0m\u001b[37;46m; creating tens of thousands of clean energy jobs, like the IBEW workers building and \u001b[0m\n",
       "\u001b[37;46minstalling \u001b[0m\u001b[1;37;46m500\u001b[0m\u001b[37;46m,\u001b[0m\u001b[1;37;46m000\u001b[0m\u001b[37;46m electric vehicle charging stations; conserving \u001b[0m\u001b[1;37;46m30\u001b[0m\u001b[37;46m percent of America’s lands and waters by \u001b[0m\u001b[1;37;46m2030\u001b[0m\u001b[37;46m;\u001b[0m\n",
       "\u001b[37;46mand taking action on environmental justice — fence-line communities smothered by the legacy of pollution. And \u001b[0m\n",
       "\u001b[37;46mpatterned after the Peace Corps and AmericaCorps \u001b[0m\u001b[1;37;46m(\u001b[0m\u001b[37;46mAmeriCorps\u001b[0m\u001b[1;37;46m)\u001b[0m\u001b[37;46m, I launched the Climate Corps to put \u001b[0m\u001b[1;37;46m20\u001b[0m\u001b[37;46m,\u001b[0m\u001b[1;37;46m000\u001b[0m\u001b[37;46m young \u001b[0m\n",
       "\u001b[37;46mpeople to work in the forefront of our clean energy future.\u001b[0m\n"
      ]
     },
     "metadata": {},
     "output_type": "display_data"
    },
    {
     "name": "stdin",
     "output_type": "stream",
     "text": [
      "Type 'k' to raise thresh, or 'j' - to lower it, then press 'Enter':  j\n"
     ]
    },
    {
     "data": {
      "text/html": [
       "<pre style=\"white-space:pre;overflow-x:auto;line-height:normal;font-family:Menlo,'DejaVu Sans Mono',consolas,'Courier New',monospace\">dist: <span style=\"color: #008080; text-decoration-color: #008080; font-weight: bold\">0.6585052609443665</span>\n",
       "</pre>\n"
      ],
      "text/plain": [
       "dist: \u001b[1;36m0.6585052609443665\u001b[0m\n"
      ]
     },
     "metadata": {},
     "output_type": "display_data"
    },
    {
     "data": {
      "text/html": [
       "<pre style=\"white-space:pre;overflow-x:auto;line-height:normal;font-family:Menlo,'DejaVu Sans Mono',consolas,'Courier New',monospace\">chunk: <span style=\"color: #c0c0c0; text-decoration-color: #c0c0c0; background-color: #008000\">But that’s still less than working people pay in federal taxes.</span><span style=\"color: #c0c0c0; text-decoration-color: #c0c0c0; background-color: #008080\">It’s time to raise the corporate minimum tax </span>\n",
       "<span style=\"color: #c0c0c0; text-decoration-color: #c0c0c0; background-color: #008080\">to at least </span><span style=\"color: #c0c0c0; text-decoration-color: #c0c0c0; background-color: #008080; font-weight: bold\">21</span><span style=\"color: #c0c0c0; text-decoration-color: #c0c0c0; background-color: #008080\"> percent so every big corporation finally begins to pay their fair share. I also want to end tax </span>\n",
       "<span style=\"color: #c0c0c0; text-decoration-color: #c0c0c0; background-color: #008080\">breaks for Big Pharma, Big Oil, private jets, massive executive pay when it was only supposed to be a million bal- </span>\n",
       "<span style=\"color: #c0c0c0; text-decoration-color: #c0c0c0; background-color: #008080\">— a million dollars that could be deducted.</span>\n",
       "</pre>\n"
      ],
      "text/plain": [
       "chunk: \u001b[37;42mBut that’s still less than working people pay in federal taxes.\u001b[0m\u001b[37;46mIt’s time to raise the corporate minimum tax \u001b[0m\n",
       "\u001b[37;46mto at least \u001b[0m\u001b[1;37;46m21\u001b[0m\u001b[37;46m percent so every big corporation finally begins to pay their fair share. I also want to end tax \u001b[0m\n",
       "\u001b[37;46mbreaks for Big Pharma, Big Oil, private jets, massive executive pay when it was only supposed to be a million bal- \u001b[0m\n",
       "\u001b[37;46m— a million dollars that could be deducted.\u001b[0m\n"
      ]
     },
     "metadata": {},
     "output_type": "display_data"
    },
    {
     "name": "stdin",
     "output_type": "stream",
     "text": [
      "Type 'k' to raise thresh, or 'j' - to lower it, then press 'Enter':  j\n"
     ]
    },
    {
     "data": {
      "text/html": [
       "<pre style=\"white-space:pre;overflow-x:auto;line-height:normal;font-family:Menlo,'DejaVu Sans Mono',consolas,'Courier New',monospace\">dist: <span style=\"color: #008080; text-decoration-color: #008080; font-weight: bold\">0.655704915523529</span>\n",
       "</pre>\n"
      ],
      "text/plain": [
       "dist: \u001b[1;36m0.655704915523529\u001b[0m\n"
      ]
     },
     "metadata": {},
     "output_type": "display_data"
    },
    {
     "data": {
      "text/html": [
       "<pre style=\"white-space:pre;overflow-x:auto;line-height:normal;font-family:Menlo,'DejaVu Sans Mono',consolas,'Courier New',monospace\">chunk: <span style=\"color: #c0c0c0; text-decoration-color: #c0c0c0; background-color: #008000\">THE PRESIDENT: That’s the proposal.</span><span style=\"color: #c0c0c0; text-decoration-color: #c0c0c0; background-color: #008080\">Oh, no? You guys don’t want another $</span><span style=\"color: #c0c0c0; text-decoration-color: #c0c0c0; background-color: #008080; font-weight: bold\">2</span><span style=\"color: #c0c0c0; text-decoration-color: #c0c0c0; background-color: #008080\"> trillion tax cut?</span>\n",
       "</pre>\n"
      ],
      "text/plain": [
       "chunk: \u001b[37;42mTHE PRESIDENT: That’s the proposal.\u001b[0m\u001b[37;46mOh, no? You guys don’t want another $\u001b[0m\u001b[1;37;46m2\u001b[0m\u001b[37;46m trillion tax cut?\u001b[0m\n"
      ]
     },
     "metadata": {},
     "output_type": "display_data"
    },
    {
     "name": "stdin",
     "output_type": "stream",
     "text": [
      "Type 'k' to raise thresh, or 'j' - to lower it, then press 'Enter':  k\n"
     ]
    },
    {
     "data": {
      "text/html": [
       "<pre style=\"white-space:pre;overflow-x:auto;line-height:normal;font-family:Menlo,'DejaVu Sans Mono',consolas,'Courier New',monospace\">dist: <span style=\"color: #008080; text-decoration-color: #008080; font-weight: bold\">0.6567263603210449</span>\n",
       "</pre>\n"
      ],
      "text/plain": [
       "dist: \u001b[1;36m0.6567263603210449\u001b[0m\n"
      ]
     },
     "metadata": {},
     "output_type": "display_data"
    },
    {
     "data": {
      "text/html": [
       "<pre style=\"white-space:pre;overflow-x:auto;line-height:normal;font-family:Menlo,'DejaVu Sans Mono',consolas,'Courier New',monospace\">chunk: <span style=\"color: #c0c0c0; text-decoration-color: #c0c0c0; background-color: #008000\">I am here to- — tonight to show what I believe is the way forward, because I know how far we’ve come.</span><span style=\"color: #c0c0c0; text-decoration-color: #c0c0c0; background-color: #008080\">Four </span>\n",
       "<span style=\"color: #c0c0c0; text-decoration-color: #c0c0c0; background-color: #008080\">years ago next week, before I came to office, the country was hit by the worst pandemic and the worst economic </span>\n",
       "<span style=\"color: #c0c0c0; text-decoration-color: #c0c0c0; background-color: #008080\">crisis in a century. Remember the fear, record losses?</span>\n",
       "</pre>\n"
      ],
      "text/plain": [
       "chunk: \u001b[37;42mI am here to- — tonight to show what I believe is the way forward, because I know how far we’ve come.\u001b[0m\u001b[37;46mFour \u001b[0m\n",
       "\u001b[37;46myears ago next week, before I came to office, the country was hit by the worst pandemic and the worst economic \u001b[0m\n",
       "\u001b[37;46mcrisis in a century. Remember the fear, record losses?\u001b[0m\n"
      ]
     },
     "metadata": {},
     "output_type": "display_data"
    },
    {
     "name": "stdin",
     "output_type": "stream",
     "text": [
      "Type 'k' to raise thresh, or 'j' - to lower it, then press 'Enter':  j\n"
     ]
    },
    {
     "data": {
      "text/html": [
       "<pre style=\"white-space:pre;overflow-x:auto;line-height:normal;font-family:Menlo,'DejaVu Sans Mono',consolas,'Courier New',monospace\">dist: <span style=\"color: #008080; text-decoration-color: #008080; font-weight: bold\">0.6557968258857727</span>\n",
       "</pre>\n"
      ],
      "text/plain": [
       "dist: \u001b[1;36m0.6557968258857727\u001b[0m\n"
      ]
     },
     "metadata": {},
     "output_type": "display_data"
    },
    {
     "data": {
      "text/html": [
       "<pre style=\"white-space:pre;overflow-x:auto;line-height:normal;font-family:Menlo,'DejaVu Sans Mono',consolas,'Courier New',monospace\">chunk: <span style=\"color: #c0c0c0; text-decoration-color: #c0c0c0; background-color: #008000\">In my career, I’ve been told I was too young.</span><span style=\"color: #c0c0c0; text-decoration-color: #c0c0c0; background-color: #008080\">By the way, they didn’t let me on the Senate elevators for </span>\n",
       "<span style=\"color: #c0c0c0; text-decoration-color: #c0c0c0; background-color: #008080\">votes sometimes. They — not a joke.</span>\n",
       "</pre>\n"
      ],
      "text/plain": [
       "chunk: \u001b[37;42mIn my career, I’ve been told I was too young.\u001b[0m\u001b[37;46mBy the way, they didn’t let me on the Senate elevators for \u001b[0m\n",
       "\u001b[37;46mvotes sometimes. They — not a joke.\u001b[0m\n"
      ]
     },
     "metadata": {},
     "output_type": "display_data"
    },
    {
     "data": {
      "text/html": [
       "<pre style=\"white-space:pre;overflow-x:auto;line-height:normal;font-family:Menlo,'DejaVu Sans Mono',consolas,'Courier New',monospace\">Tuning ended, thresh value: <span style=\"color: #008080; text-decoration-color: #008080; font-weight: bold\">0.6557968258857727</span> = <span style=\"color: #008080; text-decoration-color: #008080; font-weight: bold\">0.65</span>\n",
       "</pre>\n"
      ],
      "text/plain": [
       "Tuning ended, thresh value: \u001b[1;36m0.6557968258857727\u001b[0m = \u001b[1;36m0.65\u001b[0m\n"
      ]
     },
     "metadata": {},
     "output_type": "display_data"
    }
   ],
   "source": [
    "splitter = SentenceSplitter(text=datasets['state_of_the_union'])\n",
    "splits = splitter()\n",
    "res = tuner(splits, depth=DEPTH)\n",
    "thresholds.append(res)"
   ]
  },
  {
   "cell_type": "markdown",
   "id": "2d977784-ff40-4eac-b9a6-7ce74113dc7a",
   "metadata": {},
   "source": [
    "#### Averaging thresh values "
   ]
  },
  {
   "cell_type": "markdown",
   "id": "9fcb25f4-01ef-418d-9a97-c5e6600a03cb",
   "metadata": {},
   "source": [
    "The calculated average threshold value will be used for evaluation over the general dataset in the `evaluation.ipynb`notebook."
   ]
  },
  {
   "cell_type": "code",
   "execution_count": 12,
   "id": "7ea628fe-a5e4-4d89-8a2c-8db2b3ead63e",
   "metadata": {},
   "outputs": [
    {
     "name": "stdout",
     "output_type": "stream",
     "text": [
      "5 [0.8196150064468384, 0.6262622475624084, 0.7286220788955688, 0.7016535997390747, 0.6557968258857727]\n",
      "avg. thresh: 0.7063899517059327 = 0.70\n"
     ]
    }
   ],
   "source": [
    "import numpy as np\n",
    "\n",
    "print(len(thresholds), thresholds)\n",
    "thresh = np.mean(thresholds)\n",
    "print(f'avg. thresh: {thresh} = {str(thresh)[:4]}')"
   ]
  },
  {
   "cell_type": "code",
   "execution_count": null,
   "id": "10c87900-94da-4eb4-9379-eb3643e7b8f2",
   "metadata": {},
   "outputs": [],
   "source": []
  }
 ],
 "metadata": {
  "kernelspec": {
   "display_name": "horchunk_docs",
   "language": "python",
   "name": "horchunk_docs"
  },
  "language_info": {
   "codemirror_mode": {
    "name": "ipython",
    "version": 3
   },
   "file_extension": ".py",
   "mimetype": "text/x-python",
   "name": "python",
   "nbconvert_exporter": "python",
   "pygments_lexer": "ipython3",
   "version": "3.12.7"
  }
 },
 "nbformat": 4,
 "nbformat_minor": 5
}
