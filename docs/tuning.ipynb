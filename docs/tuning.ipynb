{
 "cells": [
  {
   "cell_type": "markdown",
   "id": "428628cb-fb9b-4a6d-a2e3-20eff910e2b7",
   "metadata": {},
   "source": [
    "#### Preface\n",
    "\n",
    "In this short tutorial, the tuning process for further evaluation is demonstrated. For this purpose, datasets from the [chunking_evaluation](https://github.com/brandonstarxel/chunking_evaluation) framework will be used."
   ]
  },
  {
   "cell_type": "markdown",
   "id": "4f8727bd-fedf-4cf8-81ca-841c89804e42",
   "metadata": {},
   "source": [
    "#### Packages installation "
   ]
  },
  {
   "cell_type": "code",
   "execution_count": 1,
   "id": "0591879b-2779-4b6b-8154-8a7bc89c0906",
   "metadata": {
    "scrolled": true
   },
   "outputs": [],
   "source": [
    "!pip install -q \"git+https://github.com/panalexeu/horchunk.git\"\n",
    "!pip install -q requests\n",
    "!pip install -q chroma\n",
    "!pip install -q numpy"
   ]
  },
  {
   "cell_type": "markdown",
   "id": "77afcc66-cc60-4437-8993-77877ac3b6c2",
   "metadata": {},
   "source": [
    "#### Loading datasets from git"
   ]
  },
  {
   "cell_type": "code",
   "execution_count": 2,
   "id": "f9cb5c19-dede-4e12-ad11-485c64ec4489",
   "metadata": {},
   "outputs": [
    {
     "name": "stdout",
     "output_type": "stream",
     "text": [
      "wikitexts: 22406 words\n",
      "chatlogs: 5968 words\n",
      "finance: 116860 words\n",
      "pubmed: 75846 words\n",
      "state_of_the_union: 8468 words\n"
     ]
    }
   ],
   "source": [
    "import requests \n",
    "\n",
    "links_dict = dict(\n",
    "    wikitexts='https://raw.githubusercontent.com/brandonstarxel/chunking_evaluation/refs/heads/main/chunking_evaluation/evaluation_framework/general_evaluation_data/corpora/wikitexts.md',\n",
    "    chatlogs='https://raw.githubusercontent.com/brandonstarxel/chunking_evaluation/refs/heads/main/chunking_evaluation/evaluation_framework/general_evaluation_data/corpora/chatlogs.md',\n",
    "    finance='https://raw.githubusercontent.com/brandonstarxel/chunking_evaluation/refs/heads/main/chunking_evaluation/evaluation_framework/general_evaluation_data/corpora/finance.md',\n",
    "    pubmed='https://raw.githubusercontent.com/brandonstarxel/chunking_evaluation/refs/heads/main/chunking_evaluation/evaluation_framework/general_evaluation_data/corpora/pubmed.md',\n",
    "    state_of_the_union='https://raw.githubusercontent.com/brandonstarxel/chunking_evaluation/refs/heads/main/chunking_evaluation/evaluation_framework/general_evaluation_data/corpora/state_of_the_union.md'\n",
    ") \n",
    "\n",
    "\n",
    "def load_datasets(links_dict: dict) -> dict:\n",
    "    data = dict()\n",
    "    for name, link in links_dict.items():\n",
    "        response = requests.get(link)\n",
    "        data[name] = response.text \n",
    "        \n",
    "    return data \n",
    "\n",
    "datasets = load_datasets(links_dict)\n",
    "for key in datasets.keys():\n",
    "    print(f'{key}: {len(datasets[key].split())} words')"
   ]
  },
  {
   "cell_type": "markdown",
   "id": "7ad1ab97-3a27-42d9-8288-c148470059ef",
   "metadata": {},
   "source": [
    "#### Tuning"
   ]
  },
  {
   "cell_type": "markdown",
   "id": "86ca9638-93d3-412b-ba89-59b7eccf6e0a",
   "metadata": {},
   "source": [
    "Let's start by instantiating WindowTuner."
   ]
  },
  {
   "cell_type": "code",
   "execution_count": 3,
   "id": "ecea916e-ddef-4af9-81b2-36342a8cba4c",
   "metadata": {},
   "outputs": [],
   "source": [
    "from horchunk.chunkers import WindowTuner\n",
    "from chromadb.utils import embedding_functions\n",
    "\n",
    "ef = embedding_functions.SentenceTransformerEmbeddingFunction(model_name=\"all-MiniLM-L6-v2\", device='cuda')\n",
    "tuner = WindowTuner(ef) "
   ]
  },
  {
   "cell_type": "markdown",
   "id": "c684e184-96f0-4474-96c7-3d8a14e7ec27",
   "metadata": {},
   "source": [
    "In this tutorial, we will tune the minimum threshold for document of 3 sentences in size. We will repeat this process for every dataset. The identified thresholds will then be averaged to determine a single, generalized threshold value."
   ]
  },
  {
   "cell_type": "code",
   "execution_count": 4,
   "id": "739c2b32-818b-448e-9a5c-e951c7996c23",
   "metadata": {},
   "outputs": [],
   "source": [
    "thresholds = []\n",
    "DEPTH = 3"
   ]
  },
  {
   "cell_type": "markdown",
   "id": "af9a769e-454e-4d2e-98fb-11367786c2d8",
   "metadata": {},
   "source": [
    "**wikitexts**"
   ]
  },
  {
   "cell_type": "code",
   "execution_count": null,
   "id": "ac34551b-28ad-4d3d-b4c5-b365150dd08d",
   "metadata": {
    "scrolled": true
   },
   "outputs": [
    {
     "name": "stderr",
     "output_type": "stream",
     "text": [
      "100%|██████████████████████████████████████████████████████████████████████████████████████████████████████████████████████████████| 1090/1090 [00:10<00:00, 99.90it/s]\n"
     ]
    },
    {
     "data": {
      "text/html": [
       "<pre style=\"white-space:pre;overflow-x:auto;line-height:normal;font-family:Menlo,'DejaVu Sans Mono',consolas,'Courier New',monospace\"><span style=\"color: #008080; text-decoration-color: #008080; font-weight: bold\">1090</span> chunks formed\n",
       "</pre>\n"
      ],
      "text/plain": [
       "\u001b[1;36m1090\u001b[0m chunks formed\n"
      ]
     },
     "metadata": {},
     "output_type": "display_data"
    },
    {
     "data": {
      "text/html": [
       "<pre style=\"white-space:pre;overflow-x:auto;line-height:normal;font-family:Menlo,'DejaVu Sans Mono',consolas,'Courier New',monospace\">Values range: <span style=\"font-weight: bold\">[</span><span style=\"color: #008080; text-decoration-color: #008080; font-weight: bold\">-0.02275817282497883</span> <span style=\"color: #808000; text-decoration-color: #808000\">...</span> <span style=\"color: #008080; text-decoration-color: #008080; font-weight: bold\">1.0</span><span style=\"font-weight: bold\">]</span>\n",
       "</pre>\n"
      ],
      "text/plain": [
       "Values range: \u001b[1m[\u001b[0m\u001b[1;36m-0.02275817282497883\u001b[0m \u001b[33m...\u001b[0m \u001b[1;36m1.0\u001b[0m\u001b[1m]\u001b[0m\n"
      ]
     },
     "metadata": {},
     "output_type": "display_data"
    },
    {
     "data": {
      "text/html": [
       "<pre style=\"white-space:pre;overflow-x:auto;line-height:normal;font-family:Menlo,'DejaVu Sans Mono',consolas,'Courier New',monospace\">Steps to tune: <span style=\"color: #008080; text-decoration-color: #008080; font-weight: bold\">10</span>\n",
       "</pre>\n"
      ],
      "text/plain": [
       "Steps to tune: \u001b[1;36m10\u001b[0m\n"
      ]
     },
     "metadata": {},
     "output_type": "display_data"
    },
    {
     "data": {
      "text/html": [
       "<pre style=\"white-space:pre;overflow-x:auto;line-height:normal;font-family:Menlo,'DejaVu Sans Mono',consolas,'Courier New',monospace\">--------------------------------\n",
       "</pre>\n"
      ],
      "text/plain": [
       "--------------------------------\n"
      ]
     },
     "metadata": {},
     "output_type": "display_data"
    },
    {
     "data": {
      "text/html": [
       "<pre style=\"white-space:pre;overflow-x:auto;line-height:normal;font-family:Menlo,'DejaVu Sans Mono',consolas,'Courier New',monospace\">dist: <span style=\"color: #008080; text-decoration-color: #008080; font-weight: bold\">0.747102677822113</span>\n",
       "</pre>\n"
      ],
      "text/plain": [
       "dist: \u001b[1;36m0.747102677822113\u001b[0m\n"
      ]
     },
     "metadata": {},
     "output_type": "display_data"
    },
    {
     "data": {
      "text/html": [
       "<pre style=\"white-space:pre;overflow-x:auto;line-height:normal;font-family:Menlo,'DejaVu Sans Mono',consolas,'Courier New',monospace\">chunk: <span style=\"color: #c0c0c0; text-decoration-color: #c0c0c0; background-color: #008000\"> In the late 1920s , Barker began to doubt she was doing enough for the church and considered focusing </span>\n",
       "<span style=\"color: #c0c0c0; text-decoration-color: #c0c0c0; background-color: #008000\">solely on sacred works .</span><span style=\"color: #c0c0c0; text-decoration-color: #c0c0c0; background-color: #008080\">Family and friends recommended she continue secular and sacred works , which she did .  </span>\n",
       "<span style=\"color: #c0c0c0; text-decoration-color: #c0c0c0; background-color: #008080\">Barker continued to attend evening classes at the Croydon Art School between the 1920s and the 1940s , eventually </span>\n",
       "<span style=\"color: #c0c0c0; text-decoration-color: #c0c0c0; background-color: #008080\">receiving a teaching position .</span>\n",
       "</pre>\n"
      ],
      "text/plain": [
       "chunk: \u001b[37;42m In the late 1920s , Barker began to doubt she was doing enough for the church and considered focusing \u001b[0m\n",
       "\u001b[37;42msolely on sacred works .\u001b[0m\u001b[37;46mFamily and friends recommended she continue secular and sacred works , which she did .  \u001b[0m\n",
       "\u001b[37;46mBarker continued to attend evening classes at the Croydon Art School between the 1920s and the 1940s , eventually \u001b[0m\n",
       "\u001b[37;46mreceiving a teaching position .\u001b[0m\n"
      ]
     },
     "metadata": {},
     "output_type": "display_data"
    }
   ],
   "source": [
    "from horchunk.splitters import SentenceSplitter \n",
    "\n",
    "splitter = SentenceSplitter(text=datasets['wikitexts'])\n",
    "splits = splitter()\n",
    "res = tuner(splits, depth=DEPTH)\n",
    "thresholds.append(res)"
   ]
  },
  {
   "cell_type": "markdown",
   "id": "cc108735-b958-4a4f-9118-8993853b0d50",
   "metadata": {},
   "source": [
    "**chatlogs**"
   ]
  },
  {
   "cell_type": "code",
   "execution_count": null,
   "id": "49e2d85a-4660-43e1-bbbf-8d96f9b44ec3",
   "metadata": {
    "scrolled": true
   },
   "outputs": [],
   "source": [
    "splitter = SentenceSplitter(text=datasets['chatlogs'])\n",
    "splits = splitter()\n",
    "res = tuner(splits, depth=DEPTH)\n",
    "thresholds.append(res)"
   ]
  },
  {
   "cell_type": "markdown",
   "id": "8038acbc-b4dc-463b-949e-5a61c6753156",
   "metadata": {},
   "source": [
    "**finance**"
   ]
  },
  {
   "cell_type": "code",
   "execution_count": null,
   "id": "7d7d788d-ae2c-4a33-b3b6-3213f40226f6",
   "metadata": {
    "scrolled": true
   },
   "outputs": [],
   "source": [
    "splitter = SentenceSplitter(text=datasets['finance'])\n",
    "splits = splitter()\n",
    "res = tuner(splits, depth=DEPTH)\n",
    "thresholds.append(res)"
   ]
  },
  {
   "cell_type": "markdown",
   "id": "c12bb8a7-b22d-43ab-9d60-4c25ab4efbfd",
   "metadata": {},
   "source": [
    "**pubmed**"
   ]
  },
  {
   "cell_type": "code",
   "execution_count": null,
   "id": "a487f568-0ffb-438a-831d-db3f9bfab5f5",
   "metadata": {
    "scrolled": true
   },
   "outputs": [],
   "source": [
    "splitter = SentenceSplitter(text=datasets['pubmed'])\n",
    "splits = splitter()\n",
    "res = tuner(splits, depth=DEPTH)\n",
    "thresholds.append(res)"
   ]
  },
  {
   "cell_type": "markdown",
   "id": "eb3ded89-77c5-4133-b655-5478f57517bc",
   "metadata": {},
   "source": [
    "**state_of_the_union**"
   ]
  },
  {
   "cell_type": "code",
   "execution_count": null,
   "id": "3ae23541-5810-4eaf-8488-2250628fec20",
   "metadata": {
    "scrolled": true
   },
   "outputs": [],
   "source": [
    "splitter = SentenceSplitter(text=datasets['state_of_the_union'])\n",
    "splits = splitter()\n",
    "res = tuner(splits, depth=DEPTH)\n",
    "thresholds.append(res)"
   ]
  },
  {
   "cell_type": "markdown",
   "id": "2d977784-ff40-4eac-b9a6-7ce74113dc7a",
   "metadata": {},
   "source": [
    "#### Averaging thresh values "
   ]
  },
  {
   "cell_type": "markdown",
   "id": "9fcb25f4-01ef-418d-9a97-c5e6600a03cb",
   "metadata": {},
   "source": [
    "The calculated average threshold value will be used for evaluation over the general dataset in the `evaluation.ipynb`notebook."
   ]
  },
  {
   "cell_type": "code",
   "execution_count": null,
   "id": "7ea628fe-a5e4-4d89-8a2c-8db2b3ead63e",
   "metadata": {},
   "outputs": [],
   "source": [
    "import numpy as np\n",
    "\n",
    "print(len(thresholds), thresholds)\n",
    "thresh = np.mean(thresholds)\n",
    "print(f'avg. thresh: {thresh} = {str(thresh)[:4]}')"
   ]
  },
  {
   "cell_type": "code",
   "execution_count": null,
   "id": "10c87900-94da-4eb4-9379-eb3643e7b8f2",
   "metadata": {},
   "outputs": [],
   "source": []
  }
 ],
 "metadata": {
  "kernelspec": {
   "display_name": "horchunk_docs",
   "language": "python",
   "name": "horchunk_docs"
  },
  "language_info": {
   "codemirror_mode": {
    "name": "ipython",
    "version": 3
   },
   "file_extension": ".py",
   "mimetype": "text/x-python",
   "name": "python",
   "nbconvert_exporter": "python",
   "pygments_lexer": "ipython3",
   "version": "3.12.7"
  }
 },
 "nbformat": 4,
 "nbformat_minor": 5
}
