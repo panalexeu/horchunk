{
 "cells": [
  {
   "cell_type": "markdown",
   "id": "428628cb-fb9b-4a6d-a2e3-20eff910e2b7",
   "metadata": {},
   "source": [
    "#### Preface\n",
    "\n",
    "In this short tutorial, the tuning process for further evaluation is demonstrated. For this purpose, datasets from the [chunking_evaluation](https://github.com/brandonstarxel/chunking_evaluation) framework will be used."
   ]
  },
  {
   "cell_type": "markdown",
   "id": "4f8727bd-fedf-4cf8-81ca-841c89804e42",
   "metadata": {},
   "source": [
    "#### Packages installation "
   ]
  },
  {
   "cell_type": "code",
   "execution_count": 12,
   "id": "0591879b-2779-4b6b-8154-8a7bc89c0906",
   "metadata": {
    "scrolled": true
   },
   "outputs": [
    {
     "name": "stderr",
     "output_type": "stream",
     "text": [
      "huggingface/tokenizers: The current process just got forked, after parallelism has already been used. Disabling parallelism to avoid deadlocks...\n",
      "To disable this warning, you can either:\n",
      "\t- Avoid using `tokenizers` before the fork if possible\n",
      "\t- Explicitly set the environment variable TOKENIZERS_PARALLELISM=(true | false)\n"
     ]
    },
    {
     "name": "stdout",
     "output_type": "stream",
     "text": [
      "Collecting git+https://github.com/panalexeu/horchunk.git\n",
      "  Cloning https://github.com/panalexeu/horchunk.git to /tmp/pip-req-build-pfrc_7br\n",
      "  Running command git clone --filter=blob:none --quiet https://github.com/panalexeu/horchunk.git /tmp/pip-req-build-pfrc_7br\n",
      "  Resolved https://github.com/panalexeu/horchunk.git to commit 4fd7e6936057689b3677d92f7a1be398cbf388fd\n",
      "  Installing build dependencies ... \u001b[?25ldone\n",
      "\u001b[?25h  Getting requirements to build wheel ... \u001b[?25ldone\n",
      "\u001b[?25h  Preparing metadata (pyproject.toml) ... \u001b[?25ldone\n",
      "\u001b[?25hRequirement already satisfied: langchain==0.3.14 in /home/oleksii/python/semantic_chunking/semchunk/.venv/lib/python3.12/site-packages (from horchunk==0.0.1) (0.3.14)\n",
      "Requirement already satisfied: langchain-openai==0.3.0 in /home/oleksii/python/semantic_chunking/semchunk/.venv/lib/python3.12/site-packages (from horchunk==0.0.1) (0.3.0)\n",
      "Requirement already satisfied: sentence-transformers==3.3.1 in /home/oleksii/python/semantic_chunking/semchunk/.venv/lib/python3.12/site-packages (from horchunk==0.0.1) (3.3.1)\n",
      "Requirement already satisfied: tiktoken==0.8.0 in /home/oleksii/python/semantic_chunking/semchunk/.venv/lib/python3.12/site-packages (from horchunk==0.0.1) (0.8.0)\n",
      "Requirement already satisfied: chromadb==0.6.2 in /home/oleksii/python/semantic_chunking/semchunk/.venv/lib/python3.12/site-packages (from horchunk==0.0.1) (0.6.2)\n",
      "Requirement already satisfied: rich==13.9.4 in /home/oleksii/python/semantic_chunking/semchunk/.venv/lib/python3.12/site-packages (from horchunk==0.0.1) (13.9.4)\n",
      "Requirement already satisfied: pydantic==2.10.4 in /home/oleksii/python/semantic_chunking/semchunk/.venv/lib/python3.12/site-packages (from horchunk==0.0.1) (2.10.4)\n",
      "Requirement already satisfied: numpy==2.2.1 in /home/oleksii/python/semantic_chunking/semchunk/.venv/lib/python3.12/site-packages (from horchunk==0.0.1) (2.2.1)\n",
      "Requirement already satisfied: tqdm==4.67.1 in /home/oleksii/python/semantic_chunking/semchunk/.venv/lib/python3.12/site-packages (from horchunk==0.0.1) (4.67.1)\n",
      "Requirement already satisfied: build>=1.0.3 in /home/oleksii/python/semantic_chunking/semchunk/.venv/lib/python3.12/site-packages (from chromadb==0.6.2->horchunk==0.0.1) (1.2.2.post1)\n",
      "Requirement already satisfied: chroma-hnswlib==0.7.6 in /home/oleksii/python/semantic_chunking/semchunk/.venv/lib/python3.12/site-packages (from chromadb==0.6.2->horchunk==0.0.1) (0.7.6)\n",
      "Requirement already satisfied: fastapi>=0.95.2 in /home/oleksii/python/semantic_chunking/semchunk/.venv/lib/python3.12/site-packages (from chromadb==0.6.2->horchunk==0.0.1) (0.115.6)\n",
      "Requirement already satisfied: uvicorn>=0.18.3 in /home/oleksii/python/semantic_chunking/semchunk/.venv/lib/python3.12/site-packages (from uvicorn[standard]>=0.18.3->chromadb==0.6.2->horchunk==0.0.1) (0.34.0)\n",
      "Requirement already satisfied: posthog>=2.4.0 in /home/oleksii/python/semantic_chunking/semchunk/.venv/lib/python3.12/site-packages (from chromadb==0.6.2->horchunk==0.0.1) (3.7.5)\n",
      "Requirement already satisfied: typing_extensions>=4.5.0 in /home/oleksii/python/semantic_chunking/semchunk/.venv/lib/python3.12/site-packages (from chromadb==0.6.2->horchunk==0.0.1) (4.12.2)\n",
      "Requirement already satisfied: onnxruntime>=1.14.1 in /home/oleksii/python/semantic_chunking/semchunk/.venv/lib/python3.12/site-packages (from chromadb==0.6.2->horchunk==0.0.1) (1.20.1)\n",
      "Requirement already satisfied: opentelemetry-api>=1.2.0 in /home/oleksii/python/semantic_chunking/semchunk/.venv/lib/python3.12/site-packages (from chromadb==0.6.2->horchunk==0.0.1) (1.29.0)\n",
      "Requirement already satisfied: opentelemetry-exporter-otlp-proto-grpc>=1.2.0 in /home/oleksii/python/semantic_chunking/semchunk/.venv/lib/python3.12/site-packages (from chromadb==0.6.2->horchunk==0.0.1) (1.29.0)\n",
      "Requirement already satisfied: opentelemetry-instrumentation-fastapi>=0.41b0 in /home/oleksii/python/semantic_chunking/semchunk/.venv/lib/python3.12/site-packages (from chromadb==0.6.2->horchunk==0.0.1) (0.50b0)\n",
      "Requirement already satisfied: opentelemetry-sdk>=1.2.0 in /home/oleksii/python/semantic_chunking/semchunk/.venv/lib/python3.12/site-packages (from chromadb==0.6.2->horchunk==0.0.1) (1.29.0)\n",
      "Requirement already satisfied: tokenizers>=0.13.2 in /home/oleksii/python/semantic_chunking/semchunk/.venv/lib/python3.12/site-packages (from chromadb==0.6.2->horchunk==0.0.1) (0.21.0)\n",
      "Requirement already satisfied: pypika>=0.48.9 in /home/oleksii/python/semantic_chunking/semchunk/.venv/lib/python3.12/site-packages (from chromadb==0.6.2->horchunk==0.0.1) (0.48.9)\n",
      "Requirement already satisfied: overrides>=7.3.1 in /home/oleksii/python/semantic_chunking/semchunk/.venv/lib/python3.12/site-packages (from chromadb==0.6.2->horchunk==0.0.1) (7.7.0)\n",
      "Requirement already satisfied: importlib-resources in /home/oleksii/python/semantic_chunking/semchunk/.venv/lib/python3.12/site-packages (from chromadb==0.6.2->horchunk==0.0.1) (6.5.2)\n",
      "Requirement already satisfied: grpcio>=1.58.0 in /home/oleksii/python/semantic_chunking/semchunk/.venv/lib/python3.12/site-packages (from chromadb==0.6.2->horchunk==0.0.1) (1.69.0)\n",
      "Requirement already satisfied: bcrypt>=4.0.1 in /home/oleksii/python/semantic_chunking/semchunk/.venv/lib/python3.12/site-packages (from chromadb==0.6.2->horchunk==0.0.1) (4.2.1)\n",
      "Requirement already satisfied: typer>=0.9.0 in /home/oleksii/python/semantic_chunking/semchunk/.venv/lib/python3.12/site-packages (from chromadb==0.6.2->horchunk==0.0.1) (0.15.1)\n",
      "Requirement already satisfied: kubernetes>=28.1.0 in /home/oleksii/python/semantic_chunking/semchunk/.venv/lib/python3.12/site-packages (from chromadb==0.6.2->horchunk==0.0.1) (31.0.0)\n",
      "Requirement already satisfied: tenacity>=8.2.3 in /home/oleksii/python/semantic_chunking/semchunk/.venv/lib/python3.12/site-packages (from chromadb==0.6.2->horchunk==0.0.1) (9.0.0)\n",
      "Requirement already satisfied: PyYAML>=6.0.0 in /home/oleksii/python/semantic_chunking/semchunk/.venv/lib/python3.12/site-packages (from chromadb==0.6.2->horchunk==0.0.1) (6.0.2)\n",
      "Requirement already satisfied: mmh3>=4.0.1 in /home/oleksii/python/semantic_chunking/semchunk/.venv/lib/python3.12/site-packages (from chromadb==0.6.2->horchunk==0.0.1) (5.0.1)\n",
      "Requirement already satisfied: orjson>=3.9.12 in /home/oleksii/python/semantic_chunking/semchunk/.venv/lib/python3.12/site-packages (from chromadb==0.6.2->horchunk==0.0.1) (3.10.13)\n",
      "Requirement already satisfied: httpx>=0.27.0 in /home/oleksii/python/semantic_chunking/semchunk/.venv/lib/python3.12/site-packages (from chromadb==0.6.2->horchunk==0.0.1) (0.28.1)\n",
      "Requirement already satisfied: SQLAlchemy<3,>=1.4 in /home/oleksii/python/semantic_chunking/semchunk/.venv/lib/python3.12/site-packages (from langchain==0.3.14->horchunk==0.0.1) (2.0.37)\n",
      "Requirement already satisfied: aiohttp<4.0.0,>=3.8.3 in /home/oleksii/python/semantic_chunking/semchunk/.venv/lib/python3.12/site-packages (from langchain==0.3.14->horchunk==0.0.1) (3.11.11)\n",
      "Requirement already satisfied: langchain-core<0.4.0,>=0.3.29 in /home/oleksii/python/semantic_chunking/semchunk/.venv/lib/python3.12/site-packages (from langchain==0.3.14->horchunk==0.0.1) (0.3.29)\n",
      "Requirement already satisfied: langchain-text-splitters<0.4.0,>=0.3.3 in /home/oleksii/python/semantic_chunking/semchunk/.venv/lib/python3.12/site-packages (from langchain==0.3.14->horchunk==0.0.1) (0.3.5)\n",
      "Requirement already satisfied: langsmith<0.3,>=0.1.17 in /home/oleksii/python/semantic_chunking/semchunk/.venv/lib/python3.12/site-packages (from langchain==0.3.14->horchunk==0.0.1) (0.2.10)\n",
      "Requirement already satisfied: requests<3,>=2 in /home/oleksii/python/semantic_chunking/semchunk/.venv/lib/python3.12/site-packages (from langchain==0.3.14->horchunk==0.0.1) (2.32.3)\n",
      "Requirement already satisfied: openai<2.0.0,>=1.58.1 in /home/oleksii/python/semantic_chunking/semchunk/.venv/lib/python3.12/site-packages (from langchain-openai==0.3.0->horchunk==0.0.1) (1.59.4)\n",
      "Requirement already satisfied: annotated-types>=0.6.0 in /home/oleksii/python/semantic_chunking/semchunk/.venv/lib/python3.12/site-packages (from pydantic==2.10.4->horchunk==0.0.1) (0.7.0)\n",
      "Requirement already satisfied: pydantic-core==2.27.2 in /home/oleksii/python/semantic_chunking/semchunk/.venv/lib/python3.12/site-packages (from pydantic==2.10.4->horchunk==0.0.1) (2.27.2)\n",
      "Requirement already satisfied: markdown-it-py>=2.2.0 in /home/oleksii/python/semantic_chunking/semchunk/.venv/lib/python3.12/site-packages (from rich==13.9.4->horchunk==0.0.1) (3.0.0)\n",
      "Requirement already satisfied: pygments<3.0.0,>=2.13.0 in /home/oleksii/python/semantic_chunking/semchunk/.venv/lib/python3.12/site-packages (from rich==13.9.4->horchunk==0.0.1) (2.19.1)\n",
      "Requirement already satisfied: transformers<5.0.0,>=4.41.0 in /home/oleksii/python/semantic_chunking/semchunk/.venv/lib/python3.12/site-packages (from sentence-transformers==3.3.1->horchunk==0.0.1) (4.47.1)\n",
      "Requirement already satisfied: torch>=1.11.0 in /home/oleksii/python/semantic_chunking/semchunk/.venv/lib/python3.12/site-packages (from sentence-transformers==3.3.1->horchunk==0.0.1) (2.5.1)\n",
      "Requirement already satisfied: scikit-learn in /home/oleksii/python/semantic_chunking/semchunk/.venv/lib/python3.12/site-packages (from sentence-transformers==3.3.1->horchunk==0.0.1) (1.6.0)\n",
      "Requirement already satisfied: scipy in /home/oleksii/python/semantic_chunking/semchunk/.venv/lib/python3.12/site-packages (from sentence-transformers==3.3.1->horchunk==0.0.1) (1.15.0)\n",
      "Requirement already satisfied: huggingface-hub>=0.20.0 in /home/oleksii/python/semantic_chunking/semchunk/.venv/lib/python3.12/site-packages (from sentence-transformers==3.3.1->horchunk==0.0.1) (0.27.1)\n",
      "Requirement already satisfied: Pillow in /home/oleksii/python/semantic_chunking/semchunk/.venv/lib/python3.12/site-packages (from sentence-transformers==3.3.1->horchunk==0.0.1) (11.1.0)\n",
      "Requirement already satisfied: regex>=2022.1.18 in /home/oleksii/python/semantic_chunking/semchunk/.venv/lib/python3.12/site-packages (from tiktoken==0.8.0->horchunk==0.0.1) (2024.11.6)\n",
      "Requirement already satisfied: aiohappyeyeballs>=2.3.0 in /home/oleksii/python/semantic_chunking/semchunk/.venv/lib/python3.12/site-packages (from aiohttp<4.0.0,>=3.8.3->langchain==0.3.14->horchunk==0.0.1) (2.4.4)\n",
      "Requirement already satisfied: aiosignal>=1.1.2 in /home/oleksii/python/semantic_chunking/semchunk/.venv/lib/python3.12/site-packages (from aiohttp<4.0.0,>=3.8.3->langchain==0.3.14->horchunk==0.0.1) (1.3.2)\n",
      "Requirement already satisfied: attrs>=17.3.0 in /home/oleksii/python/semantic_chunking/semchunk/.venv/lib/python3.12/site-packages (from aiohttp<4.0.0,>=3.8.3->langchain==0.3.14->horchunk==0.0.1) (24.3.0)\n",
      "Requirement already satisfied: frozenlist>=1.1.1 in /home/oleksii/python/semantic_chunking/semchunk/.venv/lib/python3.12/site-packages (from aiohttp<4.0.0,>=3.8.3->langchain==0.3.14->horchunk==0.0.1) (1.5.0)\n",
      "Requirement already satisfied: multidict<7.0,>=4.5 in /home/oleksii/python/semantic_chunking/semchunk/.venv/lib/python3.12/site-packages (from aiohttp<4.0.0,>=3.8.3->langchain==0.3.14->horchunk==0.0.1) (6.1.0)\n",
      "Requirement already satisfied: propcache>=0.2.0 in /home/oleksii/python/semantic_chunking/semchunk/.venv/lib/python3.12/site-packages (from aiohttp<4.0.0,>=3.8.3->langchain==0.3.14->horchunk==0.0.1) (0.2.1)\n",
      "Requirement already satisfied: yarl<2.0,>=1.17.0 in /home/oleksii/python/semantic_chunking/semchunk/.venv/lib/python3.12/site-packages (from aiohttp<4.0.0,>=3.8.3->langchain==0.3.14->horchunk==0.0.1) (1.18.3)\n",
      "Requirement already satisfied: packaging>=19.1 in /home/oleksii/python/semantic_chunking/semchunk/.venv/lib/python3.12/site-packages (from build>=1.0.3->chromadb==0.6.2->horchunk==0.0.1) (24.2)\n",
      "Requirement already satisfied: pyproject_hooks in /home/oleksii/python/semantic_chunking/semchunk/.venv/lib/python3.12/site-packages (from build>=1.0.3->chromadb==0.6.2->horchunk==0.0.1) (1.2.0)\n",
      "Requirement already satisfied: starlette<0.42.0,>=0.40.0 in /home/oleksii/python/semantic_chunking/semchunk/.venv/lib/python3.12/site-packages (from fastapi>=0.95.2->chromadb==0.6.2->horchunk==0.0.1) (0.41.3)\n",
      "Requirement already satisfied: anyio in /home/oleksii/python/semantic_chunking/semchunk/.venv/lib/python3.12/site-packages (from httpx>=0.27.0->chromadb==0.6.2->horchunk==0.0.1) (4.8.0)\n",
      "Requirement already satisfied: certifi in /home/oleksii/python/semantic_chunking/semchunk/.venv/lib/python3.12/site-packages (from httpx>=0.27.0->chromadb==0.6.2->horchunk==0.0.1) (2024.12.14)\n",
      "Requirement already satisfied: httpcore==1.* in /home/oleksii/python/semantic_chunking/semchunk/.venv/lib/python3.12/site-packages (from httpx>=0.27.0->chromadb==0.6.2->horchunk==0.0.1) (1.0.7)\n",
      "Requirement already satisfied: idna in /home/oleksii/python/semantic_chunking/semchunk/.venv/lib/python3.12/site-packages (from httpx>=0.27.0->chromadb==0.6.2->horchunk==0.0.1) (3.10)\n",
      "Requirement already satisfied: h11<0.15,>=0.13 in /home/oleksii/python/semantic_chunking/semchunk/.venv/lib/python3.12/site-packages (from httpcore==1.*->httpx>=0.27.0->chromadb==0.6.2->horchunk==0.0.1) (0.14.0)\n",
      "Requirement already satisfied: filelock in /home/oleksii/python/semantic_chunking/semchunk/.venv/lib/python3.12/site-packages (from huggingface-hub>=0.20.0->sentence-transformers==3.3.1->horchunk==0.0.1) (3.16.1)\n",
      "Requirement already satisfied: fsspec>=2023.5.0 in /home/oleksii/python/semantic_chunking/semchunk/.venv/lib/python3.12/site-packages (from huggingface-hub>=0.20.0->sentence-transformers==3.3.1->horchunk==0.0.1) (2024.12.0)\n",
      "Requirement already satisfied: six>=1.9.0 in /home/oleksii/python/semantic_chunking/semchunk/.venv/lib/python3.12/site-packages (from kubernetes>=28.1.0->chromadb==0.6.2->horchunk==0.0.1) (1.17.0)\n",
      "Requirement already satisfied: python-dateutil>=2.5.3 in /home/oleksii/python/semantic_chunking/semchunk/.venv/lib/python3.12/site-packages (from kubernetes>=28.1.0->chromadb==0.6.2->horchunk==0.0.1) (2.9.0.post0)\n",
      "Requirement already satisfied: google-auth>=1.0.1 in /home/oleksii/python/semantic_chunking/semchunk/.venv/lib/python3.12/site-packages (from kubernetes>=28.1.0->chromadb==0.6.2->horchunk==0.0.1) (2.37.0)\n",
      "Requirement already satisfied: websocket-client!=0.40.0,!=0.41.*,!=0.42.*,>=0.32.0 in /home/oleksii/python/semantic_chunking/semchunk/.venv/lib/python3.12/site-packages (from kubernetes>=28.1.0->chromadb==0.6.2->horchunk==0.0.1) (1.8.0)\n",
      "Requirement already satisfied: requests-oauthlib in /home/oleksii/python/semantic_chunking/semchunk/.venv/lib/python3.12/site-packages (from kubernetes>=28.1.0->chromadb==0.6.2->horchunk==0.0.1) (2.0.0)\n",
      "Requirement already satisfied: oauthlib>=3.2.2 in /home/oleksii/python/semantic_chunking/semchunk/.venv/lib/python3.12/site-packages (from kubernetes>=28.1.0->chromadb==0.6.2->horchunk==0.0.1) (3.2.2)\n",
      "Requirement already satisfied: urllib3>=1.24.2 in /home/oleksii/python/semantic_chunking/semchunk/.venv/lib/python3.12/site-packages (from kubernetes>=28.1.0->chromadb==0.6.2->horchunk==0.0.1) (2.3.0)\n",
      "Requirement already satisfied: durationpy>=0.7 in /home/oleksii/python/semantic_chunking/semchunk/.venv/lib/python3.12/site-packages (from kubernetes>=28.1.0->chromadb==0.6.2->horchunk==0.0.1) (0.9)\n",
      "Requirement already satisfied: jsonpatch<2.0,>=1.33 in /home/oleksii/python/semantic_chunking/semchunk/.venv/lib/python3.12/site-packages (from langchain-core<0.4.0,>=0.3.29->langchain==0.3.14->horchunk==0.0.1) (1.33)\n",
      "Requirement already satisfied: requests-toolbelt<2.0.0,>=1.0.0 in /home/oleksii/python/semantic_chunking/semchunk/.venv/lib/python3.12/site-packages (from langsmith<0.3,>=0.1.17->langchain==0.3.14->horchunk==0.0.1) (1.0.0)\n",
      "Requirement already satisfied: mdurl~=0.1 in /home/oleksii/python/semantic_chunking/semchunk/.venv/lib/python3.12/site-packages (from markdown-it-py>=2.2.0->rich==13.9.4->horchunk==0.0.1) (0.1.2)\n",
      "Requirement already satisfied: coloredlogs in /home/oleksii/python/semantic_chunking/semchunk/.venv/lib/python3.12/site-packages (from onnxruntime>=1.14.1->chromadb==0.6.2->horchunk==0.0.1) (15.0.1)\n",
      "Requirement already satisfied: flatbuffers in /home/oleksii/python/semantic_chunking/semchunk/.venv/lib/python3.12/site-packages (from onnxruntime>=1.14.1->chromadb==0.6.2->horchunk==0.0.1) (24.12.23)\n",
      "Requirement already satisfied: protobuf in /home/oleksii/python/semantic_chunking/semchunk/.venv/lib/python3.12/site-packages (from onnxruntime>=1.14.1->chromadb==0.6.2->horchunk==0.0.1) (5.29.2)\n",
      "Requirement already satisfied: sympy in /home/oleksii/python/semantic_chunking/semchunk/.venv/lib/python3.12/site-packages (from onnxruntime>=1.14.1->chromadb==0.6.2->horchunk==0.0.1) (1.13.1)\n",
      "Requirement already satisfied: distro<2,>=1.7.0 in /home/oleksii/python/semantic_chunking/semchunk/.venv/lib/python3.12/site-packages (from openai<2.0.0,>=1.58.1->langchain-openai==0.3.0->horchunk==0.0.1) (1.9.0)\n",
      "Requirement already satisfied: jiter<1,>=0.4.0 in /home/oleksii/python/semantic_chunking/semchunk/.venv/lib/python3.12/site-packages (from openai<2.0.0,>=1.58.1->langchain-openai==0.3.0->horchunk==0.0.1) (0.8.2)\n",
      "Requirement already satisfied: sniffio in /home/oleksii/python/semantic_chunking/semchunk/.venv/lib/python3.12/site-packages (from openai<2.0.0,>=1.58.1->langchain-openai==0.3.0->horchunk==0.0.1) (1.3.1)\n",
      "Requirement already satisfied: deprecated>=1.2.6 in /home/oleksii/python/semantic_chunking/semchunk/.venv/lib/python3.12/site-packages (from opentelemetry-api>=1.2.0->chromadb==0.6.2->horchunk==0.0.1) (1.2.15)\n",
      "Requirement already satisfied: importlib-metadata<=8.5.0,>=6.0 in /home/oleksii/python/semantic_chunking/semchunk/.venv/lib/python3.12/site-packages (from opentelemetry-api>=1.2.0->chromadb==0.6.2->horchunk==0.0.1) (8.5.0)\n",
      "Requirement already satisfied: googleapis-common-protos~=1.52 in /home/oleksii/python/semantic_chunking/semchunk/.venv/lib/python3.12/site-packages (from opentelemetry-exporter-otlp-proto-grpc>=1.2.0->chromadb==0.6.2->horchunk==0.0.1) (1.66.0)\n",
      "Requirement already satisfied: opentelemetry-exporter-otlp-proto-common==1.29.0 in /home/oleksii/python/semantic_chunking/semchunk/.venv/lib/python3.12/site-packages (from opentelemetry-exporter-otlp-proto-grpc>=1.2.0->chromadb==0.6.2->horchunk==0.0.1) (1.29.0)\n",
      "Requirement already satisfied: opentelemetry-proto==1.29.0 in /home/oleksii/python/semantic_chunking/semchunk/.venv/lib/python3.12/site-packages (from opentelemetry-exporter-otlp-proto-grpc>=1.2.0->chromadb==0.6.2->horchunk==0.0.1) (1.29.0)\n",
      "Requirement already satisfied: opentelemetry-instrumentation-asgi==0.50b0 in /home/oleksii/python/semantic_chunking/semchunk/.venv/lib/python3.12/site-packages (from opentelemetry-instrumentation-fastapi>=0.41b0->chromadb==0.6.2->horchunk==0.0.1) (0.50b0)\n",
      "Requirement already satisfied: opentelemetry-instrumentation==0.50b0 in /home/oleksii/python/semantic_chunking/semchunk/.venv/lib/python3.12/site-packages (from opentelemetry-instrumentation-fastapi>=0.41b0->chromadb==0.6.2->horchunk==0.0.1) (0.50b0)\n",
      "Requirement already satisfied: opentelemetry-semantic-conventions==0.50b0 in /home/oleksii/python/semantic_chunking/semchunk/.venv/lib/python3.12/site-packages (from opentelemetry-instrumentation-fastapi>=0.41b0->chromadb==0.6.2->horchunk==0.0.1) (0.50b0)\n",
      "Requirement already satisfied: opentelemetry-util-http==0.50b0 in /home/oleksii/python/semantic_chunking/semchunk/.venv/lib/python3.12/site-packages (from opentelemetry-instrumentation-fastapi>=0.41b0->chromadb==0.6.2->horchunk==0.0.1) (0.50b0)\n",
      "Requirement already satisfied: wrapt<2.0.0,>=1.0.0 in /home/oleksii/python/semantic_chunking/semchunk/.venv/lib/python3.12/site-packages (from opentelemetry-instrumentation==0.50b0->opentelemetry-instrumentation-fastapi>=0.41b0->chromadb==0.6.2->horchunk==0.0.1) (1.17.0)\n",
      "Requirement already satisfied: asgiref~=3.0 in /home/oleksii/python/semantic_chunking/semchunk/.venv/lib/python3.12/site-packages (from opentelemetry-instrumentation-asgi==0.50b0->opentelemetry-instrumentation-fastapi>=0.41b0->chromadb==0.6.2->horchunk==0.0.1) (3.8.1)\n",
      "Requirement already satisfied: monotonic>=1.5 in /home/oleksii/python/semantic_chunking/semchunk/.venv/lib/python3.12/site-packages (from posthog>=2.4.0->chromadb==0.6.2->horchunk==0.0.1) (1.6)\n",
      "Requirement already satisfied: backoff>=1.10.0 in /home/oleksii/python/semantic_chunking/semchunk/.venv/lib/python3.12/site-packages (from posthog>=2.4.0->chromadb==0.6.2->horchunk==0.0.1) (2.2.1)\n",
      "Requirement already satisfied: charset-normalizer<4,>=2 in /home/oleksii/python/semantic_chunking/semchunk/.venv/lib/python3.12/site-packages (from requests<3,>=2->langchain==0.3.14->horchunk==0.0.1) (3.4.1)\n",
      "Requirement already satisfied: greenlet!=0.4.17 in /home/oleksii/python/semantic_chunking/semchunk/.venv/lib/python3.12/site-packages (from SQLAlchemy<3,>=1.4->langchain==0.3.14->horchunk==0.0.1) (3.1.1)\n",
      "Requirement already satisfied: networkx in /home/oleksii/python/semantic_chunking/semchunk/.venv/lib/python3.12/site-packages (from torch>=1.11.0->sentence-transformers==3.3.1->horchunk==0.0.1) (3.4.2)\n",
      "Requirement already satisfied: jinja2 in /home/oleksii/python/semantic_chunking/semchunk/.venv/lib/python3.12/site-packages (from torch>=1.11.0->sentence-transformers==3.3.1->horchunk==0.0.1) (3.1.5)\n",
      "Requirement already satisfied: nvidia-cuda-nvrtc-cu12==12.4.127 in /home/oleksii/python/semantic_chunking/semchunk/.venv/lib/python3.12/site-packages (from torch>=1.11.0->sentence-transformers==3.3.1->horchunk==0.0.1) (12.4.127)\n",
      "Requirement already satisfied: nvidia-cuda-runtime-cu12==12.4.127 in /home/oleksii/python/semantic_chunking/semchunk/.venv/lib/python3.12/site-packages (from torch>=1.11.0->sentence-transformers==3.3.1->horchunk==0.0.1) (12.4.127)\n",
      "Requirement already satisfied: nvidia-cuda-cupti-cu12==12.4.127 in /home/oleksii/python/semantic_chunking/semchunk/.venv/lib/python3.12/site-packages (from torch>=1.11.0->sentence-transformers==3.3.1->horchunk==0.0.1) (12.4.127)\n",
      "Requirement already satisfied: nvidia-cudnn-cu12==9.1.0.70 in /home/oleksii/python/semantic_chunking/semchunk/.venv/lib/python3.12/site-packages (from torch>=1.11.0->sentence-transformers==3.3.1->horchunk==0.0.1) (9.1.0.70)\n",
      "Requirement already satisfied: nvidia-cublas-cu12==12.4.5.8 in /home/oleksii/python/semantic_chunking/semchunk/.venv/lib/python3.12/site-packages (from torch>=1.11.0->sentence-transformers==3.3.1->horchunk==0.0.1) (12.4.5.8)\n",
      "Requirement already satisfied: nvidia-cufft-cu12==11.2.1.3 in /home/oleksii/python/semantic_chunking/semchunk/.venv/lib/python3.12/site-packages (from torch>=1.11.0->sentence-transformers==3.3.1->horchunk==0.0.1) (11.2.1.3)\n",
      "Requirement already satisfied: nvidia-curand-cu12==10.3.5.147 in /home/oleksii/python/semantic_chunking/semchunk/.venv/lib/python3.12/site-packages (from torch>=1.11.0->sentence-transformers==3.3.1->horchunk==0.0.1) (10.3.5.147)\n",
      "Requirement already satisfied: nvidia-cusolver-cu12==11.6.1.9 in /home/oleksii/python/semantic_chunking/semchunk/.venv/lib/python3.12/site-packages (from torch>=1.11.0->sentence-transformers==3.3.1->horchunk==0.0.1) (11.6.1.9)\n",
      "Requirement already satisfied: nvidia-cusparse-cu12==12.3.1.170 in /home/oleksii/python/semantic_chunking/semchunk/.venv/lib/python3.12/site-packages (from torch>=1.11.0->sentence-transformers==3.3.1->horchunk==0.0.1) (12.3.1.170)\n",
      "Requirement already satisfied: nvidia-nccl-cu12==2.21.5 in /home/oleksii/python/semantic_chunking/semchunk/.venv/lib/python3.12/site-packages (from torch>=1.11.0->sentence-transformers==3.3.1->horchunk==0.0.1) (2.21.5)\n",
      "Requirement already satisfied: nvidia-nvtx-cu12==12.4.127 in /home/oleksii/python/semantic_chunking/semchunk/.venv/lib/python3.12/site-packages (from torch>=1.11.0->sentence-transformers==3.3.1->horchunk==0.0.1) (12.4.127)\n",
      "Requirement already satisfied: nvidia-nvjitlink-cu12==12.4.127 in /home/oleksii/python/semantic_chunking/semchunk/.venv/lib/python3.12/site-packages (from torch>=1.11.0->sentence-transformers==3.3.1->horchunk==0.0.1) (12.4.127)\n",
      "Requirement already satisfied: triton==3.1.0 in /home/oleksii/python/semantic_chunking/semchunk/.venv/lib/python3.12/site-packages (from torch>=1.11.0->sentence-transformers==3.3.1->horchunk==0.0.1) (3.1.0)\n",
      "Requirement already satisfied: setuptools in /home/oleksii/python/semantic_chunking/semchunk/.venv/lib/python3.12/site-packages (from torch>=1.11.0->sentence-transformers==3.3.1->horchunk==0.0.1) (75.8.0)\n",
      "Requirement already satisfied: mpmath<1.4,>=1.1.0 in /home/oleksii/python/semantic_chunking/semchunk/.venv/lib/python3.12/site-packages (from sympy->onnxruntime>=1.14.1->chromadb==0.6.2->horchunk==0.0.1) (1.3.0)\n",
      "Requirement already satisfied: safetensors>=0.4.1 in /home/oleksii/python/semantic_chunking/semchunk/.venv/lib/python3.12/site-packages (from transformers<5.0.0,>=4.41.0->sentence-transformers==3.3.1->horchunk==0.0.1) (0.5.1)\n",
      "Requirement already satisfied: click>=8.0.0 in /home/oleksii/python/semantic_chunking/semchunk/.venv/lib/python3.12/site-packages (from typer>=0.9.0->chromadb==0.6.2->horchunk==0.0.1) (8.1.8)\n",
      "Requirement already satisfied: shellingham>=1.3.0 in /home/oleksii/python/semantic_chunking/semchunk/.venv/lib/python3.12/site-packages (from typer>=0.9.0->chromadb==0.6.2->horchunk==0.0.1) (1.5.4)\n",
      "Requirement already satisfied: httptools>=0.6.3 in /home/oleksii/python/semantic_chunking/semchunk/.venv/lib/python3.12/site-packages (from uvicorn[standard]>=0.18.3->chromadb==0.6.2->horchunk==0.0.1) (0.6.4)\n",
      "Requirement already satisfied: python-dotenv>=0.13 in /home/oleksii/python/semantic_chunking/semchunk/.venv/lib/python3.12/site-packages (from uvicorn[standard]>=0.18.3->chromadb==0.6.2->horchunk==0.0.1) (1.0.1)\n",
      "Requirement already satisfied: uvloop!=0.15.0,!=0.15.1,>=0.14.0 in /home/oleksii/python/semantic_chunking/semchunk/.venv/lib/python3.12/site-packages (from uvicorn[standard]>=0.18.3->chromadb==0.6.2->horchunk==0.0.1) (0.21.0)\n",
      "Requirement already satisfied: watchfiles>=0.13 in /home/oleksii/python/semantic_chunking/semchunk/.venv/lib/python3.12/site-packages (from uvicorn[standard]>=0.18.3->chromadb==0.6.2->horchunk==0.0.1) (1.0.3)\n",
      "Requirement already satisfied: websockets>=10.4 in /home/oleksii/python/semantic_chunking/semchunk/.venv/lib/python3.12/site-packages (from uvicorn[standard]>=0.18.3->chromadb==0.6.2->horchunk==0.0.1) (14.1)\n",
      "Requirement already satisfied: joblib>=1.2.0 in /home/oleksii/python/semantic_chunking/semchunk/.venv/lib/python3.12/site-packages (from scikit-learn->sentence-transformers==3.3.1->horchunk==0.0.1) (1.4.2)\n",
      "Requirement already satisfied: threadpoolctl>=3.1.0 in /home/oleksii/python/semantic_chunking/semchunk/.venv/lib/python3.12/site-packages (from scikit-learn->sentence-transformers==3.3.1->horchunk==0.0.1) (3.5.0)\n",
      "Requirement already satisfied: cachetools<6.0,>=2.0.0 in /home/oleksii/python/semantic_chunking/semchunk/.venv/lib/python3.12/site-packages (from google-auth>=1.0.1->kubernetes>=28.1.0->chromadb==0.6.2->horchunk==0.0.1) (5.5.0)\n",
      "Requirement already satisfied: pyasn1-modules>=0.2.1 in /home/oleksii/python/semantic_chunking/semchunk/.venv/lib/python3.12/site-packages (from google-auth>=1.0.1->kubernetes>=28.1.0->chromadb==0.6.2->horchunk==0.0.1) (0.4.1)\n",
      "Requirement already satisfied: rsa<5,>=3.1.4 in /home/oleksii/python/semantic_chunking/semchunk/.venv/lib/python3.12/site-packages (from google-auth>=1.0.1->kubernetes>=28.1.0->chromadb==0.6.2->horchunk==0.0.1) (4.9)\n",
      "Requirement already satisfied: zipp>=3.20 in /home/oleksii/python/semantic_chunking/semchunk/.venv/lib/python3.12/site-packages (from importlib-metadata<=8.5.0,>=6.0->opentelemetry-api>=1.2.0->chromadb==0.6.2->horchunk==0.0.1) (3.21.0)\n",
      "Requirement already satisfied: jsonpointer>=1.9 in /home/oleksii/python/semantic_chunking/semchunk/.venv/lib/python3.12/site-packages (from jsonpatch<2.0,>=1.33->langchain-core<0.4.0,>=0.3.29->langchain==0.3.14->horchunk==0.0.1) (3.0.0)\n",
      "Requirement already satisfied: humanfriendly>=9.1 in /home/oleksii/python/semantic_chunking/semchunk/.venv/lib/python3.12/site-packages (from coloredlogs->onnxruntime>=1.14.1->chromadb==0.6.2->horchunk==0.0.1) (10.0)\n",
      "Requirement already satisfied: MarkupSafe>=2.0 in /home/oleksii/python/semantic_chunking/semchunk/.venv/lib/python3.12/site-packages (from jinja2->torch>=1.11.0->sentence-transformers==3.3.1->horchunk==0.0.1) (3.0.2)\n",
      "Requirement already satisfied: pyasn1<0.7.0,>=0.4.6 in /home/oleksii/python/semantic_chunking/semchunk/.venv/lib/python3.12/site-packages (from pyasn1-modules>=0.2.1->google-auth>=1.0.1->kubernetes>=28.1.0->chromadb==0.6.2->horchunk==0.0.1) (0.6.1)\n",
      "\n",
      "\u001b[1m[\u001b[0m\u001b[34;49mnotice\u001b[0m\u001b[1;39;49m]\u001b[0m\u001b[39;49m A new release of pip is available: \u001b[0m\u001b[31;49m24.3.1\u001b[0m\u001b[39;49m -> \u001b[0m\u001b[32;49m25.0\u001b[0m\n",
      "\u001b[1m[\u001b[0m\u001b[34;49mnotice\u001b[0m\u001b[1;39;49m]\u001b[0m\u001b[39;49m To update, run: \u001b[0m\u001b[32;49mpip install --upgrade pip\u001b[0m\n"
     ]
    },
    {
     "name": "stderr",
     "output_type": "stream",
     "text": [
      "huggingface/tokenizers: The current process just got forked, after parallelism has already been used. Disabling parallelism to avoid deadlocks...\n",
      "To disable this warning, you can either:\n",
      "\t- Avoid using `tokenizers` before the fork if possible\n",
      "\t- Explicitly set the environment variable TOKENIZERS_PARALLELISM=(true | false)\n"
     ]
    },
    {
     "name": "stdout",
     "output_type": "stream",
     "text": [
      "Requirement already satisfied: requests in /home/oleksii/python/semantic_chunking/semchunk/.venv/lib/python3.12/site-packages (2.32.3)\n",
      "Requirement already satisfied: charset-normalizer<4,>=2 in /home/oleksii/python/semantic_chunking/semchunk/.venv/lib/python3.12/site-packages (from requests) (3.4.1)\n",
      "Requirement already satisfied: idna<4,>=2.5 in /home/oleksii/python/semantic_chunking/semchunk/.venv/lib/python3.12/site-packages (from requests) (3.10)\n",
      "Requirement already satisfied: urllib3<3,>=1.21.1 in /home/oleksii/python/semantic_chunking/semchunk/.venv/lib/python3.12/site-packages (from requests) (2.3.0)\n",
      "Requirement already satisfied: certifi>=2017.4.17 in /home/oleksii/python/semantic_chunking/semchunk/.venv/lib/python3.12/site-packages (from requests) (2024.12.14)\n",
      "\n",
      "\u001b[1m[\u001b[0m\u001b[34;49mnotice\u001b[0m\u001b[1;39;49m]\u001b[0m\u001b[39;49m A new release of pip is available: \u001b[0m\u001b[31;49m24.3.1\u001b[0m\u001b[39;49m -> \u001b[0m\u001b[32;49m25.0\u001b[0m\n",
      "\u001b[1m[\u001b[0m\u001b[34;49mnotice\u001b[0m\u001b[1;39;49m]\u001b[0m\u001b[39;49m To update, run: \u001b[0m\u001b[32;49mpip install --upgrade pip\u001b[0m\n"
     ]
    },
    {
     "name": "stderr",
     "output_type": "stream",
     "text": [
      "huggingface/tokenizers: The current process just got forked, after parallelism has already been used. Disabling parallelism to avoid deadlocks...\n",
      "To disable this warning, you can either:\n",
      "\t- Avoid using `tokenizers` before the fork if possible\n",
      "\t- Explicitly set the environment variable TOKENIZERS_PARALLELISM=(true | false)\n"
     ]
    },
    {
     "name": "stdout",
     "output_type": "stream",
     "text": [
      "Requirement already satisfied: chroma in /home/oleksii/python/semantic_chunking/semchunk/.venv/lib/python3.12/site-packages (0.2.0)\n",
      "\n",
      "\u001b[1m[\u001b[0m\u001b[34;49mnotice\u001b[0m\u001b[1;39;49m]\u001b[0m\u001b[39;49m A new release of pip is available: \u001b[0m\u001b[31;49m24.3.1\u001b[0m\u001b[39;49m -> \u001b[0m\u001b[32;49m25.0\u001b[0m\n",
      "\u001b[1m[\u001b[0m\u001b[34;49mnotice\u001b[0m\u001b[1;39;49m]\u001b[0m\u001b[39;49m To update, run: \u001b[0m\u001b[32;49mpip install --upgrade pip\u001b[0m\n"
     ]
    },
    {
     "name": "stderr",
     "output_type": "stream",
     "text": [
      "huggingface/tokenizers: The current process just got forked, after parallelism has already been used. Disabling parallelism to avoid deadlocks...\n",
      "To disable this warning, you can either:\n",
      "\t- Avoid using `tokenizers` before the fork if possible\n",
      "\t- Explicitly set the environment variable TOKENIZERS_PARALLELISM=(true | false)\n"
     ]
    },
    {
     "name": "stdout",
     "output_type": "stream",
     "text": [
      "Requirement already satisfied: numpy in /home/oleksii/python/semantic_chunking/semchunk/.venv/lib/python3.12/site-packages (2.2.1)\n",
      "\n",
      "\u001b[1m[\u001b[0m\u001b[34;49mnotice\u001b[0m\u001b[1;39;49m]\u001b[0m\u001b[39;49m A new release of pip is available: \u001b[0m\u001b[31;49m24.3.1\u001b[0m\u001b[39;49m -> \u001b[0m\u001b[32;49m25.0\u001b[0m\n",
      "\u001b[1m[\u001b[0m\u001b[34;49mnotice\u001b[0m\u001b[1;39;49m]\u001b[0m\u001b[39;49m To update, run: \u001b[0m\u001b[32;49mpip install --upgrade pip\u001b[0m\n"
     ]
    }
   ],
   "source": [
    "!pip install \"git+https://github.com/panalexeu/horchunk.git\"\n",
    "!pip install requests\n",
    "!pip install chroma\n",
    "!pip install numpy"
   ]
  },
  {
   "cell_type": "markdown",
   "id": "77afcc66-cc60-4437-8993-77877ac3b6c2",
   "metadata": {},
   "source": [
    "#### Loading datasets from git"
   ]
  },
  {
   "cell_type": "code",
   "execution_count": 2,
   "id": "f9cb5c19-dede-4e12-ad11-485c64ec4489",
   "metadata": {},
   "outputs": [
    {
     "name": "stdout",
     "output_type": "stream",
     "text": [
      "wikitexts: 22406 words\n",
      "chatlogs: 5968 words\n",
      "finance: 116860 words\n",
      "pubmed: 75846 words\n",
      "state_of_the_union: 8468 words\n"
     ]
    }
   ],
   "source": [
    "import requests \n",
    "\n",
    "links_dict = dict(\n",
    "    wikitexts='https://raw.githubusercontent.com/brandonstarxel/chunking_evaluation/refs/heads/main/chunking_evaluation/evaluation_framework/general_evaluation_data/corpora/wikitexts.md',\n",
    "    chatlogs='https://raw.githubusercontent.com/brandonstarxel/chunking_evaluation/refs/heads/main/chunking_evaluation/evaluation_framework/general_evaluation_data/corpora/chatlogs.md',\n",
    "    finance='https://raw.githubusercontent.com/brandonstarxel/chunking_evaluation/refs/heads/main/chunking_evaluation/evaluation_framework/general_evaluation_data/corpora/finance.md',\n",
    "    pubmed='https://raw.githubusercontent.com/brandonstarxel/chunking_evaluation/refs/heads/main/chunking_evaluation/evaluation_framework/general_evaluation_data/corpora/pubmed.md',\n",
    "    state_of_the_union='https://raw.githubusercontent.com/brandonstarxel/chunking_evaluation/refs/heads/main/chunking_evaluation/evaluation_framework/general_evaluation_data/corpora/state_of_the_union.md'\n",
    ") \n",
    "\n",
    "\n",
    "def load_datasets(links_dict: dict) -> dict:\n",
    "    data = dict()\n",
    "    for name, link in links_dict.items():\n",
    "        response = requests.get(link)\n",
    "        data[name] = response.text \n",
    "        \n",
    "    return data \n",
    "\n",
    "datasets = load_datasets(links_dict)\n",
    "for key in datasets.keys():\n",
    "    print(f'{key}: {len(datasets[key].split())} words')"
   ]
  },
  {
   "cell_type": "markdown",
   "id": "7ad1ab97-3a27-42d9-8288-c148470059ef",
   "metadata": {},
   "source": [
    "#### Tuning"
   ]
  },
  {
   "cell_type": "markdown",
   "id": "86ca9638-93d3-412b-ba89-59b7eccf6e0a",
   "metadata": {},
   "source": [
    "Let's start by instantiating WindowTuner."
   ]
  },
  {
   "cell_type": "code",
   "execution_count": 3,
   "id": "ecea916e-ddef-4af9-81b2-36342a8cba4c",
   "metadata": {},
   "outputs": [
    {
     "name": "stderr",
     "output_type": "stream",
     "text": [
      "/home/oleksii/python/semantic_chunking/semchunk/.venv/lib/python3.12/site-packages/tqdm/auto.py:21: TqdmWarning: IProgress not found. Please update jupyter and ipywidgets. See https://ipywidgets.readthedocs.io/en/stable/user_install.html\n",
      "  from .autonotebook import tqdm as notebook_tqdm\n"
     ]
    }
   ],
   "source": [
    "from horchunk.chunkers import WindowTuner\n",
    "from chromadb.utils import embedding_functions\n",
    "\n",
    "ef = embedding_functions.DefaultEmbeddingFunction() # all-MiniLM-L6-v2\n",
    "tuner = WindowTuner(ef) "
   ]
  },
  {
   "cell_type": "markdown",
   "id": "c684e184-96f0-4474-96c7-3d8a14e7ec27",
   "metadata": {},
   "source": [
    "In this tutorial, we will tune the minimum threshold for document of 3 sentences in size. We will repeat this process for every dataset. The identified thresholds will then be averaged to determine a single, generalized threshold value."
   ]
  },
  {
   "cell_type": "code",
   "execution_count": 6,
   "id": "739c2b32-818b-448e-9a5c-e951c7996c23",
   "metadata": {},
   "outputs": [],
   "source": [
    "thresholds = []"
   ]
  },
  {
   "cell_type": "markdown",
   "id": "af9a769e-454e-4d2e-98fb-11367786c2d8",
   "metadata": {},
   "source": [
    "**wikitexts**"
   ]
  },
  {
   "cell_type": "code",
   "execution_count": 7,
   "id": "ac34551b-28ad-4d3d-b4c5-b365150dd08d",
   "metadata": {
    "scrolled": true
   },
   "outputs": [
    {
     "name": "stderr",
     "output_type": "stream",
     "text": [
      "100%|██████████████████████████████████████████████████████████████████████████████████████████████████████████████████████████████| 1090/1090 [00:59<00:00, 18.30it/s]\n"
     ]
    },
    {
     "data": {
      "text/html": [
       "<pre style=\"white-space:pre;overflow-x:auto;line-height:normal;font-family:Menlo,'DejaVu Sans Mono',consolas,'Courier New',monospace\"><span style=\"color: #008080; text-decoration-color: #008080; font-weight: bold\">1090</span> chunks formed\n",
       "</pre>\n"
      ],
      "text/plain": [
       "\u001b[1;36m1090\u001b[0m chunks formed\n"
      ]
     },
     "metadata": {},
     "output_type": "display_data"
    },
    {
     "data": {
      "text/html": [
       "<pre style=\"white-space:pre;overflow-x:auto;line-height:normal;font-family:Menlo,'DejaVu Sans Mono',consolas,'Courier New',monospace\">Values range: <span style=\"font-weight: bold\">[</span><span style=\"color: #008080; text-decoration-color: #008080; font-weight: bold\">-0.022758223116397858</span> <span style=\"color: #808000; text-decoration-color: #808000\">...</span> <span style=\"color: #008080; text-decoration-color: #008080; font-weight: bold\">1.0</span><span style=\"font-weight: bold\">]</span>\n",
       "</pre>\n"
      ],
      "text/plain": [
       "Values range: \u001b[1m[\u001b[0m\u001b[1;36m-0.022758223116397858\u001b[0m \u001b[33m...\u001b[0m \u001b[1;36m1.0\u001b[0m\u001b[1m]\u001b[0m\n"
      ]
     },
     "metadata": {},
     "output_type": "display_data"
    },
    {
     "data": {
      "text/html": [
       "<pre style=\"white-space:pre;overflow-x:auto;line-height:normal;font-family:Menlo,'DejaVu Sans Mono',consolas,'Courier New',monospace\">Steps to tune: <span style=\"color: #008080; text-decoration-color: #008080; font-weight: bold\">10</span>\n",
       "</pre>\n"
      ],
      "text/plain": [
       "Steps to tune: \u001b[1;36m10\u001b[0m\n"
      ]
     },
     "metadata": {},
     "output_type": "display_data"
    },
    {
     "data": {
      "text/html": [
       "<pre style=\"white-space:pre;overflow-x:auto;line-height:normal;font-family:Menlo,'DejaVu Sans Mono',consolas,'Courier New',monospace\">--------------------------------\n",
       "</pre>\n"
      ],
      "text/plain": [
       "--------------------------------\n"
      ]
     },
     "metadata": {},
     "output_type": "display_data"
    },
    {
     "data": {
      "text/html": [
       "<pre style=\"white-space:pre;overflow-x:auto;line-height:normal;font-family:Menlo,'DejaVu Sans Mono',consolas,'Courier New',monospace\">dist: <span style=\"color: #008080; text-decoration-color: #008080; font-weight: bold\">0.747102677822113</span>\n",
       "</pre>\n"
      ],
      "text/plain": [
       "dist: \u001b[1;36m0.747102677822113\u001b[0m\n"
      ]
     },
     "metadata": {},
     "output_type": "display_data"
    },
    {
     "data": {
      "text/html": [
       "<pre style=\"white-space:pre;overflow-x:auto;line-height:normal;font-family:Menlo,'DejaVu Sans Mono',consolas,'Courier New',monospace\">chunk: <span style=\"color: #c0c0c0; text-decoration-color: #c0c0c0; background-color: #008000\"> In the late 1920s , Barker began to doubt she was doing enough for the church and considered focusing </span>\n",
       "<span style=\"color: #c0c0c0; text-decoration-color: #c0c0c0; background-color: #008000\">solely on sacred works .</span><span style=\"color: #c0c0c0; text-decoration-color: #c0c0c0; background-color: #008080\">Family and friends recommended she continue secular and sacred works , which she did .  </span>\n",
       "<span style=\"color: #c0c0c0; text-decoration-color: #c0c0c0; background-color: #008080\">Barker continued to attend evening classes at the Croydon Art School between the 1920s and the 1940s , eventually </span>\n",
       "<span style=\"color: #c0c0c0; text-decoration-color: #c0c0c0; background-color: #008080\">receiving a teaching position .</span>\n",
       "</pre>\n"
      ],
      "text/plain": [
       "chunk: \u001b[37;42m In the late 1920s , Barker began to doubt she was doing enough for the church and considered focusing \u001b[0m\n",
       "\u001b[37;42msolely on sacred works .\u001b[0m\u001b[37;46mFamily and friends recommended she continue secular and sacred works , which she did .  \u001b[0m\n",
       "\u001b[37;46mBarker continued to attend evening classes at the Croydon Art School between the 1920s and the 1940s , eventually \u001b[0m\n",
       "\u001b[37;46mreceiving a teaching position .\u001b[0m\n"
      ]
     },
     "metadata": {},
     "output_type": "display_data"
    },
    {
     "name": "stdin",
     "output_type": "stream",
     "text": [
      "Type 'k' to raise thresh, or 'j' - to lower it, then press 'Enter':  k\n"
     ]
    },
    {
     "data": {
      "text/html": [
       "<pre style=\"white-space:pre;overflow-x:auto;line-height:normal;font-family:Menlo,'DejaVu Sans Mono',consolas,'Courier New',monospace\">dist: <span style=\"color: #008080; text-decoration-color: #008080; font-weight: bold\">0.8406479358673096</span>\n",
       "</pre>\n"
      ],
      "text/plain": [
       "dist: \u001b[1;36m0.8406479358673096\u001b[0m\n"
      ]
     },
     "metadata": {},
     "output_type": "display_data"
    },
    {
     "data": {
      "text/html": [
       "<pre style=\"white-space:pre;overflow-x:auto;line-height:normal;font-family:Menlo,'DejaVu Sans Mono',consolas,'Courier New',monospace\">chunk: <span style=\"color: #c0c0c0; text-decoration-color: #c0c0c0; background-color: #008000\"> Old Rhymes for All Times ; Blackie , </span><span style=\"color: #c0c0c0; text-decoration-color: #c0c0c0; background-color: #008000; font-weight: bold\">1928</span><span style=\"color: #c0c0c0; text-decoration-color: #c0c0c0; background-color: #008000\"> </span><span style=\"color: #c0c0c0; text-decoration-color: #c0c0c0; background-color: #008080\"> The Children ’ s Book of Hymns ; Blackie , </span><span style=\"color: #c0c0c0; text-decoration-color: #c0c0c0; background-color: #008080; font-weight: bold\">1929</span><span style=\"color: #c0c0c0; text-decoration-color: #c0c0c0; background-color: #008080\"> ; rep . </span><span style=\"color: #c0c0c0; text-decoration-color: #c0c0c0; background-color: #008080; font-weight: bold\">1933</span><span style=\"color: #c0c0c0; text-decoration-color: #c0c0c0; background-color: #008080\"> </span>\n",
       "</pre>\n"
      ],
      "text/plain": [
       "chunk: \u001b[37;42m Old Rhymes for All Times ; Blackie , \u001b[0m\u001b[1;37;42m1928\u001b[0m\u001b[37;42m \u001b[0m\u001b[37;46m The Children ’ s Book of Hymns ; Blackie , \u001b[0m\u001b[1;37;46m1929\u001b[0m\u001b[37;46m ; rep . \u001b[0m\u001b[1;37;46m1933\u001b[0m\u001b[37;46m \u001b[0m\n"
      ]
     },
     "metadata": {},
     "output_type": "display_data"
    },
    {
     "name": "stdin",
     "output_type": "stream",
     "text": [
      "Type 'k' to raise thresh, or 'j' - to lower it, then press 'Enter':  j\n"
     ]
    },
    {
     "data": {
      "text/html": [
       "<pre style=\"white-space:pre;overflow-x:auto;line-height:normal;font-family:Menlo,'DejaVu Sans Mono',consolas,'Courier New',monospace\">dist: <span style=\"color: #008080; text-decoration-color: #008080; font-weight: bold\">0.7931419610977173</span>\n",
       "</pre>\n"
      ],
      "text/plain": [
       "dist: \u001b[1;36m0.7931419610977173\u001b[0m\n"
      ]
     },
     "metadata": {},
     "output_type": "display_data"
    },
    {
     "data": {
      "text/html": [
       "<pre style=\"white-space:pre;overflow-x:auto;line-height:normal;font-family:Menlo,'DejaVu Sans Mono',consolas,'Courier New',monospace\">chunk: <span style=\"color: #c0c0c0; text-decoration-color: #c0c0c0; background-color: #008000\">Kate Greenaway and the Pre @-@ Raphaelites were the principal influences on her work .</span><span style=\"color: #c0c0c0; text-decoration-color: #c0c0c0; background-color: #008080\">She claimed to paint </span>\n",
       "<span style=\"color: #c0c0c0; text-decoration-color: #c0c0c0; background-color: #008080\">instinctively and rejected artistic theories . Barker died in </span><span style=\"color: #c0c0c0; text-decoration-color: #c0c0c0; background-color: #008080; font-weight: bold\">1973</span><span style=\"color: #c0c0c0; text-decoration-color: #c0c0c0; background-color: #008080\"> .</span>\n",
       "</pre>\n"
      ],
      "text/plain": [
       "chunk: \u001b[37;42mKate Greenaway and the Pre @-@ Raphaelites were the principal influences on her work .\u001b[0m\u001b[37;46mShe claimed to paint \u001b[0m\n",
       "\u001b[37;46minstinctively and rejected artistic theories . Barker died in \u001b[0m\u001b[1;37;46m1973\u001b[0m\u001b[37;46m .\u001b[0m\n"
      ]
     },
     "metadata": {},
     "output_type": "display_data"
    },
    {
     "name": "stdin",
     "output_type": "stream",
     "text": [
      "Type 'k' to raise thresh, or 'j' - to lower it, then press 'Enter':  k\n"
     ]
    },
    {
     "data": {
      "text/html": [
       "<pre style=\"white-space:pre;overflow-x:auto;line-height:normal;font-family:Menlo,'DejaVu Sans Mono',consolas,'Courier New',monospace\">dist: <span style=\"color: #008080; text-decoration-color: #008080; font-weight: bold\">0.8172352313995361</span>\n",
       "</pre>\n"
      ],
      "text/plain": [
       "dist: \u001b[1;36m0.8172352313995361\u001b[0m\n"
      ]
     },
     "metadata": {},
     "output_type": "display_data"
    },
    {
     "data": {
      "text/html": [
       "<pre style=\"white-space:pre;overflow-x:auto;line-height:normal;font-family:Menlo,'DejaVu Sans Mono',consolas,'Courier New',monospace\">chunk: <span style=\"color: #c0c0c0; text-decoration-color: #c0c0c0; background-color: #008000\"> The rectangular casemate was pierced with eight narrow gun ports , one each at the bow and stern and three </span>\n",
       "<span style=\"color: #c0c0c0; text-decoration-color: #c0c0c0; background-color: #008000\">along each side .</span><span style=\"color: #c0c0c0; text-decoration-color: #c0c0c0; background-color: #008080\">Each gun port was protected by an armored shutter made of two layers of iron riveted together and </span>\n",
       "<span style=\"color: #c0c0c0; text-decoration-color: #c0c0c0; background-color: #008080\">allowed the guns to elevate only to a maximum of + </span><span style=\"color: #c0c0c0; text-decoration-color: #c0c0c0; background-color: #008080; font-weight: bold\">5</span><span style=\"color: #c0c0c0; text-decoration-color: #c0c0c0; background-color: #008080\"> to + </span><span style=\"color: #c0c0c0; text-decoration-color: #c0c0c0; background-color: #008080; font-weight: bold\">7</span><span style=\"color: #c0c0c0; text-decoration-color: #c0c0c0; background-color: #008080\"> ° . Atlanta was armed with single @-@ banded , </span><span style=\"color: #c0c0c0; text-decoration-color: #c0c0c0; background-color: #008080; font-weight: bold\">7</span><span style=\"color: #c0c0c0; text-decoration-color: #c0c0c0; background-color: #008080\"> @-@ </span>\n",
       "<span style=\"color: #c0c0c0; text-decoration-color: #c0c0c0; background-color: #008080\">inch </span><span style=\"color: #c0c0c0; text-decoration-color: #c0c0c0; background-color: #008080; font-weight: bold\">(</span><span style=\"color: #c0c0c0; text-decoration-color: #c0c0c0; background-color: #008080\"> </span><span style=\"color: #c0c0c0; text-decoration-color: #c0c0c0; background-color: #008080; font-weight: bold\">178</span><span style=\"color: #c0c0c0; text-decoration-color: #c0c0c0; background-color: #008080\"> mm </span><span style=\"color: #c0c0c0; text-decoration-color: #c0c0c0; background-color: #008080; font-weight: bold\">)</span><span style=\"color: #c0c0c0; text-decoration-color: #c0c0c0; background-color: #008080\"> Brooke rifles on pivot mounts at the bow and stern .</span>\n",
       "</pre>\n"
      ],
      "text/plain": [
       "chunk: \u001b[37;42m The rectangular casemate was pierced with eight narrow gun ports , one each at the bow and stern and three \u001b[0m\n",
       "\u001b[37;42malong each side .\u001b[0m\u001b[37;46mEach gun port was protected by an armored shutter made of two layers of iron riveted together and \u001b[0m\n",
       "\u001b[37;46mallowed the guns to elevate only to a maximum of + \u001b[0m\u001b[1;37;46m5\u001b[0m\u001b[37;46m to + \u001b[0m\u001b[1;37;46m7\u001b[0m\u001b[37;46m ° . Atlanta was armed with single @-@ banded , \u001b[0m\u001b[1;37;46m7\u001b[0m\u001b[37;46m @-@ \u001b[0m\n",
       "\u001b[37;46minch \u001b[0m\u001b[1;37;46m(\u001b[0m\u001b[37;46m \u001b[0m\u001b[1;37;46m178\u001b[0m\u001b[37;46m mm \u001b[0m\u001b[1;37;46m)\u001b[0m\u001b[37;46m Brooke rifles on pivot mounts at the bow and stern .\u001b[0m\n"
      ]
     },
     "metadata": {},
     "output_type": "display_data"
    },
    {
     "name": "stdin",
     "output_type": "stream",
     "text": [
      "Type 'k' to raise thresh, or 'j' - to lower it, then press 'Enter':  j\n"
     ]
    },
    {
     "data": {
      "text/html": [
       "<pre style=\"white-space:pre;overflow-x:auto;line-height:normal;font-family:Menlo,'DejaVu Sans Mono',consolas,'Courier New',monospace\">dist: <span style=\"color: #008080; text-decoration-color: #008080; font-weight: bold\">0.8069126009941101</span>\n",
       "</pre>\n"
      ],
      "text/plain": [
       "dist: \u001b[1;36m0.8069126009941101\u001b[0m\n"
      ]
     },
     "metadata": {},
     "output_type": "display_data"
    },
    {
     "data": {
      "text/html": [
       "<pre style=\"white-space:pre;overflow-x:auto;line-height:normal;font-family:Menlo,'DejaVu Sans Mono',consolas,'Courier New',monospace\">chunk: <span style=\"color: #c0c0c0; text-decoration-color: #c0c0c0; background-color: #008000\">The Asthetic Club provided much @-@ needed financial support during the period and even paid the electric </span>\n",
       "<span style=\"color: #c0c0c0; text-decoration-color: #c0c0c0; background-color: #008000\">bill during the Great Depression .</span><span style=\"color: #c0c0c0; text-decoration-color: #c0c0c0; background-color: #008080\">The Asthetic Club is still headquartered in the Tower Building .  = = Public use </span>\n",
       "<span style=\"color: #c0c0c0; text-decoration-color: #c0c0c0; background-color: #008080\">= = </span>\n",
       "</pre>\n"
      ],
      "text/plain": [
       "chunk: \u001b[37;42mThe Asthetic Club provided much @-@ needed financial support during the period and even paid the electric \u001b[0m\n",
       "\u001b[37;42mbill during the Great Depression .\u001b[0m\u001b[37;46mThe Asthetic Club is still headquartered in the Tower Building .  = = Public use \u001b[0m\n",
       "\u001b[37;46m= = \u001b[0m\n"
      ]
     },
     "metadata": {},
     "output_type": "display_data"
    },
    {
     "name": "stdin",
     "output_type": "stream",
     "text": [
      "Type 'k' to raise thresh, or 'j' - to lower it, then press 'Enter':  j\n"
     ]
    },
    {
     "data": {
      "text/html": [
       "<pre style=\"white-space:pre;overflow-x:auto;line-height:normal;font-family:Menlo,'DejaVu Sans Mono',consolas,'Courier New',monospace\">dist: <span style=\"color: #008080; text-decoration-color: #008080; font-weight: bold\">0.7981497645378113</span>\n",
       "</pre>\n"
      ],
      "text/plain": [
       "dist: \u001b[1;36m0.7981497645378113\u001b[0m\n"
      ]
     },
     "metadata": {},
     "output_type": "display_data"
    },
    {
     "data": {
      "text/html": [
       "<pre style=\"white-space:pre;overflow-x:auto;line-height:normal;font-family:Menlo,'DejaVu Sans Mono',consolas,'Courier New',monospace\">chunk: <span style=\"color: #c0c0c0; text-decoration-color: #c0c0c0; background-color: #008000\">Together with their fellow squad members , these three are tasked to fight against a mysterious Imperial </span>\n",
       "<span style=\"color: #c0c0c0; text-decoration-color: #c0c0c0; background-color: #008000\">unit known as Calamity Raven , consisting of mostly Darcsen soldiers .</span><span style=\"color: #c0c0c0; text-decoration-color: #c0c0c0; background-color: #008080\"> As the Nameless officially do not exist , </span>\n",
       "<span style=\"color: #c0c0c0; text-decoration-color: #c0c0c0; background-color: #008080\">the upper echelons of the Gallian Army exploit the concept of plausible deniability in order to send them on </span>\n",
       "<span style=\"color: #c0c0c0; text-decoration-color: #c0c0c0; background-color: #008080\">missions that would otherwise make Gallia lose face in the war . While at times this works to their advantage , </span>\n",
       "<span style=\"color: #c0c0c0; text-decoration-color: #c0c0c0; background-color: #008080\">such as a successful incursion into Imperial territory , other orders cause certain members of the 422nd great </span>\n",
       "<span style=\"color: #c0c0c0; text-decoration-color: #c0c0c0; background-color: #008080\">distress .</span>\n",
       "</pre>\n"
      ],
      "text/plain": [
       "chunk: \u001b[37;42mTogether with their fellow squad members , these three are tasked to fight against a mysterious Imperial \u001b[0m\n",
       "\u001b[37;42munit known as Calamity Raven , consisting of mostly Darcsen soldiers .\u001b[0m\u001b[37;46m As the Nameless officially do not exist , \u001b[0m\n",
       "\u001b[37;46mthe upper echelons of the Gallian Army exploit the concept of plausible deniability in order to send them on \u001b[0m\n",
       "\u001b[37;46mmissions that would otherwise make Gallia lose face in the war . While at times this works to their advantage , \u001b[0m\n",
       "\u001b[37;46msuch as a successful incursion into Imperial territory , other orders cause certain members of the 422nd great \u001b[0m\n",
       "\u001b[37;46mdistress .\u001b[0m\n"
      ]
     },
     "metadata": {},
     "output_type": "display_data"
    },
    {
     "name": "stdin",
     "output_type": "stream",
     "text": [
      "Type 'k' to raise thresh, or 'j' - to lower it, then press 'Enter':  j\n"
     ]
    },
    {
     "data": {
      "text/html": [
       "<pre style=\"white-space:pre;overflow-x:auto;line-height:normal;font-family:Menlo,'DejaVu Sans Mono',consolas,'Courier New',monospace\">dist: <span style=\"color: #008080; text-decoration-color: #008080; font-weight: bold\">0.7955724000930786</span>\n",
       "</pre>\n"
      ],
      "text/plain": [
       "dist: \u001b[1;36m0.7955724000930786\u001b[0m\n"
      ]
     },
     "metadata": {},
     "output_type": "display_data"
    },
    {
     "data": {
      "text/html": [
       "<pre style=\"white-space:pre;overflow-x:auto;line-height:normal;font-family:Menlo,'DejaVu Sans Mono',consolas,'Courier New',monospace\">chunk: <span style=\"color: #c0c0c0; text-decoration-color: #c0c0c0; background-color: #008000\"> Flower Fairies of the Seasons ; </span><span style=\"color: #c0c0c0; text-decoration-color: #c0c0c0; background-color: #008000; font-weight: bold\">&lt;unk&gt;</span><span style=\"color: #c0c0c0; text-decoration-color: #c0c0c0; background-color: #008000\"> / Blackie , </span><span style=\"color: #c0c0c0; text-decoration-color: #c0c0c0; background-color: #008000; font-weight: bold\">1988</span><span style=\"color: #c0c0c0; text-decoration-color: #c0c0c0; background-color: #008000\"> </span><span style=\"color: #c0c0c0; text-decoration-color: #c0c0c0; background-color: #008080\"> A Little Book of Prayers and Hymns ; Frederick </span>\n",
       "<span style=\"color: #c0c0c0; text-decoration-color: #c0c0c0; background-color: #008080\">Warne , </span><span style=\"color: #c0c0c0; text-decoration-color: #c0c0c0; background-color: #008080; font-weight: bold\">1994</span><span style=\"color: #c0c0c0; text-decoration-color: #c0c0c0; background-color: #008080\">   A Flower Fairies Treasury ; Frederick Warne , </span><span style=\"color: #c0c0c0; text-decoration-color: #c0c0c0; background-color: #008080; font-weight: bold\">1997</span><span style=\"color: #c0c0c0; text-decoration-color: #c0c0c0; background-color: #008080\"> </span>\n",
       "</pre>\n"
      ],
      "text/plain": [
       "chunk: \u001b[37;42m Flower Fairies of the Seasons ; \u001b[0m\u001b[1;37;42m<\u001b[0m\u001b[1;37;42munk\u001b[0m\u001b[1;37;42m>\u001b[0m\u001b[37;42m \u001b[0m\u001b[37;42m/\u001b[0m\u001b[37;42m Blackie , \u001b[0m\u001b[1;37;42m1988\u001b[0m\u001b[37;42m \u001b[0m\u001b[37;46m A Little Book of Prayers and Hymns ; Frederick \u001b[0m\n",
       "\u001b[37;46mWarne , \u001b[0m\u001b[1;37;46m1994\u001b[0m\u001b[37;46m   A Flower Fairies Treasury ; Frederick Warne , \u001b[0m\u001b[1;37;46m1997\u001b[0m\u001b[37;46m \u001b[0m\n"
      ]
     },
     "metadata": {},
     "output_type": "display_data"
    },
    {
     "name": "stdin",
     "output_type": "stream",
     "text": [
      "Type 'k' to raise thresh, or 'j' - to lower it, then press 'Enter':  j\n"
     ]
    },
    {
     "data": {
      "text/html": [
       "<pre style=\"white-space:pre;overflow-x:auto;line-height:normal;font-family:Menlo,'DejaVu Sans Mono',consolas,'Courier New',monospace\">dist: <span style=\"color: #008080; text-decoration-color: #008080; font-weight: bold\">0.7947490215301514</span>\n",
       "</pre>\n"
      ],
      "text/plain": [
       "dist: \u001b[1;36m0.7947490215301514\u001b[0m\n"
      ]
     },
     "metadata": {},
     "output_type": "display_data"
    },
    {
     "data": {
      "text/html": [
       "<pre style=\"white-space:pre;overflow-x:auto;line-height:normal;font-family:Menlo,'DejaVu Sans Mono',consolas,'Courier New',monospace\">chunk: <span style=\"color: #c0c0c0; text-decoration-color: #c0c0c0; background-color: #008000\"> Partly due to these events , and partly due to the major losses in manpower Gallia suffers towards the end </span>\n",
       "<span style=\"color: #c0c0c0; text-decoration-color: #c0c0c0; background-color: #008000\">of the war with the Empire , the Nameless are offered a formal position as a squad in the Gallian Army rather than </span>\n",
       "<span style=\"color: #c0c0c0; text-decoration-color: #c0c0c0; background-color: #008000\">serve as an anonymous shadow force .</span><span style=\"color: #c0c0c0; text-decoration-color: #c0c0c0; background-color: #008080\">This is short @-@ lived , however , as following Maximilian </span><span style=\"color: #c0c0c0; text-decoration-color: #c0c0c0; background-color: #008080\">'s defeat , Dahau </span>\n",
       "<span style=\"color: #c0c0c0; text-decoration-color: #c0c0c0; background-color: #008080\">and Calamity Raven move to activate an ancient &lt;unk&gt; super weapon within the Empire , kept secret by their </span>\n",
       "<span style=\"color: #c0c0c0; text-decoration-color: #c0c0c0; background-color: #008080\">benefactor . Without the support of Maximilian or the chance to prove themselves in the war with Gallia , it is </span>\n",
       "<span style=\"color: #c0c0c0; text-decoration-color: #c0c0c0; background-color: #008080\">Dahau '</span><span style=\"color: #c0c0c0; text-decoration-color: #c0c0c0; background-color: #008080\">s last trump card in creating a new Darcsen nation .</span>\n",
       "</pre>\n"
      ],
      "text/plain": [
       "chunk: \u001b[37;42m Partly due to these events , and partly due to the major losses in manpower Gallia suffers towards the end \u001b[0m\n",
       "\u001b[37;42mof the war with the Empire , the Nameless are offered a formal position as a squad in the Gallian Army rather than \u001b[0m\n",
       "\u001b[37;42mserve as an anonymous shadow force .\u001b[0m\u001b[37;46mThis is short @-@ lived , however , as following Maximilian \u001b[0m\u001b[37;46m's defeat , Dahau \u001b[0m\n",
       "\u001b[37;46mand Calamity Raven move to activate an ancient \u001b[0m\u001b[37;46m<\u001b[0m\u001b[37;46munk\u001b[0m\u001b[37;46m>\u001b[0m\u001b[37;46m super weapon within the Empire , kept secret by their \u001b[0m\n",
       "\u001b[37;46mbenefactor . Without the support of Maximilian or the chance to prove themselves in the war with Gallia , it is \u001b[0m\n",
       "\u001b[37;46mDahau '\u001b[0m\u001b[37;46ms last trump card in creating a new Darcsen nation .\u001b[0m\n"
      ]
     },
     "metadata": {},
     "output_type": "display_data"
    },
    {
     "name": "stdin",
     "output_type": "stream",
     "text": [
      "Type 'k' to raise thresh, or 'j' - to lower it, then press 'Enter':  j\n"
     ]
    },
    {
     "data": {
      "text/html": [
       "<pre style=\"white-space:pre;overflow-x:auto;line-height:normal;font-family:Menlo,'DejaVu Sans Mono',consolas,'Courier New',monospace\">dist: <span style=\"color: #008080; text-decoration-color: #008080; font-weight: bold\">0.7944372296333313</span>\n",
       "</pre>\n"
      ],
      "text/plain": [
       "dist: \u001b[1;36m0.7944372296333313\u001b[0m\n"
      ]
     },
     "metadata": {},
     "output_type": "display_data"
    },
    {
     "data": {
      "text/html": [
       "<pre style=\"white-space:pre;overflow-x:auto;line-height:normal;font-family:Menlo,'DejaVu Sans Mono',consolas,'Courier New',monospace\">chunk: <span style=\"color: #c0c0c0; text-decoration-color: #c0c0c0; background-color: #008000\">Fingal was equipped with two vertical single @-@ cylinder direct @-@ acting steam engines using steam </span>\n",
       "<span style=\"color: #c0c0c0; text-decoration-color: #c0c0c0; background-color: #008000\">generated by one flue @-@ tubular boiler .</span><span style=\"color: #c0c0c0; text-decoration-color: #c0c0c0; background-color: #008080\">The engines drove the ship at a top speed of around </span><span style=\"color: #c0c0c0; text-decoration-color: #c0c0c0; background-color: #008080; font-weight: bold\">13</span><span style=\"color: #c0c0c0; text-decoration-color: #c0c0c0; background-color: #008080\"> knots </span><span style=\"color: #c0c0c0; text-decoration-color: #c0c0c0; background-color: #008080; font-weight: bold\">(</span><span style=\"color: #c0c0c0; text-decoration-color: #c0c0c0; background-color: #008080\"> </span><span style=\"color: #c0c0c0; text-decoration-color: #c0c0c0; background-color: #008080; font-weight: bold\">24</span><span style=\"color: #c0c0c0; text-decoration-color: #c0c0c0; background-color: #008080\"> km / h </span>\n",
       "<span style=\"color: #c0c0c0; text-decoration-color: #c0c0c0; background-color: #008080\">; </span><span style=\"color: #c0c0c0; text-decoration-color: #c0c0c0; background-color: #008080; font-weight: bold\">15</span><span style=\"color: #c0c0c0; text-decoration-color: #c0c0c0; background-color: #008080\"> mph </span><span style=\"color: #c0c0c0; text-decoration-color: #c0c0c0; background-color: #008080; font-weight: bold\">)</span><span style=\"color: #c0c0c0; text-decoration-color: #c0c0c0; background-color: #008080\"> . They had a bore of </span><span style=\"color: #c0c0c0; text-decoration-color: #c0c0c0; background-color: #008080; font-weight: bold\">39</span><span style=\"color: #c0c0c0; text-decoration-color: #c0c0c0; background-color: #008080\"> inches </span><span style=\"color: #c0c0c0; text-decoration-color: #c0c0c0; background-color: #008080; font-weight: bold\">(</span><span style=\"color: #c0c0c0; text-decoration-color: #c0c0c0; background-color: #008080\"> </span><span style=\"color: #c0c0c0; text-decoration-color: #c0c0c0; background-color: #008080; font-weight: bold\">991</span><span style=\"color: #c0c0c0; text-decoration-color: #c0c0c0; background-color: #008080\"> mm </span><span style=\"color: #c0c0c0; text-decoration-color: #c0c0c0; background-color: #008080; font-weight: bold\">)</span><span style=\"color: #c0c0c0; text-decoration-color: #c0c0c0; background-color: #008080\"> and a stroke of </span><span style=\"color: #c0c0c0; text-decoration-color: #c0c0c0; background-color: #008080; font-weight: bold\">30</span><span style=\"color: #c0c0c0; text-decoration-color: #c0c0c0; background-color: #008080\"> inches </span><span style=\"color: #c0c0c0; text-decoration-color: #c0c0c0; background-color: #008080; font-weight: bold\">(</span><span style=\"color: #c0c0c0; text-decoration-color: #c0c0c0; background-color: #008080\"> </span><span style=\"color: #c0c0c0; text-decoration-color: #c0c0c0; background-color: #008080; font-weight: bold\">762</span><span style=\"color: #c0c0c0; text-decoration-color: #c0c0c0; background-color: #008080\"> mm </span><span style=\"color: #c0c0c0; text-decoration-color: #c0c0c0; background-color: #008080; font-weight: bold\">)</span><span style=\"color: #c0c0c0; text-decoration-color: #c0c0c0; background-color: #008080\"> .</span>\n",
       "</pre>\n"
      ],
      "text/plain": [
       "chunk: \u001b[37;42mFingal was equipped with two vertical single @-@ cylinder direct @-@ acting steam engines using steam \u001b[0m\n",
       "\u001b[37;42mgenerated by one flue @-@ tubular boiler .\u001b[0m\u001b[37;46mThe engines drove the ship at a top speed of around \u001b[0m\u001b[1;37;46m13\u001b[0m\u001b[37;46m knots \u001b[0m\u001b[1;37;46m(\u001b[0m\u001b[37;46m \u001b[0m\u001b[1;37;46m24\u001b[0m\u001b[37;46m km \u001b[0m\u001b[37;46m/\u001b[0m\u001b[37;46m h \u001b[0m\n",
       "\u001b[37;46m; \u001b[0m\u001b[1;37;46m15\u001b[0m\u001b[37;46m mph \u001b[0m\u001b[1;37;46m)\u001b[0m\u001b[37;46m . They had a bore of \u001b[0m\u001b[1;37;46m39\u001b[0m\u001b[37;46m inches \u001b[0m\u001b[1;37;46m(\u001b[0m\u001b[37;46m \u001b[0m\u001b[1;37;46m991\u001b[0m\u001b[37;46m mm \u001b[0m\u001b[1;37;46m)\u001b[0m\u001b[37;46m and a stroke of \u001b[0m\u001b[1;37;46m30\u001b[0m\u001b[37;46m inches \u001b[0m\u001b[1;37;46m(\u001b[0m\u001b[37;46m \u001b[0m\u001b[1;37;46m762\u001b[0m\u001b[37;46m mm \u001b[0m\u001b[1;37;46m)\u001b[0m\u001b[37;46m .\u001b[0m\n"
      ]
     },
     "metadata": {},
     "output_type": "display_data"
    },
    {
     "name": "stdin",
     "output_type": "stream",
     "text": [
      "Type 'k' to raise thresh, or 'j' - to lower it, then press 'Enter':  j\n"
     ]
    },
    {
     "data": {
      "text/html": [
       "<pre style=\"white-space:pre;overflow-x:auto;line-height:normal;font-family:Menlo,'DejaVu Sans Mono',consolas,'Courier New',monospace\">dist: <span style=\"color: #008080; text-decoration-color: #008080; font-weight: bold\">0.7941413521766663</span>\n",
       "</pre>\n"
      ],
      "text/plain": [
       "dist: \u001b[1;36m0.7941413521766663\u001b[0m\n"
      ]
     },
     "metadata": {},
     "output_type": "display_data"
    },
    {
     "data": {
      "text/html": [
       "<pre style=\"white-space:pre;overflow-x:auto;line-height:normal;font-family:Menlo,'DejaVu Sans Mono',consolas,'Courier New',monospace\">chunk: <span style=\"color: #c0c0c0; text-decoration-color: #c0c0c0; background-color: #008000\">Long arms in the Arsenal 's inventory consisted of : </span><span style=\"color: #c0c0c0; text-decoration-color: #c0c0c0; background-color: #008080\"> M1822 .</span><span style=\"color: #c0c0c0; text-decoration-color: #c0c0c0; background-color: #008080; font-weight: bold\">69</span><span style=\"color: #c0c0c0; text-decoration-color: #c0c0c0; background-color: #008080\"> cal </span><span style=\"color: #c0c0c0; text-decoration-color: #c0c0c0; background-color: #008080; font-weight: bold\">(</span><span style=\"color: #c0c0c0; text-decoration-color: #c0c0c0; background-color: #008080\"> flintlock </span><span style=\"color: #c0c0c0; text-decoration-color: #c0c0c0; background-color: #008080; font-weight: bold\">)</span><span style=\"color: #c0c0c0; text-decoration-color: #c0c0c0; background-color: #008080\"> </span><span style=\"color: #c0c0c0; text-decoration-color: #c0c0c0; background-color: #008080; font-weight: bold\">5</span><span style=\"color: #c0c0c0; text-decoration-color: #c0c0c0; background-color: #008080\"> @,@ </span><span style=\"color: #c0c0c0; text-decoration-color: #c0c0c0; background-color: #008080; font-weight: bold\">625</span><span style=\"color: #c0c0c0; text-decoration-color: #c0c0c0; background-color: #008080\">   M1822 .</span><span style=\"color: #c0c0c0; text-decoration-color: #c0c0c0; background-color: #008080; font-weight: bold\">69</span><span style=\"color: #c0c0c0; text-decoration-color: #c0c0c0; background-color: #008080\"> cal </span>\n",
       "<span style=\"color: #c0c0c0; text-decoration-color: #c0c0c0; background-color: #008080; font-weight: bold\">(</span><span style=\"color: #c0c0c0; text-decoration-color: #c0c0c0; background-color: #008080\"> percussion @-@ converted </span><span style=\"color: #c0c0c0; text-decoration-color: #c0c0c0; background-color: #008080; font-weight: bold\">)</span><span style=\"color: #c0c0c0; text-decoration-color: #c0c0c0; background-color: #008080\"> </span><span style=\"color: #c0c0c0; text-decoration-color: #c0c0c0; background-color: #008080; font-weight: bold\">53</span><span style=\"color: #c0c0c0; text-decoration-color: #c0c0c0; background-color: #008080\"> </span>\n",
       "</pre>\n"
      ],
      "text/plain": [
       "chunk: \u001b[37;42mLong arms in the Arsenal 's inventory consisted of : \u001b[0m\u001b[37;46m M1822 .\u001b[0m\u001b[1;37;46m69\u001b[0m\u001b[37;46m cal \u001b[0m\u001b[1;37;46m(\u001b[0m\u001b[37;46m flintlock \u001b[0m\u001b[1;37;46m)\u001b[0m\u001b[37;46m \u001b[0m\u001b[1;37;46m5\u001b[0m\u001b[37;46m @,@ \u001b[0m\u001b[1;37;46m625\u001b[0m\u001b[37;46m   M1822 .\u001b[0m\u001b[1;37;46m69\u001b[0m\u001b[37;46m cal \u001b[0m\n",
       "\u001b[1;37;46m(\u001b[0m\u001b[37;46m percussion @-@ converted \u001b[0m\u001b[1;37;46m)\u001b[0m\u001b[37;46m \u001b[0m\u001b[1;37;46m53\u001b[0m\u001b[37;46m \u001b[0m\n"
      ]
     },
     "metadata": {},
     "output_type": "display_data"
    },
    {
     "data": {
      "text/html": [
       "<pre style=\"white-space:pre;overflow-x:auto;line-height:normal;font-family:Menlo,'DejaVu Sans Mono',consolas,'Courier New',monospace\">Tuning ended, thresh value: <span style=\"color: #008080; text-decoration-color: #008080; font-weight: bold\">0.7941413521766663</span> = <span style=\"color: #008080; text-decoration-color: #008080; font-weight: bold\">0.79</span>\n",
       "</pre>\n"
      ],
      "text/plain": [
       "Tuning ended, thresh value: \u001b[1;36m0.7941413521766663\u001b[0m = \u001b[1;36m0.79\u001b[0m\n"
      ]
     },
     "metadata": {},
     "output_type": "display_data"
    }
   ],
   "source": [
    "from horchunk.splitters import SentenceSplitter \n",
    "\n",
    "splitter = SentenceSplitter(text=datasets['wikitexts'])\n",
    "splits = splitter()\n",
    "res = tuner(splits, depth=3)\n",
    "thresholds.append(res)"
   ]
  },
  {
   "cell_type": "markdown",
   "id": "cc108735-b958-4a4f-9118-8993853b0d50",
   "metadata": {},
   "source": [
    "**chatlogs**"
   ]
  },
  {
   "cell_type": "code",
   "execution_count": 8,
   "id": "49e2d85a-4660-43e1-bbbf-8d96f9b44ec3",
   "metadata": {
    "scrolled": true
   },
   "outputs": [
    {
     "name": "stderr",
     "output_type": "stream",
     "text": [
      "100%|████████████████████████████████████████████████████████████████████████████████████████████████████████████████████████████████| 257/257 [00:16<00:00, 15.82it/s]\n"
     ]
    },
    {
     "data": {
      "text/html": [
       "<pre style=\"white-space:pre;overflow-x:auto;line-height:normal;font-family:Menlo,'DejaVu Sans Mono',consolas,'Courier New',monospace\"><span style=\"color: #008080; text-decoration-color: #008080; font-weight: bold\">257</span> chunks formed\n",
       "</pre>\n"
      ],
      "text/plain": [
       "\u001b[1;36m257\u001b[0m chunks formed\n"
      ]
     },
     "metadata": {},
     "output_type": "display_data"
    },
    {
     "data": {
      "text/html": [
       "<pre style=\"white-space:pre;overflow-x:auto;line-height:normal;font-family:Menlo,'DejaVu Sans Mono',consolas,'Courier New',monospace\">Values range: <span style=\"font-weight: bold\">[</span><span style=\"color: #008080; text-decoration-color: #008080; font-weight: bold\">-0.026845984160900116</span> <span style=\"color: #808000; text-decoration-color: #808000\">...</span> <span style=\"color: #008080; text-decoration-color: #008080; font-weight: bold\">1.000000238418579</span><span style=\"font-weight: bold\">]</span>\n",
       "</pre>\n"
      ],
      "text/plain": [
       "Values range: \u001b[1m[\u001b[0m\u001b[1;36m-0.026845984160900116\u001b[0m \u001b[33m...\u001b[0m \u001b[1;36m1.000000238418579\u001b[0m\u001b[1m]\u001b[0m\n"
      ]
     },
     "metadata": {},
     "output_type": "display_data"
    },
    {
     "data": {
      "text/html": [
       "<pre style=\"white-space:pre;overflow-x:auto;line-height:normal;font-family:Menlo,'DejaVu Sans Mono',consolas,'Courier New',monospace\">Steps to tune: <span style=\"color: #008080; text-decoration-color: #008080; font-weight: bold\">8</span>\n",
       "</pre>\n"
      ],
      "text/plain": [
       "Steps to tune: \u001b[1;36m8\u001b[0m\n"
      ]
     },
     "metadata": {},
     "output_type": "display_data"
    },
    {
     "data": {
      "text/html": [
       "<pre style=\"white-space:pre;overflow-x:auto;line-height:normal;font-family:Menlo,'DejaVu Sans Mono',consolas,'Courier New',monospace\">--------------------------------\n",
       "</pre>\n"
      ],
      "text/plain": [
       "--------------------------------\n"
      ]
     },
     "metadata": {},
     "output_type": "display_data"
    },
    {
     "data": {
      "text/html": [
       "<pre style=\"white-space:pre;overflow-x:auto;line-height:normal;font-family:Menlo,'DejaVu Sans Mono',consolas,'Courier New',monospace\">dist: <span style=\"color: #008080; text-decoration-color: #008080; font-weight: bold\">0.7997819781303406</span>\n",
       "</pre>\n"
      ],
      "text/plain": [
       "dist: \u001b[1;36m0.7997819781303406\u001b[0m\n"
      ]
     },
     "metadata": {},
     "output_type": "display_data"
    },
    {
     "data": {
      "text/html": [
       "<pre style=\"white-space:pre;overflow-x:auto;line-height:normal;font-family:Menlo,'DejaVu Sans Mono',consolas,'Courier New',monospace\">chunk: <span style=\"color: #c0c0c0; text-decoration-color: #c0c0c0; background-color: #008000\">Moreover, the content shared on social media can sometimes lead to misunderstandings and conflicts in family</span>\n",
       "<span style=\"color: #c0c0c0; text-decoration-color: #c0c0c0; background-color: #008000\">relationships.</span><span style=\"color: #c0c0c0; text-decoration-color: #c0c0c0; background-color: #008080\">Parents may share pictures or posts related to their child without their consent, which can result in</span>\n",
       "<span style=\"color: #c0c0c0; text-decoration-color: #c0c0c0; background-color: #008080\">embarrassment or frustration. Similarly, siblings may share information about their siblings without their </span>\n",
       "<span style=\"color: #c0c0c0; text-decoration-color: #c0c0c0; background-color: #008080\">permission, which can strain relationships between siblings.</span>\n",
       "</pre>\n"
      ],
      "text/plain": [
       "chunk: \u001b[37;42mMoreover, the content shared on social media can sometimes lead to misunderstandings and conflicts in family\u001b[0m\n",
       "\u001b[37;42mrelationships.\u001b[0m\u001b[37;46mParents may share pictures or posts related to their child without their consent, which can result in\u001b[0m\n",
       "\u001b[37;46membarrassment or frustration. Similarly, siblings may share information about their siblings without their \u001b[0m\n",
       "\u001b[37;46mpermission, which can strain relationships between siblings.\u001b[0m\n"
      ]
     },
     "metadata": {},
     "output_type": "display_data"
    },
    {
     "name": "stdin",
     "output_type": "stream",
     "text": [
      "Type 'k' to raise thresh, or 'j' - to lower it, then press 'Enter':  j\n"
     ]
    },
    {
     "data": {
      "text/html": [
       "<pre style=\"white-space:pre;overflow-x:auto;line-height:normal;font-family:Menlo,'DejaVu Sans Mono',consolas,'Courier New',monospace\">dist: <span style=\"color: #008080; text-decoration-color: #008080; font-weight: bold\">0.6827027797698975</span>\n",
       "</pre>\n"
      ],
      "text/plain": [
       "dist: \u001b[1;36m0.6827027797698975\u001b[0m\n"
      ]
     },
     "metadata": {},
     "output_type": "display_data"
    },
    {
     "data": {
      "text/html": [
       "<pre style=\"white-space:pre;overflow-x:auto;line-height:normal;font-family:Menlo,'DejaVu Sans Mono',consolas,'Courier New',monospace\">chunk: <span style=\"color: #c0c0c0; text-decoration-color: #c0c0c0; background-color: #008000\">I wonder if it\\'s real or just a replica.</span><span style=\"color: #c0c0c0; text-decoration-color: #c0c0c0; background-color: #008080\">Either way, it\\'s bound to be a fascinating item to behold. And </span>\n",
       "<span style=\"color: #c0c0c0; text-decoration-color: #c0c0c0; background-color: #008080\">I\\'ll make sure to order that </span><span style=\"color: #c0c0c0; text-decoration-color: #c0c0c0; background-color: #008080\">\"Mermaid Tail\"</span><span style=\"color: #c0c0c0; text-decoration-color: #c0c0c0; background-color: #008080\"> cocktail while I\\'m there!</span><span style=\"color: #c0c0c0; text-decoration-color: #c0c0c0; background-color: #008080\">', '</span><span style=\"color: #c0c0c0; text-decoration-color: #c0c0c0; background-color: #008080\">role': </span><span style=\"color: #c0c0c0; text-decoration-color: #c0c0c0; background-color: #008080\">'user'</span><span style=\"color: #c0c0c0; text-decoration-color: #c0c0c0; background-color: #008080; font-weight: bold\">}</span><span style=\"color: #c0c0c0; text-decoration-color: #c0c0c0; background-color: #008080\">, </span><span style=\"color: #c0c0c0; text-decoration-color: #c0c0c0; background-color: #008080; font-weight: bold\">{</span><span style=\"color: #c0c0c0; text-decoration-color: #c0c0c0; background-color: #008080\">'content'</span><span style=\"color: #c0c0c0; text-decoration-color: #c0c0c0; background-color: #008080\">: 'Yes, the </span>\n",
       "<span style=\"color: #c0c0c0; text-decoration-color: #c0c0c0; background-color: #008080\">mermaid at the Viktor Wynd Museum of Curiosities is definitely one of its most famous exhibits.</span>\n",
       "</pre>\n"
      ],
      "text/plain": [
       "chunk: \u001b[37;42mI wonder if it\\'s real or just a replica.\u001b[0m\u001b[37;46mEither way, it\\'s bound to be a fascinating item to behold. And \u001b[0m\n",
       "\u001b[37;46mI\\'ll make sure to order that \u001b[0m\u001b[37;46m\"Mermaid Tail\"\u001b[0m\u001b[37;46m cocktail while I\\'m there!\u001b[0m\u001b[37;46m', '\u001b[0m\u001b[37;46mrole': \u001b[0m\u001b[37;46m'user'\u001b[0m\u001b[1;37;46m}\u001b[0m\u001b[37;46m, \u001b[0m\u001b[1;37;46m{\u001b[0m\u001b[37;46m'content'\u001b[0m\u001b[37;46m: 'Yes, the \u001b[0m\n",
       "\u001b[37;46mmermaid at the Viktor Wynd Museum of Curiosities is definitely one of its most famous exhibits.\u001b[0m\n"
      ]
     },
     "metadata": {},
     "output_type": "display_data"
    },
    {
     "name": "stdin",
     "output_type": "stream",
     "text": [
      "Type 'k' to raise thresh, or 'j' - to lower it, then press 'Enter':  j\n"
     ]
    },
    {
     "data": {
      "text/html": [
       "<pre style=\"white-space:pre;overflow-x:auto;line-height:normal;font-family:Menlo,'DejaVu Sans Mono',consolas,'Courier New',monospace\">dist: <span style=\"color: #008080; text-decoration-color: #008080; font-weight: bold\">0.5701929330825806</span>\n",
       "</pre>\n"
      ],
      "text/plain": [
       "dist: \u001b[1;36m0.5701929330825806\u001b[0m\n"
      ]
     },
     "metadata": {},
     "output_type": "display_data"
    },
    {
     "data": {
      "text/html": [
       "<pre style=\"white-space:pre;overflow-x:auto;line-height:normal;font-family:Menlo,'DejaVu Sans Mono',consolas,'Courier New',monospace\">chunk: <span style=\"color: #c0c0c0; text-decoration-color: #c0c0c0; background-color: #008000\">And don\\'t forget to try that </span><span style=\"color: #c0c0c0; text-decoration-color: #c0c0c0; background-color: #008000\">\"Mermaid Tail\"</span><span style=\"color: #c0c0c0; text-decoration-color: #c0c0c0; background-color: #008000\"> cocktail - it\\'s the perfect accompaniment to the museum\\'s </span>\n",
       "<span style=\"color: #c0c0c0; text-decoration-color: #c0c0c0; background-color: #008000\">quirky vibe!</span><span style=\"color: #c0c0c0; text-decoration-color: #c0c0c0; background-color: #008000\">', '</span><span style=\"color: #c0c0c0; text-decoration-color: #c0c0c0; background-color: #008000\">role': </span><span style=\"color: #c0c0c0; text-decoration-color: #c0c0c0; background-color: #008000\">'assistant'</span><span style=\"color: #c0c0c0; text-decoration-color: #c0c0c0; background-color: #008000; font-weight: bold\">}]</span><span style=\"color: #c0c0c0; text-decoration-color: #c0c0c0; background-color: #008080; font-weight: bold\">[{</span><span style=\"color: #c0c0c0; text-decoration-color: #c0c0c0; background-color: #008080\">'content'</span><span style=\"color: #c0c0c0; text-decoration-color: #c0c0c0; background-color: #008080\">: \"Write a comprehensive blog post of at least </span><span style=\"color: #c0c0c0; text-decoration-color: #c0c0c0; background-color: #008080; font-weight: bold\">1000</span><span style=\"color: #c0c0c0; text-decoration-color: #c0c0c0; background-color: #008080\"> words about the </span>\n",
       "<span style=\"color: #c0c0c0; text-decoration-color: #c0c0c0; background-color: #008080\">top </span><span style=\"color: #c0c0c0; text-decoration-color: #c0c0c0; background-color: #008080; font-weight: bold\">10</span><span style=\"color: #c0c0c0; text-decoration-color: #c0c0c0; background-color: #008080\"> most eco-friendly cities in the world and their renewable energy initiatives. Use a formal and informative </span>\n",
       "<span style=\"color: #c0c0c0; text-decoration-color: #c0c0c0; background-color: #008080\">tone, and include statistics, case studies, and expert opinions to support your claims.</span>\n",
       "</pre>\n"
      ],
      "text/plain": [
       "chunk: \u001b[37;42mAnd don\\'t forget to try that \u001b[0m\u001b[37;42m\"Mermaid Tail\"\u001b[0m\u001b[37;42m cocktail - it\\'s the perfect accompaniment to the museum\\'s \u001b[0m\n",
       "\u001b[37;42mquirky vibe!\u001b[0m\u001b[37;42m', '\u001b[0m\u001b[37;42mrole': \u001b[0m\u001b[37;42m'assistant'\u001b[0m\u001b[1;37;42m}\u001b[0m\u001b[1;37;42m]\u001b[0m\u001b[1;37;46m[\u001b[0m\u001b[1;37;46m{\u001b[0m\u001b[37;46m'content'\u001b[0m\u001b[37;46m: \"Write a comprehensive blog post of at least \u001b[0m\u001b[1;37;46m1000\u001b[0m\u001b[37;46m words about the \u001b[0m\n",
       "\u001b[37;46mtop \u001b[0m\u001b[1;37;46m10\u001b[0m\u001b[37;46m most eco-friendly cities in the world and their renewable energy initiatives. Use a formal and informative \u001b[0m\n",
       "\u001b[37;46mtone, and include statistics, case studies, and expert opinions to support your claims.\u001b[0m\n"
      ]
     },
     "metadata": {},
     "output_type": "display_data"
    },
    {
     "name": "stdin",
     "output_type": "stream",
     "text": [
      "Type 'k' to raise thresh, or 'j' - to lower it, then press 'Enter':  k\n"
     ]
    },
    {
     "data": {
      "text/html": [
       "<pre style=\"white-space:pre;overflow-x:auto;line-height:normal;font-family:Menlo,'DejaVu Sans Mono',consolas,'Courier New',monospace\">dist: <span style=\"color: #008080; text-decoration-color: #008080; font-weight: bold\">0.6472351551055908</span>\n",
       "</pre>\n"
      ],
      "text/plain": [
       "dist: \u001b[1;36m0.6472351551055908\u001b[0m\n"
      ]
     },
     "metadata": {},
     "output_type": "display_data"
    },
    {
     "data": {
      "text/html": [
       "<pre style=\"white-space:pre;overflow-x:auto;line-height:normal;font-family:Menlo,'DejaVu Sans Mono',consolas,'Courier New',monospace\">chunk: <span style=\"color: #c0c0c0; text-decoration-color: #c0c0c0; background-color: #008000\">Click on Customize theme for the section-based theme you are using.\\n3.</span><span style=\"color: #c0c0c0; text-decoration-color: #c0c0c0; background-color: #008080\">Navigate to the Collection pages or </span>\n",
       "<span style=\"color: #c0c0c0; text-decoration-color: #c0c0c0; background-color: #008080\">Featured Collections section where you want to enable the secondary image hover feature.\\n4. With the section open,</span>\n",
       "<span style=\"color: #c0c0c0; text-decoration-color: #c0c0c0; background-color: #008080\">click on the section's setting </span><span style=\"color: #c0c0c0; text-decoration-color: #c0c0c0; background-color: #008080; font-weight: bold\">(</span><span style=\"color: #c0c0c0; text-decoration-color: #c0c0c0; background-color: #008080\">gear</span><span style=\"color: #c0c0c0; text-decoration-color: #c0c0c0; background-color: #008080; font-weight: bold\">)</span><span style=\"color: #c0c0c0; text-decoration-color: #c0c0c0; background-color: #008080\"> icon in the top-left corner.\\n5.</span>\n",
       "</pre>\n"
      ],
      "text/plain": [
       "chunk: \u001b[37;42mClick on Customize theme for the section-based theme you are using.\\n3.\u001b[0m\u001b[37;46mNavigate to the Collection pages or \u001b[0m\n",
       "\u001b[37;46mFeatured Collections section where you want to enable the secondary image hover feature.\\n4. With the section open,\u001b[0m\n",
       "\u001b[37;46mclick on the section's setting \u001b[0m\u001b[1;37;46m(\u001b[0m\u001b[37;46mgear\u001b[0m\u001b[1;37;46m)\u001b[0m\u001b[37;46m icon in the top-left corner.\\n5.\u001b[0m\n"
      ]
     },
     "metadata": {},
     "output_type": "display_data"
    },
    {
     "name": "stdin",
     "output_type": "stream",
     "text": [
      "Type 'k' to raise thresh, or 'j' - to lower it, then press 'Enter':  j\n"
     ]
    },
    {
     "data": {
      "text/html": [
       "<pre style=\"white-space:pre;overflow-x:auto;line-height:normal;font-family:Menlo,'DejaVu Sans Mono',consolas,'Courier New',monospace\">dist: <span style=\"color: #008080; text-decoration-color: #008080; font-weight: bold\">0.6342487335205078</span>\n",
       "</pre>\n"
      ],
      "text/plain": [
       "dist: \u001b[1;36m0.6342487335205078\u001b[0m\n"
      ]
     },
     "metadata": {},
     "output_type": "display_data"
    },
    {
     "data": {
      "text/html": [
       "<pre style=\"white-space:pre;overflow-x:auto;line-height:normal;font-family:Menlo,'DejaVu Sans Mono',consolas,'Courier New',monospace\">chunk: <span style=\"color: #c0c0c0; text-decoration-color: #c0c0c0; background-color: #008000\">Use a formal and informative tone, and include statistics, case studies, and expert opinions to support your</span>\n",
       "<span style=\"color: #c0c0c0; text-decoration-color: #c0c0c0; background-color: #008000\">claims.</span><span style=\"color: #c0c0c0; text-decoration-color: #c0c0c0; background-color: #008080\">Make sure to cover various aspects of sustainability, such as public transportation, waste management, green</span>\n",
       "<span style=\"color: #c0c0c0; text-decoration-color: #c0c0c0; background-color: #008080\">buildings, and carbon emissions reduction. Additionally, provide specific examples of innovative renewable energy </span>\n",
       "<span style=\"color: #c0c0c0; text-decoration-color: #c0c0c0; background-color: #008080\">projects implemented in each city and assess their impact on the environment and the local community.</span>\n",
       "</pre>\n"
      ],
      "text/plain": [
       "chunk: \u001b[37;42mUse a formal and informative tone, and include statistics, case studies, and expert opinions to support your\u001b[0m\n",
       "\u001b[37;42mclaims.\u001b[0m\u001b[37;46mMake sure to cover various aspects of sustainability, such as public transportation, waste management, green\u001b[0m\n",
       "\u001b[37;46mbuildings, and carbon emissions reduction. Additionally, provide specific examples of innovative renewable energy \u001b[0m\n",
       "\u001b[37;46mprojects implemented in each city and assess their impact on the environment and the local community.\u001b[0m\n"
      ]
     },
     "metadata": {},
     "output_type": "display_data"
    },
    {
     "name": "stdin",
     "output_type": "stream",
     "text": [
      "Type 'k' to raise thresh, or 'j' - to lower it, then press 'Enter':  j\n"
     ]
    },
    {
     "data": {
      "text/html": [
       "<pre style=\"white-space:pre;overflow-x:auto;line-height:normal;font-family:Menlo,'DejaVu Sans Mono',consolas,'Courier New',monospace\">dist: <span style=\"color: #008080; text-decoration-color: #008080; font-weight: bold\">0.6171621680259705</span>\n",
       "</pre>\n"
      ],
      "text/plain": [
       "dist: \u001b[1;36m0.6171621680259705\u001b[0m\n"
      ]
     },
     "metadata": {},
     "output_type": "display_data"
    },
    {
     "data": {
      "text/html": [
       "<pre style=\"white-space:pre;overflow-x:auto;line-height:normal;font-family:Menlo,'DejaVu Sans Mono',consolas,'Courier New',monospace\">chunk: <span style=\"color: #c0c0c0; text-decoration-color: #c0c0c0; background-color: #008000\">By directing funds towards these communities, the bill aims to create more equitable and sustainable </span>\n",
       "<span style=\"color: #c0c0c0; text-decoration-color: #c0c0c0; background-color: #008000\">outcomes for all Californians.\", </span><span style=\"color: #c0c0c0; text-decoration-color: #c0c0c0; background-color: #008000\">'role'</span><span style=\"color: #c0c0c0; text-decoration-color: #c0c0c0; background-color: #008000\">: </span><span style=\"color: #c0c0c0; text-decoration-color: #c0c0c0; background-color: #008000\">'assistant'</span><span style=\"color: #c0c0c0; text-decoration-color: #c0c0c0; background-color: #008000; font-weight: bold\">}]</span><span style=\"color: #c0c0c0; text-decoration-color: #c0c0c0; background-color: #008080; font-weight: bold\">[{</span><span style=\"color: #c0c0c0; text-decoration-color: #c0c0c0; background-color: #008080\">'content'</span><span style=\"color: #c0c0c0; text-decoration-color: #c0c0c0; background-color: #008080\">: 'Write an essay that evaluates the positive and </span>\n",
       "<span style=\"color: #c0c0c0; text-decoration-color: #c0c0c0; background-color: #008080\">negative influence of social media on personal relationships, citing specific examples and research to support your</span>\n",
       "<span style=\"color: #c0c0c0; text-decoration-color: #c0c0c0; background-color: #008080\">claims. Analyze the ways in which social media usage affects communication patterns, trust levels, and emotional </span>\n",
       "<span style=\"color: #c0c0c0; text-decoration-color: #c0c0c0; background-color: #008080\">connections in romantic partnerships, friendships, and family relationships.</span>\n",
       "</pre>\n"
      ],
      "text/plain": [
       "chunk: \u001b[37;42mBy directing funds towards these communities, the bill aims to create more equitable and sustainable \u001b[0m\n",
       "\u001b[37;42moutcomes for all Californians.\", \u001b[0m\u001b[37;42m'role'\u001b[0m\u001b[37;42m: \u001b[0m\u001b[37;42m'assistant'\u001b[0m\u001b[1;37;42m}\u001b[0m\u001b[1;37;42m]\u001b[0m\u001b[1;37;46m[\u001b[0m\u001b[1;37;46m{\u001b[0m\u001b[37;46m'content'\u001b[0m\u001b[37;46m: 'Write an essay that evaluates the positive and \u001b[0m\n",
       "\u001b[37;46mnegative influence of social media on personal relationships, citing specific examples and research to support your\u001b[0m\n",
       "\u001b[37;46mclaims. Analyze the ways in which social media usage affects communication patterns, trust levels, and emotional \u001b[0m\n",
       "\u001b[37;46mconnections in romantic partnerships, friendships, and family relationships.\u001b[0m\n"
      ]
     },
     "metadata": {},
     "output_type": "display_data"
    },
    {
     "name": "stdin",
     "output_type": "stream",
     "text": [
      "Type 'k' to raise thresh, or 'j' - to lower it, then press 'Enter':  k\n"
     ]
    },
    {
     "data": {
      "text/html": [
       "<pre style=\"white-space:pre;overflow-x:auto;line-height:normal;font-family:Menlo,'DejaVu Sans Mono',consolas,'Courier New',monospace\">dist: <span style=\"color: #008080; text-decoration-color: #008080; font-weight: bold\">0.6246968507766724</span>\n",
       "</pre>\n"
      ],
      "text/plain": [
       "dist: \u001b[1;36m0.6246968507766724\u001b[0m\n"
      ]
     },
     "metadata": {},
     "output_type": "display_data"
    },
    {
     "data": {
      "text/html": [
       "<pre style=\"white-space:pre;overflow-x:auto;line-height:normal;font-family:Menlo,'DejaVu Sans Mono',consolas,'Courier New',monospace\">chunk: <span style=\"color: #c0c0c0; text-decoration-color: #c0c0c0; background-color: #008000\">The city has a Zero Waste Strategy, which aims to have no waste sent to landfills by </span><span style=\"color: #c0c0c0; text-decoration-color: #c0c0c0; background-color: #008000; font-weight: bold\">2025.</span><span style=\"color: #c0c0c0; text-decoration-color: #c0c0c0; background-color: #008080\">Zurich has an </span>\n",
       "<span style=\"color: #c0c0c0; text-decoration-color: #c0c0c0; background-color: #008080\">extensive recycling program, and residents are encouraged to separate their waste into different categories, </span>\n",
       "<span style=\"color: #c0c0c0; text-decoration-color: #c0c0c0; background-color: #008080\">including paper, glass, metal, and plastic. Organic waste is also collected separately and composted, which is then</span>\n",
       "<span style=\"color: #c0c0c0; text-decoration-color: #c0c0c0; background-color: #008080\">used to fertilize public parks and gardens.\\n\\n9.</span>\n",
       "</pre>\n"
      ],
      "text/plain": [
       "chunk: \u001b[37;42mThe city has a Zero Waste Strategy, which aims to have no waste sent to landfills by \u001b[0m\u001b[1;37;42m2025.\u001b[0m\u001b[37;46mZurich has an \u001b[0m\n",
       "\u001b[37;46mextensive recycling program, and residents are encouraged to separate their waste into different categories, \u001b[0m\n",
       "\u001b[37;46mincluding paper, glass, metal, and plastic. Organic waste is also collected separately and composted, which is then\u001b[0m\n",
       "\u001b[37;46mused to fertilize public parks and gardens.\\n\\n9.\u001b[0m\n"
      ]
     },
     "metadata": {},
     "output_type": "display_data"
    },
    {
     "name": "stdin",
     "output_type": "stream",
     "text": [
      "Type 'k' to raise thresh, or 'j' - to lower it, then press 'Enter':  j\n"
     ]
    },
    {
     "data": {
      "text/html": [
       "<pre style=\"white-space:pre;overflow-x:auto;line-height:normal;font-family:Menlo,'DejaVu Sans Mono',consolas,'Courier New',monospace\">dist: <span style=\"color: #008080; text-decoration-color: #008080; font-weight: bold\">0.6194384098052979</span>\n",
       "</pre>\n"
      ],
      "text/plain": [
       "dist: \u001b[1;36m0.6194384098052979\u001b[0m\n"
      ]
     },
     "metadata": {},
     "output_type": "display_data"
    },
    {
     "data": {
      "text/html": [
       "<pre style=\"white-space:pre;overflow-x:auto;line-height:normal;font-family:Menlo,'DejaVu Sans Mono',consolas,'Courier New',monospace\">chunk: <span style=\"color: #c0c0c0; text-decoration-color: #c0c0c0; background-color: #008000\">The city has an impressive public transportation system, which includes buses, trains, and cable cars, all </span>\n",
       "<span style=\"color: #c0c0c0; text-decoration-color: #c0c0c0; background-color: #008000\">of which are powered by renewable energy sources.</span><span style=\"color: #c0c0c0; text-decoration-color: #c0c0c0; background-color: #008080\">Additionally, San Francisco is home to the largest municipal solar</span>\n",
       "<span style=\"color: #c0c0c0; text-decoration-color: #c0c0c0; background-color: #008080\">installation in\", </span><span style=\"color: #c0c0c0; text-decoration-color: #c0c0c0; background-color: #008080\">'role'</span><span style=\"color: #c0c0c0; text-decoration-color: #c0c0c0; background-color: #008080\">: </span><span style=\"color: #c0c0c0; text-decoration-color: #c0c0c0; background-color: #008080\">'assistant'</span><span style=\"color: #c0c0c0; text-decoration-color: #c0c0c0; background-color: #008080; font-weight: bold\">}</span><span style=\"color: #c0c0c0; text-decoration-color: #c0c0c0; background-color: #008080\">, </span><span style=\"color: #c0c0c0; text-decoration-color: #c0c0c0; background-color: #008080; font-weight: bold\">{</span><span style=\"color: #c0c0c0; text-decoration-color: #c0c0c0; background-color: #008080\">'content'</span><span style=\"color: #c0c0c0; text-decoration-color: #c0c0c0; background-color: #008080\">: 'This is a really informative post about the top eco-friendly </span>\n",
       "<span style=\"color: #c0c0c0; text-decoration-color: #c0c0c0; background-color: #008080\">cities and their renewable energy initiatives. I would like to know more about their waste management strategies </span>\n",
       "<span style=\"color: #c0c0c0; text-decoration-color: #c0c0c0; background-color: #008080\">since it is also an important aspect of sustainability.</span>\n",
       "</pre>\n"
      ],
      "text/plain": [
       "chunk: \u001b[37;42mThe city has an impressive public transportation system, which includes buses, trains, and cable cars, all \u001b[0m\n",
       "\u001b[37;42mof which are powered by renewable energy sources.\u001b[0m\u001b[37;46mAdditionally, San Francisco is home to the largest municipal solar\u001b[0m\n",
       "\u001b[37;46minstallation in\", \u001b[0m\u001b[37;46m'role'\u001b[0m\u001b[37;46m: \u001b[0m\u001b[37;46m'assistant'\u001b[0m\u001b[1;37;46m}\u001b[0m\u001b[37;46m, \u001b[0m\u001b[1;37;46m{\u001b[0m\u001b[37;46m'content'\u001b[0m\u001b[37;46m: 'This is a really informative post about the top eco-friendly \u001b[0m\n",
       "\u001b[37;46mcities and their renewable energy initiatives. I would like to know more about their waste management strategies \u001b[0m\n",
       "\u001b[37;46msince it is also an important aspect of sustainability.\u001b[0m\n"
      ]
     },
     "metadata": {},
     "output_type": "display_data"
    },
    {
     "data": {
      "text/html": [
       "<pre style=\"white-space:pre;overflow-x:auto;line-height:normal;font-family:Menlo,'DejaVu Sans Mono',consolas,'Courier New',monospace\">Tuning ended, thresh value: <span style=\"color: #008080; text-decoration-color: #008080; font-weight: bold\">0.6194384098052979</span> = <span style=\"color: #008080; text-decoration-color: #008080; font-weight: bold\">0.61</span>\n",
       "</pre>\n"
      ],
      "text/plain": [
       "Tuning ended, thresh value: \u001b[1;36m0.6194384098052979\u001b[0m = \u001b[1;36m0.61\u001b[0m\n"
      ]
     },
     "metadata": {},
     "output_type": "display_data"
    }
   ],
   "source": [
    "splitter = SentenceSplitter(text=datasets['chatlogs'])\n",
    "splits = splitter()\n",
    "res = tuner(splits, depth=3)\n",
    "thresholds.append(res)"
   ]
  },
  {
   "cell_type": "markdown",
   "id": "8038acbc-b4dc-463b-949e-5a61c6753156",
   "metadata": {},
   "source": [
    "**finance**"
   ]
  },
  {
   "cell_type": "code",
   "execution_count": 9,
   "id": "7d7d788d-ae2c-4a33-b3b6-3213f40226f6",
   "metadata": {
    "scrolled": true
   },
   "outputs": [
    {
     "name": "stderr",
     "output_type": "stream",
     "text": [
      "100%|██████████████████████████████████████████████████████████████████████████████████████████████████████████████████████████████| 6320/6320 [06:07<00:00, 17.18it/s]\n"
     ]
    },
    {
     "data": {
      "text/html": [
       "<pre style=\"white-space:pre;overflow-x:auto;line-height:normal;font-family:Menlo,'DejaVu Sans Mono',consolas,'Courier New',monospace\"><span style=\"color: #008080; text-decoration-color: #008080; font-weight: bold\">3716</span> chunks formed\n",
       "</pre>\n"
      ],
      "text/plain": [
       "\u001b[1;36m3716\u001b[0m chunks formed\n"
      ]
     },
     "metadata": {},
     "output_type": "display_data"
    },
    {
     "data": {
      "text/html": [
       "<pre style=\"white-space:pre;overflow-x:auto;line-height:normal;font-family:Menlo,'DejaVu Sans Mono',consolas,'Courier New',monospace\">Values range: <span style=\"font-weight: bold\">[</span><span style=\"color: #008080; text-decoration-color: #008080; font-weight: bold\">-0.044754236936569214</span> <span style=\"color: #808000; text-decoration-color: #808000\">...</span> <span style=\"color: #008080; text-decoration-color: #008080; font-weight: bold\">1.0</span><span style=\"font-weight: bold\">]</span>\n",
       "</pre>\n"
      ],
      "text/plain": [
       "Values range: \u001b[1m[\u001b[0m\u001b[1;36m-0.044754236936569214\u001b[0m \u001b[33m...\u001b[0m \u001b[1;36m1.0\u001b[0m\u001b[1m]\u001b[0m\n"
      ]
     },
     "metadata": {},
     "output_type": "display_data"
    },
    {
     "data": {
      "text/html": [
       "<pre style=\"white-space:pre;overflow-x:auto;line-height:normal;font-family:Menlo,'DejaVu Sans Mono',consolas,'Courier New',monospace\">Steps to tune: <span style=\"color: #008080; text-decoration-color: #008080; font-weight: bold\">11</span>\n",
       "</pre>\n"
      ],
      "text/plain": [
       "Steps to tune: \u001b[1;36m11\u001b[0m\n"
      ]
     },
     "metadata": {},
     "output_type": "display_data"
    },
    {
     "data": {
      "text/html": [
       "<pre style=\"white-space:pre;overflow-x:auto;line-height:normal;font-family:Menlo,'DejaVu Sans Mono',consolas,'Courier New',monospace\">--------------------------------\n",
       "</pre>\n"
      ],
      "text/plain": [
       "--------------------------------\n"
      ]
     },
     "metadata": {},
     "output_type": "display_data"
    },
    {
     "data": {
      "text/html": [
       "<pre style=\"white-space:pre;overflow-x:auto;line-height:normal;font-family:Menlo,'DejaVu Sans Mono',consolas,'Courier New',monospace\">dist: <span style=\"color: #008080; text-decoration-color: #008080; font-weight: bold\">0.7650039196014404</span>\n",
       "</pre>\n"
      ],
      "text/plain": [
       "dist: \u001b[1;36m0.7650039196014404\u001b[0m\n"
      ]
     },
     "metadata": {},
     "output_type": "display_data"
    },
    {
     "data": {
      "text/html": [
       "<pre style=\"white-space:pre;overflow-x:auto;line-height:normal;font-family:Menlo,'DejaVu Sans Mono',consolas,'Courier New',monospace\">chunk: <span style=\"color: #c0c0c0; text-decoration-color: #c0c0c0; background-color: #008000\">all other leased facilities with space of less than </span><span style=\"color: #c0c0c0; text-decoration-color: #c0c0c0; background-color: #008000; font-weight: bold\">25000</span><span style=\"color: #c0c0c0; text-decoration-color: #c0c0c0; background-color: #008000\"> square feet are not listed by location.</span><span style=\"color: #c0c0c0; text-decoration-color: #c0c0c0; background-color: #008080\">in addition</span>\n",
       "<span style=\"color: #c0c0c0; text-decoration-color: #c0c0c0; background-color: #008080\">to the significant facilities above, we also lease all </span><span style=\"color: #c0c0c0; text-decoration-color: #c0c0c0; background-color: #008080; font-weight: bold\">30</span><span style=\"color: #c0c0c0; text-decoration-color: #c0c0c0; background-color: #008080\"> e*trade branches, ranging in space from approximately </span>\n",
       "<span style=\"color: #c0c0c0; text-decoration-color: #c0c0c0; background-color: #008080; font-weight: bold\">2500</span><span style=\"color: #c0c0c0; text-decoration-color: #c0c0c0; background-color: #008080\"> to </span><span style=\"color: #c0c0c0; text-decoration-color: #c0c0c0; background-color: #008080; font-weight: bold\">8000</span><span style=\"color: #c0c0c0; text-decoration-color: #c0c0c0; background-color: #008080\"> square feet. we believe our facilities space is adequate to meet our needs in </span><span style=\"color: #c0c0c0; text-decoration-color: #c0c0c0; background-color: #008080; font-weight: bold\">2014</span><span style=\"color: #c0c0c0; text-decoration-color: #c0c0c0; background-color: #008080\">.</span>\n",
       "</pre>\n"
      ],
      "text/plain": [
       "chunk: \u001b[37;42mall other leased facilities with space of less than \u001b[0m\u001b[1;37;42m25000\u001b[0m\u001b[37;42m square feet are not listed by location.\u001b[0m\u001b[37;46min addition\u001b[0m\n",
       "\u001b[37;46mto the significant facilities above, we also lease all \u001b[0m\u001b[1;37;46m30\u001b[0m\u001b[37;46m e*trade branches, ranging in space from approximately \u001b[0m\n",
       "\u001b[1;37;46m2500\u001b[0m\u001b[37;46m to \u001b[0m\u001b[1;37;46m8000\u001b[0m\u001b[37;46m square feet. we believe our facilities space is adequate to meet our needs in \u001b[0m\u001b[1;37;46m2014\u001b[0m\u001b[37;46m.\u001b[0m\n"
      ]
     },
     "metadata": {},
     "output_type": "display_data"
    },
    {
     "name": "stdin",
     "output_type": "stream",
     "text": [
      "Type 'k' to raise thresh, or 'j' - to lower it, then press 'Enter':  J\n"
     ]
    },
    {
     "data": {
      "text/html": [
       "<pre style=\"white-space:pre;overflow-x:auto;line-height:normal;font-family:Menlo,'DejaVu Sans Mono',consolas,'Courier New',monospace\">Invalid input, please type <span style=\"color: #008000; text-decoration-color: #008000\">'k'</span> or <span style=\"color: #008000; text-decoration-color: #008000\">'j'</span>\n",
       "</pre>\n"
      ],
      "text/plain": [
       "Invalid input, please type \u001b[32m'k'\u001b[0m or \u001b[32m'j'\u001b[0m\n"
      ]
     },
     "metadata": {},
     "output_type": "display_data"
    },
    {
     "data": {
      "text/html": [
       "<pre style=\"white-space:pre;overflow-x:auto;line-height:normal;font-family:Menlo,'DejaVu Sans Mono',consolas,'Courier New',monospace\">================================================================\n",
       "</pre>\n"
      ],
      "text/plain": [
       "================================================================\n"
      ]
     },
     "metadata": {},
     "output_type": "display_data"
    },
    {
     "name": "stdin",
     "output_type": "stream",
     "text": [
      "Type 'k' to raise thresh, or 'j' - to lower it, then press 'Enter':  j\n"
     ]
    },
    {
     "data": {
      "text/html": [
       "<pre style=\"white-space:pre;overflow-x:auto;line-height:normal;font-family:Menlo,'DejaVu Sans Mono',consolas,'Courier New',monospace\">dist: <span style=\"color: #008080; text-decoration-color: #008080; font-weight: bold\">0.6152104139328003</span>\n",
       "</pre>\n"
      ],
      "text/plain": [
       "dist: \u001b[1;36m0.6152104139328003\u001b[0m\n"
      ]
     },
     "metadata": {},
     "output_type": "display_data"
    },
    {
     "data": {
      "text/html": [
       "<pre style=\"white-space:pre;overflow-x:auto;line-height:normal;font-family:Menlo,'DejaVu Sans Mono',consolas,'Courier New',monospace\">chunk: <span style=\"color: #c0c0c0; text-decoration-color: #c0c0c0; background-color: #008000\">as a result, the company deferred a substantial portion of its </span><span style=\"color: #c0c0c0; text-decoration-color: #c0c0c0; background-color: #008000; font-weight: bold\">2011</span><span style=\"color: #c0c0c0; text-decoration-color: #c0c0c0; background-color: #008000\">-</span><span style=\"color: #c0c0c0; text-decoration-color: #c0c0c0; background-color: #008000; font-weight: bold\">2013</span><span style=\"color: #c0c0c0; text-decoration-color: #c0c0c0; background-color: #008000\"> income tax expense, contributing to</span>\n",
       "<span style=\"color: #c0c0c0; text-decoration-color: #c0c0c0; background-color: #008000\">the positive operating cash flow in those years.</span><span style=\"color: #c0c0c0; text-decoration-color: #c0c0c0; background-color: #008080\">congress extended </span><span style=\"color: #c0c0c0; text-decoration-color: #c0c0c0; background-color: #008080; font-weight: bold\">50</span><span style=\"color: #c0c0c0; text-decoration-color: #c0c0c0; background-color: #008080\">% </span><span style=\"color: #c0c0c0; text-decoration-color: #c0c0c0; background-color: #008080; font-weight: bold\">(</span><span style=\"color: #c0c0c0; text-decoration-color: #c0c0c0; background-color: #008080; font-weight: bold\">50</span><span style=\"color: #c0c0c0; text-decoration-color: #c0c0c0; background-color: #008080\">%</span><span style=\"color: #c0c0c0; text-decoration-color: #c0c0c0; background-color: #008080; font-weight: bold\">)</span><span style=\"color: #c0c0c0; text-decoration-color: #c0c0c0; background-color: #008080\"> bonus depreciation for </span><span style=\"color: #c0c0c0; text-decoration-color: #c0c0c0; background-color: #008080; font-weight: bold\">2014</span><span style=\"color: #c0c0c0; text-decoration-color: #c0c0c0; background-color: #008080\">, but this </span>\n",
       "<span style=\"color: #c0c0c0; text-decoration-color: #c0c0c0; background-color: #008080\">extension occurred in december, and the related benefit was realized in </span><span style=\"color: #c0c0c0; text-decoration-color: #c0c0c0; background-color: #008080; font-weight: bold\">2015</span><span style=\"color: #c0c0c0; text-decoration-color: #c0c0c0; background-color: #008080\">, rather than </span><span style=\"color: #c0c0c0; text-decoration-color: #c0c0c0; background-color: #008080; font-weight: bold\">2014</span><span style=\"color: #c0c0c0; text-decoration-color: #c0c0c0; background-color: #008080\">. similarly, in </span>\n",
       "<span style=\"color: #c0c0c0; text-decoration-color: #c0c0c0; background-color: #008080\">december of </span><span style=\"color: #c0c0c0; text-decoration-color: #c0c0c0; background-color: #008080; font-weight: bold\">2015</span><span style=\"color: #c0c0c0; text-decoration-color: #c0c0c0; background-color: #008080\">, congress extended bonus depreciation through </span><span style=\"color: #c0c0c0; text-decoration-color: #c0c0c0; background-color: #008080; font-weight: bold\">2019</span><span style=\"color: #c0c0c0; text-decoration-color: #c0c0c0; background-color: #008080\">, which delayed the benefit of </span><span style=\"color: #c0c0c0; text-decoration-color: #c0c0c0; background-color: #008080; font-weight: bold\">2015</span><span style=\"color: #c0c0c0; text-decoration-color: #c0c0c0; background-color: #008080\"> bonus </span>\n",
       "<span style=\"color: #c0c0c0; text-decoration-color: #c0c0c0; background-color: #008080\">depreciation into </span><span style=\"color: #c0c0c0; text-decoration-color: #c0c0c0; background-color: #008080; font-weight: bold\">2016</span><span style=\"color: #c0c0c0; text-decoration-color: #c0c0c0; background-color: #008080\">.</span>\n",
       "</pre>\n"
      ],
      "text/plain": [
       "chunk: \u001b[37;42mas a result, the company deferred a substantial portion of its \u001b[0m\u001b[1;37;42m2011\u001b[0m\u001b[37;42m-\u001b[0m\u001b[1;37;42m2013\u001b[0m\u001b[37;42m income tax expense, contributing to\u001b[0m\n",
       "\u001b[37;42mthe positive operating cash flow in those years.\u001b[0m\u001b[37;46mcongress extended \u001b[0m\u001b[1;37;46m50\u001b[0m\u001b[37;46m% \u001b[0m\u001b[1;37;46m(\u001b[0m\u001b[1;37;46m50\u001b[0m\u001b[37;46m%\u001b[0m\u001b[1;37;46m)\u001b[0m\u001b[37;46m bonus depreciation for \u001b[0m\u001b[1;37;46m2014\u001b[0m\u001b[37;46m, but this \u001b[0m\n",
       "\u001b[37;46mextension occurred in december, and the related benefit was realized in \u001b[0m\u001b[1;37;46m2015\u001b[0m\u001b[37;46m, rather than \u001b[0m\u001b[1;37;46m2014\u001b[0m\u001b[37;46m. similarly, in \u001b[0m\n",
       "\u001b[37;46mdecember of \u001b[0m\u001b[1;37;46m2015\u001b[0m\u001b[37;46m, congress extended bonus depreciation through \u001b[0m\u001b[1;37;46m2019\u001b[0m\u001b[37;46m, which delayed the benefit of \u001b[0m\u001b[1;37;46m2015\u001b[0m\u001b[37;46m bonus \u001b[0m\n",
       "\u001b[37;46mdepreciation into \u001b[0m\u001b[1;37;46m2016\u001b[0m\u001b[37;46m.\u001b[0m\n"
      ]
     },
     "metadata": {},
     "output_type": "display_data"
    },
    {
     "name": "stdin",
     "output_type": "stream",
     "text": [
      "Type 'k' to raise thresh, or 'j' - to lower it, then press 'Enter':  j\n"
     ]
    },
    {
     "data": {
      "text/html": [
       "<pre style=\"white-space:pre;overflow-x:auto;line-height:normal;font-family:Menlo,'DejaVu Sans Mono',consolas,'Courier New',monospace\">dist: <span style=\"color: #008080; text-decoration-color: #008080; font-weight: bold\">0.481352835893631</span>\n",
       "</pre>\n"
      ],
      "text/plain": [
       "dist: \u001b[1;36m0.481352835893631\u001b[0m\n"
      ]
     },
     "metadata": {},
     "output_type": "display_data"
    },
    {
     "data": {
      "text/html": [
       "<pre style=\"white-space:pre;overflow-x:auto;line-height:normal;font-family:Menlo,'DejaVu Sans Mono',consolas,'Courier New',monospace\">chunk: <span style=\"color: #c0c0c0; text-decoration-color: #c0c0c0; background-color: #008000; font-weight: bold\">33.</span><span style=\"color: #c0c0c0; text-decoration-color: #c0c0c0; background-color: #008000\">0</span><span style=\"color: #c0c0c0; text-decoration-color: #c0c0c0; background-color: #008080\">what is that change over the </span><span style=\"color: #c0c0c0; text-decoration-color: #c0c0c0; background-color: #008080; font-weight: bold\">2010</span><span style=\"color: #c0c0c0; text-decoration-color: #c0c0c0; background-color: #008080\"> value? the aes corporation notes to consolidated financial statements </span>\n",
       "<span style=\"color: #c0c0c0; text-decoration-color: #c0c0c0; background-color: #008080; font-weight: bold\">2014</span><span style=\"color: #c0c0c0; text-decoration-color: #c0c0c0; background-color: #008080\"> </span><span style=\"color: #c0c0c0; text-decoration-color: #c0c0c0; background-color: #008080; font-weight: bold\">(</span><span style=\"color: #c0c0c0; text-decoration-color: #c0c0c0; background-color: #008080\">continued</span><span style=\"color: #c0c0c0; text-decoration-color: #c0c0c0; background-color: #008080; font-weight: bold\">)</span><span style=\"color: #c0c0c0; text-decoration-color: #c0c0c0; background-color: #008080\"> december </span><span style=\"color: #c0c0c0; text-decoration-color: #c0c0c0; background-color: #008080; font-weight: bold\">31</span><span style=\"color: #c0c0c0; text-decoration-color: #c0c0c0; background-color: #008080\">, </span><span style=\"color: #c0c0c0; text-decoration-color: #c0c0c0; background-color: #008080; font-weight: bold\">2017</span><span style=\"color: #c0c0c0; text-decoration-color: #c0c0c0; background-color: #008080\">, </span><span style=\"color: #c0c0c0; text-decoration-color: #c0c0c0; background-color: #008080; font-weight: bold\">2016</span><span style=\"color: #c0c0c0; text-decoration-color: #c0c0c0; background-color: #008080\">, and </span><span style=\"color: #c0c0c0; text-decoration-color: #c0c0c0; background-color: #008080; font-weight: bold\">2015</span><span style=\"color: #c0c0c0; text-decoration-color: #c0c0c0; background-color: #008080\"> was dispatched starting in february </span><span style=\"color: #c0c0c0; text-decoration-color: #c0c0c0; background-color: #008080; font-weight: bold\">2018</span><span style=\"color: #c0c0c0; text-decoration-color: #c0c0c0; background-color: #008080\">.</span>\n",
       "</pre>\n"
      ],
      "text/plain": [
       "chunk: \u001b[1;37;42m33.\u001b[0m\u001b[37;42m0\u001b[0m\u001b[37;46mwhat is that change over the \u001b[0m\u001b[1;37;46m2010\u001b[0m\u001b[37;46m value? the aes corporation notes to consolidated financial statements \u001b[0m\n",
       "\u001b[1;37;46m2014\u001b[0m\u001b[37;46m \u001b[0m\u001b[1;37;46m(\u001b[0m\u001b[37;46mcontinued\u001b[0m\u001b[1;37;46m)\u001b[0m\u001b[37;46m december \u001b[0m\u001b[1;37;46m31\u001b[0m\u001b[37;46m, \u001b[0m\u001b[1;37;46m2017\u001b[0m\u001b[37;46m, \u001b[0m\u001b[1;37;46m2016\u001b[0m\u001b[37;46m, and \u001b[0m\u001b[1;37;46m2015\u001b[0m\u001b[37;46m was dispatched starting in february \u001b[0m\u001b[1;37;46m2018\u001b[0m\u001b[37;46m.\u001b[0m\n"
      ]
     },
     "metadata": {},
     "output_type": "display_data"
    },
    {
     "name": "stdin",
     "output_type": "stream",
     "text": [
      "Type 'k' to raise thresh, or 'j' - to lower it, then press 'Enter':  k\n"
     ]
    },
    {
     "data": {
      "text/html": [
       "<pre style=\"white-space:pre;overflow-x:auto;line-height:normal;font-family:Menlo,'DejaVu Sans Mono',consolas,'Courier New',monospace\">dist: <span style=\"color: #008080; text-decoration-color: #008080; font-weight: bold\">0.5585998296737671</span>\n",
       "</pre>\n"
      ],
      "text/plain": [
       "dist: \u001b[1;36m0.5585998296737671\u001b[0m\n"
      ]
     },
     "metadata": {},
     "output_type": "display_data"
    },
    {
     "data": {
      "text/html": [
       "<pre style=\"white-space:pre;overflow-x:auto;line-height:normal;font-family:Menlo,'DejaVu Sans Mono',consolas,'Courier New',monospace\">chunk: <span style=\"color: #c0c0c0; text-decoration-color: #c0c0c0; background-color: #008000\">what is that less </span><span style=\"color: #c0c0c0; text-decoration-color: #c0c0c0; background-color: #008000; font-weight: bold\">100</span><span style=\"color: #c0c0c0; text-decoration-color: #c0c0c0; background-color: #008000\">?</span><span style=\"color: #c0c0c0; text-decoration-color: #c0c0c0; background-color: #008080; font-weight: bold\">108.1</span><span style=\"color: #c0c0c0; text-decoration-color: #c0c0c0; background-color: #008080\"> what is the ratio of the difference of citi to the s&amp;p </span><span style=\"color: #c0c0c0; text-decoration-color: #c0c0c0; background-color: #008080; font-weight: bold\">500</span><span style=\"color: #c0c0c0; text-decoration-color: #c0c0c0; background-color: #008080\">?</span>\n",
       "</pre>\n"
      ],
      "text/plain": [
       "chunk: \u001b[37;42mwhat is that less \u001b[0m\u001b[1;37;42m100\u001b[0m\u001b[37;42m?\u001b[0m\u001b[1;37;46m108.1\u001b[0m\u001b[37;46m what is the ratio of the difference of citi to the s&p \u001b[0m\u001b[1;37;46m500\u001b[0m\u001b[37;46m?\u001b[0m\n"
      ]
     },
     "metadata": {},
     "output_type": "display_data"
    },
    {
     "name": "stdin",
     "output_type": "stream",
     "text": [
      "Type 'k' to raise thresh, or 'j' - to lower it, then press 'Enter':  j\n"
     ]
    },
    {
     "data": {
      "text/html": [
       "<pre style=\"white-space:pre;overflow-x:auto;line-height:normal;font-family:Menlo,'DejaVu Sans Mono',consolas,'Courier New',monospace\">dist: <span style=\"color: #008080; text-decoration-color: #008080; font-weight: bold\">0.5259453654289246</span>\n",
       "</pre>\n"
      ],
      "text/plain": [
       "dist: \u001b[1;36m0.5259453654289246\u001b[0m\n"
      ]
     },
     "metadata": {},
     "output_type": "display_data"
    },
    {
     "data": {
      "text/html": [
       "<pre style=\"white-space:pre;overflow-x:auto;line-height:normal;font-family:Menlo,'DejaVu Sans Mono',consolas,'Courier New',monospace\">chunk: <span style=\"color: #c0c0c0; text-decoration-color: #c0c0c0; background-color: #008000\">312013</span><span style=\"color: #c0c0c0; text-decoration-color: #c0c0c0; background-color: #008080\">accounts payable | $</span><span style=\"color: #c0c0c0; text-decoration-color: #c0c0c0; background-color: #008080; font-weight: bold\">877</span><span style=\"color: #c0c0c0; text-decoration-color: #c0c0c0; background-color: #008080\"> | $</span><span style=\"color: #c0c0c0; text-decoration-color: #c0c0c0; background-color: #008080; font-weight: bold\">803</span><span style=\"color: #c0c0c0; text-decoration-color: #c0c0c0; background-color: #008080\"> dividends payable | </span><span style=\"color: #c0c0c0; text-decoration-color: #c0c0c0; background-color: #008080; font-weight: bold\">438</span><span style=\"color: #c0c0c0; text-decoration-color: #c0c0c0; background-color: #008080\"> | </span><span style=\"color: #c0c0c0; text-decoration-color: #c0c0c0; background-color: #008080; font-weight: bold\">356</span>\n",
       "</pre>\n"
      ],
      "text/plain": [
       "chunk: \u001b[37;42m312013\u001b[0m\u001b[37;46maccounts payable | $\u001b[0m\u001b[1;37;46m877\u001b[0m\u001b[37;46m | $\u001b[0m\u001b[1;37;46m803\u001b[0m\u001b[37;46m dividends payable | \u001b[0m\u001b[1;37;46m438\u001b[0m\u001b[37;46m | \u001b[0m\u001b[1;37;46m356\u001b[0m\n"
      ]
     },
     "metadata": {},
     "output_type": "display_data"
    },
    {
     "name": "stdin",
     "output_type": "stream",
     "text": [
      "Type 'k' to raise thresh, or 'j' - to lower it, then press 'Enter':  k\n"
     ]
    },
    {
     "data": {
      "text/html": [
       "<pre style=\"white-space:pre;overflow-x:auto;line-height:normal;font-family:Menlo,'DejaVu Sans Mono',consolas,'Courier New',monospace\">dist: <span style=\"color: #008080; text-decoration-color: #008080; font-weight: bold\">0.5404416918754578</span>\n",
       "</pre>\n"
      ],
      "text/plain": [
       "dist: \u001b[1;36m0.5404416918754578\u001b[0m\n"
      ]
     },
     "metadata": {},
     "output_type": "display_data"
    },
    {
     "data": {
      "text/html": [
       "<pre style=\"white-space:pre;overflow-x:auto;line-height:normal;font-family:Menlo,'DejaVu Sans Mono',consolas,'Courier New',monospace\">chunk: <span style=\"color: #c0c0c0; text-decoration-color: #c0c0c0; background-color: #008000\">total | $</span><span style=\"color: #c0c0c0; text-decoration-color: #c0c0c0; background-color: #008000; font-weight: bold\">4216</span><span style=\"color: #c0c0c0; text-decoration-color: #c0c0c0; background-color: #008000\"> | $</span><span style=\"color: #c0c0c0; text-decoration-color: #c0c0c0; background-color: #008000; font-weight: bold\">-1833</span><span style=\"color: #c0c0c0; text-decoration-color: #c0c0c0; background-color: #008000\"> </span><span style=\"color: #c0c0c0; text-decoration-color: #c0c0c0; background-color: #008000; font-weight: bold\">(</span><span style=\"color: #c0c0c0; text-decoration-color: #c0c0c0; background-color: #008000; font-weight: bold\">1833</span><span style=\"color: #c0c0c0; text-decoration-color: #c0c0c0; background-color: #008000; font-weight: bold\">)</span><span style=\"color: #c0c0c0; text-decoration-color: #c0c0c0; background-color: #008000\"> | $</span><span style=\"color: #c0c0c0; text-decoration-color: #c0c0c0; background-color: #008000; font-weight: bold\">2383</span><span style=\"color: #c0c0c0; text-decoration-color: #c0c0c0; background-color: #008000\"> | $</span><span style=\"color: #c0c0c0; text-decoration-color: #c0c0c0; background-color: #008000; font-weight: bold\">9</span><span style=\"color: #c0c0c0; text-decoration-color: #c0c0c0; background-color: #008000\"> | $</span><span style=\"color: #c0c0c0; text-decoration-color: #c0c0c0; background-color: #008000; font-weight: bold\">-13</span><span style=\"color: #c0c0c0; text-decoration-color: #c0c0c0; background-color: #008000\"> </span><span style=\"color: #c0c0c0; text-decoration-color: #c0c0c0; background-color: #008000; font-weight: bold\">(</span><span style=\"color: #c0c0c0; text-decoration-color: #c0c0c0; background-color: #008000; font-weight: bold\">13</span><span style=\"color: #c0c0c0; text-decoration-color: #c0c0c0; background-color: #008000; font-weight: bold\">)</span><span style=\"color: #c0c0c0; text-decoration-color: #c0c0c0; background-color: #008000\"> | $</span><span style=\"color: #c0c0c0; text-decoration-color: #c0c0c0; background-color: #008000; font-weight: bold\">-486</span><span style=\"color: #c0c0c0; text-decoration-color: #c0c0c0; background-color: #008000\"> </span><span style=\"color: #c0c0c0; text-decoration-color: #c0c0c0; background-color: #008000; font-weight: bold\">(</span><span style=\"color: #c0c0c0; text-decoration-color: #c0c0c0; background-color: #008000; font-weight: bold\">486</span><span style=\"color: #c0c0c0; text-decoration-color: #c0c0c0; background-color: #008000; font-weight: bold\">)</span><span style=\"color: #c0c0c0; text-decoration-color: #c0c0c0; background-color: #008000\"> | $</span><span style=\"color: #c0c0c0; text-decoration-color: #c0c0c0; background-color: #008000; font-weight: bold\">-2</span><span style=\"color: #c0c0c0; text-decoration-color: #c0c0c0; background-color: #008000\"> </span><span style=\"color: #c0c0c0; text-decoration-color: #c0c0c0; background-color: #008000; font-weight: bold\">(</span><span style=\"color: #c0c0c0; text-decoration-color: #c0c0c0; background-color: #008000; font-weight: bold\">2</span><span style=\"color: #c0c0c0; text-decoration-color: #c0c0c0; background-color: #008000; font-weight: bold\">)</span><span style=\"color: #c0c0c0; text-decoration-color: #c0c0c0; background-color: #008000\"> | $</span><span style=\"color: #c0c0c0; text-decoration-color: #c0c0c0; background-color: #008000; font-weight: bold\">1891</span><span style=\"color: #c0c0c0; text-decoration-color: #c0c0c0; background-color: #008080; font-weight: bold\">(</span><span style=\"color: #c0c0c0; text-decoration-color: #c0c0c0; background-color: #008080\">a</span><span style=\"color: #c0c0c0; text-decoration-color: #c0c0c0; background-color: #008080; font-weight: bold\">)</span><span style=\"color: #c0c0c0; text-decoration-color: #c0c0c0; background-color: #008080\"> additions include </span>\n",
       "<span style=\"color: #c0c0c0; text-decoration-color: #c0c0c0; background-color: #008080\">acquisitions. </span><span style=\"color: #c0c0c0; text-decoration-color: #c0c0c0; background-color: #008080; font-weight: bold\">(</span><span style=\"color: #c0c0c0; text-decoration-color: #c0c0c0; background-color: #008080\">b</span><span style=\"color: #c0c0c0; text-decoration-color: #c0c0c0; background-color: #008080; font-weight: bold\">)</span><span style=\"color: #c0c0c0; text-decoration-color: #c0c0c0; background-color: #008080\"> during </span><span style=\"color: #c0c0c0; text-decoration-color: #c0c0c0; background-color: #008080; font-weight: bold\">2011</span><span style=\"color: #c0c0c0; text-decoration-color: #c0c0c0; background-color: #008080\">, the company reclassified the goodwill related to the business units held for sale.</span>\n",
       "</pre>\n"
      ],
      "text/plain": [
       "chunk: \u001b[37;42mtotal | $\u001b[0m\u001b[1;37;42m4216\u001b[0m\u001b[37;42m | $\u001b[0m\u001b[1;37;42m-1833\u001b[0m\u001b[37;42m \u001b[0m\u001b[1;37;42m(\u001b[0m\u001b[1;37;42m1833\u001b[0m\u001b[1;37;42m)\u001b[0m\u001b[37;42m | $\u001b[0m\u001b[1;37;42m2383\u001b[0m\u001b[37;42m | $\u001b[0m\u001b[1;37;42m9\u001b[0m\u001b[37;42m | $\u001b[0m\u001b[1;37;42m-13\u001b[0m\u001b[37;42m \u001b[0m\u001b[1;37;42m(\u001b[0m\u001b[1;37;42m13\u001b[0m\u001b[1;37;42m)\u001b[0m\u001b[37;42m | $\u001b[0m\u001b[1;37;42m-486\u001b[0m\u001b[37;42m \u001b[0m\u001b[1;37;42m(\u001b[0m\u001b[1;37;42m486\u001b[0m\u001b[1;37;42m)\u001b[0m\u001b[37;42m | $\u001b[0m\u001b[1;37;42m-2\u001b[0m\u001b[37;42m \u001b[0m\u001b[1;37;42m(\u001b[0m\u001b[1;37;42m2\u001b[0m\u001b[1;37;42m)\u001b[0m\u001b[37;42m | $\u001b[0m\u001b[1;37;42m1891\u001b[0m\u001b[1;37;46m(\u001b[0m\u001b[37;46ma\u001b[0m\u001b[1;37;46m)\u001b[0m\u001b[37;46m additions include \u001b[0m\n",
       "\u001b[37;46macquisitions. \u001b[0m\u001b[1;37;46m(\u001b[0m\u001b[37;46mb\u001b[0m\u001b[1;37;46m)\u001b[0m\u001b[37;46m during \u001b[0m\u001b[1;37;46m2011\u001b[0m\u001b[37;46m, the company reclassified the goodwill related to the business units held for sale.\u001b[0m\n"
      ]
     },
     "metadata": {},
     "output_type": "display_data"
    },
    {
     "name": "stdin",
     "output_type": "stream",
     "text": [
      "Type 'k' to raise thresh, or 'j' - to lower it, then press 'Enter':  k\n"
     ]
    },
    {
     "data": {
      "text/html": [
       "<pre style=\"white-space:pre;overflow-x:auto;line-height:normal;font-family:Menlo,'DejaVu Sans Mono',consolas,'Courier New',monospace\">dist: <span style=\"color: #008080; text-decoration-color: #008080; font-weight: bold\">0.5495529174804688</span>\n",
       "</pre>\n"
      ],
      "text/plain": [
       "dist: \u001b[1;36m0.5495529174804688\u001b[0m\n"
      ]
     },
     "metadata": {},
     "output_type": "display_data"
    },
    {
     "data": {
      "text/html": [
       "<pre style=\"white-space:pre;overflow-x:auto;line-height:normal;font-family:Menlo,'DejaVu Sans Mono',consolas,'Courier New',monospace\">chunk: <span style=\"color: #c0c0c0; text-decoration-color: #c0c0c0; background-color: #008000; font-weight: bold\">-21.</span><span style=\"color: #c0c0c0; text-decoration-color: #c0c0c0; background-color: #008000\">08</span><span style=\"color: #c0c0c0; text-decoration-color: #c0c0c0; background-color: #008080\">and what is this fluctuation as a percent of that return in </span><span style=\"color: #c0c0c0; text-decoration-color: #c0c0c0; background-color: #008080; font-weight: bold\">2007</span><span style=\"color: #c0c0c0; text-decoration-color: #c0c0c0; background-color: #008080\">? </span><span style=\"color: #c0c0c0; text-decoration-color: #c0c0c0; background-color: #008080; font-weight: bold\">-0.2108</span>\n",
       "</pre>\n"
      ],
      "text/plain": [
       "chunk: \u001b[1;37;42m-21.\u001b[0m\u001b[37;42m08\u001b[0m\u001b[37;46mand what is this fluctuation as a percent of that return in \u001b[0m\u001b[1;37;46m2007\u001b[0m\u001b[37;46m? \u001b[0m\u001b[1;37;46m-0.2108\u001b[0m\n"
      ]
     },
     "metadata": {},
     "output_type": "display_data"
    },
    {
     "name": "stdin",
     "output_type": "stream",
     "text": [
      "Type 'k' to raise thresh, or 'j' - to lower it, then press 'Enter':  k\n"
     ]
    },
    {
     "data": {
      "text/html": [
       "<pre style=\"white-space:pre;overflow-x:auto;line-height:normal;font-family:Menlo,'DejaVu Sans Mono',consolas,'Courier New',monospace\">dist: <span style=\"color: #008080; text-decoration-color: #008080; font-weight: bold\">0.554040789604187</span>\n",
       "</pre>\n"
      ],
      "text/plain": [
       "dist: \u001b[1;36m0.554040789604187\u001b[0m\n"
      ]
     },
     "metadata": {},
     "output_type": "display_data"
    },
    {
     "data": {
      "text/html": [
       "<pre style=\"white-space:pre;overflow-x:auto;line-height:normal;font-family:Menlo,'DejaVu Sans Mono',consolas,'Courier New',monospace\">chunk: <span style=\"color: #c0c0c0; text-decoration-color: #c0c0c0; background-color: #008000; font-weight: bold\">2015</span><span style=\"color: #c0c0c0; text-decoration-color: #c0c0c0; background-color: #008000\"> and </span><span style=\"color: #c0c0c0; text-decoration-color: #c0c0c0; background-color: #008000; font-weight: bold\">2022</span><span style=\"color: #c0c0c0; text-decoration-color: #c0c0c0; background-color: #008000\"> notes.</span><span style=\"color: #c0c0c0; text-decoration-color: #c0c0c0; background-color: #008080\">in may </span><span style=\"color: #c0c0c0; text-decoration-color: #c0c0c0; background-color: #008080; font-weight: bold\">2012</span><span style=\"color: #c0c0c0; text-decoration-color: #c0c0c0; background-color: #008080\">, the company issued $</span><span style=\"color: #c0c0c0; text-decoration-color: #c0c0c0; background-color: #008080; font-weight: bold\">1.5</span><span style=\"color: #c0c0c0; text-decoration-color: #c0c0c0; background-color: #008080\"> billion in aggregate principal amount of unsecured </span>\n",
       "<span style=\"color: #c0c0c0; text-decoration-color: #c0c0c0; background-color: #008080\">unsubordinated obligations. these notes were issued as two separate series of senior debt securities, including </span>\n",
       "<span style=\"color: #c0c0c0; text-decoration-color: #c0c0c0; background-color: #008080\">$</span><span style=\"color: #c0c0c0; text-decoration-color: #c0c0c0; background-color: #008080; font-weight: bold\">750</span><span style=\"color: #c0c0c0; text-decoration-color: #c0c0c0; background-color: #008080\"> million of </span><span style=\"color: #c0c0c0; text-decoration-color: #c0c0c0; background-color: #008080; font-weight: bold\">1.375</span><span style=\"color: #c0c0c0; text-decoration-color: #c0c0c0; background-color: #008080\">% </span><span style=\"color: #c0c0c0; text-decoration-color: #c0c0c0; background-color: #008080; font-weight: bold\">(</span><span style=\"color: #c0c0c0; text-decoration-color: #c0c0c0; background-color: #008080; font-weight: bold\">1.375</span><span style=\"color: #c0c0c0; text-decoration-color: #c0c0c0; background-color: #008080\">%</span><span style=\"color: #c0c0c0; text-decoration-color: #c0c0c0; background-color: #008080; font-weight: bold\">)</span><span style=\"color: #c0c0c0; text-decoration-color: #c0c0c0; background-color: #008080\"> notes maturing in june </span><span style=\"color: #c0c0c0; text-decoration-color: #c0c0c0; background-color: #008080; font-weight: bold\">2015</span><span style=\"color: #c0c0c0; text-decoration-color: #c0c0c0; background-color: #008080\"> </span><span style=\"color: #c0c0c0; text-decoration-color: #c0c0c0; background-color: #008080; font-weight: bold\">(</span><span style=\"color: #c0c0c0; text-decoration-color: #c0c0c0; background-color: #008080\">the 201c2015 notes 201d</span><span style=\"color: #c0c0c0; text-decoration-color: #c0c0c0; background-color: #008080; font-weight: bold\">)</span><span style=\"color: #c0c0c0; text-decoration-color: #c0c0c0; background-color: #008080\"> and $</span><span style=\"color: #c0c0c0; text-decoration-color: #c0c0c0; background-color: #008080; font-weight: bold\">750</span><span style=\"color: #c0c0c0; text-decoration-color: #c0c0c0; background-color: #008080\"> million of </span><span style=\"color: #c0c0c0; text-decoration-color: #c0c0c0; background-color: #008080; font-weight: bold\">3.375</span><span style=\"color: #c0c0c0; text-decoration-color: #c0c0c0; background-color: #008080\">% </span>\n",
       "<span style=\"color: #c0c0c0; text-decoration-color: #c0c0c0; background-color: #008080; font-weight: bold\">(</span><span style=\"color: #c0c0c0; text-decoration-color: #c0c0c0; background-color: #008080; font-weight: bold\">3.375</span><span style=\"color: #c0c0c0; text-decoration-color: #c0c0c0; background-color: #008080\">%</span><span style=\"color: #c0c0c0; text-decoration-color: #c0c0c0; background-color: #008080; font-weight: bold\">)</span><span style=\"color: #c0c0c0; text-decoration-color: #c0c0c0; background-color: #008080\"> notes maturing in june </span><span style=\"color: #c0c0c0; text-decoration-color: #c0c0c0; background-color: #008080; font-weight: bold\">2022</span><span style=\"color: #c0c0c0; text-decoration-color: #c0c0c0; background-color: #008080\"> </span><span style=\"color: #c0c0c0; text-decoration-color: #c0c0c0; background-color: #008080; font-weight: bold\">(</span><span style=\"color: #c0c0c0; text-decoration-color: #c0c0c0; background-color: #008080\">the 201c2022 notes 201d</span><span style=\"color: #c0c0c0; text-decoration-color: #c0c0c0; background-color: #008080; font-weight: bold\">)</span><span style=\"color: #c0c0c0; text-decoration-color: #c0c0c0; background-color: #008080\">.</span>\n",
       "</pre>\n"
      ],
      "text/plain": [
       "chunk: \u001b[1;37;42m2015\u001b[0m\u001b[37;42m and \u001b[0m\u001b[1;37;42m2022\u001b[0m\u001b[37;42m notes.\u001b[0m\u001b[37;46min may \u001b[0m\u001b[1;37;46m2012\u001b[0m\u001b[37;46m, the company issued $\u001b[0m\u001b[1;37;46m1.5\u001b[0m\u001b[37;46m billion in aggregate principal amount of unsecured \u001b[0m\n",
       "\u001b[37;46munsubordinated obligations. these notes were issued as two separate series of senior debt securities, including \u001b[0m\n",
       "\u001b[37;46m$\u001b[0m\u001b[1;37;46m750\u001b[0m\u001b[37;46m million of \u001b[0m\u001b[1;37;46m1.375\u001b[0m\u001b[37;46m% \u001b[0m\u001b[1;37;46m(\u001b[0m\u001b[1;37;46m1.375\u001b[0m\u001b[37;46m%\u001b[0m\u001b[1;37;46m)\u001b[0m\u001b[37;46m notes maturing in june \u001b[0m\u001b[1;37;46m2015\u001b[0m\u001b[37;46m \u001b[0m\u001b[1;37;46m(\u001b[0m\u001b[37;46mthe 201c2015 notes 201d\u001b[0m\u001b[1;37;46m)\u001b[0m\u001b[37;46m and $\u001b[0m\u001b[1;37;46m750\u001b[0m\u001b[37;46m million of \u001b[0m\u001b[1;37;46m3.375\u001b[0m\u001b[37;46m% \u001b[0m\n",
       "\u001b[1;37;46m(\u001b[0m\u001b[1;37;46m3.375\u001b[0m\u001b[37;46m%\u001b[0m\u001b[1;37;46m)\u001b[0m\u001b[37;46m notes maturing in june \u001b[0m\u001b[1;37;46m2022\u001b[0m\u001b[37;46m \u001b[0m\u001b[1;37;46m(\u001b[0m\u001b[37;46mthe 201c2022 notes 201d\u001b[0m\u001b[1;37;46m)\u001b[0m\u001b[37;46m.\u001b[0m\n"
      ]
     },
     "metadata": {},
     "output_type": "display_data"
    },
    {
     "name": "stdin",
     "output_type": "stream",
     "text": [
      "Type 'k' to raise thresh, or 'j' - to lower it, then press 'Enter':  j\n"
     ]
    },
    {
     "data": {
      "text/html": [
       "<pre style=\"white-space:pre;overflow-x:auto;line-height:normal;font-family:Menlo,'DejaVu Sans Mono',consolas,'Courier New',monospace\">dist: <span style=\"color: #008080; text-decoration-color: #008080; font-weight: bold\">0.5522029995918274</span>\n",
       "</pre>\n"
      ],
      "text/plain": [
       "dist: \u001b[1;36m0.5522029995918274\u001b[0m\n"
      ]
     },
     "metadata": {},
     "output_type": "display_data"
    },
    {
     "data": {
      "text/html": [
       "<pre style=\"white-space:pre;overflow-x:auto;line-height:normal;font-family:Menlo,'DejaVu Sans Mono',consolas,'Courier New',monospace\">chunk: <span style=\"color: #c0c0c0; text-decoration-color: #c0c0c0; background-color: #008000; font-weight: bold\">2019</span><span style=\"color: #c0c0c0; text-decoration-color: #c0c0c0; background-color: #008000\"> notes.</span><span style=\"color: #c0c0c0; text-decoration-color: #c0c0c0; background-color: #008080\">in december </span><span style=\"color: #c0c0c0; text-decoration-color: #c0c0c0; background-color: #008080; font-weight: bold\">2009</span><span style=\"color: #c0c0c0; text-decoration-color: #c0c0c0; background-color: #008080\">, the company issued $</span><span style=\"color: #c0c0c0; text-decoration-color: #c0c0c0; background-color: #008080; font-weight: bold\">2.5</span><span style=\"color: #c0c0c0; text-decoration-color: #c0c0c0; background-color: #008080\"> billion in aggregate principal amount of unsecured and </span>\n",
       "<span style=\"color: #c0c0c0; text-decoration-color: #c0c0c0; background-color: #008080\">unsubordinated obligations. these notes were issued as three separate series of senior debt securities including </span>\n",
       "<span style=\"color: #c0c0c0; text-decoration-color: #c0c0c0; background-color: #008080\">$</span><span style=\"color: #c0c0c0; text-decoration-color: #c0c0c0; background-color: #008080; font-weight: bold\">0.5</span><span style=\"color: #c0c0c0; text-decoration-color: #c0c0c0; background-color: #008080\"> billion of </span><span style=\"color: #c0c0c0; text-decoration-color: #c0c0c0; background-color: #008080; font-weight: bold\">2.25</span><span style=\"color: #c0c0c0; text-decoration-color: #c0c0c0; background-color: #008080\">% </span><span style=\"color: #c0c0c0; text-decoration-color: #c0c0c0; background-color: #008080; font-weight: bold\">(</span><span style=\"color: #c0c0c0; text-decoration-color: #c0c0c0; background-color: #008080; font-weight: bold\">2.25</span><span style=\"color: #c0c0c0; text-decoration-color: #c0c0c0; background-color: #008080\">%</span><span style=\"color: #c0c0c0; text-decoration-color: #c0c0c0; background-color: #008080; font-weight: bold\">)</span><span style=\"color: #c0c0c0; text-decoration-color: #c0c0c0; background-color: #008080\"> notes, which were repaid in december </span><span style=\"color: #c0c0c0; text-decoration-color: #c0c0c0; background-color: #008080; font-weight: bold\">2012</span><span style=\"color: #c0c0c0; text-decoration-color: #c0c0c0; background-color: #008080\">, $</span><span style=\"color: #c0c0c0; text-decoration-color: #c0c0c0; background-color: #008080; font-weight: bold\">1.0</span><span style=\"color: #c0c0c0; text-decoration-color: #c0c0c0; background-color: #008080\"> billion of </span><span style=\"color: #c0c0c0; text-decoration-color: #c0c0c0; background-color: #008080; font-weight: bold\">3.50</span><span style=\"color: #c0c0c0; text-decoration-color: #c0c0c0; background-color: #008080\">% </span><span style=\"color: #c0c0c0; text-decoration-color: #c0c0c0; background-color: #008080; font-weight: bold\">(</span><span style=\"color: #c0c0c0; text-decoration-color: #c0c0c0; background-color: #008080; font-weight: bold\">3.50</span><span style=\"color: #c0c0c0; text-decoration-color: #c0c0c0; background-color: #008080\">%</span><span style=\"color: #c0c0c0; text-decoration-color: #c0c0c0; background-color: #008080; font-weight: bold\">)</span><span style=\"color: #c0c0c0; text-decoration-color: #c0c0c0; background-color: #008080\"> notes, which</span>\n",
       "<span style=\"color: #c0c0c0; text-decoration-color: #c0c0c0; background-color: #008080\">were repaid in december </span><span style=\"color: #c0c0c0; text-decoration-color: #c0c0c0; background-color: #008080; font-weight: bold\">2014</span><span style=\"color: #c0c0c0; text-decoration-color: #c0c0c0; background-color: #008080\"> at maturity, and $</span><span style=\"color: #c0c0c0; text-decoration-color: #c0c0c0; background-color: #008080; font-weight: bold\">1.0</span><span style=\"color: #c0c0c0; text-decoration-color: #c0c0c0; background-color: #008080\"> billion of </span><span style=\"color: #c0c0c0; text-decoration-color: #c0c0c0; background-color: #008080; font-weight: bold\">5.0</span><span style=\"color: #c0c0c0; text-decoration-color: #c0c0c0; background-color: #008080\">% </span><span style=\"color: #c0c0c0; text-decoration-color: #c0c0c0; background-color: #008080; font-weight: bold\">(</span><span style=\"color: #c0c0c0; text-decoration-color: #c0c0c0; background-color: #008080; font-weight: bold\">5.0</span><span style=\"color: #c0c0c0; text-decoration-color: #c0c0c0; background-color: #008080\">%</span><span style=\"color: #c0c0c0; text-decoration-color: #c0c0c0; background-color: #008080; font-weight: bold\">)</span><span style=\"color: #c0c0c0; text-decoration-color: #c0c0c0; background-color: #008080\"> notes maturing in december </span><span style=\"color: #c0c0c0; text-decoration-color: #c0c0c0; background-color: #008080; font-weight: bold\">2019</span><span style=\"color: #c0c0c0; text-decoration-color: #c0c0c0; background-color: #008080\"> </span><span style=\"color: #c0c0c0; text-decoration-color: #c0c0c0; background-color: #008080; font-weight: bold\">(</span><span style=\"color: #c0c0c0; text-decoration-color: #c0c0c0; background-color: #008080\">the </span>\n",
       "<span style=\"color: #c0c0c0; text-decoration-color: #c0c0c0; background-color: #008080\">201c2019 notes 201d</span><span style=\"color: #c0c0c0; text-decoration-color: #c0c0c0; background-color: #008080; font-weight: bold\">)</span><span style=\"color: #c0c0c0; text-decoration-color: #c0c0c0; background-color: #008080\">.</span>\n",
       "</pre>\n"
      ],
      "text/plain": [
       "chunk: \u001b[1;37;42m2019\u001b[0m\u001b[37;42m notes.\u001b[0m\u001b[37;46min december \u001b[0m\u001b[1;37;46m2009\u001b[0m\u001b[37;46m, the company issued $\u001b[0m\u001b[1;37;46m2.5\u001b[0m\u001b[37;46m billion in aggregate principal amount of unsecured and \u001b[0m\n",
       "\u001b[37;46munsubordinated obligations. these notes were issued as three separate series of senior debt securities including \u001b[0m\n",
       "\u001b[37;46m$\u001b[0m\u001b[1;37;46m0.5\u001b[0m\u001b[37;46m billion of \u001b[0m\u001b[1;37;46m2.25\u001b[0m\u001b[37;46m% \u001b[0m\u001b[1;37;46m(\u001b[0m\u001b[1;37;46m2.25\u001b[0m\u001b[37;46m%\u001b[0m\u001b[1;37;46m)\u001b[0m\u001b[37;46m notes, which were repaid in december \u001b[0m\u001b[1;37;46m2012\u001b[0m\u001b[37;46m, $\u001b[0m\u001b[1;37;46m1.0\u001b[0m\u001b[37;46m billion of \u001b[0m\u001b[1;37;46m3.50\u001b[0m\u001b[37;46m% \u001b[0m\u001b[1;37;46m(\u001b[0m\u001b[1;37;46m3.50\u001b[0m\u001b[37;46m%\u001b[0m\u001b[1;37;46m)\u001b[0m\u001b[37;46m notes, which\u001b[0m\n",
       "\u001b[37;46mwere repaid in december \u001b[0m\u001b[1;37;46m2014\u001b[0m\u001b[37;46m at maturity, and $\u001b[0m\u001b[1;37;46m1.0\u001b[0m\u001b[37;46m billion of \u001b[0m\u001b[1;37;46m5.0\u001b[0m\u001b[37;46m% \u001b[0m\u001b[1;37;46m(\u001b[0m\u001b[1;37;46m5.0\u001b[0m\u001b[37;46m%\u001b[0m\u001b[1;37;46m)\u001b[0m\u001b[37;46m notes maturing in december \u001b[0m\u001b[1;37;46m2019\u001b[0m\u001b[37;46m \u001b[0m\u001b[1;37;46m(\u001b[0m\u001b[37;46mthe \u001b[0m\n",
       "\u001b[37;46m201c2019 notes 201d\u001b[0m\u001b[1;37;46m)\u001b[0m\u001b[37;46m.\u001b[0m\n"
      ]
     },
     "metadata": {},
     "output_type": "display_data"
    },
    {
     "name": "stdin",
     "output_type": "stream",
     "text": [
      "Type 'k' to raise thresh, or 'j' - to lower it, then press 'Enter':  j\n"
     ]
    },
    {
     "data": {
      "text/html": [
       "<pre style=\"white-space:pre;overflow-x:auto;line-height:normal;font-family:Menlo,'DejaVu Sans Mono',consolas,'Courier New',monospace\">dist: <span style=\"color: #008080; text-decoration-color: #008080; font-weight: bold\">0.5501784682273865</span>\n",
       "</pre>\n"
      ],
      "text/plain": [
       "dist: \u001b[1;36m0.5501784682273865\u001b[0m\n"
      ]
     },
     "metadata": {},
     "output_type": "display_data"
    },
    {
     "data": {
      "text/html": [
       "<pre style=\"white-space:pre;overflow-x:auto;line-height:normal;font-family:Menlo,'DejaVu Sans Mono',consolas,'Courier New',monospace\">chunk: <span style=\"color: #c0c0c0; text-decoration-color: #c0c0c0; background-color: #008000\">these costs are allocated using appropriate statistical bases.</span><span style=\"color: #c0c0c0; text-decoration-color: #c0c0c0; background-color: #008080\">total expense for repairs and maintenance </span>\n",
       "<span style=\"color: #c0c0c0; text-decoration-color: #c0c0c0; background-color: #008080\">incurred was $</span><span style=\"color: #c0c0c0; text-decoration-color: #c0c0c0; background-color: #008080; font-weight: bold\">2.4</span><span style=\"color: #c0c0c0; text-decoration-color: #c0c0c0; background-color: #008080\"> billion for </span><span style=\"color: #c0c0c0; text-decoration-color: #c0c0c0; background-color: #008080; font-weight: bold\">2014</span><span style=\"color: #c0c0c0; text-decoration-color: #c0c0c0; background-color: #008080\">, $</span><span style=\"color: #c0c0c0; text-decoration-color: #c0c0c0; background-color: #008080; font-weight: bold\">2.3</span><span style=\"color: #c0c0c0; text-decoration-color: #c0c0c0; background-color: #008080\"> billion for </span><span style=\"color: #c0c0c0; text-decoration-color: #c0c0c0; background-color: #008080; font-weight: bold\">2013</span><span style=\"color: #c0c0c0; text-decoration-color: #c0c0c0; background-color: #008080\">, and $</span><span style=\"color: #c0c0c0; text-decoration-color: #c0c0c0; background-color: #008080; font-weight: bold\">2.1</span><span style=\"color: #c0c0c0; text-decoration-color: #c0c0c0; background-color: #008080\"> billion for </span><span style=\"color: #c0c0c0; text-decoration-color: #c0c0c0; background-color: #008080; font-weight: bold\">2012</span><span style=\"color: #c0c0c0; text-decoration-color: #c0c0c0; background-color: #008080\">. assets held under capital </span>\n",
       "<span style=\"color: #c0c0c0; text-decoration-color: #c0c0c0; background-color: #008080\">leases are recorded at the lower of the net present value of the minimum lease payments or the fair value of the </span>\n",
       "<span style=\"color: #c0c0c0; text-decoration-color: #c0c0c0; background-color: #008080\">leased asset at the inception of the lease.</span>\n",
       "</pre>\n"
      ],
      "text/plain": [
       "chunk: \u001b[37;42mthese costs are allocated using appropriate statistical bases.\u001b[0m\u001b[37;46mtotal expense for repairs and maintenance \u001b[0m\n",
       "\u001b[37;46mincurred was $\u001b[0m\u001b[1;37;46m2.4\u001b[0m\u001b[37;46m billion for \u001b[0m\u001b[1;37;46m2014\u001b[0m\u001b[37;46m, $\u001b[0m\u001b[1;37;46m2.3\u001b[0m\u001b[37;46m billion for \u001b[0m\u001b[1;37;46m2013\u001b[0m\u001b[37;46m, and $\u001b[0m\u001b[1;37;46m2.1\u001b[0m\u001b[37;46m billion for \u001b[0m\u001b[1;37;46m2012\u001b[0m\u001b[37;46m. assets held under capital \u001b[0m\n",
       "\u001b[37;46mleases are recorded at the lower of the net present value of the minimum lease payments or the fair value of the \u001b[0m\n",
       "\u001b[37;46mleased asset at the inception of the lease.\u001b[0m\n"
      ]
     },
     "metadata": {},
     "output_type": "display_data"
    },
    {
     "name": "stdin",
     "output_type": "stream",
     "text": [
      "Type 'k' to raise thresh, or 'j' - to lower it, then press 'Enter':  j\n"
     ]
    },
    {
     "data": {
      "text/html": [
       "<pre style=\"white-space:pre;overflow-x:auto;line-height:normal;font-family:Menlo,'DejaVu Sans Mono',consolas,'Courier New',monospace\">dist: <span style=\"color: #008080; text-decoration-color: #008080; font-weight: bold\">0.5499992966651917</span>\n",
       "</pre>\n"
      ],
      "text/plain": [
       "dist: \u001b[1;36m0.5499992966651917\u001b[0m\n"
      ]
     },
     "metadata": {},
     "output_type": "display_data"
    },
    {
     "data": {
      "text/html": [
       "<pre style=\"white-space:pre;overflow-x:auto;line-height:normal;font-family:Menlo,'DejaVu Sans Mono',consolas,'Courier New',monospace\">chunk: <span style=\"color: #c0c0c0; text-decoration-color: #c0c0c0; background-color: #008000\">and what was it in </span><span style=\"color: #c0c0c0; text-decoration-color: #c0c0c0; background-color: #008000; font-weight: bold\">2006</span><span style=\"color: #c0c0c0; text-decoration-color: #c0c0c0; background-color: #008000\">?</span><span style=\"color: #c0c0c0; text-decoration-color: #c0c0c0; background-color: #008080; font-weight: bold\">403.3</span><span style=\"color: #c0c0c0; text-decoration-color: #c0c0c0; background-color: #008080\"> what was, then, the change over the year?</span>\n",
       "</pre>\n"
      ],
      "text/plain": [
       "chunk: \u001b[37;42mand what was it in \u001b[0m\u001b[1;37;42m2006\u001b[0m\u001b[37;42m?\u001b[0m\u001b[1;37;46m403.3\u001b[0m\u001b[37;46m what was, then, the change over the year?\u001b[0m\n"
      ]
     },
     "metadata": {},
     "output_type": "display_data"
    },
    {
     "data": {
      "text/html": [
       "<pre style=\"white-space:pre;overflow-x:auto;line-height:normal;font-family:Menlo,'DejaVu Sans Mono',consolas,'Courier New',monospace\">Tuning ended, thresh value: <span style=\"color: #008080; text-decoration-color: #008080; font-weight: bold\">0.5499992966651917</span> = <span style=\"color: #008080; text-decoration-color: #008080; font-weight: bold\">0.55</span>\n",
       "</pre>\n"
      ],
      "text/plain": [
       "Tuning ended, thresh value: \u001b[1;36m0.5499992966651917\u001b[0m = \u001b[1;36m0.55\u001b[0m\n"
      ]
     },
     "metadata": {},
     "output_type": "display_data"
    }
   ],
   "source": [
    "splitter = SentenceSplitter(text=datasets['finance'])\n",
    "splits = splitter()\n",
    "res = tuner(splits, depth=3)\n",
    "thresholds.append(res)"
   ]
  },
  {
   "cell_type": "markdown",
   "id": "c12bb8a7-b22d-43ab-9d60-4c25ab4efbfd",
   "metadata": {},
   "source": [
    "**pubmed**"
   ]
  },
  {
   "cell_type": "code",
   "execution_count": 10,
   "id": "a487f568-0ffb-438a-831d-db3f9bfab5f5",
   "metadata": {
    "scrolled": true
   },
   "outputs": [
    {
     "name": "stderr",
     "output_type": "stream",
     "text": [
      "100%|██████████████████████████████████████████████████████████████████████████████████████████████████████████████████████████████| 4458/4458 [04:22<00:00, 16.96it/s]\n"
     ]
    },
    {
     "data": {
      "text/html": [
       "<pre style=\"white-space:pre;overflow-x:auto;line-height:normal;font-family:Menlo,'DejaVu Sans Mono',consolas,'Courier New',monospace\"><span style=\"color: #008080; text-decoration-color: #008080; font-weight: bold\">4432</span> chunks formed\n",
       "</pre>\n"
      ],
      "text/plain": [
       "\u001b[1;36m4432\u001b[0m chunks formed\n"
      ]
     },
     "metadata": {},
     "output_type": "display_data"
    },
    {
     "data": {
      "text/html": [
       "<pre style=\"white-space:pre;overflow-x:auto;line-height:normal;font-family:Menlo,'DejaVu Sans Mono',consolas,'Courier New',monospace\">Values range: <span style=\"font-weight: bold\">[</span><span style=\"color: #008080; text-decoration-color: #008080; font-weight: bold\">-0.1381773203611374</span> <span style=\"color: #808000; text-decoration-color: #808000\">...</span> <span style=\"color: #008080; text-decoration-color: #008080; font-weight: bold\">1.000000238418579</span><span style=\"font-weight: bold\">]</span>\n",
       "</pre>\n"
      ],
      "text/plain": [
       "Values range: \u001b[1m[\u001b[0m\u001b[1;36m-0.1381773203611374\u001b[0m \u001b[33m...\u001b[0m \u001b[1;36m1.000000238418579\u001b[0m\u001b[1m]\u001b[0m\n"
      ]
     },
     "metadata": {},
     "output_type": "display_data"
    },
    {
     "data": {
      "text/html": [
       "<pre style=\"white-space:pre;overflow-x:auto;line-height:normal;font-family:Menlo,'DejaVu Sans Mono',consolas,'Courier New',monospace\">Steps to tune: <span style=\"color: #008080; text-decoration-color: #008080; font-weight: bold\">12</span>\n",
       "</pre>\n"
      ],
      "text/plain": [
       "Steps to tune: \u001b[1;36m12\u001b[0m\n"
      ]
     },
     "metadata": {},
     "output_type": "display_data"
    },
    {
     "data": {
      "text/html": [
       "<pre style=\"white-space:pre;overflow-x:auto;line-height:normal;font-family:Menlo,'DejaVu Sans Mono',consolas,'Courier New',monospace\">--------------------------------\n",
       "</pre>\n"
      ],
      "text/plain": [
       "--------------------------------\n"
      ]
     },
     "metadata": {},
     "output_type": "display_data"
    },
    {
     "data": {
      "text/html": [
       "<pre style=\"white-space:pre;overflow-x:auto;line-height:normal;font-family:Menlo,'DejaVu Sans Mono',consolas,'Courier New',monospace\">dist: <span style=\"color: #008080; text-decoration-color: #008080; font-weight: bold\">0.7687500715255737</span>\n",
       "</pre>\n"
      ],
      "text/plain": [
       "dist: \u001b[1;36m0.7687500715255737\u001b[0m\n"
      ]
     },
     "metadata": {},
     "output_type": "display_data"
    },
    {
     "data": {
      "text/html": [
       "<pre style=\"white-space:pre;overflow-x:auto;line-height:normal;font-family:Menlo,'DejaVu Sans Mono',consolas,'Courier New',monospace\">chunk: <span style=\"color: #c0c0c0; text-decoration-color: #c0c0c0; background-color: #008000\">Deitsch KW  Calderwood MS  Wellems TE   Malaria: Cooperative silencing elements in var  genes Nature </span><span style=\"color: #c0c0c0; text-decoration-color: #c0c0c0; background-color: #008000; font-weight: bold\">2001</span><span style=\"color: #c0c0c0; text-decoration-color: #c0c0c0; background-color: #008000\"> </span>\n",
       "<span style=\"color: #c0c0c0; text-decoration-color: #c0c0c0; background-color: #008000; font-weight: bold\">412</span><span style=\"color: #c0c0c0; text-decoration-color: #c0c0c0; background-color: #008000\"> </span><span style=\"color: #c0c0c0; text-decoration-color: #c0c0c0; background-color: #008000; font-weight: bold\">875</span><span style=\"color: #c0c0c0; text-decoration-color: #c0c0c0; background-color: #008000\"> </span><span style=\"color: #c0c0c0; text-decoration-color: #c0c0c0; background-color: #008000; font-weight: bold\">876</span><span style=\"color: #c0c0c0; text-decoration-color: #c0c0c0; background-color: #008000\"> </span><span style=\"color: #c0c0c0; text-decoration-color: #c0c0c0; background-color: #008080\">Dluzewski AR  Garcia CR   Inhibition of invasion and intraerythrocytic development of Plasmodium </span>\n",
       "<span style=\"color: #c0c0c0; text-decoration-color: #c0c0c0; background-color: #008080\">falciparum  by kinase inhibitors Experientia </span><span style=\"color: #c0c0c0; text-decoration-color: #c0c0c0; background-color: #008080; font-weight: bold\">1996</span><span style=\"color: #c0c0c0; text-decoration-color: #c0c0c0; background-color: #008080\"> </span><span style=\"color: #c0c0c0; text-decoration-color: #c0c0c0; background-color: #008080; font-weight: bold\">52</span><span style=\"color: #c0c0c0; text-decoration-color: #c0c0c0; background-color: #008080\"> </span><span style=\"color: #c0c0c0; text-decoration-color: #c0c0c0; background-color: #008080; font-weight: bold\">621</span><span style=\"color: #c0c0c0; text-decoration-color: #c0c0c0; background-color: #008080\"> </span><span style=\"color: #c0c0c0; text-decoration-color: #c0c0c0; background-color: #008080; font-weight: bold\">623</span><span style=\"color: #c0c0c0; text-decoration-color: #c0c0c0; background-color: #008080\"> </span><span style=\"color: #c0c0c0; text-decoration-color: #c0c0c0; background-color: #008080; font-weight: bold\">8698101</span><span style=\"color: #c0c0c0; text-decoration-color: #c0c0c0; background-color: #008080\">  Eisen MB  Brown PO   DNA arrays for analysis </span>\n",
       "<span style=\"color: #c0c0c0; text-decoration-color: #c0c0c0; background-color: #008080\">of gene expression Methods Enzymol </span><span style=\"color: #c0c0c0; text-decoration-color: #c0c0c0; background-color: #008080; font-weight: bold\">1999</span><span style=\"color: #c0c0c0; text-decoration-color: #c0c0c0; background-color: #008080\"> </span><span style=\"color: #c0c0c0; text-decoration-color: #c0c0c0; background-color: #008080; font-weight: bold\">303</span><span style=\"color: #c0c0c0; text-decoration-color: #c0c0c0; background-color: #008080\"> </span><span style=\"color: #c0c0c0; text-decoration-color: #c0c0c0; background-color: #008080; font-weight: bold\">179</span><span style=\"color: #c0c0c0; text-decoration-color: #c0c0c0; background-color: #008080\"> </span><span style=\"color: #c0c0c0; text-decoration-color: #c0c0c0; background-color: #008080; font-weight: bold\">205</span><span style=\"color: #c0c0c0; text-decoration-color: #c0c0c0; background-color: #008080\"> </span><span style=\"color: #c0c0c0; text-decoration-color: #c0c0c0; background-color: #008080; font-weight: bold\">10349646</span><span style=\"color: #c0c0c0; text-decoration-color: #c0c0c0; background-color: #008080\"> </span>\n",
       "</pre>\n"
      ],
      "text/plain": [
       "chunk: \u001b[37;42mDeitsch KW  Calderwood MS  Wellems TE   Malaria: Cooperative silencing elements in var  genes Nature \u001b[0m\u001b[1;37;42m2001\u001b[0m\u001b[37;42m \u001b[0m\n",
       "\u001b[1;37;42m412\u001b[0m\u001b[37;42m \u001b[0m\u001b[1;37;42m875\u001b[0m\u001b[37;42m \u001b[0m\u001b[1;37;42m876\u001b[0m\u001b[37;42m \u001b[0m\u001b[37;46mDluzewski AR  Garcia CR   Inhibition of invasion and intraerythrocytic development of Plasmodium \u001b[0m\n",
       "\u001b[37;46mfalciparum  by kinase inhibitors Experientia \u001b[0m\u001b[1;37;46m1996\u001b[0m\u001b[37;46m \u001b[0m\u001b[1;37;46m52\u001b[0m\u001b[37;46m \u001b[0m\u001b[1;37;46m621\u001b[0m\u001b[37;46m \u001b[0m\u001b[1;37;46m623\u001b[0m\u001b[37;46m \u001b[0m\u001b[1;37;46m8698101\u001b[0m\u001b[37;46m  Eisen MB  Brown PO   DNA arrays for analysis \u001b[0m\n",
       "\u001b[37;46mof gene expression Methods Enzymol \u001b[0m\u001b[1;37;46m1999\u001b[0m\u001b[37;46m \u001b[0m\u001b[1;37;46m303\u001b[0m\u001b[37;46m \u001b[0m\u001b[1;37;46m179\u001b[0m\u001b[37;46m \u001b[0m\u001b[1;37;46m205\u001b[0m\u001b[37;46m \u001b[0m\u001b[1;37;46m10349646\u001b[0m\u001b[37;46m \u001b[0m\n"
      ]
     },
     "metadata": {},
     "output_type": "display_data"
    },
    {
     "name": "stdin",
     "output_type": "stream",
     "text": [
      "Type 'k' to raise thresh, or 'j' - to lower it, then press 'Enter':  j\n"
     ]
    },
    {
     "data": {
      "text/html": [
       "<pre style=\"white-space:pre;overflow-x:auto;line-height:normal;font-family:Menlo,'DejaVu Sans Mono',consolas,'Courier New',monospace\">dist: <span style=\"color: #008080; text-decoration-color: #008080; font-weight: bold\">0.5565579533576965</span>\n",
       "</pre>\n"
      ],
      "text/plain": [
       "dist: \u001b[1;36m0.5565579533576965\u001b[0m\n"
      ]
     },
     "metadata": {},
     "output_type": "display_data"
    },
    {
     "data": {
      "text/html": [
       "<pre style=\"white-space:pre;overflow-x:auto;line-height:normal;font-family:Menlo,'DejaVu Sans Mono',consolas,'Courier New',monospace\">chunk: <span style=\"color: #c0c0c0; text-decoration-color: #c0c0c0; background-color: #008000\">After washing with ice-cold acetone and air drying, the radioactivity of the pellet was measured in a </span>\n",
       "<span style=\"color: #c0c0c0; text-decoration-color: #c0c0c0; background-color: #008000\">scintillation counter.</span><span style=\"color: #c0c0c0; text-decoration-color: #c0c0c0; background-color: #008080\">To isolate metabolically labeled β-catenin from Xenopus extracts, we used His-tagged APCm3 </span>\n",
       "<span style=\"color: #c0c0c0; text-decoration-color: #c0c0c0; background-color: #008080\">cross-linked to Ultralink beads </span><span style=\"color: #c0c0c0; text-decoration-color: #c0c0c0; background-color: #008080; font-weight: bold\">(</span><span style=\"color: #c0c0c0; text-decoration-color: #c0c0c0; background-color: #008080\">Pierce, Woburn, Massachusetts, United States</span><span style=\"color: #c0c0c0; text-decoration-color: #c0c0c0; background-color: #008080; font-weight: bold\">)</span><span style=\"color: #c0c0c0; text-decoration-color: #c0c0c0; background-color: #008080\">. Since phosphorylated APC has a much</span>\n",
       "<span style=\"color: #c0c0c0; text-decoration-color: #c0c0c0; background-color: #008080\">higher affinity for β-catenin, APCm3 beads were first phosphorylated with </span><span style=\"color: #c0c0c0; text-decoration-color: #c0c0c0; background-color: #008080; font-weight: bold\">300</span><span style=\"color: #c0c0c0; text-decoration-color: #c0c0c0; background-color: #008080\"> nM His-tagged GSK3β in </span><span style=\"color: #c0c0c0; text-decoration-color: #c0c0c0; background-color: #008080; font-weight: bold\">25</span><span style=\"color: #c0c0c0; text-decoration-color: #c0c0c0; background-color: #008080\"> mM HEPES </span>\n",
       "<span style=\"color: #c0c0c0; text-decoration-color: #c0c0c0; background-color: #008080; font-weight: bold\">(</span><span style=\"color: #c0c0c0; text-decoration-color: #c0c0c0; background-color: #008080\">pH </span><span style=\"color: #c0c0c0; text-decoration-color: #c0c0c0; background-color: #008080; font-weight: bold\">7.7</span><span style=\"color: #c0c0c0; text-decoration-color: #c0c0c0; background-color: #008080; font-weight: bold\">)</span><span style=\"color: #c0c0c0; text-decoration-color: #c0c0c0; background-color: #008080\">, </span><span style=\"color: #c0c0c0; text-decoration-color: #c0c0c0; background-color: #008080; font-weight: bold\">1</span><span style=\"color: #c0c0c0; text-decoration-color: #c0c0c0; background-color: #008080\"> mM EDTA, </span><span style=\"color: #c0c0c0; text-decoration-color: #c0c0c0; background-color: #008080; font-weight: bold\">300</span><span style=\"color: #c0c0c0; text-decoration-color: #c0c0c0; background-color: #008080\"> mM NaCl, </span><span style=\"color: #c0c0c0; text-decoration-color: #c0c0c0; background-color: #008080; font-weight: bold\">10</span><span style=\"color: #c0c0c0; text-decoration-color: #c0c0c0; background-color: #008080\"> mM MgCl2, </span><span style=\"color: #c0c0c0; text-decoration-color: #c0c0c0; background-color: #008080; font-weight: bold\">1</span><span style=\"color: #c0c0c0; text-decoration-color: #c0c0c0; background-color: #008080\"> mM DTT, and </span><span style=\"color: #c0c0c0; text-decoration-color: #c0c0c0; background-color: #008080; font-weight: bold\">1</span><span style=\"color: #c0c0c0; text-decoration-color: #c0c0c0; background-color: #008080\"> mM ATP for </span><span style=\"color: #c0c0c0; text-decoration-color: #c0c0c0; background-color: #008080; font-weight: bold\">1</span><span style=\"color: #c0c0c0; text-decoration-color: #c0c0c0; background-color: #008080\"> h at room temperature with shaking.</span>\n",
       "</pre>\n"
      ],
      "text/plain": [
       "chunk: \u001b[37;42mAfter washing with ice-cold acetone and air drying, the radioactivity of the pellet was measured in a \u001b[0m\n",
       "\u001b[37;42mscintillation counter.\u001b[0m\u001b[37;46mTo isolate metabolically labeled β-catenin from Xenopus extracts, we used His-tagged APCm3 \u001b[0m\n",
       "\u001b[37;46mcross-linked to Ultralink beads \u001b[0m\u001b[1;37;46m(\u001b[0m\u001b[37;46mPierce, Woburn, Massachusetts, United States\u001b[0m\u001b[1;37;46m)\u001b[0m\u001b[37;46m. Since phosphorylated APC has a much\u001b[0m\n",
       "\u001b[37;46mhigher affinity for β-catenin, APCm3 beads were first phosphorylated with \u001b[0m\u001b[1;37;46m300\u001b[0m\u001b[37;46m nM His-tagged GSK3β in \u001b[0m\u001b[1;37;46m25\u001b[0m\u001b[37;46m mM HEPES \u001b[0m\n",
       "\u001b[1;37;46m(\u001b[0m\u001b[37;46mpH \u001b[0m\u001b[1;37;46m7.7\u001b[0m\u001b[1;37;46m)\u001b[0m\u001b[37;46m, \u001b[0m\u001b[1;37;46m1\u001b[0m\u001b[37;46m mM EDTA, \u001b[0m\u001b[1;37;46m300\u001b[0m\u001b[37;46m mM NaCl, \u001b[0m\u001b[1;37;46m10\u001b[0m\u001b[37;46m mM MgCl2, \u001b[0m\u001b[1;37;46m1\u001b[0m\u001b[37;46m mM DTT, and \u001b[0m\u001b[1;37;46m1\u001b[0m\u001b[37;46m mM ATP for \u001b[0m\u001b[1;37;46m1\u001b[0m\u001b[37;46m h at room temperature with shaking.\u001b[0m\n"
      ]
     },
     "metadata": {},
     "output_type": "display_data"
    },
    {
     "name": "stdin",
     "output_type": "stream",
     "text": [
      "Type 'k' to raise thresh, or 'j' - to lower it, then press 'Enter':  k\n"
     ]
    },
    {
     "data": {
      "text/html": [
       "<pre style=\"white-space:pre;overflow-x:auto;line-height:normal;font-family:Menlo,'DejaVu Sans Mono',consolas,'Courier New',monospace\">dist: <span style=\"color: #008080; text-decoration-color: #008080; font-weight: bold\">0.6907193064689636</span>\n",
       "</pre>\n"
      ],
      "text/plain": [
       "dist: \u001b[1;36m0.6907193064689636\u001b[0m\n"
      ]
     },
     "metadata": {},
     "output_type": "display_data"
    },
    {
     "data": {
      "text/html": [
       "<pre style=\"white-space:pre;overflow-x:auto;line-height:normal;font-family:Menlo,'DejaVu Sans Mono',consolas,'Courier New',monospace\">chunk: <span style=\"color: #c0c0c0; text-decoration-color: #c0c0c0; background-color: #008000\">Although we assayed primarily for SJ formation, analyses of CJ formation yielded parallel results </span><span style=\"color: #c0c0c0; text-decoration-color: #c0c0c0; background-color: #008000; font-weight: bold\">(</span><span style=\"color: #c0c0c0; text-decoration-color: #c0c0c0; background-color: #008000\">data not </span>\n",
       "<span style=\"color: #c0c0c0; text-decoration-color: #c0c0c0; background-color: #008000\">shown</span><span style=\"color: #c0c0c0; text-decoration-color: #c0c0c0; background-color: #008000; font-weight: bold\">)</span><span style=\"color: #c0c0c0; text-decoration-color: #c0c0c0; background-color: #008000\">.</span><span style=\"color: #c0c0c0; text-decoration-color: #c0c0c0; background-color: #008080\">As a reference, we used a substrate containing the </span><span style=\"color: #c0c0c0; text-decoration-color: #c0c0c0; background-color: #008080; font-weight: bold\">12</span><span style=\"color: #c0c0c0; text-decoration-color: #c0c0c0; background-color: #008080\">-RSS from the TCR Jβ2.</span><span style=\"color: #c0c0c0; text-decoration-color: #c0c0c0; background-color: #008080; font-weight: bold\">2</span><span style=\"color: #c0c0c0; text-decoration-color: #c0c0c0; background-color: #008080\"> gene element </span><span style=\"color: #c0c0c0; text-decoration-color: #c0c0c0; background-color: #008080; font-weight: bold\">(</span><span style=\"color: #c0c0c0; text-decoration-color: #c0c0c0; background-color: #008080\">see Figure </span><span style=\"color: #c0c0c0; text-decoration-color: #c0c0c0; background-color: #008080; font-weight: bold\">1</span><span style=\"color: #c0c0c0; text-decoration-color: #c0c0c0; background-color: #008080; font-weight: bold\">)</span><span style=\"color: #c0c0c0; text-decoration-color: #c0c0c0; background-color: #008080\">, </span>\n",
       "<span style=\"color: #c0c0c0; text-decoration-color: #c0c0c0; background-color: #008080\">which recombines at low but detectable levels, as measured both in our system and during T-lymphocyte development </span>\n",
       "<span style=\"color: #c0c0c0; text-decoration-color: #c0c0c0; background-color: #008080; font-weight: bold\">(</span><span style=\"color: #c0c0c0; text-decoration-color: #c0c0c0; background-color: #008080\">Figure </span><span style=\"color: #c0c0c0; text-decoration-color: #c0c0c0; background-color: #008080; font-weight: bold\">2</span><span style=\"color: #c0c0c0; text-decoration-color: #c0c0c0; background-color: #008080\">, lanes </span><span style=\"color: #c0c0c0; text-decoration-color: #c0c0c0; background-color: #008080; font-weight: bold\">1</span><span style=\"color: #c0c0c0; text-decoration-color: #c0c0c0; background-color: #008080\">–</span><span style=\"color: #c0c0c0; text-decoration-color: #c0c0c0; background-color: #008080; font-weight: bold\">4</span><span style=\"color: #c0c0c0; text-decoration-color: #c0c0c0; background-color: #008080; font-weight: bold\">)</span><span style=\"color: #c0c0c0; text-decoration-color: #c0c0c0; background-color: #008080\"> </span><span style=\"color: #c0c0c0; text-decoration-color: #c0c0c0; background-color: #008080; font-weight: bold\">(</span><span style=\"color: #c0c0c0; text-decoration-color: #c0c0c0; background-color: #008080\">Livàk et al. </span><span style=\"color: #c0c0c0; text-decoration-color: #c0c0c0; background-color: #008080; font-weight: bold\">2000</span><span style=\"color: #c0c0c0; text-decoration-color: #c0c0c0; background-color: #008080; font-weight: bold\">)</span><span style=\"color: #c0c0c0; text-decoration-color: #c0c0c0; background-color: #008080\">.</span>\n",
       "</pre>\n"
      ],
      "text/plain": [
       "chunk: \u001b[37;42mAlthough we assayed primarily for SJ formation, analyses of CJ formation yielded parallel results \u001b[0m\u001b[1;37;42m(\u001b[0m\u001b[37;42mdata not \u001b[0m\n",
       "\u001b[37;42mshown\u001b[0m\u001b[1;37;42m)\u001b[0m\u001b[37;42m.\u001b[0m\u001b[37;46mAs a reference, we used a substrate containing the \u001b[0m\u001b[1;37;46m12\u001b[0m\u001b[37;46m-RSS from the TCR Jβ2.\u001b[0m\u001b[1;37;46m2\u001b[0m\u001b[37;46m gene element \u001b[0m\u001b[1;37;46m(\u001b[0m\u001b[37;46msee Figure \u001b[0m\u001b[1;37;46m1\u001b[0m\u001b[1;37;46m)\u001b[0m\u001b[37;46m, \u001b[0m\n",
       "\u001b[37;46mwhich recombines at low but detectable levels, as measured both in our system and during T-lymphocyte development \u001b[0m\n",
       "\u001b[1;37;46m(\u001b[0m\u001b[37;46mFigure \u001b[0m\u001b[1;37;46m2\u001b[0m\u001b[37;46m, lanes \u001b[0m\u001b[1;37;46m1\u001b[0m\u001b[37;46m–\u001b[0m\u001b[1;37;46m4\u001b[0m\u001b[1;37;46m)\u001b[0m\u001b[37;46m \u001b[0m\u001b[1;37;46m(\u001b[0m\u001b[37;46mLivàk et al. \u001b[0m\u001b[1;37;46m2000\u001b[0m\u001b[1;37;46m)\u001b[0m\u001b[37;46m.\u001b[0m\n"
      ]
     },
     "metadata": {},
     "output_type": "display_data"
    },
    {
     "name": "stdin",
     "output_type": "stream",
     "text": [
      "Type 'k' to raise thresh, or 'j' - to lower it, then press 'Enter':  j\n"
     ]
    },
    {
     "data": {
      "text/html": [
       "<pre style=\"white-space:pre;overflow-x:auto;line-height:normal;font-family:Menlo,'DejaVu Sans Mono',consolas,'Courier New',monospace\">dist: <span style=\"color: #008080; text-decoration-color: #008080; font-weight: bold\">0.628588080406189</span>\n",
       "</pre>\n"
      ],
      "text/plain": [
       "dist: \u001b[1;36m0.628588080406189\u001b[0m\n"
      ]
     },
     "metadata": {},
     "output_type": "display_data"
    },
    {
     "data": {
      "text/html": [
       "<pre style=\"white-space:pre;overflow-x:auto;line-height:normal;font-family:Menlo,'DejaVu Sans Mono',consolas,'Courier New',monospace\">chunk: <span style=\"color: #c0c0c0; text-decoration-color: #c0c0c0; background-color: #008000\">Correlation with a Computational Model for RSS Function</span><span style=\"color: #c0c0c0; text-decoration-color: #c0c0c0; background-color: #008080\">The observation that an RSS spacer can act in concert</span>\n",
       "<span style=\"color: #c0c0c0; text-decoration-color: #c0c0c0; background-color: #008080\">with the noncritical residues of the heptamer and nonamer to drastically modulate RSS activity suggests the need </span>\n",
       "<span style=\"color: #c0c0c0; text-decoration-color: #c0c0c0; background-color: #008080\">for models of RSS function that take into account complex functional relationships among the different nucleotides.</span>\n",
       "<span style=\"color: #c0c0c0; text-decoration-color: #c0c0c0; background-color: #008080\">A predictive algorithm for quantitatively assessing the potential of a given DNA sequence to undergo </span><span style=\"color: #c0c0c0; text-decoration-color: #c0c0c0; background-color: #008080; font-weight: bold\">V(</span><span style=\"color: #c0c0c0; text-decoration-color: #c0c0c0; background-color: #008080\">D</span><span style=\"color: #c0c0c0; text-decoration-color: #c0c0c0; background-color: #008080; font-weight: bold\">)</span><span style=\"color: #c0c0c0; text-decoration-color: #c0c0c0; background-color: #008080\">J </span>\n",
       "<span style=\"color: #c0c0c0; text-decoration-color: #c0c0c0; background-color: #008080\">recombination has recently been developed </span><span style=\"color: #c0c0c0; text-decoration-color: #c0c0c0; background-color: #008080; font-weight: bold\">(</span><span style=\"color: #c0c0c0; text-decoration-color: #c0c0c0; background-color: #008080\">Cowell et al.</span>\n",
       "</pre>\n"
      ],
      "text/plain": [
       "chunk: \u001b[37;42mCorrelation with a Computational Model for RSS Function\u001b[0m\u001b[37;46mThe observation that an RSS spacer can act in concert\u001b[0m\n",
       "\u001b[37;46mwith the noncritical residues of the heptamer and nonamer to drastically modulate RSS activity suggests the need \u001b[0m\n",
       "\u001b[37;46mfor models of RSS function that take into account complex functional relationships among the different nucleotides.\u001b[0m\n",
       "\u001b[37;46mA predictive algorithm for quantitatively assessing the potential of a given DNA sequence to undergo \u001b[0m\u001b[1;37;46mV\u001b[0m\u001b[1;37;46m(\u001b[0m\u001b[37;46mD\u001b[0m\u001b[1;37;46m)\u001b[0m\u001b[37;46mJ \u001b[0m\n",
       "\u001b[37;46mrecombination has recently been developed \u001b[0m\u001b[1;37;46m(\u001b[0m\u001b[37;46mCowell et al.\u001b[0m\n"
      ]
     },
     "metadata": {},
     "output_type": "display_data"
    },
    {
     "name": "stdin",
     "output_type": "stream",
     "text": [
      "Type 'k' to raise thresh, or 'j' - to lower it, then press 'Enter':  j\n"
     ]
    },
    {
     "data": {
      "text/html": [
       "<pre style=\"white-space:pre;overflow-x:auto;line-height:normal;font-family:Menlo,'DejaVu Sans Mono',consolas,'Courier New',monospace\">dist: <span style=\"color: #008080; text-decoration-color: #008080; font-weight: bold\">0.5950369834899902</span>\n",
       "</pre>\n"
      ],
      "text/plain": [
       "dist: \u001b[1;36m0.5950369834899902\u001b[0m\n"
      ]
     },
     "metadata": {},
     "output_type": "display_data"
    },
    {
     "data": {
      "text/html": [
       "<pre style=\"white-space:pre;overflow-x:auto;line-height:normal;font-family:Menlo,'DejaVu Sans Mono',consolas,'Courier New',monospace\">chunk: <span style=\"color: #c0c0c0; text-decoration-color: #c0c0c0; background-color: #008000\">The differences between the “core pacemaker” and the clock machinery within damping cells or systems are </span>\n",
       "<span style=\"color: #c0c0c0; text-decoration-color: #c0c0c0; background-color: #008000\">unknown.</span><span style=\"color: #c0c0c0; text-decoration-color: #c0c0c0; background-color: #008080\">The six clusters of approximately </span><span style=\"color: #c0c0c0; text-decoration-color: #c0c0c0; background-color: #008080; font-weight: bold\">100</span><span style=\"color: #c0c0c0; text-decoration-color: #c0c0c0; background-color: #008080\"> clock neurons in the adult Drosophila brain are well characterized </span>\n",
       "<span style=\"color: #c0c0c0; text-decoration-color: #c0c0c0; background-color: #008080; font-weight: bold\">(</span><span style=\"color: #c0c0c0; text-decoration-color: #c0c0c0; background-color: #008080\">Kaneko and Hall </span><span style=\"color: #c0c0c0; text-decoration-color: #c0c0c0; background-color: #008080; font-weight: bold\">2000</span><span style=\"color: #c0c0c0; text-decoration-color: #c0c0c0; background-color: #008080; font-weight: bold\">)</span><span style=\"color: #c0c0c0; text-decoration-color: #c0c0c0; background-color: #008080\">. Recent studies have focused principally on one of these groups, the small ventral lateral </span>\n",
       "<span style=\"color: #c0c0c0; text-decoration-color: #c0c0c0; background-color: #008080\">neurons </span><span style=\"color: #c0c0c0; text-decoration-color: #c0c0c0; background-color: #008080; font-weight: bold\">(</span><span style=\"color: #c0c0c0; text-decoration-color: #c0c0c0; background-color: #008080\">s-LNvs</span><span style=\"color: #c0c0c0; text-decoration-color: #c0c0c0; background-color: #008080; font-weight: bold\">)</span><span style=\"color: #c0c0c0; text-decoration-color: #c0c0c0; background-color: #008080\">, as the best “core pacemaker” candidate for the following reasons: </span><span style=\"color: #c0c0c0; text-decoration-color: #c0c0c0; background-color: #008080; font-weight: bold\">(</span><span style=\"color: #c0c0c0; text-decoration-color: #c0c0c0; background-color: #008080; font-weight: bold\">1</span><span style=\"color: #c0c0c0; text-decoration-color: #c0c0c0; background-color: #008080; font-weight: bold\">)</span><span style=\"color: #c0c0c0; text-decoration-color: #c0c0c0; background-color: #008080\"> in the developmental mutant</span>\n",
       "<span style=\"color: #c0c0c0; text-decoration-color: #c0c0c0; background-color: #008080\">disco, the presence of LNvs correlates with the maintenance of behavior rhythmicity </span><span style=\"color: #c0c0c0; text-decoration-color: #c0c0c0; background-color: #008080; font-weight: bold\">(</span><span style=\"color: #c0c0c0; text-decoration-color: #c0c0c0; background-color: #008080\">Helfrich-Förster </span><span style=\"color: #c0c0c0; text-decoration-color: #c0c0c0; background-color: #008080; font-weight: bold\">1997</span><span style=\"color: #c0c0c0; text-decoration-color: #c0c0c0; background-color: #008080; font-weight: bold\">)</span><span style=\"color: #c0c0c0; text-decoration-color: #c0c0c0; background-color: #008080\">; </span><span style=\"color: #c0c0c0; text-decoration-color: #c0c0c0; background-color: #008080; font-weight: bold\">(</span><span style=\"color: #c0c0c0; text-decoration-color: #c0c0c0; background-color: #008080; font-weight: bold\">2</span><span style=\"color: #c0c0c0; text-decoration-color: #c0c0c0; background-color: #008080; font-weight: bold\">)</span><span style=\"color: #c0c0c0; text-decoration-color: #c0c0c0; background-color: #008080\"> </span>\n",
       "<span style=\"color: #c0c0c0; text-decoration-color: #c0c0c0; background-color: #008080\">LNvs specifically express the neuropeptide pigment-dispersing factor </span><span style=\"color: #c0c0c0; text-decoration-color: #c0c0c0; background-color: #008080; font-weight: bold\">(</span><span style=\"color: #c0c0c0; text-decoration-color: #c0c0c0; background-color: #008080\">PDF</span><span style=\"color: #c0c0c0; text-decoration-color: #c0c0c0; background-color: #008080; font-weight: bold\">)</span><span style=\"color: #c0c0c0; text-decoration-color: #c0c0c0; background-color: #008080\">, and the Pdf01-null mutant loses </span>\n",
       "<span style=\"color: #c0c0c0; text-decoration-color: #c0c0c0; background-color: #008080\">behavioral rhythmicity under DD conditions </span><span style=\"color: #c0c0c0; text-decoration-color: #c0c0c0; background-color: #008080; font-weight: bold\">(</span><span style=\"color: #c0c0c0; text-decoration-color: #c0c0c0; background-color: #008080\">Renn et al.</span>\n",
       "</pre>\n"
      ],
      "text/plain": [
       "chunk: \u001b[37;42mThe differences between the “core pacemaker” and the clock machinery within damping cells or systems are \u001b[0m\n",
       "\u001b[37;42munknown.\u001b[0m\u001b[37;46mThe six clusters of approximately \u001b[0m\u001b[1;37;46m100\u001b[0m\u001b[37;46m clock neurons in the adult Drosophila brain are well characterized \u001b[0m\n",
       "\u001b[1;37;46m(\u001b[0m\u001b[37;46mKaneko and Hall \u001b[0m\u001b[1;37;46m2000\u001b[0m\u001b[1;37;46m)\u001b[0m\u001b[37;46m. Recent studies have focused principally on one of these groups, the small ventral lateral \u001b[0m\n",
       "\u001b[37;46mneurons \u001b[0m\u001b[1;37;46m(\u001b[0m\u001b[37;46ms-LNvs\u001b[0m\u001b[1;37;46m)\u001b[0m\u001b[37;46m, as the best “core pacemaker” candidate for the following reasons: \u001b[0m\u001b[1;37;46m(\u001b[0m\u001b[1;37;46m1\u001b[0m\u001b[1;37;46m)\u001b[0m\u001b[37;46m in the developmental mutant\u001b[0m\n",
       "\u001b[37;46mdisco, the presence of LNvs correlates with the maintenance of behavior rhythmicity \u001b[0m\u001b[1;37;46m(\u001b[0m\u001b[37;46mHelfrich-Förster \u001b[0m\u001b[1;37;46m1997\u001b[0m\u001b[1;37;46m)\u001b[0m\u001b[37;46m; \u001b[0m\u001b[1;37;46m(\u001b[0m\u001b[1;37;46m2\u001b[0m\u001b[1;37;46m)\u001b[0m\u001b[37;46m \u001b[0m\n",
       "\u001b[37;46mLNvs specifically express the neuropeptide pigment-dispersing factor \u001b[0m\u001b[1;37;46m(\u001b[0m\u001b[37;46mPDF\u001b[0m\u001b[1;37;46m)\u001b[0m\u001b[37;46m, and the Pdf01-null mutant loses \u001b[0m\n",
       "\u001b[37;46mbehavioral rhythmicity under DD conditions \u001b[0m\u001b[1;37;46m(\u001b[0m\u001b[37;46mRenn et al.\u001b[0m\n"
      ]
     },
     "metadata": {},
     "output_type": "display_data"
    },
    {
     "name": "stdin",
     "output_type": "stream",
     "text": [
      "Type 'k' to raise thresh, or 'j' - to lower it, then press 'Enter':  k\n"
     ]
    },
    {
     "data": {
      "text/html": [
       "<pre style=\"white-space:pre;overflow-x:auto;line-height:normal;font-family:Menlo,'DejaVu Sans Mono',consolas,'Courier New',monospace\">dist: <span style=\"color: #008080; text-decoration-color: #008080; font-weight: bold\">0.6092288494110107</span>\n",
       "</pre>\n"
      ],
      "text/plain": [
       "dist: \u001b[1;36m0.6092288494110107\u001b[0m\n"
      ]
     },
     "metadata": {},
     "output_type": "display_data"
    },
    {
     "data": {
      "text/html": [
       "<pre style=\"white-space:pre;overflow-x:auto;line-height:normal;font-family:Menlo,'DejaVu Sans Mono',consolas,'Courier New',monospace\">chunk: <span style=\"color: #c0c0c0; text-decoration-color: #c0c0c0; background-color: #008000\">Binding and cleavage reactions were performed as reported previously </span><span style=\"color: #c0c0c0; text-decoration-color: #c0c0c0; background-color: #008000; font-weight: bold\">(</span><span style=\"color: #c0c0c0; text-decoration-color: #c0c0c0; background-color: #008000\">Fugmann et al.</span><span style=\"color: #c0c0c0; text-decoration-color: #c0c0c0; background-color: #008080\">2000b</span><span style=\"color: #c0c0c0; text-decoration-color: #c0c0c0; background-color: #008080; font-weight: bold\">)</span><span style=\"color: #c0c0c0; text-decoration-color: #c0c0c0; background-color: #008080\">, and gels were </span>\n",
       "<span style=\"color: #c0c0c0; text-decoration-color: #c0c0c0; background-color: #008080\">quantified using a Storm </span><span style=\"color: #c0c0c0; text-decoration-color: #c0c0c0; background-color: #008080; font-weight: bold\">820</span><span style=\"color: #c0c0c0; text-decoration-color: #c0c0c0; background-color: #008080\"> PhosphorImager and ImageQuant software </span><span style=\"color: #c0c0c0; text-decoration-color: #c0c0c0; background-color: #008080; font-weight: bold\">(</span><span style=\"color: #c0c0c0; text-decoration-color: #c0c0c0; background-color: #008080\">Molecular Dynamics</span><span style=\"color: #c0c0c0; text-decoration-color: #c0c0c0; background-color: #008080; font-weight: bold\">)</span><span style=\"color: #c0c0c0; text-decoration-color: #c0c0c0; background-color: #008080\">. RIC score calculation and</span>\n",
       "<span style=\"color: #c0c0c0; text-decoration-color: #c0c0c0; background-color: #008080\">other computational analysis.</span>\n",
       "</pre>\n"
      ],
      "text/plain": [
       "chunk: \u001b[37;42mBinding and cleavage reactions were performed as reported previously \u001b[0m\u001b[1;37;42m(\u001b[0m\u001b[37;42mFugmann et al.\u001b[0m\u001b[37;46m2000b\u001b[0m\u001b[1;37;46m)\u001b[0m\u001b[37;46m, and gels were \u001b[0m\n",
       "\u001b[37;46mquantified using a Storm \u001b[0m\u001b[1;37;46m820\u001b[0m\u001b[37;46m PhosphorImager and ImageQuant software \u001b[0m\u001b[1;37;46m(\u001b[0m\u001b[37;46mMolecular Dynamics\u001b[0m\u001b[1;37;46m)\u001b[0m\u001b[37;46m. RIC score calculation and\u001b[0m\n",
       "\u001b[37;46mother computational analysis.\u001b[0m\n"
      ]
     },
     "metadata": {},
     "output_type": "display_data"
    },
    {
     "name": "stdin",
     "output_type": "stream",
     "text": [
      "Type 'k' to raise thresh, or 'j' - to lower it, then press 'Enter':  j\n"
     ]
    },
    {
     "data": {
      "text/html": [
       "<pre style=\"white-space:pre;overflow-x:auto;line-height:normal;font-family:Menlo,'DejaVu Sans Mono',consolas,'Courier New',monospace\">dist: <span style=\"color: #008080; text-decoration-color: #008080; font-weight: bold\">0.6032359600067139</span>\n",
       "</pre>\n"
      ],
      "text/plain": [
       "dist: \u001b[1;36m0.6032359600067139\u001b[0m\n"
      ]
     },
     "metadata": {},
     "output_type": "display_data"
    },
    {
     "data": {
      "text/html": [
       "<pre style=\"white-space:pre;overflow-x:auto;line-height:normal;font-family:Menlo,'DejaVu Sans Mono',consolas,'Courier New',monospace\">chunk: <span style=\"color: #c0c0c0; text-decoration-color: #c0c0c0; background-color: #008000; font-weight: bold\">2002</span><span style=\"color: #c0c0c0; text-decoration-color: #c0c0c0; background-color: #008000; font-weight: bold\">)</span><span style=\"color: #c0c0c0; text-decoration-color: #c0c0c0; background-color: #008000\">, accelerated sequence evolution, and shifts in base composition </span><span style=\"color: #c0c0c0; text-decoration-color: #c0c0c0; background-color: #008000; font-weight: bold\">(</span><span style=\"color: #c0c0c0; text-decoration-color: #c0c0c0; background-color: #008000\">Moran </span><span style=\"color: #c0c0c0; text-decoration-color: #c0c0c0; background-color: #008000; font-weight: bold\">1996</span><span style=\"color: #c0c0c0; text-decoration-color: #c0c0c0; background-color: #008000; font-weight: bold\">)</span><span style=\"color: #c0c0c0; text-decoration-color: #c0c0c0; background-color: #008000\">.</span><span style=\"color: #c0c0c0; text-decoration-color: #c0c0c0; background-color: #008080\">These features create </span>\n",
       "<span style=\"color: #c0c0c0; text-decoration-color: #c0c0c0; background-color: #008080\">phylogenetic artifacts and make the use of additional data from genome sequences particularly desirable. Here we </span>\n",
       "<span style=\"color: #c0c0c0; text-decoration-color: #c0c0c0; background-color: #008080\">aim to use complete genome sequences to reconstruct the organismal phylogeny for the γ-Proteobacteria by first </span>\n",
       "<span style=\"color: #c0c0c0; text-decoration-color: #c0c0c0; background-color: #008080\">selecting a set of probable ortholog families and then determining whether most agree on a common topology.</span>\n",
       "</pre>\n"
      ],
      "text/plain": [
       "chunk: \u001b[1;37;42m2002\u001b[0m\u001b[1;37;42m)\u001b[0m\u001b[37;42m, accelerated sequence evolution, and shifts in base composition \u001b[0m\u001b[1;37;42m(\u001b[0m\u001b[37;42mMoran \u001b[0m\u001b[1;37;42m1996\u001b[0m\u001b[1;37;42m)\u001b[0m\u001b[37;42m.\u001b[0m\u001b[37;46mThese features create \u001b[0m\n",
       "\u001b[37;46mphylogenetic artifacts and make the use of additional data from genome sequences particularly desirable. Here we \u001b[0m\n",
       "\u001b[37;46maim to use complete genome sequences to reconstruct the organismal phylogeny for the γ-Proteobacteria by first \u001b[0m\n",
       "\u001b[37;46mselecting a set of probable ortholog families and then determining whether most agree on a common topology.\u001b[0m\n"
      ]
     },
     "metadata": {},
     "output_type": "display_data"
    },
    {
     "name": "stdin",
     "output_type": "stream",
     "text": [
      "Type 'k' to raise thresh, or 'j' - to lower it, then press 'Enter':  j\n"
     ]
    },
    {
     "data": {
      "text/html": [
       "<pre style=\"white-space:pre;overflow-x:auto;line-height:normal;font-family:Menlo,'DejaVu Sans Mono',consolas,'Courier New',monospace\">dist: <span style=\"color: #008080; text-decoration-color: #008080; font-weight: bold\">0.5998282432556152</span>\n",
       "</pre>\n"
      ],
      "text/plain": [
       "dist: \u001b[1;36m0.5998282432556152\u001b[0m\n"
      ]
     },
     "metadata": {},
     "output_type": "display_data"
    },
    {
     "data": {
      "text/html": [
       "<pre style=\"white-space:pre;overflow-x:auto;line-height:normal;font-family:Menlo,'DejaVu Sans Mono',consolas,'Courier New',monospace\">chunk: <span style=\"color: #c0c0c0; text-decoration-color: #c0c0c0; background-color: #008000; font-weight: bold\">16</span><span style=\"color: #c0c0c0; text-decoration-color: #c0c0c0; background-color: #008000\"> and k</span><span style=\"color: #c0c0c0; text-decoration-color: #c0c0c0; background-color: #008080\">17</span><span style=\"color: #c0c0c0; text-decoration-color: #c0c0c0; background-color: #008080; font-weight: bold\">)</span><span style=\"color: #c0c0c0; text-decoration-color: #c0c0c0; background-color: #008080\">, and the corresponding dissociation processes </span><span style=\"color: #c0c0c0; text-decoration-color: #c0c0c0; background-color: #008080; font-weight: bold\">(</span><span style=\"color: #c0c0c0; text-decoration-color: #c0c0c0; background-color: #008080\">k− </span><span style=\"color: #c0c0c0; text-decoration-color: #c0c0c0; background-color: #008080; font-weight: bold\">16</span><span style=\"color: #c0c0c0; text-decoration-color: #c0c0c0; background-color: #008080\"> and k−</span>\n",
       "</pre>\n"
      ],
      "text/plain": [
       "chunk: \u001b[1;37;42m16\u001b[0m\u001b[37;42m and k\u001b[0m\u001b[37;46m17\u001b[0m\u001b[1;37;46m)\u001b[0m\u001b[37;46m, and the corresponding dissociation processes \u001b[0m\u001b[1;37;46m(\u001b[0m\u001b[37;46mk− \u001b[0m\u001b[1;37;46m16\u001b[0m\u001b[37;46m and k−\u001b[0m\n"
      ]
     },
     "metadata": {},
     "output_type": "display_data"
    },
    {
     "name": "stdin",
     "output_type": "stream",
     "text": [
      "Type 'k' to raise thresh, or 'j' - to lower it, then press 'Enter':  j\n"
     ]
    },
    {
     "data": {
      "text/html": [
       "<pre style=\"white-space:pre;overflow-x:auto;line-height:normal;font-family:Menlo,'DejaVu Sans Mono',consolas,'Courier New',monospace\">dist: <span style=\"color: #008080; text-decoration-color: #008080; font-weight: bold\">0.5972679853439331</span>\n",
       "</pre>\n"
      ],
      "text/plain": [
       "dist: \u001b[1;36m0.5972679853439331\u001b[0m\n"
      ]
     },
     "metadata": {},
     "output_type": "display_data"
    },
    {
     "data": {
      "text/html": [
       "<pre style=\"white-space:pre;overflow-x:auto;line-height:normal;font-family:Menlo,'DejaVu Sans Mono',consolas,'Courier New',monospace\">chunk: <span style=\"color: #c0c0c0; text-decoration-color: #c0c0c0; background-color: #008000\">  Symbols with the superscript </span><span style=\"color: #c0c0c0; text-decoration-color: #c0c0c0; background-color: #008000\">\"0\"</span><span style=\"color: #c0c0c0; text-decoration-color: #c0c0c0; background-color: #008000\"> denote total concentrations.</span><span style=\"color: #c0c0c0; text-decoration-color: #c0c0c0; background-color: #008080\">Since the concentration of axin is very low </span>\n",
       "<span style=\"color: #c0c0c0; text-decoration-color: #c0c0c0; background-color: #008080; font-weight: bold\">(</span><span style=\"color: #c0c0c0; text-decoration-color: #c0c0c0; background-color: #008080\">see below</span><span style=\"color: #c0c0c0; text-decoration-color: #c0c0c0; background-color: #008080; font-weight: bold\">)</span><span style=\"color: #c0c0c0; text-decoration-color: #c0c0c0; background-color: #008080\"> compared to the concentration of GSK3β, we replaced Equation </span><span style=\"color: #c0c0c0; text-decoration-color: #c0c0c0; background-color: #008080; font-weight: bold\">(</span><span style=\"color: #c0c0c0; text-decoration-color: #c0c0c0; background-color: #008080; font-weight: bold\">3</span><span style=\"color: #c0c0c0; text-decoration-color: #c0c0c0; background-color: #008080; font-weight: bold\">)</span><span style=\"color: #c0c0c0; text-decoration-color: #c0c0c0; background-color: #008080\"> with the simple relationship GSK3β </span><span style=\"color: #c0c0c0; text-decoration-color: #c0c0c0; background-color: #008080; font-weight: bold\">0</span><span style=\"color: #c0c0c0; text-decoration-color: #c0c0c0; background-color: #008080\"> =</span>\n",
       "<span style=\"color: #c0c0c0; text-decoration-color: #c0c0c0; background-color: #008080\">GSK3β.</span>\n",
       "</pre>\n"
      ],
      "text/plain": [
       "chunk: \u001b[37;42m  Symbols with the superscript \u001b[0m\u001b[37;42m\"0\"\u001b[0m\u001b[37;42m denote total concentrations.\u001b[0m\u001b[37;46mSince the concentration of axin is very low \u001b[0m\n",
       "\u001b[1;37;46m(\u001b[0m\u001b[37;46msee below\u001b[0m\u001b[1;37;46m)\u001b[0m\u001b[37;46m compared to the concentration of GSK3β, we replaced Equation \u001b[0m\u001b[1;37;46m(\u001b[0m\u001b[1;37;46m3\u001b[0m\u001b[1;37;46m)\u001b[0m\u001b[37;46m with the simple relationship GSK3β \u001b[0m\u001b[1;37;46m0\u001b[0m\u001b[37;46m =\u001b[0m\n",
       "\u001b[37;46mGSK3β.\u001b[0m\n"
      ]
     },
     "metadata": {},
     "output_type": "display_data"
    },
    {
     "name": "stdin",
     "output_type": "stream",
     "text": [
      "Type 'k' to raise thresh, or 'j' - to lower it, then press 'Enter':  j\n"
     ]
    },
    {
     "data": {
      "text/html": [
       "<pre style=\"white-space:pre;overflow-x:auto;line-height:normal;font-family:Menlo,'DejaVu Sans Mono',consolas,'Courier New',monospace\">dist: <span style=\"color: #008080; text-decoration-color: #008080; font-weight: bold\">0.5963754653930664</span>\n",
       "</pre>\n"
      ],
      "text/plain": [
       "dist: \u001b[1;36m0.5963754653930664\u001b[0m\n"
      ]
     },
     "metadata": {},
     "output_type": "display_data"
    },
    {
     "data": {
      "text/html": [
       "<pre style=\"white-space:pre;overflow-x:auto;line-height:normal;font-family:Menlo,'DejaVu Sans Mono',consolas,'Courier New',monospace\">chunk: <span style=\"color: #c0c0c0; text-decoration-color: #c0c0c0; background-color: #008000\">The phenotypes that were scored are described in the Materials and Methods section</span><span style=\"color: #c0c0c0; text-decoration-color: #c0c0c0; background-color: #008080\">a  dpy-</span><span style=\"color: #c0c0c0; text-decoration-color: #c0c0c0; background-color: #008080; font-weight: bold\">6(</span><span style=\"color: #c0c0c0; text-decoration-color: #c0c0c0; background-color: #008080\">e2762</span><span style=\"color: #c0c0c0; text-decoration-color: #c0c0c0; background-color: #008080; font-weight: bold\">)</span><span style=\"color: #c0c0c0; text-decoration-color: #c0c0c0; background-color: #008080\"> has a </span>\n",
       "<span style=\"color: #c0c0c0; text-decoration-color: #c0c0c0; background-color: #008080\">deletion that removes the first six amino acid residues </span><span style=\"color: #c0c0c0; text-decoration-color: #c0c0c0; background-color: #008080; font-weight: bold\">(</span><span style=\"color: #c0c0c0; text-decoration-color: #c0c0c0; background-color: #008080\">aa</span><span style=\"color: #c0c0c0; text-decoration-color: #c0c0c0; background-color: #008080; font-weight: bold\">)</span><span style=\"color: #c0c0c0; text-decoration-color: #c0c0c0; background-color: #008080\"> of the eighth exon and part of the seventh intron</span>\n",
       "</pre>\n"
      ],
      "text/plain": [
       "chunk: \u001b[37;42mThe phenotypes that were scored are described in the Materials and Methods section\u001b[0m\u001b[37;46ma  dpy-\u001b[0m\u001b[1;37;46m6\u001b[0m\u001b[1;37;46m(\u001b[0m\u001b[37;46me2762\u001b[0m\u001b[1;37;46m)\u001b[0m\u001b[37;46m has a \u001b[0m\n",
       "\u001b[37;46mdeletion that removes the first six amino acid residues \u001b[0m\u001b[1;37;46m(\u001b[0m\u001b[37;46maa\u001b[0m\u001b[1;37;46m)\u001b[0m\u001b[37;46m of the eighth exon and part of the seventh intron\u001b[0m\n"
      ]
     },
     "metadata": {},
     "output_type": "display_data"
    },
    {
     "name": "stdin",
     "output_type": "stream",
     "text": [
      "Type 'k' to raise thresh, or 'j' - to lower it, then press 'Enter':  \n"
     ]
    },
    {
     "data": {
      "text/html": [
       "<pre style=\"white-space:pre;overflow-x:auto;line-height:normal;font-family:Menlo,'DejaVu Sans Mono',consolas,'Courier New',monospace\">Invalid input, please type <span style=\"color: #008000; text-decoration-color: #008000\">'k'</span> or <span style=\"color: #008000; text-decoration-color: #008000\">'j'</span>\n",
       "</pre>\n"
      ],
      "text/plain": [
       "Invalid input, please type \u001b[32m'k'\u001b[0m or \u001b[32m'j'\u001b[0m\n"
      ]
     },
     "metadata": {},
     "output_type": "display_data"
    },
    {
     "data": {
      "text/html": [
       "<pre style=\"white-space:pre;overflow-x:auto;line-height:normal;font-family:Menlo,'DejaVu Sans Mono',consolas,'Courier New',monospace\">================================================================\n",
       "</pre>\n"
      ],
      "text/plain": [
       "================================================================\n"
      ]
     },
     "metadata": {},
     "output_type": "display_data"
    },
    {
     "name": "stdin",
     "output_type": "stream",
     "text": [
      "Type 'k' to raise thresh, or 'j' - to lower it, then press 'Enter':  j\n"
     ]
    },
    {
     "data": {
      "text/html": [
       "<pre style=\"white-space:pre;overflow-x:auto;line-height:normal;font-family:Menlo,'DejaVu Sans Mono',consolas,'Courier New',monospace\">dist: <span style=\"color: #008080; text-decoration-color: #008080; font-weight: bold\">0.5953007936477661</span>\n",
       "</pre>\n"
      ],
      "text/plain": [
       "dist: \u001b[1;36m0.5953007936477661\u001b[0m\n"
      ]
     },
     "metadata": {},
     "output_type": "display_data"
    },
    {
     "data": {
      "text/html": [
       "<pre style=\"white-space:pre;overflow-x:auto;line-height:normal;font-family:Menlo,'DejaVu Sans Mono',consolas,'Courier New',monospace\">chunk: <span style=\"color: #c0c0c0; text-decoration-color: #c0c0c0; background-color: #008000\">Some of these processes follow the posterior optic track to the opposite side of the brain.</span><span style=\"color: #c0c0c0; text-decoration-color: #c0c0c0; background-color: #008080\">Taken together </span>\n",
       "<span style=\"color: #c0c0c0; text-decoration-color: #c0c0c0; background-color: #008080\">with the LNv peptide staining, it is likely that PDF from the l-LNvs signals contralaterally and positively </span>\n",
       "<span style=\"color: #c0c0c0; text-decoration-color: #c0c0c0; background-color: #008080\">influences clock cells on the opposite side of the brain. A very recent study of the Drosophila prothoracic gland </span>\n",
       "<span style=\"color: #c0c0c0; text-decoration-color: #c0c0c0; background-color: #008080; font-weight: bold\">(</span><span style=\"color: #c0c0c0; text-decoration-color: #c0c0c0; background-color: #008080\">PG</span><span style=\"color: #c0c0c0; text-decoration-color: #c0c0c0; background-color: #008080; font-weight: bold\">)</span><span style=\"color: #c0c0c0; text-decoration-color: #c0c0c0; background-color: #008080\"> clock and eclosion rhythms suggests that the LNvs also control the PG clock via PDF signaling </span><span style=\"color: #c0c0c0; text-decoration-color: #c0c0c0; background-color: #008080; font-weight: bold\">(</span><span style=\"color: #c0c0c0; text-decoration-color: #c0c0c0; background-color: #008080\">Myers et al.</span>\n",
       "</pre>\n"
      ],
      "text/plain": [
       "chunk: \u001b[37;42mSome of these processes follow the posterior optic track to the opposite side of the brain.\u001b[0m\u001b[37;46mTaken together \u001b[0m\n",
       "\u001b[37;46mwith the LNv peptide staining, it is likely that PDF from the l-LNvs signals contralaterally and positively \u001b[0m\n",
       "\u001b[37;46minfluences clock cells on the opposite side of the brain. A very recent study of the Drosophila prothoracic gland \u001b[0m\n",
       "\u001b[1;37;46m(\u001b[0m\u001b[37;46mPG\u001b[0m\u001b[1;37;46m)\u001b[0m\u001b[37;46m clock and eclosion rhythms suggests that the LNvs also control the PG clock via PDF signaling \u001b[0m\u001b[1;37;46m(\u001b[0m\u001b[37;46mMyers et al.\u001b[0m\n"
      ]
     },
     "metadata": {},
     "output_type": "display_data"
    },
    {
     "name": "stdin",
     "output_type": "stream",
     "text": [
      "Type 'k' to raise thresh, or 'j' - to lower it, then press 'Enter':  j\n"
     ]
    },
    {
     "data": {
      "text/html": [
       "<pre style=\"white-space:pre;overflow-x:auto;line-height:normal;font-family:Menlo,'DejaVu Sans Mono',consolas,'Courier New',monospace\">dist: <span style=\"color: #008080; text-decoration-color: #008080; font-weight: bold\">0.5951321125030518</span>\n",
       "</pre>\n"
      ],
      "text/plain": [
       "dist: \u001b[1;36m0.5951321125030518\u001b[0m\n"
      ]
     },
     "metadata": {},
     "output_type": "display_data"
    },
    {
     "data": {
      "text/html": [
       "<pre style=\"white-space:pre;overflow-x:auto;line-height:normal;font-family:Menlo,'DejaVu Sans Mono',consolas,'Courier New',monospace\">chunk: <span style=\"color: #c0c0c0; text-decoration-color: #c0c0c0; background-color: #008000\">Finally, the structure and design of the pathways are themselves a mystery.</span><span style=\"color: #c0c0c0; text-decoration-color: #c0c0c0; background-color: #008080\">Is the structure of these </span>\n",
       "<span style=\"color: #c0c0c0; text-decoration-color: #c0c0c0; background-color: #008080\">conserved pathways so deeply embedded in other conserved process that it is difficult to change any interaction, or</span>\n",
       "<span style=\"color: #c0c0c0; text-decoration-color: #c0c0c0; background-color: #008080\">does conservation imply continuous selection for function </span><span style=\"color: #c0c0c0; text-decoration-color: #c0c0c0; background-color: #008080; font-weight: bold\">(</span><span style=\"color: #c0c0c0; text-decoration-color: #c0c0c0; background-color: #008080\">Gerhart and Kirschner </span><span style=\"color: #c0c0c0; text-decoration-color: #c0c0c0; background-color: #008080; font-weight: bold\">1997</span><span style=\"color: #c0c0c0; text-decoration-color: #c0c0c0; background-color: #008080; font-weight: bold\">)</span><span style=\"color: #c0c0c0; text-decoration-color: #c0c0c0; background-color: #008080\">? Many of these questions </span>\n",
       "<span style=\"color: #c0c0c0; text-decoration-color: #c0c0c0; background-color: #008080\">require a more quantitative understanding of the behavior of signaling pathways.</span>\n",
       "</pre>\n"
      ],
      "text/plain": [
       "chunk: \u001b[37;42mFinally, the structure and design of the pathways are themselves a mystery.\u001b[0m\u001b[37;46mIs the structure of these \u001b[0m\n",
       "\u001b[37;46mconserved pathways so deeply embedded in other conserved process that it is difficult to change any interaction, or\u001b[0m\n",
       "\u001b[37;46mdoes conservation imply continuous selection for function \u001b[0m\u001b[1;37;46m(\u001b[0m\u001b[37;46mGerhart and Kirschner \u001b[0m\u001b[1;37;46m1997\u001b[0m\u001b[1;37;46m)\u001b[0m\u001b[37;46m? Many of these questions \u001b[0m\n",
       "\u001b[37;46mrequire a more quantitative understanding of the behavior of signaling pathways.\u001b[0m\n"
      ]
     },
     "metadata": {},
     "output_type": "display_data"
    },
    {
     "data": {
      "text/html": [
       "<pre style=\"white-space:pre;overflow-x:auto;line-height:normal;font-family:Menlo,'DejaVu Sans Mono',consolas,'Courier New',monospace\">Tuning ended, thresh value: <span style=\"color: #008080; text-decoration-color: #008080; font-weight: bold\">0.5951321125030518</span> = <span style=\"color: #008080; text-decoration-color: #008080; font-weight: bold\">0.59</span>\n",
       "</pre>\n"
      ],
      "text/plain": [
       "Tuning ended, thresh value: \u001b[1;36m0.5951321125030518\u001b[0m = \u001b[1;36m0.59\u001b[0m\n"
      ]
     },
     "metadata": {},
     "output_type": "display_data"
    }
   ],
   "source": [
    "splitter = SentenceSplitter(text=datasets['pubmed'])\n",
    "splits = splitter()\n",
    "res = tuner(splits, depth=3)\n",
    "thresholds.append(res)"
   ]
  },
  {
   "cell_type": "markdown",
   "id": "eb3ded89-77c5-4133-b655-5478f57517bc",
   "metadata": {},
   "source": [
    "**state_of_the_union**"
   ]
  },
  {
   "cell_type": "code",
   "execution_count": 11,
   "id": "3ae23541-5810-4eaf-8488-2250628fec20",
   "metadata": {
    "scrolled": true
   },
   "outputs": [
    {
     "name": "stderr",
     "output_type": "stream",
     "text": [
      "100%|████████████████████████████████████████████████████████████████████████████████████████████████████████████████████████████████| 658/658 [00:38<00:00, 16.98it/s]\n"
     ]
    },
    {
     "data": {
      "text/html": [
       "<pre style=\"white-space:pre;overflow-x:auto;line-height:normal;font-family:Menlo,'DejaVu Sans Mono',consolas,'Courier New',monospace\"><span style=\"color: #008080; text-decoration-color: #008080; font-weight: bold\">657</span> chunks formed\n",
       "</pre>\n"
      ],
      "text/plain": [
       "\u001b[1;36m657\u001b[0m chunks formed\n"
      ]
     },
     "metadata": {},
     "output_type": "display_data"
    },
    {
     "data": {
      "text/html": [
       "<pre style=\"white-space:pre;overflow-x:auto;line-height:normal;font-family:Menlo,'DejaVu Sans Mono',consolas,'Courier New',monospace\">Values range: <span style=\"font-weight: bold\">[</span><span style=\"color: #008080; text-decoration-color: #008080; font-weight: bold\">0.06096596270799637</span> <span style=\"color: #808000; text-decoration-color: #808000\">...</span> <span style=\"color: #008080; text-decoration-color: #008080; font-weight: bold\">0.9999999403953552</span><span style=\"font-weight: bold\">]</span>\n",
       "</pre>\n"
      ],
      "text/plain": [
       "Values range: \u001b[1m[\u001b[0m\u001b[1;36m0.06096596270799637\u001b[0m \u001b[33m...\u001b[0m \u001b[1;36m0.9999999403953552\u001b[0m\u001b[1m]\u001b[0m\n"
      ]
     },
     "metadata": {},
     "output_type": "display_data"
    },
    {
     "data": {
      "text/html": [
       "<pre style=\"white-space:pre;overflow-x:auto;line-height:normal;font-family:Menlo,'DejaVu Sans Mono',consolas,'Courier New',monospace\">Steps to tune: <span style=\"color: #008080; text-decoration-color: #008080; font-weight: bold\">9</span>\n",
       "</pre>\n"
      ],
      "text/plain": [
       "Steps to tune: \u001b[1;36m9\u001b[0m\n"
      ]
     },
     "metadata": {},
     "output_type": "display_data"
    },
    {
     "data": {
      "text/html": [
       "<pre style=\"white-space:pre;overflow-x:auto;line-height:normal;font-family:Menlo,'DejaVu Sans Mono',consolas,'Courier New',monospace\">--------------------------------\n",
       "</pre>\n"
      ],
      "text/plain": [
       "--------------------------------\n"
      ]
     },
     "metadata": {},
     "output_type": "display_data"
    },
    {
     "data": {
      "text/html": [
       "<pre style=\"white-space:pre;overflow-x:auto;line-height:normal;font-family:Menlo,'DejaVu Sans Mono',consolas,'Courier New',monospace\">dist: <span style=\"color: #008080; text-decoration-color: #008080; font-weight: bold\">0.7183866500854492</span>\n",
       "</pre>\n"
      ],
      "text/plain": [
       "dist: \u001b[1;36m0.7183866500854492\u001b[0m\n"
      ]
     },
     "metadata": {},
     "output_type": "display_data"
    },
    {
     "data": {
      "text/html": [
       "<pre style=\"white-space:pre;overflow-x:auto;line-height:normal;font-family:Menlo,'DejaVu Sans Mono',consolas,'Courier New',monospace\">chunk: <span style=\"color: #c0c0c0; text-decoration-color: #c0c0c0; background-color: #008000\">Eight hundred thousand new manufacturing jobs in America and counting.</span><span style=\"color: #c0c0c0; text-decoration-color: #c0c0c0; background-color: #008080\">Where is it written we can’t be the </span>\n",
       "<span style=\"color: #c0c0c0; text-decoration-color: #c0c0c0; background-color: #008080\">manufacturing capital of the world? We are and we will.</span>\n",
       "</pre>\n"
      ],
      "text/plain": [
       "chunk: \u001b[37;42mEight hundred thousand new manufacturing jobs in America and counting.\u001b[0m\u001b[37;46mWhere is it written we can’t be the \u001b[0m\n",
       "\u001b[37;46mmanufacturing capital of the world? We are and we will.\u001b[0m\n"
      ]
     },
     "metadata": {},
     "output_type": "display_data"
    },
    {
     "name": "stdin",
     "output_type": "stream",
     "text": [
      "Type 'k' to raise thresh, or 'j' - to lower it, then press 'Enter':  j\n"
     ]
    },
    {
     "data": {
      "text/html": [
       "<pre style=\"white-space:pre;overflow-x:auto;line-height:normal;font-family:Menlo,'DejaVu Sans Mono',consolas,'Courier New',monospace\">dist: <span style=\"color: #008080; text-decoration-color: #008080; font-weight: bold\">0.570779025554657</span>\n",
       "</pre>\n"
      ],
      "text/plain": [
       "dist: \u001b[1;36m0.570779025554657\u001b[0m\n"
      ]
     },
     "metadata": {},
     "output_type": "display_data"
    },
    {
     "data": {
      "text/html": [
       "<pre style=\"white-space:pre;overflow-x:auto;line-height:normal;font-family:Menlo,'DejaVu Sans Mono',consolas,'Courier New',monospace\">chunk: <span style=\"color: #c0c0c0; text-decoration-color: #c0c0c0; background-color: #008000\">And there’s more to do to make sure you’re feeling the benefits of all we’re doing.</span><span style=\"color: #c0c0c0; text-decoration-color: #c0c0c0; background-color: #008080\">Americans pay more for </span>\n",
       "<span style=\"color: #c0c0c0; text-decoration-color: #c0c0c0; background-color: #008080\">prescription drugs than anywhere in the world. It’s wrong, and I’m ending it.</span>\n",
       "</pre>\n"
      ],
      "text/plain": [
       "chunk: \u001b[37;42mAnd there’s more to do to make sure you’re feeling the benefits of all we’re doing.\u001b[0m\u001b[37;46mAmericans pay more for \u001b[0m\n",
       "\u001b[37;46mprescription drugs than anywhere in the world. It’s wrong, and I’m ending it.\u001b[0m\n"
      ]
     },
     "metadata": {},
     "output_type": "display_data"
    },
    {
     "name": "stdin",
     "output_type": "stream",
     "text": [
      "Type 'k' to raise thresh, or 'j' - to lower it, then press 'Enter':  j\n"
     ]
    },
    {
     "data": {
      "text/html": [
       "<pre style=\"white-space:pre;overflow-x:auto;line-height:normal;font-family:Menlo,'DejaVu Sans Mono',consolas,'Courier New',monospace\">dist: <span style=\"color: #008080; text-decoration-color: #008080; font-weight: bold\">0.4084111452102661</span>\n",
       "</pre>\n"
      ],
      "text/plain": [
       "dist: \u001b[1;36m0.4084111452102661\u001b[0m\n"
      ]
     },
     "metadata": {},
     "output_type": "display_data"
    },
    {
     "data": {
      "text/html": [
       "<pre style=\"white-space:pre;overflow-x:auto;line-height:normal;font-family:Menlo,'DejaVu Sans Mono',consolas,'Courier New',monospace\">chunk: <span style=\"color: #c0c0c0; text-decoration-color: #c0c0c0; background-color: #008000\">We can do it together.</span><span style=\"color: #c0c0c0; text-decoration-color: #c0c0c0; background-color: #008080\">But that’s what he apparently — here’s what he will not do. I will not demonize </span>\n",
       "<span style=\"color: #c0c0c0; text-decoration-color: #c0c0c0; background-color: #008080\">immigrants, saying they are “poison in the blood of our country.”</span>\n",
       "</pre>\n"
      ],
      "text/plain": [
       "chunk: \u001b[37;42mWe can do it together.\u001b[0m\u001b[37;46mBut that’s what he apparently — here’s what he will not do. I will not demonize \u001b[0m\n",
       "\u001b[37;46mimmigrants, saying they are “poison in the blood of our country.”\u001b[0m\n"
      ]
     },
     "metadata": {},
     "output_type": "display_data"
    },
    {
     "name": "stdin",
     "output_type": "stream",
     "text": [
      "Type 'k' to raise thresh, or 'j' - to lower it, then press 'Enter':  k\n"
     ]
    },
    {
     "data": {
      "text/html": [
       "<pre style=\"white-space:pre;overflow-x:auto;line-height:normal;font-family:Menlo,'DejaVu Sans Mono',consolas,'Courier New',monospace\">dist: <span style=\"color: #008080; text-decoration-color: #008080; font-weight: bold\">0.501172661781311</span>\n",
       "</pre>\n"
      ],
      "text/plain": [
       "dist: \u001b[1;36m0.501172661781311\u001b[0m\n"
      ]
     },
     "metadata": {},
     "output_type": "display_data"
    },
    {
     "data": {
      "text/html": [
       "<pre style=\"white-space:pre;overflow-x:auto;line-height:normal;font-family:Menlo,'DejaVu Sans Mono',consolas,'Courier New',monospace\">chunk: <span style=\"color: #c0c0c0; text-decoration-color: #c0c0c0; background-color: #008000\">The constant refrain — and I was there for hours, meeting with every family.</span><span style=\"color: #c0c0c0; text-decoration-color: #c0c0c0; background-color: #008080\">They said, “Do something.” “Do </span>\n",
       "<span style=\"color: #c0c0c0; text-decoration-color: #c0c0c0; background-color: #008080\">something.” Well, I did do something by establishing the first-ever Office of Gun Violence Prevention in the White </span>\n",
       "<span style=\"color: #c0c0c0; text-decoration-color: #c0c0c0; background-color: #008080\">House, that the Vice President is leading the charge.</span>\n",
       "</pre>\n"
      ],
      "text/plain": [
       "chunk: \u001b[37;42mThe constant refrain — and I was there for hours, meeting with every family.\u001b[0m\u001b[37;46mThey said, “Do something.” “Do \u001b[0m\n",
       "\u001b[37;46msomething.” Well, I did do something by establishing the first-ever Office of Gun Violence Prevention in the White \u001b[0m\n",
       "\u001b[37;46mHouse, that the Vice President is leading the charge.\u001b[0m\n"
      ]
     },
     "metadata": {},
     "output_type": "display_data"
    },
    {
     "name": "stdin",
     "output_type": "stream",
     "text": [
      "Type 'k' to raise thresh, or 'j' - to lower it, then press 'Enter':  j\n"
     ]
    },
    {
     "data": {
      "text/html": [
       "<pre style=\"white-space:pre;overflow-x:auto;line-height:normal;font-family:Menlo,'DejaVu Sans Mono',consolas,'Courier New',monospace\">dist: <span style=\"color: #008080; text-decoration-color: #008080; font-weight: bold\">0.45474573969841003</span>\n",
       "</pre>\n"
      ],
      "text/plain": [
       "dist: \u001b[1;36m0.45474573969841003\u001b[0m\n"
      ]
     },
     "metadata": {},
     "output_type": "display_data"
    },
    {
     "data": {
      "text/html": [
       "<pre style=\"white-space:pre;overflow-x:auto;line-height:normal;font-family:Menlo,'DejaVu Sans Mono',consolas,'Courier New',monospace\">chunk: <span style=\"color: #c0c0c0; text-decoration-color: #c0c0c0; background-color: #008000; font-weight: bold\">(</span><span style=\"color: #c0c0c0; text-decoration-color: #c0c0c0; background-color: #008000\">Cross-talk.</span><span style=\"color: #c0c0c0; text-decoration-color: #c0c0c0; background-color: #008000; font-weight: bold\">)</span><span style=\"color: #c0c0c0; text-decoration-color: #c0c0c0; background-color: #008080\">AUDIENCE: Booo — REPRESENTATIVE GREENE: Say her name!</span>\n",
       "</pre>\n"
      ],
      "text/plain": [
       "chunk: \u001b[1;37;42m(\u001b[0m\u001b[37;42mCross-talk.\u001b[0m\u001b[1;37;42m)\u001b[0m\u001b[37;46mAUDIENCE: Booo — REPRESENTATIVE GREENE: Say her name!\u001b[0m\n"
      ]
     },
     "metadata": {},
     "output_type": "display_data"
    },
    {
     "name": "stdin",
     "output_type": "stream",
     "text": [
      "Type 'k' to raise thresh, or 'j' - to lower it, then press 'Enter':  k\n"
     ]
    },
    {
     "data": {
      "text/html": [
       "<pre style=\"white-space:pre;overflow-x:auto;line-height:normal;font-family:Menlo,'DejaVu Sans Mono',consolas,'Courier New',monospace\">dist: <span style=\"color: #008080; text-decoration-color: #008080; font-weight: bold\">0.4705031216144562</span>\n",
       "</pre>\n"
      ],
      "text/plain": [
       "dist: \u001b[1;36m0.4705031216144562\u001b[0m\n"
      ]
     },
     "metadata": {},
     "output_type": "display_data"
    },
    {
     "data": {
      "text/html": [
       "<pre style=\"white-space:pre;overflow-x:auto;line-height:normal;font-family:Menlo,'DejaVu Sans Mono',consolas,'Courier New',monospace\">chunk: <span style=\"color: #c0c0c0; text-decoration-color: #c0c0c0; background-color: #008000\">Wade got it right.</span><span style=\"color: #c0c0c0; text-decoration-color: #c0c0c0; background-color: #008080\">I thank Vice President Harris for being an incredible leader defending reproductive </span>\n",
       "<span style=\"color: #c0c0c0; text-decoration-color: #c0c0c0; background-color: #008080\">freedom and so much more. Thank you.</span>\n",
       "</pre>\n"
      ],
      "text/plain": [
       "chunk: \u001b[37;42mWade got it right.\u001b[0m\u001b[37;46mI thank Vice President Harris for being an incredible leader defending reproductive \u001b[0m\n",
       "\u001b[37;46mfreedom and so much more. Thank you.\u001b[0m\n"
      ]
     },
     "metadata": {},
     "output_type": "display_data"
    },
    {
     "name": "stdin",
     "output_type": "stream",
     "text": [
      "Type 'k' to raise thresh, or 'j' - to lower it, then press 'Enter':  k\n"
     ]
    },
    {
     "data": {
      "text/html": [
       "<pre style=\"white-space:pre;overflow-x:auto;line-height:normal;font-family:Menlo,'DejaVu Sans Mono',consolas,'Courier New',monospace\">dist: <span style=\"color: #008080; text-decoration-color: #008080; font-weight: bold\">0.4868236780166626</span>\n",
       "</pre>\n"
      ],
      "text/plain": [
       "dist: \u001b[1;36m0.4868236780166626\u001b[0m\n"
      ]
     },
     "metadata": {},
     "output_type": "display_data"
    },
    {
     "data": {
      "text/html": [
       "<pre style=\"white-space:pre;overflow-x:auto;line-height:normal;font-family:Menlo,'DejaVu Sans Mono',consolas,'Courier New',monospace\">chunk: <span style=\"color: #c0c0c0; text-decoration-color: #c0c0c0; background-color: #008000\">But that’s what he apparently — here’s what he will not do.</span><span style=\"color: #c0c0c0; text-decoration-color: #c0c0c0; background-color: #008080\">I will not demonize immigrants, saying they are </span>\n",
       "<span style=\"color: #c0c0c0; text-decoration-color: #c0c0c0; background-color: #008080\">“poison in the blood of our country.” I will not separate families.</span>\n",
       "</pre>\n"
      ],
      "text/plain": [
       "chunk: \u001b[37;42mBut that’s what he apparently — here’s what he will not do.\u001b[0m\u001b[37;46mI will not demonize immigrants, saying they are \u001b[0m\n",
       "\u001b[37;46m“poison in the blood of our country.” I will not separate families.\u001b[0m\n"
      ]
     },
     "metadata": {},
     "output_type": "display_data"
    },
    {
     "name": "stdin",
     "output_type": "stream",
     "text": [
      "Type 'k' to raise thresh, or 'j' - to lower it, then press 'Enter':  j\n"
     ]
    },
    {
     "data": {
      "text/html": [
       "<pre style=\"white-space:pre;overflow-x:auto;line-height:normal;font-family:Menlo,'DejaVu Sans Mono',consolas,'Courier New',monospace\">dist: <span style=\"color: #008080; text-decoration-color: #008080; font-weight: bold\">0.4754267632961273</span>\n",
       "</pre>\n"
      ],
      "text/plain": [
       "dist: \u001b[1;36m0.4754267632961273\u001b[0m\n"
      ]
     },
     "metadata": {},
     "output_type": "display_data"
    },
    {
     "data": {
      "text/html": [
       "<pre style=\"white-space:pre;overflow-x:auto;line-height:normal;font-family:Menlo,'DejaVu Sans Mono',consolas,'Courier New',monospace\">chunk: <span style=\"color: #c0c0c0; text-decoration-color: #c0c0c0; background-color: #008000\">Get it done!</span><span style=\"color: #c0c0c0; text-decoration-color: #c0c0c0; background-color: #008080\">THE PRESIDENT: And if my predecessor is watching: Instead of paying </span><span style=\"color: #c0c0c0; text-decoration-color: #c0c0c0; background-color: #008080; font-weight: bold\">(</span><span style=\"color: #c0c0c0; text-decoration-color: #c0c0c0; background-color: #008080\">playing</span><span style=\"color: #c0c0c0; text-decoration-color: #c0c0c0; background-color: #008080; font-weight: bold\">)</span><span style=\"color: #c0c0c0; text-decoration-color: #c0c0c0; background-color: #008080\"> politics and </span>\n",
       "<span style=\"color: #c0c0c0; text-decoration-color: #c0c0c0; background-color: #008080\">pressuring members of Congress to block the bill, join me in telling the Congress to pass it. We can do it </span>\n",
       "<span style=\"color: #c0c0c0; text-decoration-color: #c0c0c0; background-color: #008080\">together.</span>\n",
       "</pre>\n"
      ],
      "text/plain": [
       "chunk: \u001b[37;42mGet it done!\u001b[0m\u001b[37;46mTHE PRESIDENT: And if my predecessor is watching: Instead of paying \u001b[0m\u001b[1;37;46m(\u001b[0m\u001b[37;46mplaying\u001b[0m\u001b[1;37;46m)\u001b[0m\u001b[37;46m politics and \u001b[0m\n",
       "\u001b[37;46mpressuring members of Congress to block the bill, join me in telling the Congress to pass it. We can do it \u001b[0m\n",
       "\u001b[37;46mtogether.\u001b[0m\n"
      ]
     },
     "metadata": {},
     "output_type": "display_data"
    },
    {
     "name": "stdin",
     "output_type": "stream",
     "text": [
      "Type 'k' to raise thresh, or 'j' - to lower it, then press 'Enter':  k\n"
     ]
    },
    {
     "data": {
      "text/html": [
       "<pre style=\"white-space:pre;overflow-x:auto;line-height:normal;font-family:Menlo,'DejaVu Sans Mono',consolas,'Courier New',monospace\">dist: <span style=\"color: #008080; text-decoration-color: #008080; font-weight: bold\">0.4767434597015381</span>\n",
       "</pre>\n"
      ],
      "text/plain": [
       "dist: \u001b[1;36m0.4767434597015381\u001b[0m\n"
      ]
     },
     "metadata": {},
     "output_type": "display_data"
    },
    {
     "data": {
      "text/html": [
       "<pre style=\"white-space:pre;overflow-x:auto;line-height:normal;font-family:Menlo,'DejaVu Sans Mono',consolas,'Courier New',monospace\">chunk: <span style=\"color: #c0c0c0; text-decoration-color: #c0c0c0; background-color: #008000\">The landing is and will be soft.</span><span style=\"color: #c0c0c0; text-decoration-color: #c0c0c0; background-color: #008080\">And now, instead of aporting — importing foreign products and exporting </span>\n",
       "<span style=\"color: #c0c0c0; text-decoration-color: #c0c0c0; background-color: #008080\">American jobs, we’re exporting American products and creating American jobs right here in America, where they </span>\n",
       "<span style=\"color: #c0c0c0; text-decoration-color: #c0c0c0; background-color: #008080\">belong. And it takes time, but the American people are beginning to feel it.</span>\n",
       "</pre>\n"
      ],
      "text/plain": [
       "chunk: \u001b[37;42mThe landing is and will be soft.\u001b[0m\u001b[37;46mAnd now, instead of aporting — importing foreign products and exporting \u001b[0m\n",
       "\u001b[37;46mAmerican jobs, we’re exporting American products and creating American jobs right here in America, where they \u001b[0m\n",
       "\u001b[37;46mbelong. And it takes time, but the American people are beginning to feel it.\u001b[0m\n"
      ]
     },
     "metadata": {},
     "output_type": "display_data"
    },
    {
     "data": {
      "text/html": [
       "<pre style=\"white-space:pre;overflow-x:auto;line-height:normal;font-family:Menlo,'DejaVu Sans Mono',consolas,'Courier New',monospace\">Tuning ended, thresh value: <span style=\"color: #008080; text-decoration-color: #008080; font-weight: bold\">0.4767434597015381</span> = <span style=\"color: #008080; text-decoration-color: #008080; font-weight: bold\">0.47</span>\n",
       "</pre>\n"
      ],
      "text/plain": [
       "Tuning ended, thresh value: \u001b[1;36m0.4767434597015381\u001b[0m = \u001b[1;36m0.47\u001b[0m\n"
      ]
     },
     "metadata": {},
     "output_type": "display_data"
    }
   ],
   "source": [
    "splitter = SentenceSplitter(text=datasets['state_of_the_union'])\n",
    "splits = splitter()\n",
    "res = tuner(splits, depth=3)\n",
    "thresholds.append(res)"
   ]
  },
  {
   "cell_type": "markdown",
   "id": "2d977784-ff40-4eac-b9a6-7ce74113dc7a",
   "metadata": {},
   "source": [
    "#### Averaging thresh values "
   ]
  },
  {
   "cell_type": "markdown",
   "id": "9fcb25f4-01ef-418d-9a97-c5e6600a03cb",
   "metadata": {},
   "source": [
    "Calculated thresh value, will be used to evaluate over general dataset evaluation in `evaluation.ip`"
   ]
  },
  {
   "cell_type": "code",
   "execution_count": 18,
   "id": "7ea628fe-a5e4-4d89-8a2c-8db2b3ead63e",
   "metadata": {},
   "outputs": [
    {
     "name": "stdout",
     "output_type": "stream",
     "text": [
      "5 [0.7941413521766663, 0.6194384098052979, 0.5499992966651917, 0.5951321125030518, 0.4767434597015381]\n",
      "avg. thresh: 0.6070909261703491 = 0.61\n"
     ]
    }
   ],
   "source": [
    "import numpy as np\n",
    "\n",
    "print(len(thresholds), thresholds)\n",
    "thresh = np.mean(thresholds)\n",
    "print(f'avg. thresh: {thresh} = {round(thresh, 2)}')"
   ]
  }
 ],
 "metadata": {
  "kernelspec": {
   "display_name": "horchunk_docs",
   "language": "python",
   "name": "horchunk_docs"
  },
  "language_info": {
   "codemirror_mode": {
    "name": "ipython",
    "version": 3
   },
   "file_extension": ".py",
   "mimetype": "text/x-python",
   "name": "python",
   "nbconvert_exporter": "python",
   "pygments_lexer": "ipython3",
   "version": "3.12.7"
  }
 },
 "nbformat": 4,
 "nbformat_minor": 5
}
