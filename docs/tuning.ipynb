{
 "cells": [
  {
   "cell_type": "markdown",
   "id": "428628cb-fb9b-4a6d-a2e3-20eff910e2b7",
   "metadata": {},
   "source": [
    "#### Preface\n",
    "\n",
    "In this short tutorial, the tuning process for further evaluation is demonstrated. For this purpose, datasets from the [chunking_evaluation](https://github.com/brandonstarxel/chunking_evaluation) framework will be used."
   ]
  },
  {
   "cell_type": "markdown",
   "id": "4f8727bd-fedf-4cf8-81ca-841c89804e42",
   "metadata": {},
   "source": [
    "#### Packages installation "
   ]
  },
  {
   "cell_type": "code",
   "execution_count": 19,
   "id": "0591879b-2779-4b6b-8154-8a7bc89c0906",
   "metadata": {
    "scrolled": true
   },
   "outputs": [
    {
     "name": "stderr",
     "output_type": "stream",
     "text": [
      "huggingface/tokenizers: The current process just got forked, after parallelism has already been used. Disabling parallelism to avoid deadlocks...\n",
      "To disable this warning, you can either:\n",
      "\t- Avoid using `tokenizers` before the fork if possible\n",
      "\t- Explicitly set the environment variable TOKENIZERS_PARALLELISM=(true | false)\n"
     ]
    },
    {
     "name": "stdout",
     "output_type": "stream",
     "text": [
      "Collecting git+https://github.com/panalexeu/horchunk.git\n",
      "  Cloning https://github.com/panalexeu/horchunk.git to /tmp/pip-req-build-l3fpo03i\n",
      "  Running command git clone --filter=blob:none --quiet https://github.com/panalexeu/horchunk.git /tmp/pip-req-build-l3fpo03i\n",
      "  Resolved https://github.com/panalexeu/horchunk.git to commit 4fd7e6936057689b3677d92f7a1be398cbf388fd\n",
      "  Installing build dependencies ... \u001b[?25ldone\n",
      "\u001b[?25h  Getting requirements to build wheel ... \u001b[?25ldone\n",
      "\u001b[?25h  Preparing metadata (pyproject.toml) ... \u001b[?25ldone\n",
      "\u001b[?25hRequirement already satisfied: langchain==0.3.14 in /home/oleksii/python/semantic_chunking/semchunk/.venv/lib/python3.12/site-packages (from horchunk==0.0.1) (0.3.14)\n",
      "Requirement already satisfied: langchain-openai==0.3.0 in /home/oleksii/python/semantic_chunking/semchunk/.venv/lib/python3.12/site-packages (from horchunk==0.0.1) (0.3.0)\n",
      "Requirement already satisfied: sentence-transformers==3.3.1 in /home/oleksii/python/semantic_chunking/semchunk/.venv/lib/python3.12/site-packages (from horchunk==0.0.1) (3.3.1)\n",
      "Requirement already satisfied: tiktoken==0.8.0 in /home/oleksii/python/semantic_chunking/semchunk/.venv/lib/python3.12/site-packages (from horchunk==0.0.1) (0.8.0)\n",
      "Requirement already satisfied: chromadb==0.6.2 in /home/oleksii/python/semantic_chunking/semchunk/.venv/lib/python3.12/site-packages (from horchunk==0.0.1) (0.6.2)\n",
      "Requirement already satisfied: rich==13.9.4 in /home/oleksii/python/semantic_chunking/semchunk/.venv/lib/python3.12/site-packages (from horchunk==0.0.1) (13.9.4)\n",
      "Requirement already satisfied: pydantic==2.10.4 in /home/oleksii/python/semantic_chunking/semchunk/.venv/lib/python3.12/site-packages (from horchunk==0.0.1) (2.10.4)\n",
      "Requirement already satisfied: numpy==2.2.1 in /home/oleksii/python/semantic_chunking/semchunk/.venv/lib/python3.12/site-packages (from horchunk==0.0.1) (2.2.1)\n",
      "Requirement already satisfied: tqdm==4.67.1 in /home/oleksii/python/semantic_chunking/semchunk/.venv/lib/python3.12/site-packages (from horchunk==0.0.1) (4.67.1)\n",
      "Requirement already satisfied: build>=1.0.3 in /home/oleksii/python/semantic_chunking/semchunk/.venv/lib/python3.12/site-packages (from chromadb==0.6.2->horchunk==0.0.1) (1.2.2.post1)\n",
      "Requirement already satisfied: chroma-hnswlib==0.7.6 in /home/oleksii/python/semantic_chunking/semchunk/.venv/lib/python3.12/site-packages (from chromadb==0.6.2->horchunk==0.0.1) (0.7.6)\n",
      "Requirement already satisfied: fastapi>=0.95.2 in /home/oleksii/python/semantic_chunking/semchunk/.venv/lib/python3.12/site-packages (from chromadb==0.6.2->horchunk==0.0.1) (0.115.6)\n",
      "Requirement already satisfied: uvicorn>=0.18.3 in /home/oleksii/python/semantic_chunking/semchunk/.venv/lib/python3.12/site-packages (from uvicorn[standard]>=0.18.3->chromadb==0.6.2->horchunk==0.0.1) (0.34.0)\n",
      "Requirement already satisfied: posthog>=2.4.0 in /home/oleksii/python/semantic_chunking/semchunk/.venv/lib/python3.12/site-packages (from chromadb==0.6.2->horchunk==0.0.1) (3.7.5)\n",
      "Requirement already satisfied: typing_extensions>=4.5.0 in /home/oleksii/python/semantic_chunking/semchunk/.venv/lib/python3.12/site-packages (from chromadb==0.6.2->horchunk==0.0.1) (4.12.2)\n",
      "Requirement already satisfied: onnxruntime>=1.14.1 in /home/oleksii/python/semantic_chunking/semchunk/.venv/lib/python3.12/site-packages (from chromadb==0.6.2->horchunk==0.0.1) (1.20.1)\n",
      "Requirement already satisfied: opentelemetry-api>=1.2.0 in /home/oleksii/python/semantic_chunking/semchunk/.venv/lib/python3.12/site-packages (from chromadb==0.6.2->horchunk==0.0.1) (1.29.0)\n",
      "Requirement already satisfied: opentelemetry-exporter-otlp-proto-grpc>=1.2.0 in /home/oleksii/python/semantic_chunking/semchunk/.venv/lib/python3.12/site-packages (from chromadb==0.6.2->horchunk==0.0.1) (1.29.0)\n",
      "Requirement already satisfied: opentelemetry-instrumentation-fastapi>=0.41b0 in /home/oleksii/python/semantic_chunking/semchunk/.venv/lib/python3.12/site-packages (from chromadb==0.6.2->horchunk==0.0.1) (0.50b0)\n",
      "Requirement already satisfied: opentelemetry-sdk>=1.2.0 in /home/oleksii/python/semantic_chunking/semchunk/.venv/lib/python3.12/site-packages (from chromadb==0.6.2->horchunk==0.0.1) (1.29.0)\n",
      "Requirement already satisfied: tokenizers>=0.13.2 in /home/oleksii/python/semantic_chunking/semchunk/.venv/lib/python3.12/site-packages (from chromadb==0.6.2->horchunk==0.0.1) (0.21.0)\n",
      "Requirement already satisfied: pypika>=0.48.9 in /home/oleksii/python/semantic_chunking/semchunk/.venv/lib/python3.12/site-packages (from chromadb==0.6.2->horchunk==0.0.1) (0.48.9)\n",
      "Requirement already satisfied: overrides>=7.3.1 in /home/oleksii/python/semantic_chunking/semchunk/.venv/lib/python3.12/site-packages (from chromadb==0.6.2->horchunk==0.0.1) (7.7.0)\n",
      "Requirement already satisfied: importlib-resources in /home/oleksii/python/semantic_chunking/semchunk/.venv/lib/python3.12/site-packages (from chromadb==0.6.2->horchunk==0.0.1) (6.5.2)\n",
      "Requirement already satisfied: grpcio>=1.58.0 in /home/oleksii/python/semantic_chunking/semchunk/.venv/lib/python3.12/site-packages (from chromadb==0.6.2->horchunk==0.0.1) (1.69.0)\n",
      "Requirement already satisfied: bcrypt>=4.0.1 in /home/oleksii/python/semantic_chunking/semchunk/.venv/lib/python3.12/site-packages (from chromadb==0.6.2->horchunk==0.0.1) (4.2.1)\n",
      "Requirement already satisfied: typer>=0.9.0 in /home/oleksii/python/semantic_chunking/semchunk/.venv/lib/python3.12/site-packages (from chromadb==0.6.2->horchunk==0.0.1) (0.15.1)\n",
      "Requirement already satisfied: kubernetes>=28.1.0 in /home/oleksii/python/semantic_chunking/semchunk/.venv/lib/python3.12/site-packages (from chromadb==0.6.2->horchunk==0.0.1) (31.0.0)\n",
      "Requirement already satisfied: tenacity>=8.2.3 in /home/oleksii/python/semantic_chunking/semchunk/.venv/lib/python3.12/site-packages (from chromadb==0.6.2->horchunk==0.0.1) (9.0.0)\n",
      "Requirement already satisfied: PyYAML>=6.0.0 in /home/oleksii/python/semantic_chunking/semchunk/.venv/lib/python3.12/site-packages (from chromadb==0.6.2->horchunk==0.0.1) (6.0.2)\n",
      "Requirement already satisfied: mmh3>=4.0.1 in /home/oleksii/python/semantic_chunking/semchunk/.venv/lib/python3.12/site-packages (from chromadb==0.6.2->horchunk==0.0.1) (5.0.1)\n",
      "Requirement already satisfied: orjson>=3.9.12 in /home/oleksii/python/semantic_chunking/semchunk/.venv/lib/python3.12/site-packages (from chromadb==0.6.2->horchunk==0.0.1) (3.10.13)\n",
      "Requirement already satisfied: httpx>=0.27.0 in /home/oleksii/python/semantic_chunking/semchunk/.venv/lib/python3.12/site-packages (from chromadb==0.6.2->horchunk==0.0.1) (0.28.1)\n",
      "Requirement already satisfied: SQLAlchemy<3,>=1.4 in /home/oleksii/python/semantic_chunking/semchunk/.venv/lib/python3.12/site-packages (from langchain==0.3.14->horchunk==0.0.1) (2.0.37)\n",
      "Requirement already satisfied: aiohttp<4.0.0,>=3.8.3 in /home/oleksii/python/semantic_chunking/semchunk/.venv/lib/python3.12/site-packages (from langchain==0.3.14->horchunk==0.0.1) (3.11.11)\n",
      "Requirement already satisfied: langchain-core<0.4.0,>=0.3.29 in /home/oleksii/python/semantic_chunking/semchunk/.venv/lib/python3.12/site-packages (from langchain==0.3.14->horchunk==0.0.1) (0.3.29)\n",
      "Requirement already satisfied: langchain-text-splitters<0.4.0,>=0.3.3 in /home/oleksii/python/semantic_chunking/semchunk/.venv/lib/python3.12/site-packages (from langchain==0.3.14->horchunk==0.0.1) (0.3.5)\n",
      "Requirement already satisfied: langsmith<0.3,>=0.1.17 in /home/oleksii/python/semantic_chunking/semchunk/.venv/lib/python3.12/site-packages (from langchain==0.3.14->horchunk==0.0.1) (0.2.10)\n",
      "Requirement already satisfied: requests<3,>=2 in /home/oleksii/python/semantic_chunking/semchunk/.venv/lib/python3.12/site-packages (from langchain==0.3.14->horchunk==0.0.1) (2.32.3)\n",
      "Requirement already satisfied: openai<2.0.0,>=1.58.1 in /home/oleksii/python/semantic_chunking/semchunk/.venv/lib/python3.12/site-packages (from langchain-openai==0.3.0->horchunk==0.0.1) (1.59.4)\n",
      "Requirement already satisfied: annotated-types>=0.6.0 in /home/oleksii/python/semantic_chunking/semchunk/.venv/lib/python3.12/site-packages (from pydantic==2.10.4->horchunk==0.0.1) (0.7.0)\n",
      "Requirement already satisfied: pydantic-core==2.27.2 in /home/oleksii/python/semantic_chunking/semchunk/.venv/lib/python3.12/site-packages (from pydantic==2.10.4->horchunk==0.0.1) (2.27.2)\n",
      "Requirement already satisfied: markdown-it-py>=2.2.0 in /home/oleksii/python/semantic_chunking/semchunk/.venv/lib/python3.12/site-packages (from rich==13.9.4->horchunk==0.0.1) (3.0.0)\n",
      "Requirement already satisfied: pygments<3.0.0,>=2.13.0 in /home/oleksii/python/semantic_chunking/semchunk/.venv/lib/python3.12/site-packages (from rich==13.9.4->horchunk==0.0.1) (2.19.1)\n",
      "Requirement already satisfied: transformers<5.0.0,>=4.41.0 in /home/oleksii/python/semantic_chunking/semchunk/.venv/lib/python3.12/site-packages (from sentence-transformers==3.3.1->horchunk==0.0.1) (4.47.1)\n",
      "Requirement already satisfied: torch>=1.11.0 in /home/oleksii/python/semantic_chunking/semchunk/.venv/lib/python3.12/site-packages (from sentence-transformers==3.3.1->horchunk==0.0.1) (2.5.1)\n",
      "Requirement already satisfied: scikit-learn in /home/oleksii/python/semantic_chunking/semchunk/.venv/lib/python3.12/site-packages (from sentence-transformers==3.3.1->horchunk==0.0.1) (1.6.0)\n",
      "Requirement already satisfied: scipy in /home/oleksii/python/semantic_chunking/semchunk/.venv/lib/python3.12/site-packages (from sentence-transformers==3.3.1->horchunk==0.0.1) (1.15.0)\n",
      "Requirement already satisfied: huggingface-hub>=0.20.0 in /home/oleksii/python/semantic_chunking/semchunk/.venv/lib/python3.12/site-packages (from sentence-transformers==3.3.1->horchunk==0.0.1) (0.27.1)\n",
      "Requirement already satisfied: Pillow in /home/oleksii/python/semantic_chunking/semchunk/.venv/lib/python3.12/site-packages (from sentence-transformers==3.3.1->horchunk==0.0.1) (11.1.0)\n",
      "Requirement already satisfied: regex>=2022.1.18 in /home/oleksii/python/semantic_chunking/semchunk/.venv/lib/python3.12/site-packages (from tiktoken==0.8.0->horchunk==0.0.1) (2024.11.6)\n",
      "Requirement already satisfied: aiohappyeyeballs>=2.3.0 in /home/oleksii/python/semantic_chunking/semchunk/.venv/lib/python3.12/site-packages (from aiohttp<4.0.0,>=3.8.3->langchain==0.3.14->horchunk==0.0.1) (2.4.4)\n",
      "Requirement already satisfied: aiosignal>=1.1.2 in /home/oleksii/python/semantic_chunking/semchunk/.venv/lib/python3.12/site-packages (from aiohttp<4.0.0,>=3.8.3->langchain==0.3.14->horchunk==0.0.1) (1.3.2)\n",
      "Requirement already satisfied: attrs>=17.3.0 in /home/oleksii/python/semantic_chunking/semchunk/.venv/lib/python3.12/site-packages (from aiohttp<4.0.0,>=3.8.3->langchain==0.3.14->horchunk==0.0.1) (24.3.0)\n",
      "Requirement already satisfied: frozenlist>=1.1.1 in /home/oleksii/python/semantic_chunking/semchunk/.venv/lib/python3.12/site-packages (from aiohttp<4.0.0,>=3.8.3->langchain==0.3.14->horchunk==0.0.1) (1.5.0)\n",
      "Requirement already satisfied: multidict<7.0,>=4.5 in /home/oleksii/python/semantic_chunking/semchunk/.venv/lib/python3.12/site-packages (from aiohttp<4.0.0,>=3.8.3->langchain==0.3.14->horchunk==0.0.1) (6.1.0)\n",
      "Requirement already satisfied: propcache>=0.2.0 in /home/oleksii/python/semantic_chunking/semchunk/.venv/lib/python3.12/site-packages (from aiohttp<4.0.0,>=3.8.3->langchain==0.3.14->horchunk==0.0.1) (0.2.1)\n",
      "Requirement already satisfied: yarl<2.0,>=1.17.0 in /home/oleksii/python/semantic_chunking/semchunk/.venv/lib/python3.12/site-packages (from aiohttp<4.0.0,>=3.8.3->langchain==0.3.14->horchunk==0.0.1) (1.18.3)\n",
      "Requirement already satisfied: packaging>=19.1 in /home/oleksii/python/semantic_chunking/semchunk/.venv/lib/python3.12/site-packages (from build>=1.0.3->chromadb==0.6.2->horchunk==0.0.1) (24.2)\n",
      "Requirement already satisfied: pyproject_hooks in /home/oleksii/python/semantic_chunking/semchunk/.venv/lib/python3.12/site-packages (from build>=1.0.3->chromadb==0.6.2->horchunk==0.0.1) (1.2.0)\n",
      "Requirement already satisfied: starlette<0.42.0,>=0.40.0 in /home/oleksii/python/semantic_chunking/semchunk/.venv/lib/python3.12/site-packages (from fastapi>=0.95.2->chromadb==0.6.2->horchunk==0.0.1) (0.41.3)\n",
      "Requirement already satisfied: anyio in /home/oleksii/python/semantic_chunking/semchunk/.venv/lib/python3.12/site-packages (from httpx>=0.27.0->chromadb==0.6.2->horchunk==0.0.1) (4.8.0)\n",
      "Requirement already satisfied: certifi in /home/oleksii/python/semantic_chunking/semchunk/.venv/lib/python3.12/site-packages (from httpx>=0.27.0->chromadb==0.6.2->horchunk==0.0.1) (2024.12.14)\n",
      "Requirement already satisfied: httpcore==1.* in /home/oleksii/python/semantic_chunking/semchunk/.venv/lib/python3.12/site-packages (from httpx>=0.27.0->chromadb==0.6.2->horchunk==0.0.1) (1.0.7)\n",
      "Requirement already satisfied: idna in /home/oleksii/python/semantic_chunking/semchunk/.venv/lib/python3.12/site-packages (from httpx>=0.27.0->chromadb==0.6.2->horchunk==0.0.1) (3.10)\n",
      "Requirement already satisfied: h11<0.15,>=0.13 in /home/oleksii/python/semantic_chunking/semchunk/.venv/lib/python3.12/site-packages (from httpcore==1.*->httpx>=0.27.0->chromadb==0.6.2->horchunk==0.0.1) (0.14.0)\n",
      "Requirement already satisfied: filelock in /home/oleksii/python/semantic_chunking/semchunk/.venv/lib/python3.12/site-packages (from huggingface-hub>=0.20.0->sentence-transformers==3.3.1->horchunk==0.0.1) (3.16.1)\n",
      "Requirement already satisfied: fsspec>=2023.5.0 in /home/oleksii/python/semantic_chunking/semchunk/.venv/lib/python3.12/site-packages (from huggingface-hub>=0.20.0->sentence-transformers==3.3.1->horchunk==0.0.1) (2024.12.0)\n",
      "Requirement already satisfied: six>=1.9.0 in /home/oleksii/python/semantic_chunking/semchunk/.venv/lib/python3.12/site-packages (from kubernetes>=28.1.0->chromadb==0.6.2->horchunk==0.0.1) (1.17.0)\n",
      "Requirement already satisfied: python-dateutil>=2.5.3 in /home/oleksii/python/semantic_chunking/semchunk/.venv/lib/python3.12/site-packages (from kubernetes>=28.1.0->chromadb==0.6.2->horchunk==0.0.1) (2.9.0.post0)\n",
      "Requirement already satisfied: google-auth>=1.0.1 in /home/oleksii/python/semantic_chunking/semchunk/.venv/lib/python3.12/site-packages (from kubernetes>=28.1.0->chromadb==0.6.2->horchunk==0.0.1) (2.37.0)\n",
      "Requirement already satisfied: websocket-client!=0.40.0,!=0.41.*,!=0.42.*,>=0.32.0 in /home/oleksii/python/semantic_chunking/semchunk/.venv/lib/python3.12/site-packages (from kubernetes>=28.1.0->chromadb==0.6.2->horchunk==0.0.1) (1.8.0)\n",
      "Requirement already satisfied: requests-oauthlib in /home/oleksii/python/semantic_chunking/semchunk/.venv/lib/python3.12/site-packages (from kubernetes>=28.1.0->chromadb==0.6.2->horchunk==0.0.1) (2.0.0)\n",
      "Requirement already satisfied: oauthlib>=3.2.2 in /home/oleksii/python/semantic_chunking/semchunk/.venv/lib/python3.12/site-packages (from kubernetes>=28.1.0->chromadb==0.6.2->horchunk==0.0.1) (3.2.2)\n",
      "Requirement already satisfied: urllib3>=1.24.2 in /home/oleksii/python/semantic_chunking/semchunk/.venv/lib/python3.12/site-packages (from kubernetes>=28.1.0->chromadb==0.6.2->horchunk==0.0.1) (2.3.0)\n",
      "Requirement already satisfied: durationpy>=0.7 in /home/oleksii/python/semantic_chunking/semchunk/.venv/lib/python3.12/site-packages (from kubernetes>=28.1.0->chromadb==0.6.2->horchunk==0.0.1) (0.9)\n",
      "Requirement already satisfied: jsonpatch<2.0,>=1.33 in /home/oleksii/python/semantic_chunking/semchunk/.venv/lib/python3.12/site-packages (from langchain-core<0.4.0,>=0.3.29->langchain==0.3.14->horchunk==0.0.1) (1.33)\n",
      "Requirement already satisfied: requests-toolbelt<2.0.0,>=1.0.0 in /home/oleksii/python/semantic_chunking/semchunk/.venv/lib/python3.12/site-packages (from langsmith<0.3,>=0.1.17->langchain==0.3.14->horchunk==0.0.1) (1.0.0)\n",
      "Requirement already satisfied: mdurl~=0.1 in /home/oleksii/python/semantic_chunking/semchunk/.venv/lib/python3.12/site-packages (from markdown-it-py>=2.2.0->rich==13.9.4->horchunk==0.0.1) (0.1.2)\n",
      "Requirement already satisfied: coloredlogs in /home/oleksii/python/semantic_chunking/semchunk/.venv/lib/python3.12/site-packages (from onnxruntime>=1.14.1->chromadb==0.6.2->horchunk==0.0.1) (15.0.1)\n",
      "Requirement already satisfied: flatbuffers in /home/oleksii/python/semantic_chunking/semchunk/.venv/lib/python3.12/site-packages (from onnxruntime>=1.14.1->chromadb==0.6.2->horchunk==0.0.1) (24.12.23)\n",
      "Requirement already satisfied: protobuf in /home/oleksii/python/semantic_chunking/semchunk/.venv/lib/python3.12/site-packages (from onnxruntime>=1.14.1->chromadb==0.6.2->horchunk==0.0.1) (5.29.2)\n",
      "Requirement already satisfied: sympy in /home/oleksii/python/semantic_chunking/semchunk/.venv/lib/python3.12/site-packages (from onnxruntime>=1.14.1->chromadb==0.6.2->horchunk==0.0.1) (1.13.1)\n",
      "Requirement already satisfied: distro<2,>=1.7.0 in /home/oleksii/python/semantic_chunking/semchunk/.venv/lib/python3.12/site-packages (from openai<2.0.0,>=1.58.1->langchain-openai==0.3.0->horchunk==0.0.1) (1.9.0)\n",
      "Requirement already satisfied: jiter<1,>=0.4.0 in /home/oleksii/python/semantic_chunking/semchunk/.venv/lib/python3.12/site-packages (from openai<2.0.0,>=1.58.1->langchain-openai==0.3.0->horchunk==0.0.1) (0.8.2)\n",
      "Requirement already satisfied: sniffio in /home/oleksii/python/semantic_chunking/semchunk/.venv/lib/python3.12/site-packages (from openai<2.0.0,>=1.58.1->langchain-openai==0.3.0->horchunk==0.0.1) (1.3.1)\n",
      "Requirement already satisfied: deprecated>=1.2.6 in /home/oleksii/python/semantic_chunking/semchunk/.venv/lib/python3.12/site-packages (from opentelemetry-api>=1.2.0->chromadb==0.6.2->horchunk==0.0.1) (1.2.15)\n",
      "Requirement already satisfied: importlib-metadata<=8.5.0,>=6.0 in /home/oleksii/python/semantic_chunking/semchunk/.venv/lib/python3.12/site-packages (from opentelemetry-api>=1.2.0->chromadb==0.6.2->horchunk==0.0.1) (8.5.0)\n",
      "Requirement already satisfied: googleapis-common-protos~=1.52 in /home/oleksii/python/semantic_chunking/semchunk/.venv/lib/python3.12/site-packages (from opentelemetry-exporter-otlp-proto-grpc>=1.2.0->chromadb==0.6.2->horchunk==0.0.1) (1.66.0)\n",
      "Requirement already satisfied: opentelemetry-exporter-otlp-proto-common==1.29.0 in /home/oleksii/python/semantic_chunking/semchunk/.venv/lib/python3.12/site-packages (from opentelemetry-exporter-otlp-proto-grpc>=1.2.0->chromadb==0.6.2->horchunk==0.0.1) (1.29.0)\n",
      "Requirement already satisfied: opentelemetry-proto==1.29.0 in /home/oleksii/python/semantic_chunking/semchunk/.venv/lib/python3.12/site-packages (from opentelemetry-exporter-otlp-proto-grpc>=1.2.0->chromadb==0.6.2->horchunk==0.0.1) (1.29.0)\n",
      "Requirement already satisfied: opentelemetry-instrumentation-asgi==0.50b0 in /home/oleksii/python/semantic_chunking/semchunk/.venv/lib/python3.12/site-packages (from opentelemetry-instrumentation-fastapi>=0.41b0->chromadb==0.6.2->horchunk==0.0.1) (0.50b0)\n",
      "Requirement already satisfied: opentelemetry-instrumentation==0.50b0 in /home/oleksii/python/semantic_chunking/semchunk/.venv/lib/python3.12/site-packages (from opentelemetry-instrumentation-fastapi>=0.41b0->chromadb==0.6.2->horchunk==0.0.1) (0.50b0)\n",
      "Requirement already satisfied: opentelemetry-semantic-conventions==0.50b0 in /home/oleksii/python/semantic_chunking/semchunk/.venv/lib/python3.12/site-packages (from opentelemetry-instrumentation-fastapi>=0.41b0->chromadb==0.6.2->horchunk==0.0.1) (0.50b0)\n",
      "Requirement already satisfied: opentelemetry-util-http==0.50b0 in /home/oleksii/python/semantic_chunking/semchunk/.venv/lib/python3.12/site-packages (from opentelemetry-instrumentation-fastapi>=0.41b0->chromadb==0.6.2->horchunk==0.0.1) (0.50b0)\n",
      "Requirement already satisfied: wrapt<2.0.0,>=1.0.0 in /home/oleksii/python/semantic_chunking/semchunk/.venv/lib/python3.12/site-packages (from opentelemetry-instrumentation==0.50b0->opentelemetry-instrumentation-fastapi>=0.41b0->chromadb==0.6.2->horchunk==0.0.1) (1.17.0)\n",
      "Requirement already satisfied: asgiref~=3.0 in /home/oleksii/python/semantic_chunking/semchunk/.venv/lib/python3.12/site-packages (from opentelemetry-instrumentation-asgi==0.50b0->opentelemetry-instrumentation-fastapi>=0.41b0->chromadb==0.6.2->horchunk==0.0.1) (3.8.1)\n",
      "Requirement already satisfied: monotonic>=1.5 in /home/oleksii/python/semantic_chunking/semchunk/.venv/lib/python3.12/site-packages (from posthog>=2.4.0->chromadb==0.6.2->horchunk==0.0.1) (1.6)\n",
      "Requirement already satisfied: backoff>=1.10.0 in /home/oleksii/python/semantic_chunking/semchunk/.venv/lib/python3.12/site-packages (from posthog>=2.4.0->chromadb==0.6.2->horchunk==0.0.1) (2.2.1)\n",
      "Requirement already satisfied: charset-normalizer<4,>=2 in /home/oleksii/python/semantic_chunking/semchunk/.venv/lib/python3.12/site-packages (from requests<3,>=2->langchain==0.3.14->horchunk==0.0.1) (3.4.1)\n",
      "Requirement already satisfied: greenlet!=0.4.17 in /home/oleksii/python/semantic_chunking/semchunk/.venv/lib/python3.12/site-packages (from SQLAlchemy<3,>=1.4->langchain==0.3.14->horchunk==0.0.1) (3.1.1)\n",
      "Requirement already satisfied: networkx in /home/oleksii/python/semantic_chunking/semchunk/.venv/lib/python3.12/site-packages (from torch>=1.11.0->sentence-transformers==3.3.1->horchunk==0.0.1) (3.4.2)\n",
      "Requirement already satisfied: jinja2 in /home/oleksii/python/semantic_chunking/semchunk/.venv/lib/python3.12/site-packages (from torch>=1.11.0->sentence-transformers==3.3.1->horchunk==0.0.1) (3.1.5)\n",
      "Requirement already satisfied: nvidia-cuda-nvrtc-cu12==12.4.127 in /home/oleksii/python/semantic_chunking/semchunk/.venv/lib/python3.12/site-packages (from torch>=1.11.0->sentence-transformers==3.3.1->horchunk==0.0.1) (12.4.127)\n",
      "Requirement already satisfied: nvidia-cuda-runtime-cu12==12.4.127 in /home/oleksii/python/semantic_chunking/semchunk/.venv/lib/python3.12/site-packages (from torch>=1.11.0->sentence-transformers==3.3.1->horchunk==0.0.1) (12.4.127)\n",
      "Requirement already satisfied: nvidia-cuda-cupti-cu12==12.4.127 in /home/oleksii/python/semantic_chunking/semchunk/.venv/lib/python3.12/site-packages (from torch>=1.11.0->sentence-transformers==3.3.1->horchunk==0.0.1) (12.4.127)\n",
      "Requirement already satisfied: nvidia-cudnn-cu12==9.1.0.70 in /home/oleksii/python/semantic_chunking/semchunk/.venv/lib/python3.12/site-packages (from torch>=1.11.0->sentence-transformers==3.3.1->horchunk==0.0.1) (9.1.0.70)\n",
      "Requirement already satisfied: nvidia-cublas-cu12==12.4.5.8 in /home/oleksii/python/semantic_chunking/semchunk/.venv/lib/python3.12/site-packages (from torch>=1.11.0->sentence-transformers==3.3.1->horchunk==0.0.1) (12.4.5.8)\n",
      "Requirement already satisfied: nvidia-cufft-cu12==11.2.1.3 in /home/oleksii/python/semantic_chunking/semchunk/.venv/lib/python3.12/site-packages (from torch>=1.11.0->sentence-transformers==3.3.1->horchunk==0.0.1) (11.2.1.3)\n",
      "Requirement already satisfied: nvidia-curand-cu12==10.3.5.147 in /home/oleksii/python/semantic_chunking/semchunk/.venv/lib/python3.12/site-packages (from torch>=1.11.0->sentence-transformers==3.3.1->horchunk==0.0.1) (10.3.5.147)\n",
      "Requirement already satisfied: nvidia-cusolver-cu12==11.6.1.9 in /home/oleksii/python/semantic_chunking/semchunk/.venv/lib/python3.12/site-packages (from torch>=1.11.0->sentence-transformers==3.3.1->horchunk==0.0.1) (11.6.1.9)\n",
      "Requirement already satisfied: nvidia-cusparse-cu12==12.3.1.170 in /home/oleksii/python/semantic_chunking/semchunk/.venv/lib/python3.12/site-packages (from torch>=1.11.0->sentence-transformers==3.3.1->horchunk==0.0.1) (12.3.1.170)\n",
      "Requirement already satisfied: nvidia-nccl-cu12==2.21.5 in /home/oleksii/python/semantic_chunking/semchunk/.venv/lib/python3.12/site-packages (from torch>=1.11.0->sentence-transformers==3.3.1->horchunk==0.0.1) (2.21.5)\n",
      "Requirement already satisfied: nvidia-nvtx-cu12==12.4.127 in /home/oleksii/python/semantic_chunking/semchunk/.venv/lib/python3.12/site-packages (from torch>=1.11.0->sentence-transformers==3.3.1->horchunk==0.0.1) (12.4.127)\n",
      "Requirement already satisfied: nvidia-nvjitlink-cu12==12.4.127 in /home/oleksii/python/semantic_chunking/semchunk/.venv/lib/python3.12/site-packages (from torch>=1.11.0->sentence-transformers==3.3.1->horchunk==0.0.1) (12.4.127)\n",
      "Requirement already satisfied: triton==3.1.0 in /home/oleksii/python/semantic_chunking/semchunk/.venv/lib/python3.12/site-packages (from torch>=1.11.0->sentence-transformers==3.3.1->horchunk==0.0.1) (3.1.0)\n",
      "Requirement already satisfied: setuptools in /home/oleksii/python/semantic_chunking/semchunk/.venv/lib/python3.12/site-packages (from torch>=1.11.0->sentence-transformers==3.3.1->horchunk==0.0.1) (75.8.0)\n",
      "Requirement already satisfied: mpmath<1.4,>=1.1.0 in /home/oleksii/python/semantic_chunking/semchunk/.venv/lib/python3.12/site-packages (from sympy->onnxruntime>=1.14.1->chromadb==0.6.2->horchunk==0.0.1) (1.3.0)\n",
      "Requirement already satisfied: safetensors>=0.4.1 in /home/oleksii/python/semantic_chunking/semchunk/.venv/lib/python3.12/site-packages (from transformers<5.0.0,>=4.41.0->sentence-transformers==3.3.1->horchunk==0.0.1) (0.5.1)\n",
      "Requirement already satisfied: click>=8.0.0 in /home/oleksii/python/semantic_chunking/semchunk/.venv/lib/python3.12/site-packages (from typer>=0.9.0->chromadb==0.6.2->horchunk==0.0.1) (8.1.8)\n",
      "Requirement already satisfied: shellingham>=1.3.0 in /home/oleksii/python/semantic_chunking/semchunk/.venv/lib/python3.12/site-packages (from typer>=0.9.0->chromadb==0.6.2->horchunk==0.0.1) (1.5.4)\n",
      "Requirement already satisfied: httptools>=0.6.3 in /home/oleksii/python/semantic_chunking/semchunk/.venv/lib/python3.12/site-packages (from uvicorn[standard]>=0.18.3->chromadb==0.6.2->horchunk==0.0.1) (0.6.4)\n",
      "Requirement already satisfied: python-dotenv>=0.13 in /home/oleksii/python/semantic_chunking/semchunk/.venv/lib/python3.12/site-packages (from uvicorn[standard]>=0.18.3->chromadb==0.6.2->horchunk==0.0.1) (1.0.1)\n",
      "Requirement already satisfied: uvloop!=0.15.0,!=0.15.1,>=0.14.0 in /home/oleksii/python/semantic_chunking/semchunk/.venv/lib/python3.12/site-packages (from uvicorn[standard]>=0.18.3->chromadb==0.6.2->horchunk==0.0.1) (0.21.0)\n",
      "Requirement already satisfied: watchfiles>=0.13 in /home/oleksii/python/semantic_chunking/semchunk/.venv/lib/python3.12/site-packages (from uvicorn[standard]>=0.18.3->chromadb==0.6.2->horchunk==0.0.1) (1.0.3)\n",
      "Requirement already satisfied: websockets>=10.4 in /home/oleksii/python/semantic_chunking/semchunk/.venv/lib/python3.12/site-packages (from uvicorn[standard]>=0.18.3->chromadb==0.6.2->horchunk==0.0.1) (14.1)\n",
      "Requirement already satisfied: joblib>=1.2.0 in /home/oleksii/python/semantic_chunking/semchunk/.venv/lib/python3.12/site-packages (from scikit-learn->sentence-transformers==3.3.1->horchunk==0.0.1) (1.4.2)\n",
      "Requirement already satisfied: threadpoolctl>=3.1.0 in /home/oleksii/python/semantic_chunking/semchunk/.venv/lib/python3.12/site-packages (from scikit-learn->sentence-transformers==3.3.1->horchunk==0.0.1) (3.5.0)\n",
      "Requirement already satisfied: cachetools<6.0,>=2.0.0 in /home/oleksii/python/semantic_chunking/semchunk/.venv/lib/python3.12/site-packages (from google-auth>=1.0.1->kubernetes>=28.1.0->chromadb==0.6.2->horchunk==0.0.1) (5.5.0)\n",
      "Requirement already satisfied: pyasn1-modules>=0.2.1 in /home/oleksii/python/semantic_chunking/semchunk/.venv/lib/python3.12/site-packages (from google-auth>=1.0.1->kubernetes>=28.1.0->chromadb==0.6.2->horchunk==0.0.1) (0.4.1)\n",
      "Requirement already satisfied: rsa<5,>=3.1.4 in /home/oleksii/python/semantic_chunking/semchunk/.venv/lib/python3.12/site-packages (from google-auth>=1.0.1->kubernetes>=28.1.0->chromadb==0.6.2->horchunk==0.0.1) (4.9)\n",
      "Requirement already satisfied: zipp>=3.20 in /home/oleksii/python/semantic_chunking/semchunk/.venv/lib/python3.12/site-packages (from importlib-metadata<=8.5.0,>=6.0->opentelemetry-api>=1.2.0->chromadb==0.6.2->horchunk==0.0.1) (3.21.0)\n",
      "Requirement already satisfied: jsonpointer>=1.9 in /home/oleksii/python/semantic_chunking/semchunk/.venv/lib/python3.12/site-packages (from jsonpatch<2.0,>=1.33->langchain-core<0.4.0,>=0.3.29->langchain==0.3.14->horchunk==0.0.1) (3.0.0)\n",
      "Requirement already satisfied: humanfriendly>=9.1 in /home/oleksii/python/semantic_chunking/semchunk/.venv/lib/python3.12/site-packages (from coloredlogs->onnxruntime>=1.14.1->chromadb==0.6.2->horchunk==0.0.1) (10.0)\n",
      "Requirement already satisfied: MarkupSafe>=2.0 in /home/oleksii/python/semantic_chunking/semchunk/.venv/lib/python3.12/site-packages (from jinja2->torch>=1.11.0->sentence-transformers==3.3.1->horchunk==0.0.1) (3.0.2)\n",
      "Requirement already satisfied: pyasn1<0.7.0,>=0.4.6 in /home/oleksii/python/semantic_chunking/semchunk/.venv/lib/python3.12/site-packages (from pyasn1-modules>=0.2.1->google-auth>=1.0.1->kubernetes>=28.1.0->chromadb==0.6.2->horchunk==0.0.1) (0.6.1)\n",
      "\n",
      "\u001b[1m[\u001b[0m\u001b[34;49mnotice\u001b[0m\u001b[1;39;49m]\u001b[0m\u001b[39;49m A new release of pip is available: \u001b[0m\u001b[31;49m24.3.1\u001b[0m\u001b[39;49m -> \u001b[0m\u001b[32;49m25.0\u001b[0m\n",
      "\u001b[1m[\u001b[0m\u001b[34;49mnotice\u001b[0m\u001b[1;39;49m]\u001b[0m\u001b[39;49m To update, run: \u001b[0m\u001b[32;49mpip install --upgrade pip\u001b[0m\n"
     ]
    },
    {
     "name": "stderr",
     "output_type": "stream",
     "text": [
      "huggingface/tokenizers: The current process just got forked, after parallelism has already been used. Disabling parallelism to avoid deadlocks...\n",
      "To disable this warning, you can either:\n",
      "\t- Avoid using `tokenizers` before the fork if possible\n",
      "\t- Explicitly set the environment variable TOKENIZERS_PARALLELISM=(true | false)\n"
     ]
    },
    {
     "name": "stdout",
     "output_type": "stream",
     "text": [
      "Requirement already satisfied: requests in /home/oleksii/python/semantic_chunking/semchunk/.venv/lib/python3.12/site-packages (2.32.3)\n",
      "Requirement already satisfied: charset-normalizer<4,>=2 in /home/oleksii/python/semantic_chunking/semchunk/.venv/lib/python3.12/site-packages (from requests) (3.4.1)\n",
      "Requirement already satisfied: idna<4,>=2.5 in /home/oleksii/python/semantic_chunking/semchunk/.venv/lib/python3.12/site-packages (from requests) (3.10)\n",
      "Requirement already satisfied: urllib3<3,>=1.21.1 in /home/oleksii/python/semantic_chunking/semchunk/.venv/lib/python3.12/site-packages (from requests) (2.3.0)\n",
      "Requirement already satisfied: certifi>=2017.4.17 in /home/oleksii/python/semantic_chunking/semchunk/.venv/lib/python3.12/site-packages (from requests) (2024.12.14)\n",
      "\n",
      "\u001b[1m[\u001b[0m\u001b[34;49mnotice\u001b[0m\u001b[1;39;49m]\u001b[0m\u001b[39;49m A new release of pip is available: \u001b[0m\u001b[31;49m24.3.1\u001b[0m\u001b[39;49m -> \u001b[0m\u001b[32;49m25.0\u001b[0m\n",
      "\u001b[1m[\u001b[0m\u001b[34;49mnotice\u001b[0m\u001b[1;39;49m]\u001b[0m\u001b[39;49m To update, run: \u001b[0m\u001b[32;49mpip install --upgrade pip\u001b[0m\n"
     ]
    },
    {
     "name": "stderr",
     "output_type": "stream",
     "text": [
      "huggingface/tokenizers: The current process just got forked, after parallelism has already been used. Disabling parallelism to avoid deadlocks...\n",
      "To disable this warning, you can either:\n",
      "\t- Avoid using `tokenizers` before the fork if possible\n",
      "\t- Explicitly set the environment variable TOKENIZERS_PARALLELISM=(true | false)\n"
     ]
    },
    {
     "name": "stdout",
     "output_type": "stream",
     "text": [
      "Requirement already satisfied: chroma in /home/oleksii/python/semantic_chunking/semchunk/.venv/lib/python3.12/site-packages (0.2.0)\n",
      "\n",
      "\u001b[1m[\u001b[0m\u001b[34;49mnotice\u001b[0m\u001b[1;39;49m]\u001b[0m\u001b[39;49m A new release of pip is available: \u001b[0m\u001b[31;49m24.3.1\u001b[0m\u001b[39;49m -> \u001b[0m\u001b[32;49m25.0\u001b[0m\n",
      "\u001b[1m[\u001b[0m\u001b[34;49mnotice\u001b[0m\u001b[1;39;49m]\u001b[0m\u001b[39;49m To update, run: \u001b[0m\u001b[32;49mpip install --upgrade pip\u001b[0m\n"
     ]
    },
    {
     "name": "stderr",
     "output_type": "stream",
     "text": [
      "huggingface/tokenizers: The current process just got forked, after parallelism has already been used. Disabling parallelism to avoid deadlocks...\n",
      "To disable this warning, you can either:\n",
      "\t- Avoid using `tokenizers` before the fork if possible\n",
      "\t- Explicitly set the environment variable TOKENIZERS_PARALLELISM=(true | false)\n"
     ]
    },
    {
     "name": "stdout",
     "output_type": "stream",
     "text": [
      "Requirement already satisfied: numpy in /home/oleksii/python/semantic_chunking/semchunk/.venv/lib/python3.12/site-packages (2.2.1)\n",
      "\n",
      "\u001b[1m[\u001b[0m\u001b[34;49mnotice\u001b[0m\u001b[1;39;49m]\u001b[0m\u001b[39;49m A new release of pip is available: \u001b[0m\u001b[31;49m24.3.1\u001b[0m\u001b[39;49m -> \u001b[0m\u001b[32;49m25.0\u001b[0m\n",
      "\u001b[1m[\u001b[0m\u001b[34;49mnotice\u001b[0m\u001b[1;39;49m]\u001b[0m\u001b[39;49m To update, run: \u001b[0m\u001b[32;49mpip install --upgrade pip\u001b[0m\n"
     ]
    }
   ],
   "source": [
    "!pip install \"git+https://github.com/panalexeu/horchunk.git\"\n",
    "!pip install requests\n",
    "!pip install chroma\n",
    "!pip install numpy"
   ]
  },
  {
   "cell_type": "markdown",
   "id": "77afcc66-cc60-4437-8993-77877ac3b6c2",
   "metadata": {},
   "source": [
    "#### Loading datasets from git"
   ]
  },
  {
   "cell_type": "code",
   "execution_count": 20,
   "id": "f9cb5c19-dede-4e12-ad11-485c64ec4489",
   "metadata": {},
   "outputs": [
    {
     "name": "stdout",
     "output_type": "stream",
     "text": [
      "wikitexts: 22406 words\n",
      "chatlogs: 5968 words\n",
      "finance: 116860 words\n",
      "pubmed: 75846 words\n",
      "state_of_the_union: 8468 words\n"
     ]
    }
   ],
   "source": [
    "import requests \n",
    "\n",
    "links_dict = dict(\n",
    "    wikitexts='https://raw.githubusercontent.com/brandonstarxel/chunking_evaluation/refs/heads/main/chunking_evaluation/evaluation_framework/general_evaluation_data/corpora/wikitexts.md',\n",
    "    chatlogs='https://raw.githubusercontent.com/brandonstarxel/chunking_evaluation/refs/heads/main/chunking_evaluation/evaluation_framework/general_evaluation_data/corpora/chatlogs.md',\n",
    "    finance='https://raw.githubusercontent.com/brandonstarxel/chunking_evaluation/refs/heads/main/chunking_evaluation/evaluation_framework/general_evaluation_data/corpora/finance.md',\n",
    "    pubmed='https://raw.githubusercontent.com/brandonstarxel/chunking_evaluation/refs/heads/main/chunking_evaluation/evaluation_framework/general_evaluation_data/corpora/pubmed.md',\n",
    "    state_of_the_union='https://raw.githubusercontent.com/brandonstarxel/chunking_evaluation/refs/heads/main/chunking_evaluation/evaluation_framework/general_evaluation_data/corpora/state_of_the_union.md'\n",
    ") \n",
    "\n",
    "\n",
    "def load_datasets(links_dict: dict) -> dict:\n",
    "    data = dict()\n",
    "    for name, link in links_dict.items():\n",
    "        response = requests.get(link)\n",
    "        data[name] = response.text \n",
    "        \n",
    "    return data \n",
    "\n",
    "datasets = load_datasets(links_dict)\n",
    "for key in datasets.keys():\n",
    "    print(f'{key}: {len(datasets[key].split())} words')"
   ]
  },
  {
   "cell_type": "markdown",
   "id": "7ad1ab97-3a27-42d9-8288-c148470059ef",
   "metadata": {},
   "source": [
    "#### Tuning"
   ]
  },
  {
   "cell_type": "markdown",
   "id": "86ca9638-93d3-412b-ba89-59b7eccf6e0a",
   "metadata": {},
   "source": [
    "Let's start by instantiating WindowTuner."
   ]
  },
  {
   "cell_type": "code",
   "execution_count": 21,
   "id": "ecea916e-ddef-4af9-81b2-36342a8cba4c",
   "metadata": {},
   "outputs": [],
   "source": [
    "from horchunk.chunkers import WindowTuner\n",
    "from chromadb.utils import embedding_functions\n",
    "\n",
    "ef = embedding_functions.DefaultEmbeddingFunction() # all-MiniLM-L6-v2\n",
    "tuner = WindowTuner(ef) "
   ]
  },
  {
   "cell_type": "markdown",
   "id": "c684e184-96f0-4474-96c7-3d8a14e7ec27",
   "metadata": {},
   "source": [
    "In this tutorial, we will tune the minimum threshold for document of 3 sentences in size. We will repeat this process for every dataset. The identified thresholds will then be averaged to determine a single, generalized threshold value."
   ]
  },
  {
   "cell_type": "code",
   "execution_count": 22,
   "id": "739c2b32-818b-448e-9a5c-e951c7996c23",
   "metadata": {},
   "outputs": [],
   "source": [
    "thresholds = []\n",
    "DEPTH = 4"
   ]
  },
  {
   "cell_type": "markdown",
   "id": "af9a769e-454e-4d2e-98fb-11367786c2d8",
   "metadata": {},
   "source": [
    "**wikitexts**"
   ]
  },
  {
   "cell_type": "code",
   "execution_count": 23,
   "id": "ac34551b-28ad-4d3d-b4c5-b365150dd08d",
   "metadata": {
    "scrolled": true
   },
   "outputs": [
    {
     "name": "stderr",
     "output_type": "stream",
     "text": [
      "100%|██████████████████████████████████████████████████████████████████████████████████████████████████████████████████████████████| 1090/1090 [01:50<00:00,  9.90it/s]\n"
     ]
    },
    {
     "data": {
      "text/html": [
       "<pre style=\"white-space:pre;overflow-x:auto;line-height:normal;font-family:Menlo,'DejaVu Sans Mono',consolas,'Courier New',monospace\"><span style=\"color: #008080; text-decoration-color: #008080; font-weight: bold\">1089</span> chunks formed\n",
       "</pre>\n"
      ],
      "text/plain": [
       "\u001b[1;36m1089\u001b[0m chunks formed\n"
      ]
     },
     "metadata": {},
     "output_type": "display_data"
    },
    {
     "data": {
      "text/html": [
       "<pre style=\"white-space:pre;overflow-x:auto;line-height:normal;font-family:Menlo,'DejaVu Sans Mono',consolas,'Courier New',monospace\">Values range: <span style=\"font-weight: bold\">[</span><span style=\"color: #008080; text-decoration-color: #008080; font-weight: bold\">0.013122331351041794</span> <span style=\"color: #808000; text-decoration-color: #808000\">...</span> <span style=\"color: #008080; text-decoration-color: #008080; font-weight: bold\">1.0</span><span style=\"font-weight: bold\">]</span>\n",
       "</pre>\n"
      ],
      "text/plain": [
       "Values range: \u001b[1m[\u001b[0m\u001b[1;36m0.013122331351041794\u001b[0m \u001b[33m...\u001b[0m \u001b[1;36m1.0\u001b[0m\u001b[1m]\u001b[0m\n"
      ]
     },
     "metadata": {},
     "output_type": "display_data"
    },
    {
     "data": {
      "text/html": [
       "<pre style=\"white-space:pre;overflow-x:auto;line-height:normal;font-family:Menlo,'DejaVu Sans Mono',consolas,'Courier New',monospace\">Steps to tune: <span style=\"color: #008080; text-decoration-color: #008080; font-weight: bold\">10</span>\n",
       "</pre>\n"
      ],
      "text/plain": [
       "Steps to tune: \u001b[1;36m10\u001b[0m\n"
      ]
     },
     "metadata": {},
     "output_type": "display_data"
    },
    {
     "data": {
      "text/html": [
       "<pre style=\"white-space:pre;overflow-x:auto;line-height:normal;font-family:Menlo,'DejaVu Sans Mono',consolas,'Courier New',monospace\">--------------------------------\n",
       "</pre>\n"
      ],
      "text/plain": [
       "--------------------------------\n"
      ]
     },
     "metadata": {},
     "output_type": "display_data"
    },
    {
     "data": {
      "text/html": [
       "<pre style=\"white-space:pre;overflow-x:auto;line-height:normal;font-family:Menlo,'DejaVu Sans Mono',consolas,'Courier New',monospace\">dist: <span style=\"color: #008080; text-decoration-color: #008080; font-weight: bold\">0.8389526009559631</span>\n",
       "</pre>\n"
      ],
      "text/plain": [
       "dist: \u001b[1;36m0.8389526009559631\u001b[0m\n"
      ]
     },
     "metadata": {},
     "output_type": "display_data"
    },
    {
     "data": {
      "text/html": [
       "<pre style=\"white-space:pre;overflow-x:auto;line-height:normal;font-family:Menlo,'DejaVu Sans Mono',consolas,'Courier New',monospace\">chunk: <span style=\"color: #c0c0c0; text-decoration-color: #c0c0c0; background-color: #008000\"> </span><span style=\"color: #c0c0c0; text-decoration-color: #c0c0c0; background-color: #008000; font-weight: bold\">&lt;unk&gt;</span><span style=\"color: #c0c0c0; text-decoration-color: #c0c0c0; background-color: #008000\"> M Harrel Telegram , January </span><span style=\"color: #c0c0c0; text-decoration-color: #c0c0c0; background-color: #008000; font-weight: bold\">31</span><span style=\"color: #c0c0c0; text-decoration-color: #c0c0c0; background-color: #008000\"> , </span><span style=\"color: #c0c0c0; text-decoration-color: #c0c0c0; background-color: #008000; font-weight: bold\">1861</span><span style=\"color: #c0c0c0; text-decoration-color: #c0c0c0; background-color: #008000\"> </span><span style=\"color: #c0c0c0; text-decoration-color: #c0c0c0; background-color: #008080\"> The item was intended simply as a piece of news , but </span>\n",
       "<span style=\"color: #c0c0c0; text-decoration-color: #c0c0c0; background-color: #008080\">telegraph lines quickly spread the news throughout the state , fueling procession sentiment .</span>\n",
       "</pre>\n"
      ],
      "text/plain": [
       "chunk: \u001b[37;42m \u001b[0m\u001b[1;37;42m<\u001b[0m\u001b[1;37;42munk\u001b[0m\u001b[1;37;42m>\u001b[0m\u001b[37;42m M Harrel Telegram , January \u001b[0m\u001b[1;37;42m31\u001b[0m\u001b[37;42m , \u001b[0m\u001b[1;37;42m1861\u001b[0m\u001b[37;42m \u001b[0m\u001b[37;46m The item was intended simply as a piece of news , but \u001b[0m\n",
       "\u001b[37;46mtelegraph lines quickly spread the news throughout the state , fueling procession sentiment .\u001b[0m\n"
      ]
     },
     "metadata": {},
     "output_type": "display_data"
    },
    {
     "name": "stdin",
     "output_type": "stream",
     "text": [
      "Type 'k' to raise thresh, or 'j' - to lower it, then press 'Enter':  j\n"
     ]
    },
    {
     "data": {
      "text/html": [
       "<pre style=\"white-space:pre;overflow-x:auto;line-height:normal;font-family:Menlo,'DejaVu Sans Mono',consolas,'Courier New',monospace\">dist: <span style=\"color: #008080; text-decoration-color: #008080; font-weight: bold\">0.7294974327087402</span>\n",
       "</pre>\n"
      ],
      "text/plain": [
       "dist: \u001b[1;36m0.7294974327087402\u001b[0m\n"
      ]
     },
     "metadata": {},
     "output_type": "display_data"
    },
    {
     "data": {
      "text/html": [
       "<pre style=\"white-space:pre;overflow-x:auto;line-height:normal;font-family:Menlo,'DejaVu Sans Mono',consolas,'Courier New',monospace\">chunk: <span style=\"color: #c0c0c0; text-decoration-color: #c0c0c0; background-color: #008000\"> = = = Art education and first professional work = = = </span><span style=\"color: #c0c0c0; text-decoration-color: #c0c0c0; background-color: #008080\"> Barker took correspondence courses in art , probably</span>\n",
       "<span style=\"color: #c0c0c0; text-decoration-color: #c0c0c0; background-color: #008080\">until about </span><span style=\"color: #c0c0c0; text-decoration-color: #c0c0c0; background-color: #008080; font-weight: bold\">1919</span><span style=\"color: #c0c0c0; text-decoration-color: #c0c0c0; background-color: #008080\"> .</span>\n",
       "</pre>\n"
      ],
      "text/plain": [
       "chunk: \u001b[37;42m = = = Art education and first professional work = = = \u001b[0m\u001b[37;46m Barker took correspondence courses in art , probably\u001b[0m\n",
       "\u001b[37;46muntil about \u001b[0m\u001b[1;37;46m1919\u001b[0m\u001b[37;46m .\u001b[0m\n"
      ]
     },
     "metadata": {},
     "output_type": "display_data"
    },
    {
     "name": "stdin",
     "output_type": "stream",
     "text": [
      "Type 'k' to raise thresh, or 'j' - to lower it, then press 'Enter':  k\n"
     ]
    },
    {
     "data": {
      "text/html": [
       "<pre style=\"white-space:pre;overflow-x:auto;line-height:normal;font-family:Menlo,'DejaVu Sans Mono',consolas,'Courier New',monospace\">dist: <span style=\"color: #008080; text-decoration-color: #008080; font-weight: bold\">0.7923015356063843</span>\n",
       "</pre>\n"
      ],
      "text/plain": [
       "dist: \u001b[1;36m0.7923015356063843\u001b[0m\n"
      ]
     },
     "metadata": {},
     "output_type": "display_data"
    },
    {
     "data": {
      "text/html": [
       "<pre style=\"white-space:pre;overflow-x:auto;line-height:normal;font-family:Menlo,'DejaVu Sans Mono',consolas,'Courier New',monospace\">chunk: <span style=\"color: #c0c0c0; text-decoration-color: #c0c0c0; background-color: #008000\">Together with their fellow squad members , these three are tasked to fight against a mysterious Imperial </span>\n",
       "<span style=\"color: #c0c0c0; text-decoration-color: #c0c0c0; background-color: #008000\">unit known as Calamity Raven , consisting of mostly Darcsen soldiers .</span><span style=\"color: #c0c0c0; text-decoration-color: #c0c0c0; background-color: #008080\"> As the Nameless officially do not exist , </span>\n",
       "<span style=\"color: #c0c0c0; text-decoration-color: #c0c0c0; background-color: #008080\">the upper echelons of the Gallian Army exploit the concept of plausible deniability in order to send them on </span>\n",
       "<span style=\"color: #c0c0c0; text-decoration-color: #c0c0c0; background-color: #008080\">missions that would otherwise make Gallia lose face in the war .</span>\n",
       "</pre>\n"
      ],
      "text/plain": [
       "chunk: \u001b[37;42mTogether with their fellow squad members , these three are tasked to fight against a mysterious Imperial \u001b[0m\n",
       "\u001b[37;42munit known as Calamity Raven , consisting of mostly Darcsen soldiers .\u001b[0m\u001b[37;46m As the Nameless officially do not exist , \u001b[0m\n",
       "\u001b[37;46mthe upper echelons of the Gallian Army exploit the concept of plausible deniability in order to send them on \u001b[0m\n",
       "\u001b[37;46mmissions that would otherwise make Gallia lose face in the war .\u001b[0m\n"
      ]
     },
     "metadata": {},
     "output_type": "display_data"
    },
    {
     "name": "stdin",
     "output_type": "stream",
     "text": [
      "Type 'k' to raise thresh, or 'j' - to lower it, then press 'Enter':  k\n"
     ]
    },
    {
     "data": {
      "text/html": [
       "<pre style=\"white-space:pre;overflow-x:auto;line-height:normal;font-family:Menlo,'DejaVu Sans Mono',consolas,'Courier New',monospace\">dist: <span style=\"color: #008080; text-decoration-color: #008080; font-weight: bold\">0.8145226836204529</span>\n",
       "</pre>\n"
      ],
      "text/plain": [
       "dist: \u001b[1;36m0.8145226836204529\u001b[0m\n"
      ]
     },
     "metadata": {},
     "output_type": "display_data"
    },
    {
     "data": {
      "text/html": [
       "<pre style=\"white-space:pre;overflow-x:auto;line-height:normal;font-family:Menlo,'DejaVu Sans Mono',consolas,'Courier New',monospace\">chunk: <span style=\"color: #c0c0c0; text-decoration-color: #c0c0c0; background-color: #008000\">In </span><span style=\"color: #c0c0c0; text-decoration-color: #c0c0c0; background-color: #008000; font-weight: bold\">1888</span><span style=\"color: #c0c0c0; text-decoration-color: #c0c0c0; background-color: #008000\"> , the gift of a </span><span style=\"color: #c0c0c0; text-decoration-color: #c0c0c0; background-color: #008000; font-weight: bold\">16</span><span style=\"color: #c0c0c0; text-decoration-color: #c0c0c0; background-color: #008000\"> inch long telescope to Pope Leo XIII , became a part of the observatory .</span><span style=\"color: #c0c0c0; text-decoration-color: #c0c0c0; background-color: #008080\">Father </span>\n",
       "<span style=\"color: #c0c0c0; text-decoration-color: #c0c0c0; background-color: #008080\">Denza joined the observatory in </span><span style=\"color: #c0c0c0; text-decoration-color: #c0c0c0; background-color: #008080; font-weight: bold\">1889</span><span style=\"color: #c0c0c0; text-decoration-color: #c0c0c0; background-color: #008080\"> after it was upgraded with more modern instruments .</span>\n",
       "</pre>\n"
      ],
      "text/plain": [
       "chunk: \u001b[37;42mIn \u001b[0m\u001b[1;37;42m1888\u001b[0m\u001b[37;42m , the gift of a \u001b[0m\u001b[1;37;42m16\u001b[0m\u001b[37;42m inch long telescope to Pope Leo XIII , became a part of the observatory .\u001b[0m\u001b[37;46mFather \u001b[0m\n",
       "\u001b[37;46mDenza joined the observatory in \u001b[0m\u001b[1;37;46m1889\u001b[0m\u001b[37;46m after it was upgraded with more modern instruments .\u001b[0m\n"
      ]
     },
     "metadata": {},
     "output_type": "display_data"
    },
    {
     "name": "stdin",
     "output_type": "stream",
     "text": [
      "Type 'k' to raise thresh, or 'j' - to lower it, then press 'Enter':  j\n"
     ]
    },
    {
     "data": {
      "text/html": [
       "<pre style=\"white-space:pre;overflow-x:auto;line-height:normal;font-family:Menlo,'DejaVu Sans Mono',consolas,'Courier New',monospace\">dist: <span style=\"color: #008080; text-decoration-color: #008080; font-weight: bold\">0.805361807346344</span>\n",
       "</pre>\n"
      ],
      "text/plain": [
       "dist: \u001b[1;36m0.805361807346344\u001b[0m\n"
      ]
     },
     "metadata": {},
     "output_type": "display_data"
    },
    {
     "data": {
      "text/html": [
       "<pre style=\"white-space:pre;overflow-x:auto;line-height:normal;font-family:Menlo,'DejaVu Sans Mono',consolas,'Courier New',monospace\">chunk: <span style=\"color: #c0c0c0; text-decoration-color: #c0c0c0; background-color: #008000\"> In </span><span style=\"color: #c0c0c0; text-decoration-color: #c0c0c0; background-color: #008000; font-weight: bold\">1911</span><span style=\"color: #c0c0c0; text-decoration-color: #c0c0c0; background-color: #008000\"> , Raphael Tuck &amp; Sons bought four of Barker </span><span style=\"color: #c0c0c0; text-decoration-color: #c0c0c0; background-color: #008000\">'s \" little drawings \" for half a sovereign , and </span>\n",
       "<span style=\"color: #c0c0c0; text-decoration-color: #c0c0c0; background-color: #008000\">published them as postcards .</span><span style=\"color: #c0c0c0; text-decoration-color: #c0c0c0; background-color: #008080\">In October 1911 , she won second prize in the Croydon Art Society '</span><span style=\"color: #c0c0c0; text-decoration-color: #c0c0c0; background-color: #008080\">s poster </span>\n",
       "<span style=\"color: #c0c0c0; text-decoration-color: #c0c0c0; background-color: #008080\">competition , and shortly afterward was elected the youngest member of the Society .</span>\n",
       "</pre>\n"
      ],
      "text/plain": [
       "chunk: \u001b[37;42m In \u001b[0m\u001b[1;37;42m1911\u001b[0m\u001b[37;42m , Raphael Tuck & Sons bought four of Barker \u001b[0m\u001b[37;42m's \" little drawings \" for half a sovereign , and \u001b[0m\n",
       "\u001b[37;42mpublished them as postcards .\u001b[0m\u001b[37;46mIn October 1911 , she won second prize in the Croydon Art Society '\u001b[0m\u001b[37;46ms poster \u001b[0m\n",
       "\u001b[37;46mcompetition , and shortly afterward was elected the youngest member of the Society .\u001b[0m\n"
      ]
     },
     "metadata": {},
     "output_type": "display_data"
    },
    {
     "name": "stdin",
     "output_type": "stream",
     "text": [
      "Type 'k' to raise thresh, or 'j' - to lower it, then press 'Enter':  k\n"
     ]
    },
    {
     "data": {
      "text/html": [
       "<pre style=\"white-space:pre;overflow-x:auto;line-height:normal;font-family:Menlo,'DejaVu Sans Mono',consolas,'Courier New',monospace\">dist: <span style=\"color: #008080; text-decoration-color: #008080; font-weight: bold\">0.8108457922935486</span>\n",
       "</pre>\n"
      ],
      "text/plain": [
       "dist: \u001b[1;36m0.8108457922935486\u001b[0m\n"
      ]
     },
     "metadata": {},
     "output_type": "display_data"
    },
    {
     "data": {
      "text/html": [
       "<pre style=\"white-space:pre;overflow-x:auto;line-height:normal;font-family:Menlo,'DejaVu Sans Mono',consolas,'Courier New',monospace\">chunk: <span style=\"color: #c0c0c0; text-decoration-color: #c0c0c0; background-color: #008000\"> In </span><span style=\"color: #c0c0c0; text-decoration-color: #c0c0c0; background-color: #008000; font-weight: bold\">1923</span><span style=\"color: #c0c0c0; text-decoration-color: #c0c0c0; background-color: #008000\"> , Barker sent her flower fairy paintings to various publishers .</span><span style=\"color: #c0c0c0; text-decoration-color: #c0c0c0; background-color: #008080\">Blackie paid £ </span><span style=\"color: #c0c0c0; text-decoration-color: #c0c0c0; background-color: #008080; font-weight: bold\">25</span><span style=\"color: #c0c0c0; text-decoration-color: #c0c0c0; background-color: #008080\"> for </span><span style=\"color: #c0c0c0; text-decoration-color: #c0c0c0; background-color: #008080; font-weight: bold\">24</span><span style=\"color: #c0c0c0; text-decoration-color: #c0c0c0; background-color: #008080\"> paintings </span>\n",
       "<span style=\"color: #c0c0c0; text-decoration-color: #c0c0c0; background-color: #008080\">with accompanying verses , but it wasn 't until publication of Flower Fairies of the Summer in </span><span style=\"color: #c0c0c0; text-decoration-color: #c0c0c0; background-color: #008080; font-weight: bold\">1925</span><span style=\"color: #c0c0c0; text-decoration-color: #c0c0c0; background-color: #008080\"> that Barker </span>\n",
       "<span style=\"color: #c0c0c0; text-decoration-color: #c0c0c0; background-color: #008080\">received royalties for her work .</span>\n",
       "</pre>\n"
      ],
      "text/plain": [
       "chunk: \u001b[37;42m In \u001b[0m\u001b[1;37;42m1923\u001b[0m\u001b[37;42m , Barker sent her flower fairy paintings to various publishers .\u001b[0m\u001b[37;46mBlackie paid £ \u001b[0m\u001b[1;37;46m25\u001b[0m\u001b[37;46m for \u001b[0m\u001b[1;37;46m24\u001b[0m\u001b[37;46m paintings \u001b[0m\n",
       "\u001b[37;46mwith accompanying verses , but it wasn 't until publication of Flower Fairies of the Summer in \u001b[0m\u001b[1;37;46m1925\u001b[0m\u001b[37;46m that Barker \u001b[0m\n",
       "\u001b[37;46mreceived royalties for her work .\u001b[0m\n"
      ]
     },
     "metadata": {},
     "output_type": "display_data"
    },
    {
     "name": "stdin",
     "output_type": "stream",
     "text": [
      "Type 'k' to raise thresh, or 'j' - to lower it, then press 'Enter':  j\n"
     ]
    },
    {
     "data": {
      "text/html": [
       "<pre style=\"white-space:pre;overflow-x:auto;line-height:normal;font-family:Menlo,'DejaVu Sans Mono',consolas,'Courier New',monospace\">dist: <span style=\"color: #008080; text-decoration-color: #008080; font-weight: bold\">0.8078387379646301</span>\n",
       "</pre>\n"
      ],
      "text/plain": [
       "dist: \u001b[1;36m0.8078387379646301\u001b[0m\n"
      ]
     },
     "metadata": {},
     "output_type": "display_data"
    },
    {
     "data": {
      "text/html": [
       "<pre style=\"white-space:pre;overflow-x:auto;line-height:normal;font-family:Menlo,'DejaVu Sans Mono',consolas,'Courier New',monospace\">chunk: <span style=\"color: #c0c0c0; text-decoration-color: #c0c0c0; background-color: #008000\">Andrews , Croydon , </span><span style=\"color: #c0c0c0; text-decoration-color: #c0c0c0; background-color: #008000; font-weight: bold\">1943</span><span style=\"color: #c0c0c0; text-decoration-color: #c0c0c0; background-color: #008000\"> </span><span style=\"color: #c0c0c0; text-decoration-color: #c0c0c0; background-color: #008080\"> </span><span style=\"color: #c0c0c0; text-decoration-color: #c0c0c0; background-color: #008080; font-weight: bold\">&lt;unk&gt;</span><span style=\"color: #c0c0c0; text-decoration-color: #c0c0c0; background-color: #008080\"> rolls ; St.</span>\n",
       "</pre>\n"
      ],
      "text/plain": [
       "chunk: \u001b[37;42mAndrews , Croydon , \u001b[0m\u001b[1;37;42m1943\u001b[0m\u001b[37;42m \u001b[0m\u001b[37;46m \u001b[0m\u001b[1;37;46m<\u001b[0m\u001b[1;37;46munk\u001b[0m\u001b[1;37;46m>\u001b[0m\u001b[37;46m rolls ; St.\u001b[0m\n"
      ]
     },
     "metadata": {},
     "output_type": "display_data"
    },
    {
     "name": "stdin",
     "output_type": "stream",
     "text": [
      "Type 'k' to raise thresh, or 'j' - to lower it, then press 'Enter':  j\n"
     ]
    },
    {
     "data": {
      "text/html": [
       "<pre style=\"white-space:pre;overflow-x:auto;line-height:normal;font-family:Menlo,'DejaVu Sans Mono',consolas,'Courier New',monospace\">dist: <span style=\"color: #008080; text-decoration-color: #008080; font-weight: bold\">0.8062049746513367</span>\n",
       "</pre>\n"
      ],
      "text/plain": [
       "dist: \u001b[1;36m0.8062049746513367\u001b[0m\n"
      ]
     },
     "metadata": {},
     "output_type": "display_data"
    },
    {
     "data": {
      "text/html": [
       "<pre style=\"white-space:pre;overflow-x:auto;line-height:normal;font-family:Menlo,'DejaVu Sans Mono',consolas,'Courier New',monospace\">chunk: <span style=\"color: #c0c0c0; text-decoration-color: #c0c0c0; background-color: #008000\">When the latter ship closed to within about </span><span style=\"color: #c0c0c0; text-decoration-color: #c0c0c0; background-color: #008000; font-weight: bold\">1</span><span style=\"color: #c0c0c0; text-decoration-color: #c0c0c0; background-color: #008000\"> @.@ </span><span style=\"color: #c0c0c0; text-decoration-color: #c0c0c0; background-color: #008000; font-weight: bold\">5</span><span style=\"color: #c0c0c0; text-decoration-color: #c0c0c0; background-color: #008000\"> miles </span><span style=\"color: #c0c0c0; text-decoration-color: #c0c0c0; background-color: #008000; font-weight: bold\">(</span><span style=\"color: #c0c0c0; text-decoration-color: #c0c0c0; background-color: #008000\"> </span><span style=\"color: #c0c0c0; text-decoration-color: #c0c0c0; background-color: #008000; font-weight: bold\">2</span><span style=\"color: #c0c0c0; text-decoration-color: #c0c0c0; background-color: #008000\"> @.@ </span><span style=\"color: #c0c0c0; text-decoration-color: #c0c0c0; background-color: #008000; font-weight: bold\">4</span><span style=\"color: #c0c0c0; text-decoration-color: #c0c0c0; background-color: #008000\"> km </span><span style=\"color: #c0c0c0; text-decoration-color: #c0c0c0; background-color: #008000; font-weight: bold\">)</span><span style=\"color: #c0c0c0; text-decoration-color: #c0c0c0; background-color: #008000\"> of the two Union ships , she fired </span>\n",
       "<span style=\"color: #c0c0c0; text-decoration-color: #c0c0c0; background-color: #008000\">one round from her bow gun that passed over Weehawken and landed near Nahant .</span><span style=\"color: #c0c0c0; text-decoration-color: #c0c0c0; background-color: #008080\">Shortly afterward , Atlanta ran </span>\n",
       "<span style=\"color: #c0c0c0; text-decoration-color: #c0c0c0; background-color: #008080\">aground on a sandbar ; she was briefly able to free herself , but the pressure of the tide pushed her back onto the</span>\n",
       "<span style=\"color: #c0c0c0; text-decoration-color: #c0c0c0; background-color: #008080\">sandbar .</span>\n",
       "</pre>\n"
      ],
      "text/plain": [
       "chunk: \u001b[37;42mWhen the latter ship closed to within about \u001b[0m\u001b[1;37;42m1\u001b[0m\u001b[37;42m @.@ \u001b[0m\u001b[1;37;42m5\u001b[0m\u001b[37;42m miles \u001b[0m\u001b[1;37;42m(\u001b[0m\u001b[37;42m \u001b[0m\u001b[1;37;42m2\u001b[0m\u001b[37;42m @.@ \u001b[0m\u001b[1;37;42m4\u001b[0m\u001b[37;42m km \u001b[0m\u001b[1;37;42m)\u001b[0m\u001b[37;42m of the two Union ships , she fired \u001b[0m\n",
       "\u001b[37;42mone round from her bow gun that passed over Weehawken and landed near Nahant .\u001b[0m\u001b[37;46mShortly afterward , Atlanta ran \u001b[0m\n",
       "\u001b[37;46maground on a sandbar ; she was briefly able to free herself , but the pressure of the tide pushed her back onto the\u001b[0m\n",
       "\u001b[37;46msandbar .\u001b[0m\n"
      ]
     },
     "metadata": {},
     "output_type": "display_data"
    },
    {
     "name": "stdin",
     "output_type": "stream",
     "text": [
      "Type 'k' to raise thresh, or 'j' - to lower it, then press 'Enter':  k\n"
     ]
    },
    {
     "data": {
      "text/html": [
       "<pre style=\"white-space:pre;overflow-x:auto;line-height:normal;font-family:Menlo,'DejaVu Sans Mono',consolas,'Courier New',monospace\">dist: <span style=\"color: #008080; text-decoration-color: #008080; font-weight: bold\">0.8073257803916931</span>\n",
       "</pre>\n"
      ],
      "text/plain": [
       "dist: \u001b[1;36m0.8073257803916931\u001b[0m\n"
      ]
     },
     "metadata": {},
     "output_type": "display_data"
    },
    {
     "data": {
      "text/html": [
       "<pre style=\"white-space:pre;overflow-x:auto;line-height:normal;font-family:Menlo,'DejaVu Sans Mono',consolas,'Courier New',monospace\">chunk: <span style=\"color: #c0c0c0; text-decoration-color: #c0c0c0; background-color: #008000\">The route continues to travel through farmland for sixteen miles </span><span style=\"color: #c0c0c0; text-decoration-color: #c0c0c0; background-color: #008000; font-weight: bold\">(</span><span style=\"color: #c0c0c0; text-decoration-color: #c0c0c0; background-color: #008000\"> </span><span style=\"color: #c0c0c0; text-decoration-color: #c0c0c0; background-color: #008000; font-weight: bold\">26</span><span style=\"color: #c0c0c0; text-decoration-color: #c0c0c0; background-color: #008000\"> km </span><span style=\"color: #c0c0c0; text-decoration-color: #c0c0c0; background-color: #008000; font-weight: bold\">)</span><span style=\"color: #c0c0c0; text-decoration-color: #c0c0c0; background-color: #008000\"> , where it enters Morrill County </span>\n",
       "<span style=\"color: #c0c0c0; text-decoration-color: #c0c0c0; background-color: #008000\">.</span><span style=\"color: #c0c0c0; text-decoration-color: #c0c0c0; background-color: #008080\">The road crosses over Pumpkin Creek four times , and enters the unincorporated community of </span><span style=\"color: #c0c0c0; text-decoration-color: #c0c0c0; background-color: #008080; font-weight: bold\">&lt;unk&gt;</span><span style=\"color: #c0c0c0; text-decoration-color: #c0c0c0; background-color: #008080\"> .</span>\n",
       "</pre>\n"
      ],
      "text/plain": [
       "chunk: \u001b[37;42mThe route continues to travel through farmland for sixteen miles \u001b[0m\u001b[1;37;42m(\u001b[0m\u001b[37;42m \u001b[0m\u001b[1;37;42m26\u001b[0m\u001b[37;42m km \u001b[0m\u001b[1;37;42m)\u001b[0m\u001b[37;42m , where it enters Morrill County \u001b[0m\n",
       "\u001b[37;42m.\u001b[0m\u001b[37;46mThe road crosses over Pumpkin Creek four times , and enters the unincorporated community of \u001b[0m\u001b[1;37;46m<\u001b[0m\u001b[1;37;46munk\u001b[0m\u001b[1;37;46m>\u001b[0m\u001b[37;46m .\u001b[0m\n"
      ]
     },
     "metadata": {},
     "output_type": "display_data"
    },
    {
     "name": "stdin",
     "output_type": "stream",
     "text": [
      "Type 'k' to raise thresh, or 'j' - to lower it, then press 'Enter':  j\n"
     ]
    },
    {
     "data": {
      "text/html": [
       "<pre style=\"white-space:pre;overflow-x:auto;line-height:normal;font-family:Menlo,'DejaVu Sans Mono',consolas,'Courier New',monospace\">dist: <span style=\"color: #008080; text-decoration-color: #008080; font-weight: bold\">0.8072338700294495</span>\n",
       "</pre>\n"
      ],
      "text/plain": [
       "dist: \u001b[1;36m0.8072338700294495\u001b[0m\n"
      ]
     },
     "metadata": {},
     "output_type": "display_data"
    },
    {
     "data": {
      "text/html": [
       "<pre style=\"white-space:pre;overflow-x:auto;line-height:normal;font-family:Menlo,'DejaVu Sans Mono',consolas,'Courier New',monospace\">chunk: <span style=\"color: #c0c0c0; text-decoration-color: #c0c0c0; background-color: #008000\">Barker sometimes incorporated portraits of her fellow parishioners in her religious works .</span><span style=\"color: #c0c0c0; text-decoration-color: #c0c0c0; background-color: #008080\">She was described</span>\n",
       "<span style=\"color: #c0c0c0; text-decoration-color: #c0c0c0; background-color: #008080\">by Canon Ingram Hill as </span><span style=\"color: #c0c0c0; text-decoration-color: #c0c0c0; background-color: #008080\">\" one of the pillars \"</span><span style=\"color: #c0c0c0; text-decoration-color: #c0c0c0; background-color: #008080\"> of St.</span>\n",
       "</pre>\n"
      ],
      "text/plain": [
       "chunk: \u001b[37;42mBarker sometimes incorporated portraits of her fellow parishioners in her religious works .\u001b[0m\u001b[37;46mShe was described\u001b[0m\n",
       "\u001b[37;46mby Canon Ingram Hill as \u001b[0m\u001b[37;46m\" one of the pillars \"\u001b[0m\u001b[37;46m of St.\u001b[0m\n"
      ]
     },
     "metadata": {},
     "output_type": "display_data"
    },
    {
     "data": {
      "text/html": [
       "<pre style=\"white-space:pre;overflow-x:auto;line-height:normal;font-family:Menlo,'DejaVu Sans Mono',consolas,'Courier New',monospace\">Tuning ended, thresh value: <span style=\"color: #008080; text-decoration-color: #008080; font-weight: bold\">0.8072338700294495</span> = <span style=\"color: #008080; text-decoration-color: #008080; font-weight: bold\">0.80</span>\n",
       "</pre>\n"
      ],
      "text/plain": [
       "Tuning ended, thresh value: \u001b[1;36m0.8072338700294495\u001b[0m = \u001b[1;36m0.80\u001b[0m\n"
      ]
     },
     "metadata": {},
     "output_type": "display_data"
    }
   ],
   "source": [
    "from horchunk.splitters import SentenceSplitter \n",
    "\n",
    "splitter = SentenceSplitter(text=datasets['wikitexts'])\n",
    "splits = splitter()\n",
    "res = tuner(splits, depth=DEPTH)\n",
    "thresholds.append(res)"
   ]
  },
  {
   "cell_type": "markdown",
   "id": "cc108735-b958-4a4f-9118-8993853b0d50",
   "metadata": {},
   "source": [
    "**chatlogs**"
   ]
  },
  {
   "cell_type": "code",
   "execution_count": 24,
   "id": "49e2d85a-4660-43e1-bbbf-8d96f9b44ec3",
   "metadata": {
    "scrolled": true
   },
   "outputs": [
    {
     "name": "stderr",
     "output_type": "stream",
     "text": [
      "100%|████████████████████████████████████████████████████████████████████████████████████████████████████████████████████████████████| 257/257 [00:28<00:00,  8.91it/s]\n"
     ]
    },
    {
     "data": {
      "text/html": [
       "<pre style=\"white-space:pre;overflow-x:auto;line-height:normal;font-family:Menlo,'DejaVu Sans Mono',consolas,'Courier New',monospace\"><span style=\"color: #008080; text-decoration-color: #008080; font-weight: bold\">257</span> chunks formed\n",
       "</pre>\n"
      ],
      "text/plain": [
       "\u001b[1;36m257\u001b[0m chunks formed\n"
      ]
     },
     "metadata": {},
     "output_type": "display_data"
    },
    {
     "data": {
      "text/html": [
       "<pre style=\"white-space:pre;overflow-x:auto;line-height:normal;font-family:Menlo,'DejaVu Sans Mono',consolas,'Courier New',monospace\">Values range: <span style=\"font-weight: bold\">[</span><span style=\"color: #008080; text-decoration-color: #008080; font-weight: bold\">0.05278143659234047</span> <span style=\"color: #808000; text-decoration-color: #808000\">...</span> <span style=\"color: #008080; text-decoration-color: #008080; font-weight: bold\">1.000000238418579</span><span style=\"font-weight: bold\">]</span>\n",
       "</pre>\n"
      ],
      "text/plain": [
       "Values range: \u001b[1m[\u001b[0m\u001b[1;36m0.05278143659234047\u001b[0m \u001b[33m...\u001b[0m \u001b[1;36m1.000000238418579\u001b[0m\u001b[1m]\u001b[0m\n"
      ]
     },
     "metadata": {},
     "output_type": "display_data"
    },
    {
     "data": {
      "text/html": [
       "<pre style=\"white-space:pre;overflow-x:auto;line-height:normal;font-family:Menlo,'DejaVu Sans Mono',consolas,'Courier New',monospace\">Steps to tune: <span style=\"color: #008080; text-decoration-color: #008080; font-weight: bold\">8</span>\n",
       "</pre>\n"
      ],
      "text/plain": [
       "Steps to tune: \u001b[1;36m8\u001b[0m\n"
      ]
     },
     "metadata": {},
     "output_type": "display_data"
    },
    {
     "data": {
      "text/html": [
       "<pre style=\"white-space:pre;overflow-x:auto;line-height:normal;font-family:Menlo,'DejaVu Sans Mono',consolas,'Courier New',monospace\">--------------------------------\n",
       "</pre>\n"
      ],
      "text/plain": [
       "--------------------------------\n"
      ]
     },
     "metadata": {},
     "output_type": "display_data"
    },
    {
     "data": {
      "text/html": [
       "<pre style=\"white-space:pre;overflow-x:auto;line-height:normal;font-family:Menlo,'DejaVu Sans Mono',consolas,'Courier New',monospace\">dist: <span style=\"color: #008080; text-decoration-color: #008080; font-weight: bold\">0.8679243922233582</span>\n",
       "</pre>\n"
      ],
      "text/plain": [
       "dist: \u001b[1;36m0.8679243922233582\u001b[0m\n"
      ]
     },
     "metadata": {},
     "output_type": "display_data"
    },
    {
     "data": {
      "text/html": [
       "<pre style=\"white-space:pre;overflow-x:auto;line-height:normal;font-family:Menlo,'DejaVu Sans Mono',consolas,'Courier New',monospace\">chunk: <span style=\"color: #c0c0c0; text-decoration-color: #c0c0c0; background-color: #008000\">The Viktor Wynd Museum of Curiosities - a small museum filled with strange and unusual objects, taxidermy, </span>\n",
       "<span style=\"color: #c0c0c0; text-decoration-color: #c0c0c0; background-color: #008000\">and rare books.\\n\\n7.</span><span style=\"color: #c0c0c0; text-decoration-color: #c0c0c0; background-color: #008080\">The Cross Bones Graveyard - a medieval graveyard that became known as an outcast cemetery with</span>\n",
       "<span style=\"color: #c0c0c0; text-decoration-color: #c0c0c0; background-color: #008080\">a history connected to the sex industry, now a memorial garden.\\n\\n8.</span>\n",
       "</pre>\n"
      ],
      "text/plain": [
       "chunk: \u001b[37;42mThe Viktor Wynd Museum of Curiosities - a small museum filled with strange and unusual objects, taxidermy, \u001b[0m\n",
       "\u001b[37;42mand rare books.\\n\\n7.\u001b[0m\u001b[37;46mThe Cross Bones Graveyard - a medieval graveyard that became known as an outcast cemetery with\u001b[0m\n",
       "\u001b[37;46ma history connected to the sex industry, now a memorial garden.\\n\\n8.\u001b[0m\n"
      ]
     },
     "metadata": {},
     "output_type": "display_data"
    },
    {
     "name": "stdin",
     "output_type": "stream",
     "text": [
      "Type 'k' to raise thresh, or 'j' - to lower it, then press 'Enter':  k\n"
     ]
    },
    {
     "data": {
      "text/html": [
       "<pre style=\"white-space:pre;overflow-x:auto;line-height:normal;font-family:Menlo,'DejaVu Sans Mono',consolas,'Courier New',monospace\">dist: <span style=\"color: #008080; text-decoration-color: #008080; font-weight: bold\">0.9331833124160767</span>\n",
       "</pre>\n"
      ],
      "text/plain": [
       "dist: \u001b[1;36m0.9331833124160767\u001b[0m\n"
      ]
     },
     "metadata": {},
     "output_type": "display_data"
    },
    {
     "data": {
      "text/html": [
       "<pre style=\"white-space:pre;overflow-x:auto;line-height:normal;font-family:Menlo,'DejaVu Sans Mono',consolas,'Courier New',monospace\">chunk: <span style=\"color: #c0c0c0; text-decoration-color: #c0c0c0; background-color: #008000\">I will analyze the ways in which social media usage affects communication patterns, trust levels, and </span>\n",
       "<span style=\"color: #c0c0c0; text-decoration-color: #c0c0c0; background-color: #008000\">emotional connections in romantic partnerships, friendships, and family relationships.</span><span style=\"color: #c0c0c0; text-decoration-color: #c0c0c0; background-color: #008080\">I will also consider the role</span>\n",
       "<span style=\"color: #c0c0c0; text-decoration-color: #c0c0c0; background-color: #008080\">that social comparison, cyberbullying, and privacy concerns play in shaping the impact of social media use on </span>\n",
       "<span style=\"color: #c0c0c0; text-decoration-color: #c0c0c0; background-color: #008080\">personal relationships.</span>\n",
       "</pre>\n"
      ],
      "text/plain": [
       "chunk: \u001b[37;42mI will analyze the ways in which social media usage affects communication patterns, trust levels, and \u001b[0m\n",
       "\u001b[37;42memotional connections in romantic partnerships, friendships, and family relationships.\u001b[0m\u001b[37;46mI will also consider the role\u001b[0m\n",
       "\u001b[37;46mthat social comparison, cyberbullying, and privacy concerns play in shaping the impact of social media use on \u001b[0m\n",
       "\u001b[37;46mpersonal relationships.\u001b[0m\n"
      ]
     },
     "metadata": {},
     "output_type": "display_data"
    },
    {
     "name": "stdin",
     "output_type": "stream",
     "text": [
      "Type 'k' to raise thresh, or 'j' - to lower it, then press 'Enter':  j\n"
     ]
    },
    {
     "data": {
      "text/html": [
       "<pre style=\"white-space:pre;overflow-x:auto;line-height:normal;font-family:Menlo,'DejaVu Sans Mono',consolas,'Courier New',monospace\">dist: <span style=\"color: #008080; text-decoration-color: #008080; font-weight: bold\">0.9055249691009521</span>\n",
       "</pre>\n"
      ],
      "text/plain": [
       "dist: \u001b[1;36m0.9055249691009521\u001b[0m\n"
      ]
     },
     "metadata": {},
     "output_type": "display_data"
    },
    {
     "data": {
      "text/html": [
       "<pre style=\"white-space:pre;overflow-x:auto;line-height:normal;font-family:Menlo,'DejaVu Sans Mono',consolas,'Courier New',monospace\">chunk: <span style=\"color: #c0c0c0; text-decoration-color: #c0c0c0; background-color: #008000\">Save the changes and preview the Collection/Featured Collection page to see the effect.\\n\\nIf you're having </span>\n",
       "<span style=\"color: #c0c0c0; text-decoration-color: #c0c0c0; background-color: #008000\">trouble finding the setting, the best thing to do is refer to your theme's documentation, since the location and </span>\n",
       "<span style=\"color: #c0c0c0; text-decoration-color: #c0c0c0; background-color: #008000\">labeling of settings can vary between themes.</span><span style=\"color: #c0c0c0; text-decoration-color: #c0c0c0; background-color: #008000\">\", 'role': 'assistant'}, {'content': 'Can you provide me with a link </span>\n",
       "<span style=\"color: #c0c0c0; text-decoration-color: #c0c0c0; background-color: #008000\">to the documentation for my theme?', 'role': 'user'}, {'content': \"</span><span style=\"color: #c0c0c0; text-decoration-color: #c0c0c0; background-color: #008000\">I don't have access to your store's theme </span>\n",
       "<span style=\"color: #c0c0c0; text-decoration-color: #c0c0c0; background-color: #008000\">information.</span><span style=\"color: #c0c0c0; text-decoration-color: #c0c0c0; background-color: #008080\">However, you can usually find the documentation for your theme by going to the shopify theme store, </span>\n",
       "<span style=\"color: #c0c0c0; text-decoration-color: #c0c0c0; background-color: #008080\">finding your theme and clicking on the </span><span style=\"color: #c0c0c0; text-decoration-color: #c0c0c0; background-color: #008080\">'support'</span><span style=\"color: #c0c0c0; text-decoration-color: #c0c0c0; background-color: #008080\"> link located in the bottom right corner of the page.</span>\n",
       "</pre>\n"
      ],
      "text/plain": [
       "chunk: \u001b[37;42mSave the changes and preview the Collection/Featured Collection page to see the effect.\\n\\nIf you're having \u001b[0m\n",
       "\u001b[37;42mtrouble finding the setting, the best thing to do is refer to your theme's documentation, since the location and \u001b[0m\n",
       "\u001b[37;42mlabeling of settings can vary between themes.\u001b[0m\u001b[37;42m\", 'role': 'assistant'\u001b[0m\u001b[37;42m}\u001b[0m\u001b[37;42m, \u001b[0m\u001b[37;42m{\u001b[0m\u001b[37;42m'content': 'Can you provide me with a link \u001b[0m\n",
       "\u001b[37;42mto the documentation for my theme?', 'role': 'user'\u001b[0m\u001b[37;42m}\u001b[0m\u001b[37;42m, \u001b[0m\u001b[37;42m{\u001b[0m\u001b[37;42m'content': \"\u001b[0m\u001b[37;42mI don't have access to your store's theme \u001b[0m\n",
       "\u001b[37;42minformation.\u001b[0m\u001b[37;46mHowever, you can usually find the documentation for your theme by going to the shopify theme store, \u001b[0m\n",
       "\u001b[37;46mfinding your theme and clicking on the \u001b[0m\u001b[37;46m'support'\u001b[0m\u001b[37;46m link located in the bottom right corner of the page.\u001b[0m\n"
      ]
     },
     "metadata": {},
     "output_type": "display_data"
    },
    {
     "name": "stdin",
     "output_type": "stream",
     "text": [
      "Type 'k' to raise thresh, or 'j' - to lower it, then press 'Enter':  j\n"
     ]
    },
    {
     "data": {
      "text/html": [
       "<pre style=\"white-space:pre;overflow-x:auto;line-height:normal;font-family:Menlo,'DejaVu Sans Mono',consolas,'Courier New',monospace\">dist: <span style=\"color: #008080; text-decoration-color: #008080; font-weight: bold\">0.8824578523635864</span>\n",
       "</pre>\n"
      ],
      "text/plain": [
       "dist: \u001b[1;36m0.8824578523635864\u001b[0m\n"
      ]
     },
     "metadata": {},
     "output_type": "display_data"
    },
    {
     "data": {
      "text/html": [
       "<pre style=\"white-space:pre;overflow-x:auto;line-height:normal;font-family:Menlo,'DejaVu Sans Mono',consolas,'Courier New',monospace\">chunk: <span style=\"color: #c0c0c0; text-decoration-color: #c0c0c0; background-color: #008000\">In the settings panel that appears, look for an option labeled </span><span style=\"color: #c0c0c0; text-decoration-color: #c0c0c0; background-color: #008000\">'Image display'</span><span style=\"color: #c0c0c0; text-decoration-color: #c0c0c0; background-color: #008000\"> or </span><span style=\"color: #c0c0c0; text-decoration-color: #c0c0c0; background-color: #008000\">'Image hover'</span><span style=\"color: #c0c0c0; text-decoration-color: #c0c0c0; background-color: #008000\">.\\n6.</span><span style=\"color: #c0c0c0; text-decoration-color: #c0c0c0; background-color: #008080\">If </span>\n",
       "<span style=\"color: #c0c0c0; text-decoration-color: #c0c0c0; background-color: #008080\">available, select </span><span style=\"color: #c0c0c0; text-decoration-color: #c0c0c0; background-color: #008080\">'Show secondary image on hover'</span><span style=\"color: #c0c0c0; text-decoration-color: #c0c0c0; background-color: #008080\">.\\n7.</span>\n",
       "</pre>\n"
      ],
      "text/plain": [
       "chunk: \u001b[37;42mIn the settings panel that appears, look for an option labeled \u001b[0m\u001b[37;42m'Image display'\u001b[0m\u001b[37;42m or \u001b[0m\u001b[37;42m'Image hover'\u001b[0m\u001b[37;42m.\\n6.\u001b[0m\u001b[37;46mIf \u001b[0m\n",
       "\u001b[37;46mavailable, select \u001b[0m\u001b[37;46m'Show secondary image on hover'\u001b[0m\u001b[37;46m.\\n7.\u001b[0m\n"
      ]
     },
     "metadata": {},
     "output_type": "display_data"
    },
    {
     "name": "stdin",
     "output_type": "stream",
     "text": [
      "Type 'k' to raise thresh, or 'j' - to lower it, then press 'Enter':  j\n"
     ]
    },
    {
     "data": {
      "text/html": [
       "<pre style=\"white-space:pre;overflow-x:auto;line-height:normal;font-family:Menlo,'DejaVu Sans Mono',consolas,'Courier New',monospace\">dist: <span style=\"color: #008080; text-decoration-color: #008080; font-weight: bold\">0.8774906396865845</span>\n",
       "</pre>\n"
      ],
      "text/plain": [
       "dist: \u001b[1;36m0.8774906396865845\u001b[0m\n"
      ]
     },
     "metadata": {},
     "output_type": "display_data"
    },
    {
     "data": {
      "text/html": [
       "<pre style=\"white-space:pre;overflow-x:auto;line-height:normal;font-family:Menlo,'DejaVu Sans Mono',consolas,'Courier New',monospace\">chunk: <span style=\"color: #c0c0c0; text-decoration-color: #c0c0c0; background-color: #008000\">I will also consider the role that social comparison, cyberbullying, and privacy concerns play in shaping </span>\n",
       "<span style=\"color: #c0c0c0; text-decoration-color: #c0c0c0; background-color: #008000\">the impact of social media use on personal relationships.</span><span style=\"color: #c0c0c0; text-decoration-color: #c0c0c0; background-color: #008080\">Finally, I will provide recommendations for how </span>\n",
       "<span style=\"color: #c0c0c0; text-decoration-color: #c0c0c0; background-color: #008080\">individuals can cultivate healthy and meaningful relationships in the age of social media.\\n\\nOne of the positive </span>\n",
       "<span style=\"color: #c0c0c0; text-decoration-color: #c0c0c0; background-color: #008080\">aspects of social media is that it allows people to communicate with one another more easily and frequently than </span>\n",
       "<span style=\"color: #c0c0c0; text-decoration-color: #c0c0c0; background-color: #008080\">ever before.</span>\n",
       "</pre>\n"
      ],
      "text/plain": [
       "chunk: \u001b[37;42mI will also consider the role that social comparison, cyberbullying, and privacy concerns play in shaping \u001b[0m\n",
       "\u001b[37;42mthe impact of social media use on personal relationships.\u001b[0m\u001b[37;46mFinally, I will provide recommendations for how \u001b[0m\n",
       "\u001b[37;46mindividuals can cultivate healthy and meaningful relationships in the age of social media.\\n\\nOne of the positive \u001b[0m\n",
       "\u001b[37;46maspects of social media is that it allows people to communicate with one another more easily and frequently than \u001b[0m\n",
       "\u001b[37;46mever before.\u001b[0m\n"
      ]
     },
     "metadata": {},
     "output_type": "display_data"
    },
    {
     "name": "stdin",
     "output_type": "stream",
     "text": [
      "Type 'k' to raise thresh, or 'j' - to lower it, then press 'Enter':  j\n"
     ]
    },
    {
     "data": {
      "text/html": [
       "<pre style=\"white-space:pre;overflow-x:auto;line-height:normal;font-family:Menlo,'DejaVu Sans Mono',consolas,'Courier New',monospace\">dist: <span style=\"color: #008080; text-decoration-color: #008080; font-weight: bold\">0.8730122447013855</span>\n",
       "</pre>\n"
      ],
      "text/plain": [
       "dist: \u001b[1;36m0.8730122447013855\u001b[0m\n"
      ]
     },
     "metadata": {},
     "output_type": "display_data"
    },
    {
     "data": {
      "text/html": [
       "<pre style=\"white-space:pre;overflow-x:auto;line-height:normal;font-family:Menlo,'DejaVu Sans Mono',consolas,'Courier New',monospace\">chunk: <span style=\"color: #c0c0c0; text-decoration-color: #c0c0c0; background-color: #008000\">While it can provide a platform to stay in touch with family members living far away or separated by </span>\n",
       "<span style=\"color: #c0c0c0; text-decoration-color: #c0c0c0; background-color: #008000\">distance, it can also hinder close relationships by replacing face-to-face communication with online </span>\n",
       "<span style=\"color: #c0c0c0; text-decoration-color: #c0c0c0; background-color: #008000\">interactions.</span><span style=\"color: #c0c0c0; text-decoration-color: #c0c0c0; background-color: #008080\">Social media has been found to decrease the amount of quality time families spend together physically,</span>\n",
       "<span style=\"color: #c0c0c0; text-decoration-color: #c0c0c0; background-color: #008080\">which can affect the emotional connections between family members.</span>\n",
       "</pre>\n"
      ],
      "text/plain": [
       "chunk: \u001b[37;42mWhile it can provide a platform to stay in touch with family members living far away or separated by \u001b[0m\n",
       "\u001b[37;42mdistance, it can also hinder close relationships by replacing face-to-face communication with online \u001b[0m\n",
       "\u001b[37;42minteractions.\u001b[0m\u001b[37;46mSocial media has been found to decrease the amount of quality time families spend together physically,\u001b[0m\n",
       "\u001b[37;46mwhich can affect the emotional connections between family members.\u001b[0m\n"
      ]
     },
     "metadata": {},
     "output_type": "display_data"
    },
    {
     "name": "stdin",
     "output_type": "stream",
     "text": [
      "Type 'k' to raise thresh, or 'j' - to lower it, then press 'Enter':  j\n"
     ]
    },
    {
     "data": {
      "text/html": [
       "<pre style=\"white-space:pre;overflow-x:auto;line-height:normal;font-family:Menlo,'DejaVu Sans Mono',consolas,'Courier New',monospace\">dist: <span style=\"color: #008080; text-decoration-color: #008080; font-weight: bold\">0.8725051283836365</span>\n",
       "</pre>\n"
      ],
      "text/plain": [
       "dist: \u001b[1;36m0.8725051283836365\u001b[0m\n"
      ]
     },
     "metadata": {},
     "output_type": "display_data"
    },
    {
     "data": {
      "text/html": [
       "<pre style=\"white-space:pre;overflow-x:auto;line-height:normal;font-family:Menlo,'DejaVu Sans Mono',consolas,'Courier New',monospace\">chunk: <span style=\"color: #c0c0c0; text-decoration-color: #c0c0c0; background-color: #008000\">The Cross Bones Graveyard - a medieval graveyard that became known as an outcast cemetery with a history </span>\n",
       "<span style=\"color: #c0c0c0; text-decoration-color: #c0c0c0; background-color: #008000\">connected to the sex industry, now a memorial garden.\\n\\n8.</span><span style=\"color: #c0c0c0; text-decoration-color: #c0c0c0; background-color: #008080\">Highgate Cemetery - a beautiful Victorian graveyard </span>\n",
       "<span style=\"color: #c0c0c0; text-decoration-color: #c0c0c0; background-color: #008080\">known for its Gothic architecture and where many famous people, including Karl Marx, are buried.\\n\\n9.</span>\n",
       "</pre>\n"
      ],
      "text/plain": [
       "chunk: \u001b[37;42mThe Cross Bones Graveyard - a medieval graveyard that became known as an outcast cemetery with a history \u001b[0m\n",
       "\u001b[37;42mconnected to the sex industry, now a memorial garden.\\n\\n8.\u001b[0m\u001b[37;46mHighgate Cemetery - a beautiful Victorian graveyard \u001b[0m\n",
       "\u001b[37;46mknown for its Gothic architecture and where many famous people, including Karl Marx, are buried.\\n\\n9.\u001b[0m\n"
      ]
     },
     "metadata": {},
     "output_type": "display_data"
    },
    {
     "name": "stdin",
     "output_type": "stream",
     "text": [
      "Type 'k' to raise thresh, or 'j' - to lower it, then press 'Enter':  k\n"
     ]
    },
    {
     "data": {
      "text/html": [
       "<pre style=\"white-space:pre;overflow-x:auto;line-height:normal;font-family:Menlo,'DejaVu Sans Mono',consolas,'Courier New',monospace\">dist: <span style=\"color: #008080; text-decoration-color: #008080; font-weight: bold\">0.8727983236312866</span>\n",
       "</pre>\n"
      ],
      "text/plain": [
       "dist: \u001b[1;36m0.8727983236312866\u001b[0m\n"
      ]
     },
     "metadata": {},
     "output_type": "display_data"
    },
    {
     "data": {
      "text/html": [
       "<pre style=\"white-space:pre;overflow-x:auto;line-height:normal;font-family:Menlo,'DejaVu Sans Mono',consolas,'Courier New',monospace\">chunk: <span style=\"color: #c0c0c0; text-decoration-color: #c0c0c0; background-color: #008000\">Hornsey Town Hall Arts Centre - a grade II listed building with a rich history and home to many art </span>\n",
       "<span style=\"color: #c0c0c0; text-decoration-color: #c0c0c0; background-color: #008000\">exhibitions and events.\\n\\n3.</span><span style=\"color: #c0c0c0; text-decoration-color: #c0c0c0; background-color: #008080\">Clapham Grand - a historic Victorian theatre that has been transformed into a music </span>\n",
       "<span style=\"color: #c0c0c0; text-decoration-color: #c0c0c0; background-color: #008080\">venue, cinema and a comedy club.\\n\\n4.</span>\n",
       "</pre>\n"
      ],
      "text/plain": [
       "chunk: \u001b[37;42mHornsey Town Hall Arts Centre - a grade II listed building with a rich history and home to many art \u001b[0m\n",
       "\u001b[37;42mexhibitions and events.\\n\\n3.\u001b[0m\u001b[37;46mClapham Grand - a historic Victorian theatre that has been transformed into a music \u001b[0m\n",
       "\u001b[37;46mvenue, cinema and a comedy club.\\n\\n4.\u001b[0m\n"
      ]
     },
     "metadata": {},
     "output_type": "display_data"
    },
    {
     "data": {
      "text/html": [
       "<pre style=\"white-space:pre;overflow-x:auto;line-height:normal;font-family:Menlo,'DejaVu Sans Mono',consolas,'Courier New',monospace\">Tuning ended, thresh value: <span style=\"color: #008080; text-decoration-color: #008080; font-weight: bold\">0.8727983236312866</span> = <span style=\"color: #008080; text-decoration-color: #008080; font-weight: bold\">0.87</span>\n",
       "</pre>\n"
      ],
      "text/plain": [
       "Tuning ended, thresh value: \u001b[1;36m0.8727983236312866\u001b[0m = \u001b[1;36m0.87\u001b[0m\n"
      ]
     },
     "metadata": {},
     "output_type": "display_data"
    }
   ],
   "source": [
    "splitter = SentenceSplitter(text=datasets['chatlogs'])\n",
    "splits = splitter()\n",
    "res = tuner(splits, depth=DEPTH)\n",
    "thresholds.append(res)"
   ]
  },
  {
   "cell_type": "markdown",
   "id": "8038acbc-b4dc-463b-949e-5a61c6753156",
   "metadata": {},
   "source": [
    "**finance**"
   ]
  },
  {
   "cell_type": "code",
   "execution_count": 25,
   "id": "7d7d788d-ae2c-4a33-b3b6-3213f40226f6",
   "metadata": {
    "scrolled": true
   },
   "outputs": [
    {
     "name": "stderr",
     "output_type": "stream",
     "text": [
      "100%|██████████████████████████████████████████████████████████████████████████████████████████████████████████████████████████████| 6320/6320 [10:24<00:00, 10.12it/s]\n"
     ]
    },
    {
     "data": {
      "text/html": [
       "<pre style=\"white-space:pre;overflow-x:auto;line-height:normal;font-family:Menlo,'DejaVu Sans Mono',consolas,'Courier New',monospace\"><span style=\"color: #008080; text-decoration-color: #008080; font-weight: bold\">3593</span> chunks formed\n",
       "</pre>\n"
      ],
      "text/plain": [
       "\u001b[1;36m3593\u001b[0m chunks formed\n"
      ]
     },
     "metadata": {},
     "output_type": "display_data"
    },
    {
     "data": {
      "text/html": [
       "<pre style=\"white-space:pre;overflow-x:auto;line-height:normal;font-family:Menlo,'DejaVu Sans Mono',consolas,'Courier New',monospace\">Values range: <span style=\"font-weight: bold\">[</span><span style=\"color: #008080; text-decoration-color: #008080; font-weight: bold\">0.024115130305290222</span> <span style=\"color: #808000; text-decoration-color: #808000\">...</span> <span style=\"color: #008080; text-decoration-color: #008080; font-weight: bold\">1.0</span><span style=\"font-weight: bold\">]</span>\n",
       "</pre>\n"
      ],
      "text/plain": [
       "Values range: \u001b[1m[\u001b[0m\u001b[1;36m0.024115130305290222\u001b[0m \u001b[33m...\u001b[0m \u001b[1;36m1.0\u001b[0m\u001b[1m]\u001b[0m\n"
      ]
     },
     "metadata": {},
     "output_type": "display_data"
    },
    {
     "data": {
      "text/html": [
       "<pre style=\"white-space:pre;overflow-x:auto;line-height:normal;font-family:Menlo,'DejaVu Sans Mono',consolas,'Courier New',monospace\">Steps to tune: <span style=\"color: #008080; text-decoration-color: #008080; font-weight: bold\">11</span>\n",
       "</pre>\n"
      ],
      "text/plain": [
       "Steps to tune: \u001b[1;36m11\u001b[0m\n"
      ]
     },
     "metadata": {},
     "output_type": "display_data"
    },
    {
     "data": {
      "text/html": [
       "<pre style=\"white-space:pre;overflow-x:auto;line-height:normal;font-family:Menlo,'DejaVu Sans Mono',consolas,'Courier New',monospace\">--------------------------------\n",
       "</pre>\n"
      ],
      "text/plain": [
       "--------------------------------\n"
      ]
     },
     "metadata": {},
     "output_type": "display_data"
    },
    {
     "data": {
      "text/html": [
       "<pre style=\"white-space:pre;overflow-x:auto;line-height:normal;font-family:Menlo,'DejaVu Sans Mono',consolas,'Courier New',monospace\">dist: <span style=\"color: #008080; text-decoration-color: #008080; font-weight: bold\">0.8552519679069519</span>\n",
       "</pre>\n"
      ],
      "text/plain": [
       "dist: \u001b[1;36m0.8552519679069519\u001b[0m\n"
      ]
     },
     "metadata": {},
     "output_type": "display_data"
    },
    {
     "data": {
      "text/html": [
       "<pre style=\"white-space:pre;overflow-x:auto;line-height:normal;font-family:Menlo,'DejaVu Sans Mono',consolas,'Courier New',monospace\">chunk: <span style=\"color: #c0c0c0; text-decoration-color: #c0c0c0; background-color: #008000\">at that point, we continue our collection/recovery processes, which may include a loss mitigation loan </span>\n",
       "<span style=\"color: #c0c0c0; text-decoration-color: #c0c0c0; background-color: #008000\">modification resulting in a loan that is classified as a tdr.</span><span style=\"color: #c0c0c0; text-decoration-color: #c0c0c0; background-color: #008080\">see note </span><span style=\"color: #c0c0c0; text-decoration-color: #c0c0c0; background-color: #008080; font-weight: bold\">5</span><span style=\"color: #c0c0c0; text-decoration-color: #c0c0c0; background-color: #008080\"> asset quality and allowances for loan and </span>\n",
       "<span style=\"color: #c0c0c0; text-decoration-color: #c0c0c0; background-color: #008080\">lease losses and unfunded loan commitments and letters of credit in the notes to consolidated financial statements </span>\n",
       "<span style=\"color: #c0c0c0; text-decoration-color: #c0c0c0; background-color: #008080\">in item </span><span style=\"color: #c0c0c0; text-decoration-color: #c0c0c0; background-color: #008080; font-weight: bold\">8</span><span style=\"color: #c0c0c0; text-decoration-color: #c0c0c0; background-color: #008080\"> of this report for additional information.</span>\n",
       "</pre>\n"
      ],
      "text/plain": [
       "chunk: \u001b[37;42mat that point, we continue our collection/recovery processes, which may include a loss mitigation loan \u001b[0m\n",
       "\u001b[37;42mmodification resulting in a loan that is classified as a tdr.\u001b[0m\u001b[37;46msee note \u001b[0m\u001b[1;37;46m5\u001b[0m\u001b[37;46m asset quality and allowances for loan and \u001b[0m\n",
       "\u001b[37;46mlease losses and unfunded loan commitments and letters of credit in the notes to consolidated financial statements \u001b[0m\n",
       "\u001b[37;46min item \u001b[0m\u001b[1;37;46m8\u001b[0m\u001b[37;46m of this report for additional information.\u001b[0m\n"
      ]
     },
     "metadata": {},
     "output_type": "display_data"
    },
    {
     "name": "stdin",
     "output_type": "stream",
     "text": [
      "Type 'k' to raise thresh, or 'j' - to lower it, then press 'Enter':  k\n"
     ]
    },
    {
     "data": {
      "text/html": [
       "<pre style=\"white-space:pre;overflow-x:auto;line-height:normal;font-family:Menlo,'DejaVu Sans Mono',consolas,'Courier New',monospace\">dist: <span style=\"color: #008080; text-decoration-color: #008080; font-weight: bold\">0.9300418496131897</span>\n",
       "</pre>\n"
      ],
      "text/plain": [
       "dist: \u001b[1;36m0.9300418496131897\u001b[0m\n"
      ]
     },
     "metadata": {},
     "output_type": "display_data"
    },
    {
     "data": {
      "text/html": [
       "<pre style=\"white-space:pre;overflow-x:auto;line-height:normal;font-family:Menlo,'DejaVu Sans Mono',consolas,'Courier New',monospace\">chunk: <span style=\"color: #c0c0c0; text-decoration-color: #c0c0c0; background-color: #008000\">what was the cash provided by operating activities in </span><span style=\"color: #c0c0c0; text-decoration-color: #c0c0c0; background-color: #008000; font-weight: bold\">2013</span><span style=\"color: #c0c0c0; text-decoration-color: #c0c0c0; background-color: #008000\">?</span><span style=\"color: #c0c0c0; text-decoration-color: #c0c0c0; background-color: #008080; font-weight: bold\">6823.0</span>\n",
       "</pre>\n"
      ],
      "text/plain": [
       "chunk: \u001b[37;42mwhat was the cash provided by operating activities in \u001b[0m\u001b[1;37;42m2013\u001b[0m\u001b[37;42m?\u001b[0m\u001b[1;37;46m6823.0\u001b[0m\n"
      ]
     },
     "metadata": {},
     "output_type": "display_data"
    },
    {
     "name": "stdin",
     "output_type": "stream",
     "text": [
      "Type 'k' to raise thresh, or 'j' - to lower it, then press 'Enter':  j\n"
     ]
    },
    {
     "data": {
      "text/html": [
       "<pre style=\"white-space:pre;overflow-x:auto;line-height:normal;font-family:Menlo,'DejaVu Sans Mono',consolas,'Courier New',monospace\">dist: <span style=\"color: #008080; text-decoration-color: #008080; font-weight: bold\">0.8987423181533813</span>\n",
       "</pre>\n"
      ],
      "text/plain": [
       "dist: \u001b[1;36m0.8987423181533813\u001b[0m\n"
      ]
     },
     "metadata": {},
     "output_type": "display_data"
    },
    {
     "data": {
      "text/html": [
       "<pre style=\"white-space:pre;overflow-x:auto;line-height:normal;font-family:Menlo,'DejaVu Sans Mono',consolas,'Courier New',monospace\">chunk: <span style=\"color: #c0c0c0; text-decoration-color: #c0c0c0; background-color: #008000\">interest expense, net, of $</span><span style=\"color: #c0c0c0; text-decoration-color: #c0c0c0; background-color: #008000; font-weight: bold\">914</span><span style=\"color: #c0c0c0; text-decoration-color: #c0c0c0; background-color: #008000\"> million increased by $</span><span style=\"color: #c0c0c0; text-decoration-color: #c0c0c0; background-color: #008000; font-weight: bold\">23</span><span style=\"color: #c0c0c0; text-decoration-color: #c0c0c0; background-color: #008000\"> million, due primarily to unfavorably currency and </span>\n",
       "<span style=\"color: #c0c0c0; text-decoration-color: #c0c0c0; background-color: #008000\">higher average debt levels, partly offset by higher interest income.</span><span style=\"color: #c0c0c0; text-decoration-color: #c0c0c0; background-color: #008080\">our effective tax rate increased by </span><span style=\"color: #c0c0c0; text-decoration-color: #c0c0c0; background-color: #008080; font-weight: bold\">12.8</span><span style=\"color: #c0c0c0; text-decoration-color: #c0c0c0; background-color: #008080\"> </span>\n",
       "<span style=\"color: #c0c0c0; text-decoration-color: #c0c0c0; background-color: #008080\">percentage points to </span><span style=\"color: #c0c0c0; text-decoration-color: #c0c0c0; background-color: #008080; font-weight: bold\">40.7</span><span style=\"color: #c0c0c0; text-decoration-color: #c0c0c0; background-color: #008080\">% </span><span style=\"color: #c0c0c0; text-decoration-color: #c0c0c0; background-color: #008080; font-weight: bold\">(</span><span style=\"color: #c0c0c0; text-decoration-color: #c0c0c0; background-color: #008080; font-weight: bold\">40.7</span><span style=\"color: #c0c0c0; text-decoration-color: #c0c0c0; background-color: #008080\">%</span><span style=\"color: #c0c0c0; text-decoration-color: #c0c0c0; background-color: #008080; font-weight: bold\">)</span><span style=\"color: #c0c0c0; text-decoration-color: #c0c0c0; background-color: #008080\">.</span>\n",
       "</pre>\n"
      ],
      "text/plain": [
       "chunk: \u001b[37;42minterest expense, net, of $\u001b[0m\u001b[1;37;42m914\u001b[0m\u001b[37;42m million increased by $\u001b[0m\u001b[1;37;42m23\u001b[0m\u001b[37;42m million, due primarily to unfavorably currency and \u001b[0m\n",
       "\u001b[37;42mhigher average debt levels, partly offset by higher interest income.\u001b[0m\u001b[37;46mour effective tax rate increased by \u001b[0m\u001b[1;37;46m12.8\u001b[0m\u001b[37;46m \u001b[0m\n",
       "\u001b[37;46mpercentage points to \u001b[0m\u001b[1;37;46m40.7\u001b[0m\u001b[37;46m% \u001b[0m\u001b[1;37;46m(\u001b[0m\u001b[1;37;46m40.7\u001b[0m\u001b[37;46m%\u001b[0m\u001b[1;37;46m)\u001b[0m\u001b[37;46m.\u001b[0m\n"
      ]
     },
     "metadata": {},
     "output_type": "display_data"
    },
    {
     "name": "stdin",
     "output_type": "stream",
     "text": [
      "Type 'k' to raise thresh, or 'j' - to lower it, then press 'Enter':  j\n"
     ]
    },
    {
     "data": {
      "text/html": [
       "<pre style=\"white-space:pre;overflow-x:auto;line-height:normal;font-family:Menlo,'DejaVu Sans Mono',consolas,'Courier New',monospace\">dist: <span style=\"color: #008080; text-decoration-color: #008080; font-weight: bold\">0.878753662109375</span>\n",
       "</pre>\n"
      ],
      "text/plain": [
       "dist: \u001b[1;36m0.878753662109375\u001b[0m\n"
      ]
     },
     "metadata": {},
     "output_type": "display_data"
    },
    {
     "data": {
      "text/html": [
       "<pre style=\"white-space:pre;overflow-x:auto;line-height:normal;font-family:Menlo,'DejaVu Sans Mono',consolas,'Courier New',monospace\">chunk: <span style=\"color: #c0c0c0; text-decoration-color: #c0c0c0; background-color: #008000\">what was the fair value in </span><span style=\"color: #c0c0c0; text-decoration-color: #c0c0c0; background-color: #008000; font-weight: bold\">2010</span><span style=\"color: #c0c0c0; text-decoration-color: #c0c0c0; background-color: #008000\">?</span><span style=\"color: #c0c0c0; text-decoration-color: #c0c0c0; background-color: #008080; font-weight: bold\">81881.0</span>\n",
       "</pre>\n"
      ],
      "text/plain": [
       "chunk: \u001b[37;42mwhat was the fair value in \u001b[0m\u001b[1;37;42m2010\u001b[0m\u001b[37;42m?\u001b[0m\u001b[1;37;46m81881.0\u001b[0m\n"
      ]
     },
     "metadata": {},
     "output_type": "display_data"
    },
    {
     "name": "stdin",
     "output_type": "stream",
     "text": [
      "Type 'k' to raise thresh, or 'j' - to lower it, then press 'Enter':  j\n"
     ]
    },
    {
     "data": {
      "text/html": [
       "<pre style=\"white-space:pre;overflow-x:auto;line-height:normal;font-family:Menlo,'DejaVu Sans Mono',consolas,'Courier New',monospace\">dist: <span style=\"color: #008080; text-decoration-color: #008080; font-weight: bold\">0.867365300655365</span>\n",
       "</pre>\n"
      ],
      "text/plain": [
       "dist: \u001b[1;36m0.867365300655365\u001b[0m\n"
      ]
     },
     "metadata": {},
     "output_type": "display_data"
    },
    {
     "data": {
      "text/html": [
       "<pre style=\"white-space:pre;overflow-x:auto;line-height:normal;font-family:Menlo,'DejaVu Sans Mono',consolas,'Courier New',monospace\">chunk: <span style=\"color: #c0c0c0; text-decoration-color: #c0c0c0; background-color: #008000\">cash used in financing activities | </span><span style=\"color: #c0c0c0; text-decoration-color: #c0c0c0; background-color: #008000; font-weight: bold\">-3063</span><span style=\"color: #c0c0c0; text-decoration-color: #c0c0c0; background-color: #008000\"> </span><span style=\"color: #c0c0c0; text-decoration-color: #c0c0c0; background-color: #008000; font-weight: bold\">(</span><span style=\"color: #c0c0c0; text-decoration-color: #c0c0c0; background-color: #008000; font-weight: bold\">3063</span><span style=\"color: #c0c0c0; text-decoration-color: #c0c0c0; background-color: #008000; font-weight: bold\">)</span><span style=\"color: #c0c0c0; text-decoration-color: #c0c0c0; background-color: #008000\"> | </span><span style=\"color: #c0c0c0; text-decoration-color: #c0c0c0; background-color: #008000; font-weight: bold\">-2982</span><span style=\"color: #c0c0c0; text-decoration-color: #c0c0c0; background-color: #008000\"> </span><span style=\"color: #c0c0c0; text-decoration-color: #c0c0c0; background-color: #008000; font-weight: bold\">(</span><span style=\"color: #c0c0c0; text-decoration-color: #c0c0c0; background-color: #008000; font-weight: bold\">2982</span><span style=\"color: #c0c0c0; text-decoration-color: #c0c0c0; background-color: #008000; font-weight: bold\">)</span><span style=\"color: #c0c0c0; text-decoration-color: #c0c0c0; background-color: #008000\"> | </span><span style=\"color: #c0c0c0; text-decoration-color: #c0c0c0; background-color: #008000; font-weight: bold\">-3049</span><span style=\"color: #c0c0c0; text-decoration-color: #c0c0c0; background-color: #008000\"> </span><span style=\"color: #c0c0c0; text-decoration-color: #c0c0c0; background-color: #008000; font-weight: bold\">(</span><span style=\"color: #c0c0c0; text-decoration-color: #c0c0c0; background-color: #008000; font-weight: bold\">3049</span><span style=\"color: #c0c0c0; text-decoration-color: #c0c0c0; background-color: #008000; font-weight: bold\">)</span><span style=\"color: #c0c0c0; text-decoration-color: #c0c0c0; background-color: #008080\">net change in cash and cash </span>\n",
       "<span style=\"color: #c0c0c0; text-decoration-color: #c0c0c0; background-color: #008080\">equivalents | $</span><span style=\"color: #c0c0c0; text-decoration-color: #c0c0c0; background-color: #008080; font-weight: bold\">-195</span><span style=\"color: #c0c0c0; text-decoration-color: #c0c0c0; background-color: #008080\"> </span><span style=\"color: #c0c0c0; text-decoration-color: #c0c0c0; background-color: #008080; font-weight: bold\">(</span><span style=\"color: #c0c0c0; text-decoration-color: #c0c0c0; background-color: #008080; font-weight: bold\">195</span><span style=\"color: #c0c0c0; text-decoration-color: #c0c0c0; background-color: #008080; font-weight: bold\">)</span><span style=\"color: #c0c0c0; text-decoration-color: #c0c0c0; background-color: #008080\"> | $</span><span style=\"color: #c0c0c0; text-decoration-color: #c0c0c0; background-color: #008080; font-weight: bold\">154</span><span style=\"color: #c0c0c0; text-decoration-color: #c0c0c0; background-color: #008080\"> | $</span><span style=\"color: #c0c0c0; text-decoration-color: #c0c0c0; background-color: #008080; font-weight: bold\">369</span>\n",
       "</pre>\n"
      ],
      "text/plain": [
       "chunk: \u001b[37;42mcash used in financing activities | \u001b[0m\u001b[1;37;42m-3063\u001b[0m\u001b[37;42m \u001b[0m\u001b[1;37;42m(\u001b[0m\u001b[1;37;42m3063\u001b[0m\u001b[1;37;42m)\u001b[0m\u001b[37;42m | \u001b[0m\u001b[1;37;42m-2982\u001b[0m\u001b[37;42m \u001b[0m\u001b[1;37;42m(\u001b[0m\u001b[1;37;42m2982\u001b[0m\u001b[1;37;42m)\u001b[0m\u001b[37;42m | \u001b[0m\u001b[1;37;42m-3049\u001b[0m\u001b[37;42m \u001b[0m\u001b[1;37;42m(\u001b[0m\u001b[1;37;42m3049\u001b[0m\u001b[1;37;42m)\u001b[0m\u001b[37;46mnet change in cash and cash \u001b[0m\n",
       "\u001b[37;46mequivalents | $\u001b[0m\u001b[1;37;46m-195\u001b[0m\u001b[37;46m \u001b[0m\u001b[1;37;46m(\u001b[0m\u001b[1;37;46m195\u001b[0m\u001b[1;37;46m)\u001b[0m\u001b[37;46m | $\u001b[0m\u001b[1;37;46m154\u001b[0m\u001b[37;46m | $\u001b[0m\u001b[1;37;46m369\u001b[0m\n"
      ]
     },
     "metadata": {},
     "output_type": "display_data"
    },
    {
     "name": "stdin",
     "output_type": "stream",
     "text": [
      "Type 'k' to raise thresh, or 'j' - to lower it, then press 'Enter':  j\n"
     ]
    },
    {
     "data": {
      "text/html": [
       "<pre style=\"white-space:pre;overflow-x:auto;line-height:normal;font-family:Menlo,'DejaVu Sans Mono',consolas,'Courier New',monospace\">dist: <span style=\"color: #008080; text-decoration-color: #008080; font-weight: bold\">0.8610988259315491</span>\n",
       "</pre>\n"
      ],
      "text/plain": [
       "dist: \u001b[1;36m0.8610988259315491\u001b[0m\n"
      ]
     },
     "metadata": {},
     "output_type": "display_data"
    },
    {
     "data": {
      "text/html": [
       "<pre style=\"white-space:pre;overflow-x:auto;line-height:normal;font-family:Menlo,'DejaVu Sans Mono',consolas,'Courier New',monospace\">chunk: <span style=\"color: #c0c0c0; text-decoration-color: #c0c0c0; background-color: #008000; font-weight: bold\">2021</span><span style=\"color: #c0c0c0; text-decoration-color: #c0c0c0; background-color: #008000\"> | </span><span style=\"color: #c0c0c0; text-decoration-color: #c0c0c0; background-color: #008000; font-weight: bold\">118</span><span style=\"color: #c0c0c0; text-decoration-color: #c0c0c0; background-color: #008080; font-weight: bold\">2022</span><span style=\"color: #c0c0c0; text-decoration-color: #c0c0c0; background-color: #008080\"> | </span><span style=\"color: #c0c0c0; text-decoration-color: #c0c0c0; background-color: #008080; font-weight: bold\">109</span>\n",
       "</pre>\n"
      ],
      "text/plain": [
       "chunk: \u001b[1;37;42m2021\u001b[0m\u001b[37;42m | \u001b[0m\u001b[1;37;42m118\u001b[0m\u001b[1;37;46m2022\u001b[0m\u001b[37;46m | \u001b[0m\u001b[1;37;46m109\u001b[0m\n"
      ]
     },
     "metadata": {},
     "output_type": "display_data"
    },
    {
     "name": "stdin",
     "output_type": "stream",
     "text": [
      "Type 'k' to raise thresh, or 'j' - to lower it, then press 'Enter':  j\n"
     ]
    },
    {
     "data": {
      "text/html": [
       "<pre style=\"white-space:pre;overflow-x:auto;line-height:normal;font-family:Menlo,'DejaVu Sans Mono',consolas,'Courier New',monospace\">dist: <span style=\"color: #008080; text-decoration-color: #008080; font-weight: bold\">0.8584609031677246</span>\n",
       "</pre>\n"
      ],
      "text/plain": [
       "dist: \u001b[1;36m0.8584609031677246\u001b[0m\n"
      ]
     },
     "metadata": {},
     "output_type": "display_data"
    },
    {
     "data": {
      "text/html": [
       "<pre style=\"white-space:pre;overflow-x:auto;line-height:normal;font-family:Menlo,'DejaVu Sans Mono',consolas,'Courier New',monospace\">chunk: <span style=\"color: #c0c0c0; text-decoration-color: #c0c0c0; background-color: #008000\">a portion of the net proceeds of the </span><span style=\"color: #c0c0c0; text-decoration-color: #c0c0c0; background-color: #008000; font-weight: bold\">2017</span><span style=\"color: #c0c0c0; text-decoration-color: #c0c0c0; background-color: #008000\"> notes was used to fund the initial cash payment for the </span>\n",
       "<span style=\"color: #c0c0c0; text-decoration-color: #c0c0c0; background-color: #008000\">acquisition of the fund of funds business of quellos and the remainder was used for general corporate </span>\n",
       "<span style=\"color: #c0c0c0; text-decoration-color: #c0c0c0; background-color: #008000\">purposes.</span><span style=\"color: #c0c0c0; text-decoration-color: #c0c0c0; background-color: #008080\">interest is payable semi-annually in arrears on march </span><span style=\"color: #c0c0c0; text-decoration-color: #c0c0c0; background-color: #008080; font-weight: bold\">15</span><span style=\"color: #c0c0c0; text-decoration-color: #c0c0c0; background-color: #008080\"> and september </span><span style=\"color: #c0c0c0; text-decoration-color: #c0c0c0; background-color: #008080; font-weight: bold\">15</span><span style=\"color: #c0c0c0; text-decoration-color: #c0c0c0; background-color: #008080\"> of each year, or approximately </span>\n",
       "<span style=\"color: #c0c0c0; text-decoration-color: #c0c0c0; background-color: #008080\">$</span><span style=\"color: #c0c0c0; text-decoration-color: #c0c0c0; background-color: #008080; font-weight: bold\">44</span><span style=\"color: #c0c0c0; text-decoration-color: #c0c0c0; background-color: #008080\"> million per year.</span>\n",
       "</pre>\n"
      ],
      "text/plain": [
       "chunk: \u001b[37;42ma portion of the net proceeds of the \u001b[0m\u001b[1;37;42m2017\u001b[0m\u001b[37;42m notes was used to fund the initial cash payment for the \u001b[0m\n",
       "\u001b[37;42macquisition of the fund of funds business of quellos and the remainder was used for general corporate \u001b[0m\n",
       "\u001b[37;42mpurposes.\u001b[0m\u001b[37;46minterest is payable semi-annually in arrears on march \u001b[0m\u001b[1;37;46m15\u001b[0m\u001b[37;46m and september \u001b[0m\u001b[1;37;46m15\u001b[0m\u001b[37;46m of each year, or approximately \u001b[0m\n",
       "\u001b[37;46m$\u001b[0m\u001b[1;37;46m44\u001b[0m\u001b[37;46m million per year.\u001b[0m\n"
      ]
     },
     "metadata": {},
     "output_type": "display_data"
    },
    {
     "name": "stdin",
     "output_type": "stream",
     "text": [
      "Type 'k' to raise thresh, or 'j' - to lower it, then press 'Enter':  j\n"
     ]
    },
    {
     "data": {
      "text/html": [
       "<pre style=\"white-space:pre;overflow-x:auto;line-height:normal;font-family:Menlo,'DejaVu Sans Mono',consolas,'Courier New',monospace\">dist: <span style=\"color: #008080; text-decoration-color: #008080; font-weight: bold\">0.8568404912948608</span>\n",
       "</pre>\n"
      ],
      "text/plain": [
       "dist: \u001b[1;36m0.8568404912948608\u001b[0m\n"
      ]
     },
     "metadata": {},
     "output_type": "display_data"
    },
    {
     "data": {
      "text/html": [
       "<pre style=\"white-space:pre;overflow-x:auto;line-height:normal;font-family:Menlo,'DejaVu Sans Mono',consolas,'Courier New',monospace\">chunk: <span style=\"color: #c0c0c0; text-decoration-color: #c0c0c0; background-color: #008000\">fair value of forward exchange contracts asset | $</span><span style=\"color: #c0c0c0; text-decoration-color: #c0c0c0; background-color: #008000; font-weight: bold\">2472</span><span style=\"color: #c0c0c0; text-decoration-color: #c0c0c0; background-color: #008000\"> | $7256</span><span style=\"color: #c0c0c0; text-decoration-color: #c0c0c0; background-color: #008080\">fair value of forward exchange contracts after</span>\n",
       "<span style=\"color: #c0c0c0; text-decoration-color: #c0c0c0; background-color: #008080\">a </span><span style=\"color: #c0c0c0; text-decoration-color: #c0c0c0; background-color: #008080; font-weight: bold\">10</span><span style=\"color: #c0c0c0; text-decoration-color: #c0c0c0; background-color: #008080\">% </span><span style=\"color: #c0c0c0; text-decoration-color: #c0c0c0; background-color: #008080; font-weight: bold\">(</span><span style=\"color: #c0c0c0; text-decoration-color: #c0c0c0; background-color: #008080; font-weight: bold\">10</span><span style=\"color: #c0c0c0; text-decoration-color: #c0c0c0; background-color: #008080\">%</span><span style=\"color: #c0c0c0; text-decoration-color: #c0c0c0; background-color: #008080; font-weight: bold\">)</span><span style=\"color: #c0c0c0; text-decoration-color: #c0c0c0; background-color: #008080\"> unfavorable movement in foreign currency exchange rates asset | $</span><span style=\"color: #c0c0c0; text-decoration-color: #c0c0c0; background-color: #008080; font-weight: bold\">17859</span><span style=\"color: #c0c0c0; text-decoration-color: #c0c0c0; background-color: #008080\"> | $</span><span style=\"color: #c0c0c0; text-decoration-color: #c0c0c0; background-color: #008080; font-weight: bold\">22062</span>\n",
       "</pre>\n"
      ],
      "text/plain": [
       "chunk: \u001b[37;42mfair value of forward exchange contracts asset | $\u001b[0m\u001b[1;37;42m2472\u001b[0m\u001b[37;42m | $7256\u001b[0m\u001b[37;46mfair value of forward exchange contracts after\u001b[0m\n",
       "\u001b[37;46ma \u001b[0m\u001b[1;37;46m10\u001b[0m\u001b[37;46m% \u001b[0m\u001b[1;37;46m(\u001b[0m\u001b[1;37;46m10\u001b[0m\u001b[37;46m%\u001b[0m\u001b[1;37;46m)\u001b[0m\u001b[37;46m unfavorable movement in foreign currency exchange rates asset | $\u001b[0m\u001b[1;37;46m17859\u001b[0m\u001b[37;46m | $\u001b[0m\u001b[1;37;46m22062\u001b[0m\n"
      ]
     },
     "metadata": {},
     "output_type": "display_data"
    },
    {
     "name": "stdin",
     "output_type": "stream",
     "text": [
      "Type 'k' to raise thresh, or 'j' - to lower it, then press 'Enter':  j\n"
     ]
    },
    {
     "data": {
      "text/html": [
       "<pre style=\"white-space:pre;overflow-x:auto;line-height:normal;font-family:Menlo,'DejaVu Sans Mono',consolas,'Courier New',monospace\">dist: <span style=\"color: #008080; text-decoration-color: #008080; font-weight: bold\">0.8558343052864075</span>\n",
       "</pre>\n"
      ],
      "text/plain": [
       "dist: \u001b[1;36m0.8558343052864075\u001b[0m\n"
      ]
     },
     "metadata": {},
     "output_type": "display_data"
    },
    {
     "data": {
      "text/html": [
       "<pre style=\"white-space:pre;overflow-x:auto;line-height:normal;font-family:Menlo,'DejaVu Sans Mono',consolas,'Courier New',monospace\">chunk: <span style=\"color: #c0c0c0; text-decoration-color: #c0c0c0; background-color: #008000; font-weight: bold\">2030</span><span style=\"color: #c0c0c0; text-decoration-color: #c0c0c0; background-color: #008000\"> derivative assets are shown as positive amounts and derivative liabilities are shown as negative </span>\n",
       "<span style=\"color: #c0c0c0; text-decoration-color: #c0c0c0; background-color: #008000\">amounts.</span><span style=\"color: #c0c0c0; text-decoration-color: #c0c0c0; background-color: #008080\">significant unobservable inputs the table below presents the amount of level </span><span style=\"color: #c0c0c0; text-decoration-color: #c0c0c0; background-color: #008080; font-weight: bold\">3</span><span style=\"color: #c0c0c0; text-decoration-color: #c0c0c0; background-color: #008080\"> assets </span><span style=\"color: #c0c0c0; text-decoration-color: #c0c0c0; background-color: #008080; font-weight: bold\">(</span><span style=\"color: #c0c0c0; text-decoration-color: #c0c0c0; background-color: #008080\">liabilities</span><span style=\"color: #c0c0c0; text-decoration-color: #c0c0c0; background-color: #008080; font-weight: bold\">)</span><span style=\"color: #c0c0c0; text-decoration-color: #c0c0c0; background-color: #008080\">, and </span>\n",
       "<span style=\"color: #c0c0c0; text-decoration-color: #c0c0c0; background-color: #008080\">ranges, averages and medians of significant unobservable inputs used to value the firm 2019s level </span><span style=\"color: #c0c0c0; text-decoration-color: #c0c0c0; background-color: #008080; font-weight: bold\">3</span><span style=\"color: #c0c0c0; text-decoration-color: #c0c0c0; background-color: #008080\"> derivatives.</span>\n",
       "</pre>\n"
      ],
      "text/plain": [
       "chunk: \u001b[1;37;42m2030\u001b[0m\u001b[37;42m derivative assets are shown as positive amounts and derivative liabilities are shown as negative \u001b[0m\n",
       "\u001b[37;42mamounts.\u001b[0m\u001b[37;46msignificant unobservable inputs the table below presents the amount of level \u001b[0m\u001b[1;37;46m3\u001b[0m\u001b[37;46m assets \u001b[0m\u001b[1;37;46m(\u001b[0m\u001b[37;46mliabilities\u001b[0m\u001b[1;37;46m)\u001b[0m\u001b[37;46m, and \u001b[0m\n",
       "\u001b[37;46mranges, averages and medians of significant unobservable inputs used to value the firm 2019s level \u001b[0m\u001b[1;37;46m3\u001b[0m\u001b[37;46m derivatives.\u001b[0m\n"
      ]
     },
     "metadata": {},
     "output_type": "display_data"
    },
    {
     "name": "stdin",
     "output_type": "stream",
     "text": [
      "Type 'k' to raise thresh, or 'j' - to lower it, then press 'Enter':  k\n"
     ]
    },
    {
     "data": {
      "text/html": [
       "<pre style=\"white-space:pre;overflow-x:auto;line-height:normal;font-family:Menlo,'DejaVu Sans Mono',consolas,'Courier New',monospace\">dist: <span style=\"color: #008080; text-decoration-color: #008080; font-weight: bold\">0.8567281365394592</span>\n",
       "</pre>\n"
      ],
      "text/plain": [
       "dist: \u001b[1;36m0.8567281365394592\u001b[0m\n"
      ]
     },
     "metadata": {},
     "output_type": "display_data"
    },
    {
     "data": {
      "text/html": [
       "<pre style=\"white-space:pre;overflow-x:auto;line-height:normal;font-family:Menlo,'DejaVu Sans Mono',consolas,'Courier New',monospace\">chunk: <span style=\"color: #c0c0c0; text-decoration-color: #c0c0c0; background-color: #008000\">net charges and adjustments | </span><span style=\"color: #c0c0c0; text-decoration-color: #c0c0c0; background-color: #008000; font-weight: bold\">4.3</span><span style=\"color: #c0c0c0; text-decoration-color: #c0c0c0; background-color: #008000\"> | </span><span style=\"color: #c0c0c0; text-decoration-color: #c0c0c0; background-color: #008000; font-weight: bold\">0.8</span><span style=\"color: #c0c0c0; text-decoration-color: #c0c0c0; background-color: #008000\"> | </span><span style=\"color: #c0c0c0; text-decoration-color: #c0c0c0; background-color: #008000; font-weight: bold\">0.7</span><span style=\"color: #c0c0c0; text-decoration-color: #c0c0c0; background-color: #008000\"> | </span><span style=\"color: #c0c0c0; text-decoration-color: #c0c0c0; background-color: #008000; font-weight: bold\">5.</span><span style=\"color: #c0c0c0; text-decoration-color: #c0c0c0; background-color: #008000\">8</span><span style=\"color: #c0c0c0; text-decoration-color: #c0c0c0; background-color: #008080\">payments and other1 | </span><span style=\"color: #c0c0c0; text-decoration-color: #c0c0c0; background-color: #008080; font-weight: bold\">-15.0</span><span style=\"color: #c0c0c0; text-decoration-color: #c0c0c0; background-color: #008080\"> </span><span style=\"color: #c0c0c0; text-decoration-color: #c0c0c0; background-color: #008080; font-weight: bold\">(</span><span style=\"color: #c0c0c0; text-decoration-color: #c0c0c0; background-color: #008080; font-weight: bold\">15.0</span><span style=\"color: #c0c0c0; text-decoration-color: #c0c0c0; background-color: #008080; font-weight: bold\">)</span><span style=\"color: #c0c0c0; text-decoration-color: #c0c0c0; background-color: #008080\"> | </span><span style=\"color: #c0c0c0; text-decoration-color: #c0c0c0; background-color: #008080; font-weight: bold\">-4.1</span><span style=\"color: #c0c0c0; text-decoration-color: #c0c0c0; background-color: #008080\"> </span><span style=\"color: #c0c0c0; text-decoration-color: #c0c0c0; background-color: #008080; font-weight: bold\">(</span><span style=\"color: #c0c0c0; text-decoration-color: #c0c0c0; background-color: #008080; font-weight: bold\">4.1</span><span style=\"color: #c0c0c0; text-decoration-color: #c0c0c0; background-color: #008080; font-weight: bold\">)</span><span style=\"color: #c0c0c0; text-decoration-color: #c0c0c0; background-color: #008080\"> | </span><span style=\"color: #c0c0c0; text-decoration-color: #c0c0c0; background-color: #008080; font-weight: bold\">-3.5</span><span style=\"color: #c0c0c0; text-decoration-color: #c0c0c0; background-color: #008080\"> </span>\n",
       "<span style=\"color: #c0c0c0; text-decoration-color: #c0c0c0; background-color: #008080; font-weight: bold\">(</span><span style=\"color: #c0c0c0; text-decoration-color: #c0c0c0; background-color: #008080; font-weight: bold\">3.5</span><span style=\"color: #c0c0c0; text-decoration-color: #c0c0c0; background-color: #008080; font-weight: bold\">)</span><span style=\"color: #c0c0c0; text-decoration-color: #c0c0c0; background-color: #008080\"> | </span><span style=\"color: #c0c0c0; text-decoration-color: #c0c0c0; background-color: #008080; font-weight: bold\">-22.6</span><span style=\"color: #c0c0c0; text-decoration-color: #c0c0c0; background-color: #008080\"> </span><span style=\"color: #c0c0c0; text-decoration-color: #c0c0c0; background-color: #008080; font-weight: bold\">(</span><span style=\"color: #c0c0c0; text-decoration-color: #c0c0c0; background-color: #008080; font-weight: bold\">22.6</span><span style=\"color: #c0c0c0; text-decoration-color: #c0c0c0; background-color: #008080; font-weight: bold\">)</span>\n",
       "</pre>\n"
      ],
      "text/plain": [
       "chunk: \u001b[37;42mnet charges and adjustments | \u001b[0m\u001b[1;37;42m4.3\u001b[0m\u001b[37;42m | \u001b[0m\u001b[1;37;42m0.8\u001b[0m\u001b[37;42m | \u001b[0m\u001b[1;37;42m0.7\u001b[0m\u001b[37;42m | \u001b[0m\u001b[1;37;42m5.\u001b[0m\u001b[37;42m8\u001b[0m\u001b[37;46mpayments and other1 | \u001b[0m\u001b[1;37;46m-15.0\u001b[0m\u001b[37;46m \u001b[0m\u001b[1;37;46m(\u001b[0m\u001b[1;37;46m15.0\u001b[0m\u001b[1;37;46m)\u001b[0m\u001b[37;46m | \u001b[0m\u001b[1;37;46m-4.1\u001b[0m\u001b[37;46m \u001b[0m\u001b[1;37;46m(\u001b[0m\u001b[1;37;46m4.1\u001b[0m\u001b[1;37;46m)\u001b[0m\u001b[37;46m | \u001b[0m\u001b[1;37;46m-3.5\u001b[0m\u001b[37;46m \u001b[0m\n",
       "\u001b[1;37;46m(\u001b[0m\u001b[1;37;46m3.5\u001b[0m\u001b[1;37;46m)\u001b[0m\u001b[37;46m | \u001b[0m\u001b[1;37;46m-22.6\u001b[0m\u001b[37;46m \u001b[0m\u001b[1;37;46m(\u001b[0m\u001b[1;37;46m22.6\u001b[0m\u001b[1;37;46m)\u001b[0m\n"
      ]
     },
     "metadata": {},
     "output_type": "display_data"
    },
    {
     "name": "stdin",
     "output_type": "stream",
     "text": [
      "Type 'k' to raise thresh, or 'j' - to lower it, then press 'Enter':  j\n"
     ]
    },
    {
     "data": {
      "text/html": [
       "<pre style=\"white-space:pre;overflow-x:auto;line-height:normal;font-family:Menlo,'DejaVu Sans Mono',consolas,'Courier New',monospace\">dist: <span style=\"color: #008080; text-decoration-color: #008080; font-weight: bold\">0.8559920191764832</span>\n",
       "</pre>\n"
      ],
      "text/plain": [
       "dist: \u001b[1;36m0.8559920191764832\u001b[0m\n"
      ]
     },
     "metadata": {},
     "output_type": "display_data"
    },
    {
     "data": {
      "text/html": [
       "<pre style=\"white-space:pre;overflow-x:auto;line-height:normal;font-family:Menlo,'DejaVu Sans Mono',consolas,'Courier New',monospace\">chunk: <span style=\"color: #c0c0c0; text-decoration-color: #c0c0c0; background-color: #008000\">as of december </span><span style=\"color: #c0c0c0; text-decoration-color: #c0c0c0; background-color: #008000; font-weight: bold\">31</span><span style=\"color: #c0c0c0; text-decoration-color: #c0c0c0; background-color: #008000\">, </span><span style=\"color: #c0c0c0; text-decoration-color: #c0c0c0; background-color: #008000; font-weight: bold\">2015</span><span style=\"color: #c0c0c0; text-decoration-color: #c0c0c0; background-color: #008000\">, the company did not have any direct investments in commercial real estate or direct</span>\n",
       "<span style=\"color: #c0c0c0; text-decoration-color: #c0c0c0; background-color: #008000\">commercial mortgages or any material holdings of derivative investments </span><span style=\"color: #c0c0c0; text-decoration-color: #c0c0c0; background-color: #008000; font-weight: bold\">(</span><span style=\"color: #c0c0c0; text-decoration-color: #c0c0c0; background-color: #008000\">other than equity index put option </span>\n",
       "<span style=\"color: #c0c0c0; text-decoration-color: #c0c0c0; background-color: #008000\">contracts as discussed in item </span><span style=\"color: #c0c0c0; text-decoration-color: #c0c0c0; background-color: #008000; font-weight: bold\">8</span><span style=\"color: #c0c0c0; text-decoration-color: #c0c0c0; background-color: #008000\">, 201cfinancial statements and supplementary data 201d - note </span><span style=\"color: #c0c0c0; text-decoration-color: #c0c0c0; background-color: #008000; font-weight: bold\">4</span><span style=\"color: #c0c0c0; text-decoration-color: #c0c0c0; background-color: #008000\"> of notes to </span>\n",
       "<span style=\"color: #c0c0c0; text-decoration-color: #c0c0c0; background-color: #008000\">consolidated financial statements</span><span style=\"color: #c0c0c0; text-decoration-color: #c0c0c0; background-color: #008000; font-weight: bold\">)</span><span style=\"color: #c0c0c0; text-decoration-color: #c0c0c0; background-color: #008000\"> or securities of issuers that are experiencing cash flow difficulty to an extent</span>\n",
       "<span style=\"color: #c0c0c0; text-decoration-color: #c0c0c0; background-color: #008000\">that the company 2019s management believes could threaten the issuer 2019s ability to meet debt service payments, </span>\n",
       "<span style=\"color: #c0c0c0; text-decoration-color: #c0c0c0; background-color: #008000\">except where other-than-temporary impairments have been recognized.</span><span style=\"color: #c0c0c0; text-decoration-color: #c0c0c0; background-color: #008080\">the company 2019s investment portfolio includes </span>\n",
       "<span style=\"color: #c0c0c0; text-decoration-color: #c0c0c0; background-color: #008080\">structured commercial mortgage-backed securities </span><span style=\"color: #c0c0c0; text-decoration-color: #c0c0c0; background-color: #008080; font-weight: bold\">(</span><span style=\"color: #c0c0c0; text-decoration-color: #c0c0c0; background-color: #008080\">201ccmbs 201d</span><span style=\"color: #c0c0c0; text-decoration-color: #c0c0c0; background-color: #008080; font-weight: bold\">)</span><span style=\"color: #c0c0c0; text-decoration-color: #c0c0c0; background-color: #008080\"> with a book value of $</span><span style=\"color: #c0c0c0; text-decoration-color: #c0c0c0; background-color: #008080; font-weight: bold\">264.9</span><span style=\"color: #c0c0c0; text-decoration-color: #c0c0c0; background-color: #008080\"> million and a market </span>\n",
       "<span style=\"color: #c0c0c0; text-decoration-color: #c0c0c0; background-color: #008080\">value of $</span><span style=\"color: #c0c0c0; text-decoration-color: #c0c0c0; background-color: #008080; font-weight: bold\">266.3</span><span style=\"color: #c0c0c0; text-decoration-color: #c0c0c0; background-color: #008080\"> million.</span>\n",
       "</pre>\n"
      ],
      "text/plain": [
       "chunk: \u001b[37;42mas of december \u001b[0m\u001b[1;37;42m31\u001b[0m\u001b[37;42m, \u001b[0m\u001b[1;37;42m2015\u001b[0m\u001b[37;42m, the company did not have any direct investments in commercial real estate or direct\u001b[0m\n",
       "\u001b[37;42mcommercial mortgages or any material holdings of derivative investments \u001b[0m\u001b[1;37;42m(\u001b[0m\u001b[37;42mother than equity index put option \u001b[0m\n",
       "\u001b[37;42mcontracts as discussed in item \u001b[0m\u001b[1;37;42m8\u001b[0m\u001b[37;42m, 201cfinancial statements and supplementary data 201d - note \u001b[0m\u001b[1;37;42m4\u001b[0m\u001b[37;42m of notes to \u001b[0m\n",
       "\u001b[37;42mconsolidated financial statements\u001b[0m\u001b[1;37;42m)\u001b[0m\u001b[37;42m or securities of issuers that are experiencing cash flow difficulty to an extent\u001b[0m\n",
       "\u001b[37;42mthat the company 2019s management believes could threaten the issuer 2019s ability to meet debt service payments, \u001b[0m\n",
       "\u001b[37;42mexcept where other-than-temporary impairments have been recognized.\u001b[0m\u001b[37;46mthe company 2019s investment portfolio includes \u001b[0m\n",
       "\u001b[37;46mstructured commercial mortgage-backed securities \u001b[0m\u001b[1;37;46m(\u001b[0m\u001b[37;46m201ccmbs 201d\u001b[0m\u001b[1;37;46m)\u001b[0m\u001b[37;46m with a book value of $\u001b[0m\u001b[1;37;46m264.9\u001b[0m\u001b[37;46m million and a market \u001b[0m\n",
       "\u001b[37;46mvalue of $\u001b[0m\u001b[1;37;46m266.3\u001b[0m\u001b[37;46m million.\u001b[0m\n"
      ]
     },
     "metadata": {},
     "output_type": "display_data"
    },
    {
     "data": {
      "text/html": [
       "<pre style=\"white-space:pre;overflow-x:auto;line-height:normal;font-family:Menlo,'DejaVu Sans Mono',consolas,'Courier New',monospace\">Tuning ended, thresh value: <span style=\"color: #008080; text-decoration-color: #008080; font-weight: bold\">0.8559920191764832</span> = <span style=\"color: #008080; text-decoration-color: #008080; font-weight: bold\">0.85</span>\n",
       "</pre>\n"
      ],
      "text/plain": [
       "Tuning ended, thresh value: \u001b[1;36m0.8559920191764832\u001b[0m = \u001b[1;36m0.85\u001b[0m\n"
      ]
     },
     "metadata": {},
     "output_type": "display_data"
    }
   ],
   "source": [
    "splitter = SentenceSplitter(text=datasets['finance'])\n",
    "splits = splitter()\n",
    "res = tuner(splits, depth=DEPTH)\n",
    "thresholds.append(res)"
   ]
  },
  {
   "cell_type": "markdown",
   "id": "c12bb8a7-b22d-43ab-9d60-4c25ab4efbfd",
   "metadata": {},
   "source": [
    "**pubmed**"
   ]
  },
  {
   "cell_type": "code",
   "execution_count": 26,
   "id": "a487f568-0ffb-438a-831d-db3f9bfab5f5",
   "metadata": {
    "scrolled": true
   },
   "outputs": [
    {
     "name": "stderr",
     "output_type": "stream",
     "text": [
      "100%|██████████████████████████████████████████████████████████████████████████████████████████████████████████████████████████████| 4458/4458 [06:52<00:00, 10.81it/s]\n"
     ]
    },
    {
     "data": {
      "text/html": [
       "<pre style=\"white-space:pre;overflow-x:auto;line-height:normal;font-family:Menlo,'DejaVu Sans Mono',consolas,'Courier New',monospace\"><span style=\"color: #008080; text-decoration-color: #008080; font-weight: bold\">4393</span> chunks formed\n",
       "</pre>\n"
      ],
      "text/plain": [
       "\u001b[1;36m4393\u001b[0m chunks formed\n"
      ]
     },
     "metadata": {},
     "output_type": "display_data"
    },
    {
     "data": {
      "text/html": [
       "<pre style=\"white-space:pre;overflow-x:auto;line-height:normal;font-family:Menlo,'DejaVu Sans Mono',consolas,'Courier New',monospace\">Values range: <span style=\"font-weight: bold\">[</span><span style=\"color: #008080; text-decoration-color: #008080; font-weight: bold\">-0.13710103929042816</span> <span style=\"color: #808000; text-decoration-color: #808000\">...</span> <span style=\"color: #008080; text-decoration-color: #008080; font-weight: bold\">1.000000238418579</span><span style=\"font-weight: bold\">]</span>\n",
       "</pre>\n"
      ],
      "text/plain": [
       "Values range: \u001b[1m[\u001b[0m\u001b[1;36m-0.13710103929042816\u001b[0m \u001b[33m...\u001b[0m \u001b[1;36m1.000000238418579\u001b[0m\u001b[1m]\u001b[0m\n"
      ]
     },
     "metadata": {},
     "output_type": "display_data"
    },
    {
     "data": {
      "text/html": [
       "<pre style=\"white-space:pre;overflow-x:auto;line-height:normal;font-family:Menlo,'DejaVu Sans Mono',consolas,'Courier New',monospace\">Steps to tune: <span style=\"color: #008080; text-decoration-color: #008080; font-weight: bold\">12</span>\n",
       "</pre>\n"
      ],
      "text/plain": [
       "Steps to tune: \u001b[1;36m12\u001b[0m\n"
      ]
     },
     "metadata": {},
     "output_type": "display_data"
    },
    {
     "data": {
      "text/html": [
       "<pre style=\"white-space:pre;overflow-x:auto;line-height:normal;font-family:Menlo,'DejaVu Sans Mono',consolas,'Courier New',monospace\">--------------------------------\n",
       "</pre>\n"
      ],
      "text/plain": [
       "--------------------------------\n"
      ]
     },
     "metadata": {},
     "output_type": "display_data"
    },
    {
     "data": {
      "text/html": [
       "<pre style=\"white-space:pre;overflow-x:auto;line-height:normal;font-family:Menlo,'DejaVu Sans Mono',consolas,'Courier New',monospace\">dist: <span style=\"color: #008080; text-decoration-color: #008080; font-weight: bold\">0.8589000701904297</span>\n",
       "</pre>\n"
      ],
      "text/plain": [
       "dist: \u001b[1;36m0.8589000701904297\u001b[0m\n"
      ]
     },
     "metadata": {},
     "output_type": "display_data"
    },
    {
     "data": {
      "text/html": [
       "<pre style=\"white-space:pre;overflow-x:auto;line-height:normal;font-family:Menlo,'DejaVu Sans Mono',consolas,'Courier New',monospace\">chunk: <span style=\"color: #c0c0c0; text-decoration-color: #c0c0c0; background-color: #008000\">For both the in vivo and the in vitro screens, the mean RIC score of the </span><span style=\"color: #c0c0c0; text-decoration-color: #c0c0c0; background-color: #008000; font-weight: bold\">12</span><span style=\"color: #c0c0c0; text-decoration-color: #c0c0c0; background-color: #008000\">-RSSs in the enriched population </span>\n",
       "<span style=\"color: #c0c0c0; text-decoration-color: #c0c0c0; background-color: #008000\">is higher than that of the starting pool </span><span style=\"color: #c0c0c0; text-decoration-color: #c0c0c0; background-color: #008000; font-weight: bold\">(</span><span style=\"color: #c0c0c0; text-decoration-color: #c0c0c0; background-color: #008000\">data not shown</span><span style=\"color: #c0c0c0; text-decoration-color: #c0c0c0; background-color: #008000; font-weight: bold\">)</span><span style=\"color: #c0c0c0; text-decoration-color: #c0c0c0; background-color: #008000\">, and those differences are statistically significant </span>\n",
       "<span style=\"color: #c0c0c0; text-decoration-color: #c0c0c0; background-color: #008000; font-weight: bold\">(</span><span style=\"color: #c0c0c0; text-decoration-color: #c0c0c0; background-color: #008000\">Student's t test and the Mann–Whitney test, p&lt;</span><span style=\"color: #c0c0c0; text-decoration-color: #c0c0c0; background-color: #008000; font-weight: bold\">0.0002</span><span style=\"color: #c0c0c0; text-decoration-color: #c0c0c0; background-color: #008000\"> for all tests</span><span style=\"color: #c0c0c0; text-decoration-color: #c0c0c0; background-color: #008000; font-weight: bold\">)</span><span style=\"color: #c0c0c0; text-decoration-color: #c0c0c0; background-color: #008000\">.</span><span style=\"color: #c0c0c0; text-decoration-color: #c0c0c0; background-color: #008080\">This indicates that the RIC score is able to </span>\n",
       "<span style=\"color: #c0c0c0; text-decoration-color: #c0c0c0; background-color: #008080\">predict the quality of RSSs and that this ability is not limited to the well-conserved heptamer and nonamer but </span>\n",
       "<span style=\"color: #c0c0c0; text-decoration-color: #c0c0c0; background-color: #008080\">also applies to the far more diverse spacer.</span>\n",
       "</pre>\n"
      ],
      "text/plain": [
       "chunk: \u001b[37;42mFor both the in vivo and the in vitro screens, the mean RIC score of the \u001b[0m\u001b[1;37;42m12\u001b[0m\u001b[37;42m-RSSs in the enriched population \u001b[0m\n",
       "\u001b[37;42mis higher than that of the starting pool \u001b[0m\u001b[1;37;42m(\u001b[0m\u001b[37;42mdata not shown\u001b[0m\u001b[1;37;42m)\u001b[0m\u001b[37;42m, and those differences are statistically significant \u001b[0m\n",
       "\u001b[1;37;42m(\u001b[0m\u001b[37;42mStudent's t test and the Mann–Whitney test, p<\u001b[0m\u001b[1;37;42m0.0002\u001b[0m\u001b[37;42m for all tests\u001b[0m\u001b[1;37;42m)\u001b[0m\u001b[37;42m.\u001b[0m\u001b[37;46mThis indicates that the RIC score is able to \u001b[0m\n",
       "\u001b[37;46mpredict the quality of RSSs and that this ability is not limited to the well-conserved heptamer and nonamer but \u001b[0m\n",
       "\u001b[37;46malso applies to the far more diverse spacer.\u001b[0m\n"
      ]
     },
     "metadata": {},
     "output_type": "display_data"
    },
    {
     "name": "stdin",
     "output_type": "stream",
     "text": [
      "Type 'k' to raise thresh, or 'j' - to lower it, then press 'Enter':  j\n"
     ]
    },
    {
     "data": {
      "text/html": [
       "<pre style=\"white-space:pre;overflow-x:auto;line-height:normal;font-family:Menlo,'DejaVu Sans Mono',consolas,'Courier New',monospace\">dist: <span style=\"color: #008080; text-decoration-color: #008080; font-weight: bold\">0.6916290521621704</span>\n",
       "</pre>\n"
      ],
      "text/plain": [
       "dist: \u001b[1;36m0.6916290521621704\u001b[0m\n"
      ]
     },
     "metadata": {},
     "output_type": "display_data"
    },
    {
     "data": {
      "text/html": [
       "<pre style=\"white-space:pre;overflow-x:auto;line-height:normal;font-family:Menlo,'DejaVu Sans Mono',consolas,'Courier New',monospace\">chunk: <span style=\"color: #c0c0c0; text-decoration-color: #c0c0c0; background-color: #008000; font-weight: bold\">11</span><span style=\"color: #c0c0c0; text-decoration-color: #c0c0c0; background-color: #008000\"> and k</span><span style=\"color: #c0c0c0; text-decoration-color: #c0c0c0; background-color: #008080\">13</span><span style=\"color: #c0c0c0; text-decoration-color: #c0c0c0; background-color: #008080; font-weight: bold\">)</span><span style=\"color: #c0c0c0; text-decoration-color: #c0c0c0; background-color: #008080\"> are also small.</span>\n",
       "</pre>\n"
      ],
      "text/plain": [
       "chunk: \u001b[1;37;42m11\u001b[0m\u001b[37;42m and k\u001b[0m\u001b[37;46m13\u001b[0m\u001b[1;37;46m)\u001b[0m\u001b[37;46m are also small.\u001b[0m\n"
      ]
     },
     "metadata": {},
     "output_type": "display_data"
    },
    {
     "name": "stdin",
     "output_type": "stream",
     "text": [
      "Type 'k' to raise thresh, or 'j' - to lower it, then press 'Enter':  j\n"
     ]
    },
    {
     "data": {
      "text/html": [
       "<pre style=\"white-space:pre;overflow-x:auto;line-height:normal;font-family:Menlo,'DejaVu Sans Mono',consolas,'Courier New',monospace\">dist: <span style=\"color: #008080; text-decoration-color: #008080; font-weight: bold\">0.4153408706188202</span>\n",
       "</pre>\n"
      ],
      "text/plain": [
       "dist: \u001b[1;36m0.4153408706188202\u001b[0m\n"
      ]
     },
     "metadata": {},
     "output_type": "display_data"
    },
    {
     "data": {
      "text/html": [
       "<pre style=\"white-space:pre;overflow-x:auto;line-height:normal;font-family:Menlo,'DejaVu Sans Mono',consolas,'Courier New',monospace\">chunk: <span style=\"color: #c0c0c0; text-decoration-color: #c0c0c0; background-color: #008000\">GFP expression analysis.</span><span style=\"color: #c0c0c0; text-decoration-color: #c0c0c0; background-color: #008080\">To visualize the axon projections from circadian neurons, a UAS–mCD8GFP line </span>\n",
       "<span style=\"color: #c0c0c0; text-decoration-color: #c0c0c0; background-color: #008080\">labeling the cell membrane was crossed with various circadian GAL4 drivers.</span>\n",
       "</pre>\n"
      ],
      "text/plain": [
       "chunk: \u001b[37;42mGFP expression analysis.\u001b[0m\u001b[37;46mTo visualize the axon projections from circadian neurons, a UAS–mCD8GFP line \u001b[0m\n",
       "\u001b[37;46mlabeling the cell membrane was crossed with various circadian GAL4 drivers.\u001b[0m\n"
      ]
     },
     "metadata": {},
     "output_type": "display_data"
    },
    {
     "name": "stdin",
     "output_type": "stream",
     "text": [
      "Type 'k' to raise thresh, or 'j' - to lower it, then press 'Enter':  j\n"
     ]
    },
    {
     "data": {
      "text/html": [
       "<pre style=\"white-space:pre;overflow-x:auto;line-height:normal;font-family:Menlo,'DejaVu Sans Mono',consolas,'Courier New',monospace\">dist: <span style=\"color: #008080; text-decoration-color: #008080; font-weight: bold\">0.1439543068408966</span>\n",
       "</pre>\n"
      ],
      "text/plain": [
       "dist: \u001b[1;36m0.1439543068408966\u001b[0m\n"
      ]
     },
     "metadata": {},
     "output_type": "display_data"
    },
    {
     "data": {
      "text/html": [
       "<pre style=\"white-space:pre;overflow-x:auto;line-height:normal;font-family:Menlo,'DejaVu Sans Mono',consolas,'Courier New',monospace\">chunk: <span style=\"color: #c0c0c0; text-decoration-color: #c0c0c0; background-color: #008000; font-weight: bold\">2002</span><span style=\"color: #c0c0c0; text-decoration-color: #c0c0c0; background-color: #008000; font-weight: bold\">)</span><span style=\"color: #c0c0c0; text-decoration-color: #c0c0c0; background-color: #008000\">.</span><span style=\"color: #c0c0c0; text-decoration-color: #c0c0c0; background-color: #008080\">However, transcriptional domains have previously been suggested for Chromosome </span><span style=\"color: #c0c0c0; text-decoration-color: #c0c0c0; background-color: #008080; font-weight: bold\">2</span><span style=\"color: #c0c0c0; text-decoration-color: #c0c0c0; background-color: #008080\"> </span><span style=\"color: #c0c0c0; text-decoration-color: #c0c0c0; background-color: #008080; font-weight: bold\">(</span><span style=\"color: #c0c0c0; text-decoration-color: #c0c0c0; background-color: #008080\">Le Roch et al.</span>\n",
       "</pre>\n"
      ],
      "text/plain": [
       "chunk: \u001b[1;37;42m2002\u001b[0m\u001b[1;37;42m)\u001b[0m\u001b[37;42m.\u001b[0m\u001b[37;46mHowever, transcriptional domains have previously been suggested for Chromosome \u001b[0m\u001b[1;37;46m2\u001b[0m\u001b[37;46m \u001b[0m\u001b[1;37;46m(\u001b[0m\u001b[37;46mLe Roch et al.\u001b[0m\n"
      ]
     },
     "metadata": {},
     "output_type": "display_data"
    },
    {
     "name": "stdin",
     "output_type": "stream",
     "text": [
      "Type 'k' to raise thresh, or 'j' - to lower it, then press 'Enter':  k\n"
     ]
    },
    {
     "data": {
      "text/html": [
       "<pre style=\"white-space:pre;overflow-x:auto;line-height:normal;font-family:Menlo,'DejaVu Sans Mono',consolas,'Courier New',monospace\">dist: <span style=\"color: #008080; text-decoration-color: #008080; font-weight: bold\">0.29044461250305176</span>\n",
       "</pre>\n"
      ],
      "text/plain": [
       "dist: \u001b[1;36m0.29044461250305176\u001b[0m\n"
      ]
     },
     "metadata": {},
     "output_type": "display_data"
    },
    {
     "data": {
      "text/html": [
       "<pre style=\"white-space:pre;overflow-x:auto;line-height:normal;font-family:Menlo,'DejaVu Sans Mono',consolas,'Courier New',monospace\">chunk: <span style=\"color: #c0c0c0; text-decoration-color: #c0c0c0; background-color: #008000\">2</span><span style=\"color: #c0c0c0; text-decoration-color: #c0c0c0; background-color: #008080\">DeRisi Joseph L joe@derisilab.ucsf.edu</span>\n",
       "</pre>\n"
      ],
      "text/plain": [
       "chunk: \u001b[37;42m2\u001b[0m\u001b[37;46mDeRisi Joseph L joe@derisilab.ucsf.edu\u001b[0m\n"
      ]
     },
     "metadata": {},
     "output_type": "display_data"
    },
    {
     "name": "stdin",
     "output_type": "stream",
     "text": [
      "Type 'k' to raise thresh, or 'j' - to lower it, then press 'Enter':  k\n"
     ]
    },
    {
     "data": {
      "text/html": [
       "<pre style=\"white-space:pre;overflow-x:auto;line-height:normal;font-family:Menlo,'DejaVu Sans Mono',consolas,'Courier New',monospace\">dist: <span style=\"color: #008080; text-decoration-color: #008080; font-weight: bold\">0.35376879572868347</span>\n",
       "</pre>\n"
      ],
      "text/plain": [
       "dist: \u001b[1;36m0.35376879572868347\u001b[0m\n"
      ]
     },
     "metadata": {},
     "output_type": "display_data"
    },
    {
     "data": {
      "text/html": [
       "<pre style=\"white-space:pre;overflow-x:auto;line-height:normal;font-family:Menlo,'DejaVu Sans Mono',consolas,'Courier New',monospace\">chunk: <span style=\"color: #c0c0c0; text-decoration-color: #c0c0c0; background-color: #008000\">1</span><span style=\"color: #c0c0c0; text-decoration-color: #c0c0c0; background-color: #008080\">Fugmann Sebastian D </span>\n",
       "</pre>\n"
      ],
      "text/plain": [
       "chunk: \u001b[37;42m1\u001b[0m\u001b[37;46mFugmann Sebastian D \u001b[0m\n"
      ]
     },
     "metadata": {},
     "output_type": "display_data"
    },
    {
     "name": "stdin",
     "output_type": "stream",
     "text": [
      "Type 'k' to raise thresh, or 'j' - to lower it, then press 'Enter':  k\n"
     ]
    },
    {
     "data": {
      "text/html": [
       "<pre style=\"white-space:pre;overflow-x:auto;line-height:normal;font-family:Menlo,'DejaVu Sans Mono',consolas,'Courier New',monospace\">dist: <span style=\"color: #008080; text-decoration-color: #008080; font-weight: bold\">0.3829529583454132</span>\n",
       "</pre>\n"
      ],
      "text/plain": [
       "dist: \u001b[1;36m0.3829529583454132\u001b[0m\n"
      ]
     },
     "metadata": {},
     "output_type": "display_data"
    },
    {
     "data": {
      "text/html": [
       "<pre style=\"white-space:pre;overflow-x:auto;line-height:normal;font-family:Menlo,'DejaVu Sans Mono',consolas,'Courier New',monospace\">chunk: <span style=\"color: #c0c0c0; text-decoration-color: #c0c0c0; background-color: #008000\">1</span><span style=\"color: #c0c0c0; text-decoration-color: #c0c0c0; background-color: #008080\">Levine Joel D </span>\n",
       "</pre>\n"
      ],
      "text/plain": [
       "chunk: \u001b[37;42m1\u001b[0m\u001b[37;46mLevine Joel D \u001b[0m\n"
      ]
     },
     "metadata": {},
     "output_type": "display_data"
    },
    {
     "name": "stdin",
     "output_type": "stream",
     "text": [
      "Type 'k' to raise thresh, or 'j' - to lower it, then press 'Enter':  k\n"
     ]
    },
    {
     "data": {
      "text/html": [
       "<pre style=\"white-space:pre;overflow-x:auto;line-height:normal;font-family:Menlo,'DejaVu Sans Mono',consolas,'Courier New',monospace\">dist: <span style=\"color: #008080; text-decoration-color: #008080; font-weight: bold\">0.3992776572704315</span>\n",
       "</pre>\n"
      ],
      "text/plain": [
       "dist: \u001b[1;36m0.3992776572704315\u001b[0m\n"
      ]
     },
     "metadata": {},
     "output_type": "display_data"
    },
    {
     "data": {
      "text/html": [
       "<pre style=\"white-space:pre;overflow-x:auto;line-height:normal;font-family:Menlo,'DejaVu Sans Mono',consolas,'Courier New',monospace\">chunk: <span style=\"color: #c0c0c0; text-decoration-color: #c0c0c0; background-color: #008000\"> Mol Microbiol </span><span style=\"color: #c0c0c0; text-decoration-color: #c0c0c0; background-color: #008000; font-weight: bold\">2002</span><span style=\"color: #c0c0c0; text-decoration-color: #c0c0c0; background-color: #008000\"> </span><span style=\"color: #c0c0c0; text-decoration-color: #c0c0c0; background-color: #008000; font-weight: bold\">45</span><span style=\"color: #c0c0c0; text-decoration-color: #c0c0c0; background-color: #008000\"> </span><span style=\"color: #c0c0c0; text-decoration-color: #c0c0c0; background-color: #008000; font-weight: bold\">597</span><span style=\"color: #c0c0c0; text-decoration-color: #c0c0c0; background-color: #008000\"> </span><span style=\"color: #c0c0c0; text-decoration-color: #c0c0c0; background-color: #008000; font-weight: bold\">604</span><span style=\"color: #c0c0c0; text-decoration-color: #c0c0c0; background-color: #008000\"> </span><span style=\"color: #c0c0c0; text-decoration-color: #c0c0c0; background-color: #008000; font-weight: bold\">12139608</span><span style=\"color: #c0c0c0; text-decoration-color: #c0c0c0; background-color: #008000\"> </span><span style=\"color: #c0c0c0; text-decoration-color: #c0c0c0; background-color: #008080\">Patankar S  Munasinghe A  Shoaibi A  Cummings LM  Wirth DF   Serial </span>\n",
       "<span style=\"color: #c0c0c0; text-decoration-color: #c0c0c0; background-color: #008080\">analysis of gene expression in Plasmodium falciparum  reveals the global expression profile of erythrocytic stages </span>\n",
       "<span style=\"color: #c0c0c0; text-decoration-color: #c0c0c0; background-color: #008080\">and the presence of anti-sense transcripts in the malarial parasite Mol Biol Cell </span><span style=\"color: #c0c0c0; text-decoration-color: #c0c0c0; background-color: #008080; font-weight: bold\">2001</span><span style=\"color: #c0c0c0; text-decoration-color: #c0c0c0; background-color: #008080\"> </span><span style=\"color: #c0c0c0; text-decoration-color: #c0c0c0; background-color: #008080; font-weight: bold\">12</span><span style=\"color: #c0c0c0; text-decoration-color: #c0c0c0; background-color: #008080\"> </span><span style=\"color: #c0c0c0; text-decoration-color: #c0c0c0; background-color: #008080; font-weight: bold\">3114</span><span style=\"color: #c0c0c0; text-decoration-color: #c0c0c0; background-color: #008080\"> </span><span style=\"color: #c0c0c0; text-decoration-color: #c0c0c0; background-color: #008080; font-weight: bold\">3125</span><span style=\"color: #c0c0c0; text-decoration-color: #c0c0c0; background-color: #008080\"> </span><span style=\"color: #c0c0c0; text-decoration-color: #c0c0c0; background-color: #008080; font-weight: bold\">11598196</span><span style=\"color: #c0c0c0; text-decoration-color: #c0c0c0; background-color: #008080\"> </span>\n",
       "</pre>\n"
      ],
      "text/plain": [
       "chunk: \u001b[37;42m Mol Microbiol \u001b[0m\u001b[1;37;42m2002\u001b[0m\u001b[37;42m \u001b[0m\u001b[1;37;42m45\u001b[0m\u001b[37;42m \u001b[0m\u001b[1;37;42m597\u001b[0m\u001b[37;42m \u001b[0m\u001b[1;37;42m604\u001b[0m\u001b[37;42m \u001b[0m\u001b[1;37;42m12139608\u001b[0m\u001b[37;42m \u001b[0m\u001b[37;46mPatankar S  Munasinghe A  Shoaibi A  Cummings LM  Wirth DF   Serial \u001b[0m\n",
       "\u001b[37;46manalysis of gene expression in Plasmodium falciparum  reveals the global expression profile of erythrocytic stages \u001b[0m\n",
       "\u001b[37;46mand the presence of anti-sense transcripts in the malarial parasite Mol Biol Cell \u001b[0m\u001b[1;37;46m2001\u001b[0m\u001b[37;46m \u001b[0m\u001b[1;37;46m12\u001b[0m\u001b[37;46m \u001b[0m\u001b[1;37;46m3114\u001b[0m\u001b[37;46m \u001b[0m\u001b[1;37;46m3125\u001b[0m\u001b[37;46m \u001b[0m\u001b[1;37;46m11598196\u001b[0m\u001b[37;46m \u001b[0m\n"
      ]
     },
     "metadata": {},
     "output_type": "display_data"
    },
    {
     "name": "stdin",
     "output_type": "stream",
     "text": [
      "Type 'k' to raise thresh, or 'j' - to lower it, then press 'Enter':  k\n"
     ]
    },
    {
     "data": {
      "text/html": [
       "<pre style=\"white-space:pre;overflow-x:auto;line-height:normal;font-family:Menlo,'DejaVu Sans Mono',consolas,'Courier New',monospace\">dist: <span style=\"color: #008080; text-decoration-color: #008080; font-weight: bold\">0.4078792333602905</span>\n",
       "</pre>\n"
      ],
      "text/plain": [
       "dist: \u001b[1;36m0.4078792333602905\u001b[0m\n"
      ]
     },
     "metadata": {},
     "output_type": "display_data"
    },
    {
     "data": {
      "text/html": [
       "<pre style=\"white-space:pre;overflow-x:auto;line-height:normal;font-family:Menlo,'DejaVu Sans Mono',consolas,'Courier New',monospace\">chunk: <span style=\"color: #c0c0c0; text-decoration-color: #c0c0c0; background-color: #008000; font-weight: bold\">0</span><span style=\"color: #c0c0c0; text-decoration-color: #c0c0c0; background-color: #008000\">, β-catenin*</span><span style=\"color: #c0c0c0; text-decoration-color: #c0c0c0; background-color: #008000; font-weight: bold\">)</span><span style=\"color: #c0c0c0; text-decoration-color: #c0c0c0; background-color: #008000\">.</span><span style=\"color: #c0c0c0; text-decoration-color: #c0c0c0; background-color: #008080\">The total concentrations of Dsh, TCF, GSK3β, axin, β-catenin, and APC in Xenopus egg extract </span>\n",
       "<span style=\"color: #c0c0c0; text-decoration-color: #c0c0c0; background-color: #008080\">were determined experimentally using Western blot analysis by comparing the intensity of the signal to that of </span>\n",
       "<span style=\"color: #c0c0c0; text-decoration-color: #c0c0c0; background-color: #008080\">known amounts of recombinant protein.</span>\n",
       "</pre>\n"
      ],
      "text/plain": [
       "chunk: \u001b[1;37;42m0\u001b[0m\u001b[37;42m, β-catenin*\u001b[0m\u001b[1;37;42m)\u001b[0m\u001b[37;42m.\u001b[0m\u001b[37;46mThe total concentrations of Dsh, TCF, GSK3β, axin, β-catenin, and APC in Xenopus egg extract \u001b[0m\n",
       "\u001b[37;46mwere determined experimentally using Western blot analysis by comparing the intensity of the signal to that of \u001b[0m\n",
       "\u001b[37;46mknown amounts of recombinant protein.\u001b[0m\n"
      ]
     },
     "metadata": {},
     "output_type": "display_data"
    },
    {
     "name": "stdin",
     "output_type": "stream",
     "text": [
      "Type 'k' to raise thresh, or 'j' - to lower it, then press 'Enter':  k\n"
     ]
    },
    {
     "data": {
      "text/html": [
       "<pre style=\"white-space:pre;overflow-x:auto;line-height:normal;font-family:Menlo,'DejaVu Sans Mono',consolas,'Courier New',monospace\">dist: <span style=\"color: #008080; text-decoration-color: #008080; font-weight: bold\">0.41215842962265015</span>\n",
       "</pre>\n"
      ],
      "text/plain": [
       "dist: \u001b[1;36m0.41215842962265015\u001b[0m\n"
      ]
     },
     "metadata": {},
     "output_type": "display_data"
    },
    {
     "data": {
      "text/html": [
       "<pre style=\"white-space:pre;overflow-x:auto;line-height:normal;font-family:Menlo,'DejaVu Sans Mono',consolas,'Courier New',monospace\">chunk: <span style=\"color: #c0c0c0; text-decoration-color: #c0c0c0; background-color: #008000\">Risky Business</span><span style=\"color: #c0c0c0; text-decoration-color: #c0c0c0; background-color: #008080\">After seven years of GM crop production and no apparent health effects, potential </span>\n",
       "<span style=\"color: #c0c0c0; text-decoration-color: #c0c0c0; background-color: #008080\">environmental risks—particularly gene flow into other species—have eclipsed food safety as a primary concern.</span>\n",
       "</pre>\n"
      ],
      "text/plain": [
       "chunk: \u001b[37;42mRisky Business\u001b[0m\u001b[37;46mAfter seven years of GM crop production and no apparent health effects, potential \u001b[0m\n",
       "\u001b[37;46menvironmental risks—particularly gene flow into other species—have eclipsed food safety as a primary concern.\u001b[0m\n"
      ]
     },
     "metadata": {},
     "output_type": "display_data"
    },
    {
     "name": "stdin",
     "output_type": "stream",
     "text": [
      "Type 'k' to raise thresh, or 'j' - to lower it, then press 'Enter':  k\n"
     ]
    },
    {
     "data": {
      "text/html": [
       "<pre style=\"white-space:pre;overflow-x:auto;line-height:normal;font-family:Menlo,'DejaVu Sans Mono',consolas,'Courier New',monospace\">dist: <span style=\"color: #008080; text-decoration-color: #008080; font-weight: bold\">0.41394874453544617</span>\n",
       "</pre>\n"
      ],
      "text/plain": [
       "dist: \u001b[1;36m0.41394874453544617\u001b[0m\n"
      ]
     },
     "metadata": {},
     "output_type": "display_data"
    },
    {
     "data": {
      "text/html": [
       "<pre style=\"white-space:pre;overflow-x:auto;line-height:normal;font-family:Menlo,'DejaVu Sans Mono',consolas,'Courier New',monospace\">chunk: <span style=\"color: #c0c0c0; text-decoration-color: #c0c0c0; background-color: #008000\">Cases of Lateral Transfer</span><span style=\"color: #c0c0c0; text-decoration-color: #c0c0c0; background-color: #008080\">Of the </span><span style=\"color: #c0c0c0; text-decoration-color: #c0c0c0; background-color: #008080; font-weight: bold\">205</span><span style=\"color: #c0c0c0; text-decoration-color: #c0c0c0; background-color: #008080\"> alignments, two were found to strongly reject the most accepted tree </span>\n",
       "<span style=\"color: #c0c0c0; text-decoration-color: #c0c0c0; background-color: #008080; font-weight: bold\">(</span><span style=\"color: #c0c0c0; text-decoration-color: #c0c0c0; background-color: #008080\">topology </span><span style=\"color: #c0c0c0; text-decoration-color: #c0c0c0; background-color: #008080; font-weight: bold\">5</span><span style=\"color: #c0c0c0; text-decoration-color: #c0c0c0; background-color: #008080; font-weight: bold\">)</span><span style=\"color: #c0c0c0; text-decoration-color: #c0c0c0; background-color: #008080\"> as well as all other topologies tested.</span>\n",
       "</pre>\n"
      ],
      "text/plain": [
       "chunk: \u001b[37;42mCases of Lateral Transfer\u001b[0m\u001b[37;46mOf the \u001b[0m\u001b[1;37;46m205\u001b[0m\u001b[37;46m alignments, two were found to strongly reject the most accepted tree \u001b[0m\n",
       "\u001b[1;37;46m(\u001b[0m\u001b[37;46mtopology \u001b[0m\u001b[1;37;46m5\u001b[0m\u001b[1;37;46m)\u001b[0m\u001b[37;46m as well as all other topologies tested.\u001b[0m\n"
      ]
     },
     "metadata": {},
     "output_type": "display_data"
    },
    {
     "name": "stdin",
     "output_type": "stream",
     "text": [
      "Type 'k' to raise thresh, or 'j' - to lower it, then press 'Enter':  j\n"
     ]
    },
    {
     "data": {
      "text/html": [
       "<pre style=\"white-space:pre;overflow-x:auto;line-height:normal;font-family:Menlo,'DejaVu Sans Mono',consolas,'Courier New',monospace\">dist: <span style=\"color: #008080; text-decoration-color: #008080; font-weight: bold\">0.4131526052951813</span>\n",
       "</pre>\n"
      ],
      "text/plain": [
       "dist: \u001b[1;36m0.4131526052951813\u001b[0m\n"
      ]
     },
     "metadata": {},
     "output_type": "display_data"
    },
    {
     "data": {
      "text/html": [
       "<pre style=\"white-space:pre;overflow-x:auto;line-height:normal;font-family:Menlo,'DejaVu Sans Mono',consolas,'Courier New',monospace\">chunk: <span style=\"color: #c0c0c0; text-decoration-color: #c0c0c0; background-color: #008000; font-weight: bold\">1997</span><span style=\"color: #c0c0c0; text-decoration-color: #c0c0c0; background-color: #008000; font-weight: bold\">)</span><span style=\"color: #c0c0c0; text-decoration-color: #c0c0c0; background-color: #008000\">.</span><span style=\"color: #c0c0c0; text-decoration-color: #c0c0c0; background-color: #008080\">Recombination assays.</span>\n",
       "</pre>\n"
      ],
      "text/plain": [
       "chunk: \u001b[1;37;42m1997\u001b[0m\u001b[1;37;42m)\u001b[0m\u001b[37;42m.\u001b[0m\u001b[37;46mRecombination assays.\u001b[0m\n"
      ]
     },
     "metadata": {},
     "output_type": "display_data"
    },
    {
     "data": {
      "text/html": [
       "<pre style=\"white-space:pre;overflow-x:auto;line-height:normal;font-family:Menlo,'DejaVu Sans Mono',consolas,'Courier New',monospace\">Tuning ended, thresh value: <span style=\"color: #008080; text-decoration-color: #008080; font-weight: bold\">0.4131526052951813</span> = <span style=\"color: #008080; text-decoration-color: #008080; font-weight: bold\">0.41</span>\n",
       "</pre>\n"
      ],
      "text/plain": [
       "Tuning ended, thresh value: \u001b[1;36m0.4131526052951813\u001b[0m = \u001b[1;36m0.41\u001b[0m\n"
      ]
     },
     "metadata": {},
     "output_type": "display_data"
    }
   ],
   "source": [
    "splitter = SentenceSplitter(text=datasets['pubmed'])\n",
    "splits = splitter()\n",
    "res = tuner(splits, depth=DEPTH)\n",
    "thresholds.append(res)"
   ]
  },
  {
   "cell_type": "markdown",
   "id": "eb3ded89-77c5-4133-b655-5478f57517bc",
   "metadata": {},
   "source": [
    "**state_of_the_union**"
   ]
  },
  {
   "cell_type": "code",
   "execution_count": null,
   "id": "3ae23541-5810-4eaf-8488-2250628fec20",
   "metadata": {
    "scrolled": true
   },
   "outputs": [
    {
     "name": "stderr",
     "output_type": "stream",
     "text": [
      "100%|████████████████████████████████████████████████████████████████████████████████████████████████████████████████████████████████| 658/658 [01:00<00:00, 10.83it/s]\n"
     ]
    },
    {
     "data": {
      "text/html": [
       "<pre style=\"white-space:pre;overflow-x:auto;line-height:normal;font-family:Menlo,'DejaVu Sans Mono',consolas,'Courier New',monospace\"><span style=\"color: #008080; text-decoration-color: #008080; font-weight: bold\">656</span> chunks formed\n",
       "</pre>\n"
      ],
      "text/plain": [
       "\u001b[1;36m656\u001b[0m chunks formed\n"
      ]
     },
     "metadata": {},
     "output_type": "display_data"
    },
    {
     "data": {
      "text/html": [
       "<pre style=\"white-space:pre;overflow-x:auto;line-height:normal;font-family:Menlo,'DejaVu Sans Mono',consolas,'Courier New',monospace\">Values range: <span style=\"font-weight: bold\">[</span><span style=\"color: #008080; text-decoration-color: #008080; font-weight: bold\">0.10046437382698059</span> <span style=\"color: #808000; text-decoration-color: #808000\">...</span> <span style=\"color: #008080; text-decoration-color: #008080; font-weight: bold\">0.9999999403953552</span><span style=\"font-weight: bold\">]</span>\n",
       "</pre>\n"
      ],
      "text/plain": [
       "Values range: \u001b[1m[\u001b[0m\u001b[1;36m0.10046437382698059\u001b[0m \u001b[33m...\u001b[0m \u001b[1;36m0.9999999403953552\u001b[0m\u001b[1m]\u001b[0m\n"
      ]
     },
     "metadata": {},
     "output_type": "display_data"
    },
    {
     "data": {
      "text/html": [
       "<pre style=\"white-space:pre;overflow-x:auto;line-height:normal;font-family:Menlo,'DejaVu Sans Mono',consolas,'Courier New',monospace\">Steps to tune: <span style=\"color: #008080; text-decoration-color: #008080; font-weight: bold\">9</span>\n",
       "</pre>\n"
      ],
      "text/plain": [
       "Steps to tune: \u001b[1;36m9\u001b[0m\n"
      ]
     },
     "metadata": {},
     "output_type": "display_data"
    },
    {
     "data": {
      "text/html": [
       "<pre style=\"white-space:pre;overflow-x:auto;line-height:normal;font-family:Menlo,'DejaVu Sans Mono',consolas,'Courier New',monospace\">--------------------------------\n",
       "</pre>\n"
      ],
      "text/plain": [
       "--------------------------------\n"
      ]
     },
     "metadata": {},
     "output_type": "display_data"
    },
    {
     "data": {
      "text/html": [
       "<pre style=\"white-space:pre;overflow-x:auto;line-height:normal;font-family:Menlo,'DejaVu Sans Mono',consolas,'Courier New',monospace\">dist: <span style=\"color: #008080; text-decoration-color: #008080; font-weight: bold\">0.8220882415771484</span>\n",
       "</pre>\n"
      ],
      "text/plain": [
       "dist: \u001b[1;36m0.8220882415771484\u001b[0m\n"
      ]
     },
     "metadata": {},
     "output_type": "display_data"
    },
    {
     "data": {
      "text/html": [
       "<pre style=\"white-space:pre;overflow-x:auto;line-height:normal;font-family:Menlo,'DejaVu Sans Mono',consolas,'Courier New',monospace\">chunk: <span style=\"color: #c0c0c0; text-decoration-color: #c0c0c0; background-color: #008000\">Some came when famine struck, like my ancestral family in Ireland.</span><span style=\"color: #c0c0c0; text-decoration-color: #c0c0c0; background-color: #008080\">Some to flee persecution, to chase dreams </span>\n",
       "<span style=\"color: #c0c0c0; text-decoration-color: #c0c0c0; background-color: #008080\">that are impossible anywhere but here in America.</span>\n",
       "</pre>\n"
      ],
      "text/plain": [
       "chunk: \u001b[37;42mSome came when famine struck, like my ancestral family in Ireland.\u001b[0m\u001b[37;46mSome to flee persecution, to chase dreams \u001b[0m\n",
       "\u001b[37;46mthat are impossible anywhere but here in America.\u001b[0m\n"
      ]
     },
     "metadata": {},
     "output_type": "display_data"
    }
   ],
   "source": [
    "splitter = SentenceSplitter(text=datasets['state_of_the_union'])\n",
    "splits = splitter()\n",
    "res = tuner(splits, depth=DEPTH)\n",
    "thresholds.append(res)"
   ]
  },
  {
   "cell_type": "markdown",
   "id": "2d977784-ff40-4eac-b9a6-7ce74113dc7a",
   "metadata": {},
   "source": [
    "#### Averaging thresh values "
   ]
  },
  {
   "cell_type": "markdown",
   "id": "9fcb25f4-01ef-418d-9a97-c5e6600a03cb",
   "metadata": {},
   "source": [
    "The calculated average threshold value will be used for evaluation over the general dataset in the `evaluation.ipynb`notebook."
   ]
  },
  {
   "cell_type": "code",
   "execution_count": 18,
   "id": "7ea628fe-a5e4-4d89-8a2c-8db2b3ead63e",
   "metadata": {},
   "outputs": [
    {
     "name": "stdout",
     "output_type": "stream",
     "text": [
      "5 [0.7941413521766663, 0.6194384098052979, 0.5499992966651917, 0.5951321125030518, 0.4767434597015381]\n",
      "avg. thresh: 0.6070909261703491 = 0.61\n"
     ]
    }
   ],
   "source": [
    "import numpy as np\n",
    "\n",
    "print(len(thresholds), thresholds)\n",
    "thresh = np.mean(thresholds)\n",
    "print(f'avg. thresh: {thresh} = {round(thresh, 2)}')"
   ]
  }
 ],
 "metadata": {
  "kernelspec": {
   "display_name": "horchunk_docs",
   "language": "python",
   "name": "horchunk_docs"
  },
  "language_info": {
   "codemirror_mode": {
    "name": "ipython",
    "version": 3
   },
   "file_extension": ".py",
   "mimetype": "text/x-python",
   "name": "python",
   "nbconvert_exporter": "python",
   "pygments_lexer": "ipython3",
   "version": "3.12.7"
  }
 },
 "nbformat": 4,
 "nbformat_minor": 5
}
