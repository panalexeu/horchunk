{
 "cells": [
  {
   "cell_type": "markdown",
   "id": "5e55a349-c942-4591-8ca2-92dcde88090c",
   "metadata": {},
   "source": [
    "#### Packages installation"
   ]
  },
  {
   "cell_type": "code",
   "execution_count": 1,
   "id": "a5e06edf-605e-4c94-a1b0-b49afe855b47",
   "metadata": {
    "scrolled": true
   },
   "outputs": [],
   "source": [
    "!pip install -q \"git+https://github.com/panalexeu/horchunk.git\"\n",
    "!pip install -q \"git+https://github.com/brandonstarxel/chunking_evaluation.git\"\n",
    "!pip install -q numpy\n",
    "!pip install -q rich"
   ]
  },
  {
   "cell_type": "markdown",
   "id": "8e61a51d-de62-4cbb-b815-9b4172fbb4b6",
   "metadata": {},
   "source": [
    "#### Define chunker wrapper to evaluate over chunking_evaluation framework"
   ]
  },
  {
   "cell_type": "code",
   "execution_count": 2,
   "id": "24d76fd9-42ca-4623-9957-fea962c28483",
   "metadata": {
    "scrolled": true
   },
   "outputs": [],
   "source": [
    "from horchunk.chunkers import WindowChunker \n",
    "from horchunk.splitters import SentenceSplitter \n",
    "from chromadb.utils import embedding_functions\n",
    "from chunking_evaluation.chunking.base_chunker import BaseChunker\n",
    "\n",
    "ef = embedding_functions.SentenceTransformerEmbeddingFunction(model_name=\"all-MiniLM-L6-v2\", device='cuda')\n",
    "\n",
    "class WinChunkerWrapper(BaseChunker):    \n",
    "    def __init__(self, thresh: float, max_chunk_size: int):\n",
    "        self.thresh = thresh\n",
    "        self.max_chunk_size = max_chunk_size\n",
    "        \n",
    "    def split_text(self, text: str) -> list[str]:\n",
    "        chunker = WindowChunker(\n",
    "            ef,\n",
    "            thresh=self.thresh,\n",
    "            max_chunk_size=self.max_chunk_size\n",
    "        )\n",
    "        splits = SentenceSplitter(text).__call__()\n",
    "        chunks = chunker.__call__(splits)\n",
    "\n",
    "        return [chunk.join() for chunk in chunks]"
   ]
  },
  {
   "cell_type": "markdown",
   "id": "0337b667-3a2e-4a58-acd6-59d60c33eb39",
   "metadata": {},
   "source": [
    "#### Start evaluation"
   ]
  },
  {
   "cell_type": "code",
   "execution_count": 3,
   "id": "ead0897b-45ae-4990-b3e0-1b53eb519920",
   "metadata": {},
   "outputs": [],
   "source": [
    "def parse_res(res: dict) -> dict:\n",
    "    return dict(\n",
    "        iou_mean=res['iou_mean'],\n",
    "        iou_std=res['iou_std'],\n",
    "        recall_mean=res['recall_mean'],\n",
    "        recall_std=res['recall_std'],\n",
    "        precision_omeaga_mean=res['precision_omega_mean'],\n",
    "        precision_omeaga_std=res['precision_omega_std'],\n",
    "        precision_mean=res['precision_mean'], \n",
    "        precision_std=res['precision_std']\n",
    "    )"
   ]
  },
  {
   "cell_type": "code",
   "execution_count": 4,
   "id": "c34f75f4-123b-4af4-8e50-718f26f75718",
   "metadata": {},
   "outputs": [
    {
     "name": "stderr",
     "output_type": "stream",
     "text": [
      "100%|███████████████████████████████████████████████████████████████████████████████████████████████████████████████████████████████| 658/658 [00:05<00:00, 122.41it/s]\n",
      "100%|█████████████████████████████████████████████████████████████████████████████████████████████████████████████████████████████| 1090/1090 [00:09<00:00, 117.73it/s]\n",
      "100%|██████████████████████████████████████████████████████████████████████████████████████████████████████████████████████████████| 6320/6320 [01:12<00:00, 87.71it/s]\n",
      "100%|███████████████████████████████████████████████████████████████████████████████████████████████████████████████████████████████| 257/257 [00:02<00:00, 101.07it/s]\n",
      "100%|█████████████████████████████████████████████████████████████████████████████████████████████████████████████████████████████| 4458/4458 [00:40<00:00, 110.85it/s]\n",
      "⚠️ It looks like you upgraded from a version below 0.6 and could benefit from vacuuming your database. Run chromadb utils vacuum --help for more information.\n"
     ]
    },
    {
     "data": {
      "text/html": [
       "<pre style=\"white-space:pre;overflow-x:auto;line-height:normal;font-family:Menlo,'DejaVu Sans Mono',consolas,'Courier New',monospace\"><span style=\"font-weight: bold\">{</span>\n",
       "    <span style=\"color: #008000; text-decoration-color: #008000\">'iou_mean'</span>: <span style=\"color: #800080; text-decoration-color: #800080; font-weight: bold\">np.float64</span><span style=\"font-weight: bold\">(</span><span style=\"color: #008080; text-decoration-color: #008080; font-weight: bold\">0.10010845621110019</span><span style=\"font-weight: bold\">)</span>,\n",
       "    <span style=\"color: #008000; text-decoration-color: #008000\">'iou_std'</span>: <span style=\"color: #800080; text-decoration-color: #800080; font-weight: bold\">np.float64</span><span style=\"font-weight: bold\">(</span><span style=\"color: #008080; text-decoration-color: #008080; font-weight: bold\">0.08304213675576232</span><span style=\"font-weight: bold\">)</span>,\n",
       "    <span style=\"color: #008000; text-decoration-color: #008000\">'recall_mean'</span>: <span style=\"color: #800080; text-decoration-color: #800080; font-weight: bold\">np.float64</span><span style=\"font-weight: bold\">(</span><span style=\"color: #008080; text-decoration-color: #008080; font-weight: bold\">0.6868400790656709</span><span style=\"font-weight: bold\">)</span>,\n",
       "    <span style=\"color: #008000; text-decoration-color: #008000\">'recall_std'</span>: <span style=\"color: #800080; text-decoration-color: #800080; font-weight: bold\">np.float64</span><span style=\"font-weight: bold\">(</span><span style=\"color: #008080; text-decoration-color: #008080; font-weight: bold\">0.4132262209206925</span><span style=\"font-weight: bold\">)</span>,\n",
       "    <span style=\"color: #008000; text-decoration-color: #008000\">'precision_omeaga_mean'</span>: <span style=\"color: #800080; text-decoration-color: #800080; font-weight: bold\">np.float64</span><span style=\"font-weight: bold\">(</span><span style=\"color: #008080; text-decoration-color: #008080; font-weight: bold\">0.4837208428268089</span><span style=\"font-weight: bold\">)</span>,\n",
       "    <span style=\"color: #008000; text-decoration-color: #008000\">'precision_omeaga_std'</span>: <span style=\"color: #800080; text-decoration-color: #800080; font-weight: bold\">np.float64</span><span style=\"font-weight: bold\">(</span><span style=\"color: #008080; text-decoration-color: #008080; font-weight: bold\">0.19830973720375783</span><span style=\"font-weight: bold\">)</span>,\n",
       "    <span style=\"color: #008000; text-decoration-color: #008000\">'precision_mean'</span>: <span style=\"color: #800080; text-decoration-color: #800080; font-weight: bold\">np.float64</span><span style=\"font-weight: bold\">(</span><span style=\"color: #008080; text-decoration-color: #008080; font-weight: bold\">0.10279021981351347</span><span style=\"font-weight: bold\">)</span>,\n",
       "    <span style=\"color: #008000; text-decoration-color: #008000\">'precision_std'</span>: <span style=\"color: #800080; text-decoration-color: #800080; font-weight: bold\">np.float64</span><span style=\"font-weight: bold\">(</span><span style=\"color: #008080; text-decoration-color: #008080; font-weight: bold\">0.08511779997844264</span><span style=\"font-weight: bold\">)</span>\n",
       "<span style=\"font-weight: bold\">}</span>\n",
       "</pre>\n"
      ],
      "text/plain": [
       "\u001b[1m{\u001b[0m\n",
       "    \u001b[32m'iou_mean'\u001b[0m: \u001b[1;35mnp.float64\u001b[0m\u001b[1m(\u001b[0m\u001b[1;36m0.10010845621110019\u001b[0m\u001b[1m)\u001b[0m,\n",
       "    \u001b[32m'iou_std'\u001b[0m: \u001b[1;35mnp.float64\u001b[0m\u001b[1m(\u001b[0m\u001b[1;36m0.08304213675576232\u001b[0m\u001b[1m)\u001b[0m,\n",
       "    \u001b[32m'recall_mean'\u001b[0m: \u001b[1;35mnp.float64\u001b[0m\u001b[1m(\u001b[0m\u001b[1;36m0.6868400790656709\u001b[0m\u001b[1m)\u001b[0m,\n",
       "    \u001b[32m'recall_std'\u001b[0m: \u001b[1;35mnp.float64\u001b[0m\u001b[1m(\u001b[0m\u001b[1;36m0.4132262209206925\u001b[0m\u001b[1m)\u001b[0m,\n",
       "    \u001b[32m'precision_omeaga_mean'\u001b[0m: \u001b[1;35mnp.float64\u001b[0m\u001b[1m(\u001b[0m\u001b[1;36m0.4837208428268089\u001b[0m\u001b[1m)\u001b[0m,\n",
       "    \u001b[32m'precision_omeaga_std'\u001b[0m: \u001b[1;35mnp.float64\u001b[0m\u001b[1m(\u001b[0m\u001b[1;36m0.19830973720375783\u001b[0m\u001b[1m)\u001b[0m,\n",
       "    \u001b[32m'precision_mean'\u001b[0m: \u001b[1;35mnp.float64\u001b[0m\u001b[1m(\u001b[0m\u001b[1;36m0.10279021981351347\u001b[0m\u001b[1m)\u001b[0m,\n",
       "    \u001b[32m'precision_std'\u001b[0m: \u001b[1;35mnp.float64\u001b[0m\u001b[1m(\u001b[0m\u001b[1;36m0.08511779997844264\u001b[0m\u001b[1m)\u001b[0m\n",
       "\u001b[1m}\u001b[0m\n"
      ]
     },
     "metadata": {},
     "output_type": "display_data"
    }
   ],
   "source": [
    "from chunking_evaluation import GeneralEvaluation\n",
    "from rich import print\n",
    "\n",
    "chunker = WinChunkerWrapper(thresh=0.72, max_chunk_size=3)\n",
    "res = GeneralEvaluation().run(chunker, ef)\n",
    "print(parse_res(res))"
   ]
  },
  {
   "cell_type": "code",
   "execution_count": 5,
   "id": "e3dd0711-5621-4259-8622-4c6cce4fd60c",
   "metadata": {},
   "outputs": [
    {
     "name": "stderr",
     "output_type": "stream",
     "text": [
      "100%|███████████████████████████████████████████████████████████████████████████████████████████████████████████████████████████████| 658/658 [00:05<00:00, 130.67it/s]\n",
      "100%|█████████████████████████████████████████████████████████████████████████████████████████████████████████████████████████████| 1090/1090 [00:08<00:00, 126.01it/s]\n",
      "100%|█████████████████████████████████████████████████████████████████████████████████████████████████████████████████████████████| 6320/6320 [00:50<00:00, 124.19it/s]\n",
      "100%|███████████████████████████████████████████████████████████████████████████████████████████████████████████████████████████████| 257/257 [00:02<00:00, 114.19it/s]\n",
      "100%|█████████████████████████████████████████████████████████████████████████████████████████████████████████████████████████████| 4458/4458 [00:35<00:00, 125.15it/s]\n"
     ]
    },
    {
     "data": {
      "text/html": [
       "<pre style=\"white-space:pre;overflow-x:auto;line-height:normal;font-family:Menlo,'DejaVu Sans Mono',consolas,'Courier New',monospace\"><span style=\"font-weight: bold\">{</span>\n",
       "    <span style=\"color: #008000; text-decoration-color: #008000\">'iou_mean'</span>: <span style=\"color: #800080; text-decoration-color: #800080; font-weight: bold\">np.float64</span><span style=\"font-weight: bold\">(</span><span style=\"color: #008080; text-decoration-color: #008080; font-weight: bold\">0.07457946974175261</span><span style=\"font-weight: bold\">)</span>,\n",
       "    <span style=\"color: #008000; text-decoration-color: #008000\">'iou_std'</span>: <span style=\"color: #800080; text-decoration-color: #800080; font-weight: bold\">np.float64</span><span style=\"font-weight: bold\">(</span><span style=\"color: #008080; text-decoration-color: #008080; font-weight: bold\">0.06347238660031396</span><span style=\"font-weight: bold\">)</span>,\n",
       "    <span style=\"color: #008000; text-decoration-color: #008000\">'recall_mean'</span>: <span style=\"color: #800080; text-decoration-color: #800080; font-weight: bold\">np.float64</span><span style=\"font-weight: bold\">(</span><span style=\"color: #008080; text-decoration-color: #008080; font-weight: bold\">0.7494877946643443</span><span style=\"font-weight: bold\">)</span>,\n",
       "    <span style=\"color: #008000; text-decoration-color: #008000\">'recall_std'</span>: <span style=\"color: #800080; text-decoration-color: #800080; font-weight: bold\">np.float64</span><span style=\"font-weight: bold\">(</span><span style=\"color: #008080; text-decoration-color: #008080; font-weight: bold\">0.4004419189365244</span><span style=\"font-weight: bold\">)</span>,\n",
       "    <span style=\"color: #008000; text-decoration-color: #008000\">'precision_omeaga_mean'</span>: <span style=\"color: #800080; text-decoration-color: #800080; font-weight: bold\">np.float64</span><span style=\"font-weight: bold\">(</span><span style=\"color: #008080; text-decoration-color: #008080; font-weight: bold\">0.35019504350976166</span><span style=\"font-weight: bold\">)</span>,\n",
       "    <span style=\"color: #008000; text-decoration-color: #008000\">'precision_omeaga_std'</span>: <span style=\"color: #800080; text-decoration-color: #800080; font-weight: bold\">np.float64</span><span style=\"font-weight: bold\">(</span><span style=\"color: #008080; text-decoration-color: #008080; font-weight: bold\">0.1831203236142467</span><span style=\"font-weight: bold\">)</span>,\n",
       "    <span style=\"color: #008000; text-decoration-color: #008000\">'precision_mean'</span>: <span style=\"color: #800080; text-decoration-color: #800080; font-weight: bold\">np.float64</span><span style=\"font-weight: bold\">(</span><span style=\"color: #008080; text-decoration-color: #008080; font-weight: bold\">0.0758720256808133</span><span style=\"font-weight: bold\">)</span>,\n",
       "    <span style=\"color: #008000; text-decoration-color: #008000\">'precision_std'</span>: <span style=\"color: #800080; text-decoration-color: #800080; font-weight: bold\">np.float64</span><span style=\"font-weight: bold\">(</span><span style=\"color: #008080; text-decoration-color: #008080; font-weight: bold\">0.06528374616270594</span><span style=\"font-weight: bold\">)</span>\n",
       "<span style=\"font-weight: bold\">}</span>\n",
       "</pre>\n"
      ],
      "text/plain": [
       "\u001b[1m{\u001b[0m\n",
       "    \u001b[32m'iou_mean'\u001b[0m: \u001b[1;35mnp.float64\u001b[0m\u001b[1m(\u001b[0m\u001b[1;36m0.07457946974175261\u001b[0m\u001b[1m)\u001b[0m,\n",
       "    \u001b[32m'iou_std'\u001b[0m: \u001b[1;35mnp.float64\u001b[0m\u001b[1m(\u001b[0m\u001b[1;36m0.06347238660031396\u001b[0m\u001b[1m)\u001b[0m,\n",
       "    \u001b[32m'recall_mean'\u001b[0m: \u001b[1;35mnp.float64\u001b[0m\u001b[1m(\u001b[0m\u001b[1;36m0.7494877946643443\u001b[0m\u001b[1m)\u001b[0m,\n",
       "    \u001b[32m'recall_std'\u001b[0m: \u001b[1;35mnp.float64\u001b[0m\u001b[1m(\u001b[0m\u001b[1;36m0.4004419189365244\u001b[0m\u001b[1m)\u001b[0m,\n",
       "    \u001b[32m'precision_omeaga_mean'\u001b[0m: \u001b[1;35mnp.float64\u001b[0m\u001b[1m(\u001b[0m\u001b[1;36m0.35019504350976166\u001b[0m\u001b[1m)\u001b[0m,\n",
       "    \u001b[32m'precision_omeaga_std'\u001b[0m: \u001b[1;35mnp.float64\u001b[0m\u001b[1m(\u001b[0m\u001b[1;36m0.1831203236142467\u001b[0m\u001b[1m)\u001b[0m,\n",
       "    \u001b[32m'precision_mean'\u001b[0m: \u001b[1;35mnp.float64\u001b[0m\u001b[1m(\u001b[0m\u001b[1;36m0.0758720256808133\u001b[0m\u001b[1m)\u001b[0m,\n",
       "    \u001b[32m'precision_std'\u001b[0m: \u001b[1;35mnp.float64\u001b[0m\u001b[1m(\u001b[0m\u001b[1;36m0.06528374616270594\u001b[0m\u001b[1m)\u001b[0m\n",
       "\u001b[1m}\u001b[0m\n"
      ]
     },
     "metadata": {},
     "output_type": "display_data"
    }
   ],
   "source": [
    "from chunking_evaluation import GeneralEvaluation\n",
    "from rich import print\n",
    "\n",
    "chunker = WinChunkerWrapper(thresh=0.72, max_chunk_size=6)\n",
    "res = GeneralEvaluation().run(chunker, ef)\n",
    "print(parse_res(res))"
   ]
  }
 ],
 "metadata": {
  "kernelspec": {
   "display_name": "horchunk_docs",
   "language": "python",
   "name": "horchunk_docs"
  },
  "language_info": {
   "codemirror_mode": {
    "name": "ipython",
    "version": 3
   },
   "file_extension": ".py",
   "mimetype": "text/x-python",
   "name": "python",
   "nbconvert_exporter": "python",
   "pygments_lexer": "ipython3",
   "version": "3.12.7"
  }
 },
 "nbformat": 4,
 "nbformat_minor": 5
}
