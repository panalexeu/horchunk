{
 "cells": [
  {
   "cell_type": "markdown",
   "id": "5e55a349-c942-4591-8ca2-92dcde88090c",
   "metadata": {},
   "source": [
    "#### Packages installation"
   ]
  },
  {
   "cell_type": "code",
   "execution_count": 1,
   "id": "a5e06edf-605e-4c94-a1b0-b49afe855b47",
   "metadata": {
    "scrolled": true
   },
   "outputs": [
    {
     "name": "stdout",
     "output_type": "stream",
     "text": [
      "/bin/bash: line 1: pip: command not found\n",
      "/bin/bash: line 1: pip: command not found\n",
      "/bin/bash: line 1: pip: command not found\n",
      "/bin/bash: line 1: pip: command not found\n"
     ]
    }
   ],
   "source": [
    "!pip install \"git+https://github.com/panalexeu/horchunk.git\"\n",
    "!pip install \"git+https://github.com/panalexeu/horchunk.git\"\n",
    "!pip install numpy\n",
    "!pip install rich"
   ]
  },
  {
   "cell_type": "markdown",
   "id": "8e61a51d-de62-4cbb-b815-9b4172fbb4b6",
   "metadata": {},
   "source": [
    "#### Define chunker wrapper to evaluate over chunking_evaluation framework"
   ]
  },
  {
   "cell_type": "code",
   "execution_count": 2,
   "id": "24d76fd9-42ca-4623-9957-fea962c28483",
   "metadata": {
    "scrolled": true
   },
   "outputs": [
    {
     "name": "stderr",
     "output_type": "stream",
     "text": [
      "/home/oleksii/python/semantic_chunking/semchunk/.venv/lib/python3.12/site-packages/tqdm/auto.py:21: TqdmWarning: IProgress not found. Please update jupyter and ipywidgets. See https://ipywidgets.readthedocs.io/en/stable/user_install.html\n",
      "  from .autonotebook import tqdm as notebook_tqdm\n"
     ]
    }
   ],
   "source": [
    "from horchunk.chunkers import WindowChunker \n",
    "from horchunk.splitters import SentenceSplitter \n",
    "from chromadb.utils import embedding_functions\n",
    "from chunking_evaluation.chunking.base_chunker import BaseChunker\n",
    "\n",
    "ef = embedding_functions.DefaultEmbeddingFunction() # all-MiniLM-L6-v2\n",
    "\n",
    "# thresh: 0.61, max_chunk_size=6\n",
    "class WinChunkerWrapper(BaseChunker):    \n",
    "    def __init__(self, thresh: float, max_chunk_size: int):\n",
    "        self.thresh = thresh\n",
    "        self.max_chunk_size = max_chunk_size\n",
    "        \n",
    "    def split_text(self, text: str) -> list[str]:\n",
    "        chunker = WindowChunker(\n",
    "            ef,\n",
    "            thresh=self.thresh,\n",
    "            max_chunk_size=self.max_chunk_size\n",
    "        )\n",
    "        splits = SentenceSplitter(text).__call__()\n",
    "        chunks = chunker.__call__(splits)\n",
    "\n",
    "        return [chunk.join() for chunk in chunks]"
   ]
  },
  {
   "cell_type": "markdown",
   "id": "0337b667-3a2e-4a58-acd6-59d60c33eb39",
   "metadata": {},
   "source": [
    "#### Start evaluation"
   ]
  },
  {
   "cell_type": "code",
   "execution_count": 3,
   "id": "ead0897b-45ae-4990-b3e0-1b53eb519920",
   "metadata": {},
   "outputs": [],
   "source": [
    "def parse_res(res: dict) -> dict:\n",
    "    return dict(\n",
    "        iou_mean=res['iou_mean'],\n",
    "        iou_std=res['iou_std'],\n",
    "        recall_mean=res['recall_mean'],\n",
    "        recall_std=res['recall_std'],\n",
    "        precision_omeaga_mean=res['precision_omega_mean'],\n",
    "        precision_omeaga_std=res['precision_omega_std'],\n",
    "        precision_mean=res['precision_mean'], \n",
    "        precision_std=res['precision_std']\n",
    "    )"
   ]
  },
  {
   "cell_type": "code",
   "execution_count": 4,
   "id": "c34f75f4-123b-4af4-8e50-718f26f75718",
   "metadata": {
    "scrolled": true
   },
   "outputs": [
    {
     "name": "stderr",
     "output_type": "stream",
     "text": [
      "100%|█████████████████████████████████████████| 658/658 [01:05<00:00, 10.06it/s]\n",
      "100%|███████████████████████████████████████| 1090/1090 [01:36<00:00, 11.28it/s]\n",
      "100%|███████████████████████████████████████| 6320/6320 [09:39<00:00, 10.90it/s]\n",
      "100%|█████████████████████████████████████████| 257/257 [00:23<00:00, 11.16it/s]\n",
      "100%|███████████████████████████████████████| 4458/4458 [06:29<00:00, 11.44it/s]\n",
      "⚠️ It looks like you upgraded from a version below 0.6 and could benefit from vacuuming your database. Run chromadb utils vacuum --help for more information.\n"
     ]
    },
    {
     "data": {
      "text/html": [
       "<pre style=\"white-space:pre;overflow-x:auto;line-height:normal;font-family:Menlo,'DejaVu Sans Mono',consolas,'Courier New',monospace\"><span style=\"font-weight: bold\">{</span>\n",
       "    <span style=\"color: #008000; text-decoration-color: #008000\">'iou_mean'</span>: <span style=\"color: #800080; text-decoration-color: #800080; font-weight: bold\">np.float64</span><span style=\"font-weight: bold\">(</span><span style=\"color: #008080; text-decoration-color: #008080; font-weight: bold\">0.09959291948793635</span><span style=\"font-weight: bold\">)</span>,\n",
       "    <span style=\"color: #008000; text-decoration-color: #008000\">'iou_std'</span>: <span style=\"color: #800080; text-decoration-color: #800080; font-weight: bold\">np.float64</span><span style=\"font-weight: bold\">(</span><span style=\"color: #008080; text-decoration-color: #008080; font-weight: bold\">0.08290658960841847</span><span style=\"font-weight: bold\">)</span>,\n",
       "    <span style=\"color: #008000; text-decoration-color: #008000\">'recall_mean'</span>: <span style=\"color: #800080; text-decoration-color: #800080; font-weight: bold\">np.float64</span><span style=\"font-weight: bold\">(</span><span style=\"color: #008080; text-decoration-color: #008080; font-weight: bold\">0.6847214349978743</span><span style=\"font-weight: bold\">)</span>,\n",
       "    <span style=\"color: #008000; text-decoration-color: #008000\">'recall_std'</span>: <span style=\"color: #800080; text-decoration-color: #800080; font-weight: bold\">np.float64</span><span style=\"font-weight: bold\">(</span><span style=\"color: #008080; text-decoration-color: #008080; font-weight: bold\">0.41417763852481126</span><span style=\"font-weight: bold\">)</span>,\n",
       "    <span style=\"color: #008000; text-decoration-color: #008000\">'precision_omeaga_mean'</span>: <span style=\"color: #800080; text-decoration-color: #800080; font-weight: bold\">np.float64</span><span style=\"font-weight: bold\">(</span><span style=\"color: #008080; text-decoration-color: #008080; font-weight: bold\">0.4837208428268089</span><span style=\"font-weight: bold\">)</span>,\n",
       "    <span style=\"color: #008000; text-decoration-color: #008000\">'precision_omeaga_std'</span>: <span style=\"color: #800080; text-decoration-color: #800080; font-weight: bold\">np.float64</span><span style=\"font-weight: bold\">(</span><span style=\"color: #008080; text-decoration-color: #008080; font-weight: bold\">0.19830973720375783</span><span style=\"font-weight: bold\">)</span>,\n",
       "    <span style=\"color: #008000; text-decoration-color: #008000\">'precision_mean'</span>: <span style=\"color: #800080; text-decoration-color: #800080; font-weight: bold\">np.float64</span><span style=\"font-weight: bold\">(</span><span style=\"color: #008080; text-decoration-color: #008080; font-weight: bold\">0.10227468309034964</span><span style=\"font-weight: bold\">)</span>,\n",
       "    <span style=\"color: #008000; text-decoration-color: #008000\">'precision_std'</span>: <span style=\"color: #800080; text-decoration-color: #800080; font-weight: bold\">np.float64</span><span style=\"font-weight: bold\">(</span><span style=\"color: #008080; text-decoration-color: #008080; font-weight: bold\">0.0850018299329252</span><span style=\"font-weight: bold\">)</span>\n",
       "<span style=\"font-weight: bold\">}</span>\n",
       "</pre>\n"
      ],
      "text/plain": [
       "\u001b[1m{\u001b[0m\n",
       "    \u001b[32m'iou_mean'\u001b[0m: \u001b[1;35mnp.float64\u001b[0m\u001b[1m(\u001b[0m\u001b[1;36m0.09959291948793635\u001b[0m\u001b[1m)\u001b[0m,\n",
       "    \u001b[32m'iou_std'\u001b[0m: \u001b[1;35mnp.float64\u001b[0m\u001b[1m(\u001b[0m\u001b[1;36m0.08290658960841847\u001b[0m\u001b[1m)\u001b[0m,\n",
       "    \u001b[32m'recall_mean'\u001b[0m: \u001b[1;35mnp.float64\u001b[0m\u001b[1m(\u001b[0m\u001b[1;36m0.6847214349978743\u001b[0m\u001b[1m)\u001b[0m,\n",
       "    \u001b[32m'recall_std'\u001b[0m: \u001b[1;35mnp.float64\u001b[0m\u001b[1m(\u001b[0m\u001b[1;36m0.41417763852481126\u001b[0m\u001b[1m)\u001b[0m,\n",
       "    \u001b[32m'precision_omeaga_mean'\u001b[0m: \u001b[1;35mnp.float64\u001b[0m\u001b[1m(\u001b[0m\u001b[1;36m0.4837208428268089\u001b[0m\u001b[1m)\u001b[0m,\n",
       "    \u001b[32m'precision_omeaga_std'\u001b[0m: \u001b[1;35mnp.float64\u001b[0m\u001b[1m(\u001b[0m\u001b[1;36m0.19830973720375783\u001b[0m\u001b[1m)\u001b[0m,\n",
       "    \u001b[32m'precision_mean'\u001b[0m: \u001b[1;35mnp.float64\u001b[0m\u001b[1m(\u001b[0m\u001b[1;36m0.10227468309034964\u001b[0m\u001b[1m)\u001b[0m,\n",
       "    \u001b[32m'precision_std'\u001b[0m: \u001b[1;35mnp.float64\u001b[0m\u001b[1m(\u001b[0m\u001b[1;36m0.0850018299329252\u001b[0m\u001b[1m)\u001b[0m\n",
       "\u001b[1m}\u001b[0m\n"
      ]
     },
     "metadata": {},
     "output_type": "display_data"
    }
   ],
   "source": [
    "from chunking_evaluation import GeneralEvaluation\n",
    "from rich import print\n",
    "\n",
    "chunker = WinChunkerWrapper(thresh=0.72, max_chunk_size=3)\n",
    "res = GeneralEvaluation().run(chunker, ef)\n",
    "print(parse_res(res))"
   ]
  },
  {
   "cell_type": "code",
   "execution_count": 5,
   "id": "e3dd0711-5621-4259-8622-4c6cce4fd60c",
   "metadata": {
    "scrolled": true
   },
   "outputs": [
    {
     "name": "stderr",
     "output_type": "stream",
     "text": [
      "100%|█████████████████████████████████████████| 658/658 [01:00<00:00, 10.90it/s]\n",
      "100%|███████████████████████████████████████| 1090/1090 [01:54<00:00,  9.50it/s]\n",
      "100%|███████████████████████████████████████| 6320/6320 [09:33<00:00, 11.03it/s]\n",
      "100%|█████████████████████████████████████████| 257/257 [00:21<00:00, 11.72it/s]\n",
      "100%|███████████████████████████████████████| 4458/4458 [06:28<00:00, 11.47it/s]\n"
     ]
    },
    {
     "data": {
      "text/html": [
       "<pre style=\"white-space:pre;overflow-x:auto;line-height:normal;font-family:Menlo,'DejaVu Sans Mono',consolas,'Courier New',monospace\"><span style=\"font-weight: bold\">{</span>\n",
       "    <span style=\"color: #008000; text-decoration-color: #008000\">'iou_mean'</span>: <span style=\"color: #800080; text-decoration-color: #800080; font-weight: bold\">np.float64</span><span style=\"font-weight: bold\">(</span><span style=\"color: #008080; text-decoration-color: #008080; font-weight: bold\">0.074186023277489</span><span style=\"font-weight: bold\">)</span>,\n",
       "    <span style=\"color: #008000; text-decoration-color: #008000\">'iou_std'</span>: <span style=\"color: #800080; text-decoration-color: #800080; font-weight: bold\">np.float64</span><span style=\"font-weight: bold\">(</span><span style=\"color: #008080; text-decoration-color: #008080; font-weight: bold\">0.06341177038441934</span><span style=\"font-weight: bold\">)</span>,\n",
       "    <span style=\"color: #008000; text-decoration-color: #008000\">'recall_mean'</span>: <span style=\"color: #800080; text-decoration-color: #800080; font-weight: bold\">np.float64</span><span style=\"font-weight: bold\">(</span><span style=\"color: #008080; text-decoration-color: #008080; font-weight: bold\">0.7473691505965477</span><span style=\"font-weight: bold\">)</span>,\n",
       "    <span style=\"color: #008000; text-decoration-color: #008000\">'recall_std'</span>: <span style=\"color: #800080; text-decoration-color: #800080; font-weight: bold\">np.float64</span><span style=\"font-weight: bold\">(</span><span style=\"color: #008080; text-decoration-color: #008080; font-weight: bold\">0.40175414554324956</span><span style=\"font-weight: bold\">)</span>,\n",
       "    <span style=\"color: #008000; text-decoration-color: #008000\">'precision_omeaga_mean'</span>: <span style=\"color: #800080; text-decoration-color: #800080; font-weight: bold\">np.float64</span><span style=\"font-weight: bold\">(</span><span style=\"color: #008080; text-decoration-color: #008080; font-weight: bold\">0.35019504350976166</span><span style=\"font-weight: bold\">)</span>,\n",
       "    <span style=\"color: #008000; text-decoration-color: #008000\">'precision_omeaga_std'</span>: <span style=\"color: #800080; text-decoration-color: #800080; font-weight: bold\">np.float64</span><span style=\"font-weight: bold\">(</span><span style=\"color: #008080; text-decoration-color: #008080; font-weight: bold\">0.1831203236142467</span><span style=\"font-weight: bold\">)</span>,\n",
       "    <span style=\"color: #008000; text-decoration-color: #008000\">'precision_mean'</span>: <span style=\"color: #800080; text-decoration-color: #800080; font-weight: bold\">np.float64</span><span style=\"font-weight: bold\">(</span><span style=\"color: #008080; text-decoration-color: #008080; font-weight: bold\">0.0754785792165497</span><span style=\"font-weight: bold\">)</span>,\n",
       "    <span style=\"color: #008000; text-decoration-color: #008000\">'precision_std'</span>: <span style=\"color: #800080; text-decoration-color: #800080; font-weight: bold\">np.float64</span><span style=\"font-weight: bold\">(</span><span style=\"color: #008080; text-decoration-color: #008080; font-weight: bold\">0.06523260978001265</span><span style=\"font-weight: bold\">)</span>\n",
       "<span style=\"font-weight: bold\">}</span>\n",
       "</pre>\n"
      ],
      "text/plain": [
       "\u001b[1m{\u001b[0m\n",
       "    \u001b[32m'iou_mean'\u001b[0m: \u001b[1;35mnp.float64\u001b[0m\u001b[1m(\u001b[0m\u001b[1;36m0.074186023277489\u001b[0m\u001b[1m)\u001b[0m,\n",
       "    \u001b[32m'iou_std'\u001b[0m: \u001b[1;35mnp.float64\u001b[0m\u001b[1m(\u001b[0m\u001b[1;36m0.06341177038441934\u001b[0m\u001b[1m)\u001b[0m,\n",
       "    \u001b[32m'recall_mean'\u001b[0m: \u001b[1;35mnp.float64\u001b[0m\u001b[1m(\u001b[0m\u001b[1;36m0.7473691505965477\u001b[0m\u001b[1m)\u001b[0m,\n",
       "    \u001b[32m'recall_std'\u001b[0m: \u001b[1;35mnp.float64\u001b[0m\u001b[1m(\u001b[0m\u001b[1;36m0.40175414554324956\u001b[0m\u001b[1m)\u001b[0m,\n",
       "    \u001b[32m'precision_omeaga_mean'\u001b[0m: \u001b[1;35mnp.float64\u001b[0m\u001b[1m(\u001b[0m\u001b[1;36m0.35019504350976166\u001b[0m\u001b[1m)\u001b[0m,\n",
       "    \u001b[32m'precision_omeaga_std'\u001b[0m: \u001b[1;35mnp.float64\u001b[0m\u001b[1m(\u001b[0m\u001b[1;36m0.1831203236142467\u001b[0m\u001b[1m)\u001b[0m,\n",
       "    \u001b[32m'precision_mean'\u001b[0m: \u001b[1;35mnp.float64\u001b[0m\u001b[1m(\u001b[0m\u001b[1;36m0.0754785792165497\u001b[0m\u001b[1m)\u001b[0m,\n",
       "    \u001b[32m'precision_std'\u001b[0m: \u001b[1;35mnp.float64\u001b[0m\u001b[1m(\u001b[0m\u001b[1;36m0.06523260978001265\u001b[0m\u001b[1m)\u001b[0m\n",
       "\u001b[1m}\u001b[0m\n"
      ]
     },
     "metadata": {},
     "output_type": "display_data"
    }
   ],
   "source": [
    "from chunking_evaluation import GeneralEvaluation\n",
    "from rich import print\n",
    "\n",
    "chunker = WinChunkerWrapper(thresh=0.72, max_chunk_size=6)\n",
    "res = GeneralEvaluation().run(chunker, ef)\n",
    "print(parse_res(res))"
   ]
  },
  {
   "cell_type": "code",
   "execution_count": 6,
   "id": "1c3de5e7-559a-47c0-b229-7a175a882a31",
   "metadata": {},
   "outputs": [
    {
     "name": "stderr",
     "output_type": "stream",
     "text": [
      "100%|█████████████████████████████████████████| 658/658 [00:58<00:00, 11.26it/s]\n",
      "100%|███████████████████████████████████████| 1090/1090 [01:48<00:00, 10.02it/s]\n",
      "100%|███████████████████████████████████████| 6320/6320 [09:23<00:00, 11.22it/s]\n",
      "100%|█████████████████████████████████████████| 257/257 [00:25<00:00, 10.00it/s]\n",
      "100%|███████████████████████████████████████| 4458/4458 [06:28<00:00, 11.47it/s]\n"
     ]
    },
    {
     "data": {
      "text/html": [
       "<pre style=\"white-space:pre;overflow-x:auto;line-height:normal;font-family:Menlo,'DejaVu Sans Mono',consolas,'Courier New',monospace\"><span style=\"font-weight: bold\">{</span>\n",
       "    <span style=\"color: #008000; text-decoration-color: #008000\">'iou_mean'</span>: <span style=\"color: #800080; text-decoration-color: #800080; font-weight: bold\">np.float64</span><span style=\"font-weight: bold\">(</span><span style=\"color: #008080; text-decoration-color: #008080; font-weight: bold\">0.061641382997508355</span><span style=\"font-weight: bold\">)</span>,\n",
       "    <span style=\"color: #008000; text-decoration-color: #008000\">'iou_std'</span>: <span style=\"color: #800080; text-decoration-color: #800080; font-weight: bold\">np.float64</span><span style=\"font-weight: bold\">(</span><span style=\"color: #008080; text-decoration-color: #008080; font-weight: bold\">0.051953356454781864</span><span style=\"font-weight: bold\">)</span>,\n",
       "    <span style=\"color: #008000; text-decoration-color: #008000\">'recall_mean'</span>: <span style=\"color: #800080; text-decoration-color: #800080; font-weight: bold\">np.float64</span><span style=\"font-weight: bold\">(</span><span style=\"color: #008080; text-decoration-color: #008080; font-weight: bold\">0.7580301237740307</span><span style=\"font-weight: bold\">)</span>,\n",
       "    <span style=\"color: #008000; text-decoration-color: #008000\">'recall_std'</span>: <span style=\"color: #800080; text-decoration-color: #800080; font-weight: bold\">np.float64</span><span style=\"font-weight: bold\">(</span><span style=\"color: #008080; text-decoration-color: #008080; font-weight: bold\">0.3944628743590051</span><span style=\"font-weight: bold\">)</span>,\n",
       "    <span style=\"color: #008000; text-decoration-color: #008000\">'precision_omeaga_mean'</span>: <span style=\"color: #800080; text-decoration-color: #800080; font-weight: bold\">np.float64</span><span style=\"font-weight: bold\">(</span><span style=\"color: #008080; text-decoration-color: #008080; font-weight: bold\">0.2825671630160264</span><span style=\"font-weight: bold\">)</span>,\n",
       "    <span style=\"color: #008000; text-decoration-color: #008000\">'precision_omeaga_std'</span>: <span style=\"color: #800080; text-decoration-color: #800080; font-weight: bold\">np.float64</span><span style=\"font-weight: bold\">(</span><span style=\"color: #008080; text-decoration-color: #008080; font-weight: bold\">0.17571330212972971</span><span style=\"font-weight: bold\">)</span>,\n",
       "    <span style=\"color: #008000; text-decoration-color: #008000\">'precision_mean'</span>: <span style=\"color: #800080; text-decoration-color: #800080; font-weight: bold\">np.float64</span><span style=\"font-weight: bold\">(</span><span style=\"color: #008080; text-decoration-color: #008080; font-weight: bold\">0.0623840910038553</span><span style=\"font-weight: bold\">)</span>,\n",
       "    <span style=\"color: #008000; text-decoration-color: #008000\">'precision_std'</span>: <span style=\"color: #800080; text-decoration-color: #800080; font-weight: bold\">np.float64</span><span style=\"font-weight: bold\">(</span><span style=\"color: #008080; text-decoration-color: #008080; font-weight: bold\">0.0530386891700107</span><span style=\"font-weight: bold\">)</span>\n",
       "<span style=\"font-weight: bold\">}</span>\n",
       "</pre>\n"
      ],
      "text/plain": [
       "\u001b[1m{\u001b[0m\n",
       "    \u001b[32m'iou_mean'\u001b[0m: \u001b[1;35mnp.float64\u001b[0m\u001b[1m(\u001b[0m\u001b[1;36m0.061641382997508355\u001b[0m\u001b[1m)\u001b[0m,\n",
       "    \u001b[32m'iou_std'\u001b[0m: \u001b[1;35mnp.float64\u001b[0m\u001b[1m(\u001b[0m\u001b[1;36m0.051953356454781864\u001b[0m\u001b[1m)\u001b[0m,\n",
       "    \u001b[32m'recall_mean'\u001b[0m: \u001b[1;35mnp.float64\u001b[0m\u001b[1m(\u001b[0m\u001b[1;36m0.7580301237740307\u001b[0m\u001b[1m)\u001b[0m,\n",
       "    \u001b[32m'recall_std'\u001b[0m: \u001b[1;35mnp.float64\u001b[0m\u001b[1m(\u001b[0m\u001b[1;36m0.3944628743590051\u001b[0m\u001b[1m)\u001b[0m,\n",
       "    \u001b[32m'precision_omeaga_mean'\u001b[0m: \u001b[1;35mnp.float64\u001b[0m\u001b[1m(\u001b[0m\u001b[1;36m0.2825671630160264\u001b[0m\u001b[1m)\u001b[0m,\n",
       "    \u001b[32m'precision_omeaga_std'\u001b[0m: \u001b[1;35mnp.float64\u001b[0m\u001b[1m(\u001b[0m\u001b[1;36m0.17571330212972971\u001b[0m\u001b[1m)\u001b[0m,\n",
       "    \u001b[32m'precision_mean'\u001b[0m: \u001b[1;35mnp.float64\u001b[0m\u001b[1m(\u001b[0m\u001b[1;36m0.0623840910038553\u001b[0m\u001b[1m)\u001b[0m,\n",
       "    \u001b[32m'precision_std'\u001b[0m: \u001b[1;35mnp.float64\u001b[0m\u001b[1m(\u001b[0m\u001b[1;36m0.0530386891700107\u001b[0m\u001b[1m)\u001b[0m\n",
       "\u001b[1m}\u001b[0m\n"
      ]
     },
     "metadata": {},
     "output_type": "display_data"
    }
   ],
   "source": [
    "from chunking_evaluation import GeneralEvaluation\n",
    "from rich import print\n",
    "\n",
    "chunker = WinChunkerWrapper(thresh=0.72, max_chunk_size=9)\n",
    "res = GeneralEvaluation().run(chunker, ef)\n",
    "print(parse_res(res))"
   ]
  }
 ],
 "metadata": {
  "kernelspec": {
   "display_name": "horchunk_docs",
   "language": "python",
   "name": "horchunk_docs"
  },
  "language_info": {
   "codemirror_mode": {
    "name": "ipython",
    "version": 3
   },
   "file_extension": ".py",
   "mimetype": "text/x-python",
   "name": "python",
   "nbconvert_exporter": "python",
   "pygments_lexer": "ipython3",
   "version": "3.12.7"
  }
 },
 "nbformat": 4,
 "nbformat_minor": 5
}
